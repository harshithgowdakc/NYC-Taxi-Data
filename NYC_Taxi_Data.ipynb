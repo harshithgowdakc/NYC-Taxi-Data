{
  "cells": [
    {
      "cell_type": "markdown",
      "metadata": {
        "id": "view-in-github",
        "colab_type": "text"
      },
      "source": [
        "<a href=\"https://colab.research.google.com/github/harshithgowdakc/NYC-Taxi-Data/blob/main/NYC_Taxi_Data.ipynb\" target=\"_parent\"><img src=\"https://colab.research.google.com/assets/colab-badge.svg\" alt=\"Open In Colab\"/></a>"
      ]
    },
    {
      "cell_type": "markdown",
      "source": [
        "# **NYC Taxi Trip Time Prediction**"
      ],
      "metadata": {
        "id": "rXlmlm5Q_XhD"
      }
    },
    {
      "cell_type": "markdown",
      "source": [
        "## **Business Context**\n",
        "\n",
        "---\n",
        "Your task is to build a model that predicts the total ride duration of taxi trips in New York City. Your primary dataset is one released by the NYC Taxi and Limousine Commission, which includes pickup time, geo-coorniates, number of passengers, and several other variables\n"
      ],
      "metadata": {
        "id": "xaIl3eKM_q82"
      }
    },
    {
      "cell_type": "markdown",
      "source": [
        "**Feature details:**\n",
        "\n",
        "\n",
        "\n",
        "*   **id -** a unique identifier for each trip\n",
        "\n",
        "\n",
        "*   **vendor_id -** a code indicating the provider associated with the trip record\n",
        "\n",
        "\n",
        "*   **pickup_datetime -** date and time when the meter was engaged\n",
        "\n",
        "*   **dropoff_datetime -** date and time when the meter was disengaged\n",
        "\n",
        "\n",
        "\n",
        "*   **passenger_count -** the number of passengers in the vehicle (driver entered value)\n",
        "\n",
        "\n",
        "\n",
        "*   **pickup_longitude -** the longitude where the meter was engaged\n",
        "\n",
        "\n",
        "*   **pickup_latitude -** the latitude where the meter was engaged\n",
        "\n",
        "\n",
        "*   **dropoff_longitude -** the longitude where the meter was disengaged\n",
        "\n",
        "*   **dropoff_latitude -** the latitude where the meter was disengaged\n",
        "\n",
        "\n",
        "\n",
        "*   **store_and_fwd_flag -** This flag indicates whether the trip record was held in vehicle memory before sending to the vendor because the vehicle did not have a connection to the server - Y=store and forward; N=not a store and forward trip."
      ],
      "metadata": {
        "id": "mQLXPtUpAc1g"
      }
    },
    {
      "cell_type": "code",
      "execution_count": 1,
      "metadata": {
        "id": "wzbjH4ae8HT5",
        "colab": {
          "base_uri": "https://localhost:8080/"
        },
        "outputId": "4ffd6bec-af95-49ff-fe63-b442d671c3cd"
      },
      "outputs": [
        {
          "output_type": "stream",
          "name": "stdout",
          "text": [
            "Looking in indexes: https://pypi.org/simple, https://us-python.pkg.dev/colab-wheels/public/simple/\n",
            "Requirement already satisfied: haversine in /usr/local/lib/python3.9/dist-packages (2.8.0)\n"
          ]
        }
      ],
      "source": [
        "!pip install haversine"
      ]
    },
    {
      "cell_type": "code",
      "execution_count": 2,
      "metadata": {
        "id": "px-zTJsc78Ob"
      },
      "outputs": [],
      "source": [
        "import numpy as np\n",
        "import pandas as pd\n",
        "import seaborn as sns\n",
        "import matplotlib.pyplot as plt\n",
        "import datetime as dt\n",
        "from sklearn.linear_model import LinearRegression\n",
        "from sklearn.ensemble import RandomForestRegressor\n",
        "from xgboost import XGBRegressor\n",
        "from sklearn import metrics\n",
        "from sklearn.model_selection import train_test_split, GridSearchCV\n",
        "from haversine import haversine\n",
        "import statsmodels.formula.api as sm\n",
        "from sklearn.model_selection import learning_curve\n",
        "from sklearn.model_selection import ShuffleSplit\n",
        "import warnings; warnings.simplefilter('ignore')"
      ]
    },
    {
      "cell_type": "code",
      "execution_count": 3,
      "metadata": {
        "id": "FHAwh5Oz8Rdf",
        "colab": {
          "base_uri": "https://localhost:8080/"
        },
        "outputId": "26b8b277-467d-47c3-cbd9-a5a4c2bf09bb"
      },
      "outputs": [
        {
          "output_type": "stream",
          "name": "stdout",
          "text": [
            "Drive already mounted at /content/drive; to attempt to forcibly remount, call drive.mount(\"/content/drive\", force_remount=True).\n"
          ]
        }
      ],
      "source": [
        "from google.colab import drive\n",
        "drive.mount('/content/drive')"
      ]
    },
    {
      "cell_type": "code",
      "execution_count": 4,
      "metadata": {
        "id": "3TC06Vgn8ZGZ"
      },
      "outputs": [],
      "source": [
        "data = pd.read_csv('/content/drive/MyDrive/Colab Notebooks/AlmaBetter/Project CPG/NYC Taxi Data.csv')"
      ]
    },
    {
      "cell_type": "code",
      "execution_count": 5,
      "metadata": {
        "id": "FbRl3Vms8gTq",
        "colab": {
          "base_uri": "https://localhost:8080/",
          "height": 357
        },
        "outputId": "b491e27d-ed8e-48c3-ed88-757254e5c7bf"
      },
      "outputs": [
        {
          "output_type": "execute_result",
          "data": {
            "text/plain": [
              "          id  vendor_id      pickup_datetime     dropoff_datetime  \\\n",
              "0  id2875421          2  2016-03-14 17:24:55  2016-03-14 17:32:30   \n",
              "1  id2377394          1  2016-06-12 00:43:35  2016-06-12 00:54:38   \n",
              "2  id3858529          2  2016-01-19 11:35:24  2016-01-19 12:10:48   \n",
              "3  id3504673          2  2016-04-06 19:32:31  2016-04-06 19:39:40   \n",
              "4  id2181028          2  2016-03-26 13:30:55  2016-03-26 13:38:10   \n",
              "\n",
              "   passenger_count  pickup_longitude  pickup_latitude  dropoff_longitude  \\\n",
              "0                1        -73.982155        40.767937         -73.964630   \n",
              "1                1        -73.980415        40.738564         -73.999481   \n",
              "2                1        -73.979027        40.763939         -74.005333   \n",
              "3                1        -74.010040        40.719971         -74.012268   \n",
              "4                1        -73.973053        40.793209         -73.972923   \n",
              "\n",
              "   dropoff_latitude store_and_fwd_flag  trip_duration  \n",
              "0         40.765602                  N            455  \n",
              "1         40.731152                  N            663  \n",
              "2         40.710087                  N           2124  \n",
              "3         40.706718                  N            429  \n",
              "4         40.782520                  N            435  "
            ],
            "text/html": [
              "\n",
              "  <div id=\"df-768cfe58-0871-4b8d-b206-55370b51b3a0\">\n",
              "    <div class=\"colab-df-container\">\n",
              "      <div>\n",
              "<style scoped>\n",
              "    .dataframe tbody tr th:only-of-type {\n",
              "        vertical-align: middle;\n",
              "    }\n",
              "\n",
              "    .dataframe tbody tr th {\n",
              "        vertical-align: top;\n",
              "    }\n",
              "\n",
              "    .dataframe thead th {\n",
              "        text-align: right;\n",
              "    }\n",
              "</style>\n",
              "<table border=\"1\" class=\"dataframe\">\n",
              "  <thead>\n",
              "    <tr style=\"text-align: right;\">\n",
              "      <th></th>\n",
              "      <th>id</th>\n",
              "      <th>vendor_id</th>\n",
              "      <th>pickup_datetime</th>\n",
              "      <th>dropoff_datetime</th>\n",
              "      <th>passenger_count</th>\n",
              "      <th>pickup_longitude</th>\n",
              "      <th>pickup_latitude</th>\n",
              "      <th>dropoff_longitude</th>\n",
              "      <th>dropoff_latitude</th>\n",
              "      <th>store_and_fwd_flag</th>\n",
              "      <th>trip_duration</th>\n",
              "    </tr>\n",
              "  </thead>\n",
              "  <tbody>\n",
              "    <tr>\n",
              "      <th>0</th>\n",
              "      <td>id2875421</td>\n",
              "      <td>2</td>\n",
              "      <td>2016-03-14 17:24:55</td>\n",
              "      <td>2016-03-14 17:32:30</td>\n",
              "      <td>1</td>\n",
              "      <td>-73.982155</td>\n",
              "      <td>40.767937</td>\n",
              "      <td>-73.964630</td>\n",
              "      <td>40.765602</td>\n",
              "      <td>N</td>\n",
              "      <td>455</td>\n",
              "    </tr>\n",
              "    <tr>\n",
              "      <th>1</th>\n",
              "      <td>id2377394</td>\n",
              "      <td>1</td>\n",
              "      <td>2016-06-12 00:43:35</td>\n",
              "      <td>2016-06-12 00:54:38</td>\n",
              "      <td>1</td>\n",
              "      <td>-73.980415</td>\n",
              "      <td>40.738564</td>\n",
              "      <td>-73.999481</td>\n",
              "      <td>40.731152</td>\n",
              "      <td>N</td>\n",
              "      <td>663</td>\n",
              "    </tr>\n",
              "    <tr>\n",
              "      <th>2</th>\n",
              "      <td>id3858529</td>\n",
              "      <td>2</td>\n",
              "      <td>2016-01-19 11:35:24</td>\n",
              "      <td>2016-01-19 12:10:48</td>\n",
              "      <td>1</td>\n",
              "      <td>-73.979027</td>\n",
              "      <td>40.763939</td>\n",
              "      <td>-74.005333</td>\n",
              "      <td>40.710087</td>\n",
              "      <td>N</td>\n",
              "      <td>2124</td>\n",
              "    </tr>\n",
              "    <tr>\n",
              "      <th>3</th>\n",
              "      <td>id3504673</td>\n",
              "      <td>2</td>\n",
              "      <td>2016-04-06 19:32:31</td>\n",
              "      <td>2016-04-06 19:39:40</td>\n",
              "      <td>1</td>\n",
              "      <td>-74.010040</td>\n",
              "      <td>40.719971</td>\n",
              "      <td>-74.012268</td>\n",
              "      <td>40.706718</td>\n",
              "      <td>N</td>\n",
              "      <td>429</td>\n",
              "    </tr>\n",
              "    <tr>\n",
              "      <th>4</th>\n",
              "      <td>id2181028</td>\n",
              "      <td>2</td>\n",
              "      <td>2016-03-26 13:30:55</td>\n",
              "      <td>2016-03-26 13:38:10</td>\n",
              "      <td>1</td>\n",
              "      <td>-73.973053</td>\n",
              "      <td>40.793209</td>\n",
              "      <td>-73.972923</td>\n",
              "      <td>40.782520</td>\n",
              "      <td>N</td>\n",
              "      <td>435</td>\n",
              "    </tr>\n",
              "  </tbody>\n",
              "</table>\n",
              "</div>\n",
              "      <button class=\"colab-df-convert\" onclick=\"convertToInteractive('df-768cfe58-0871-4b8d-b206-55370b51b3a0')\"\n",
              "              title=\"Convert this dataframe to an interactive table.\"\n",
              "              style=\"display:none;\">\n",
              "        \n",
              "  <svg xmlns=\"http://www.w3.org/2000/svg\" height=\"24px\"viewBox=\"0 0 24 24\"\n",
              "       width=\"24px\">\n",
              "    <path d=\"M0 0h24v24H0V0z\" fill=\"none\"/>\n",
              "    <path d=\"M18.56 5.44l.94 2.06.94-2.06 2.06-.94-2.06-.94-.94-2.06-.94 2.06-2.06.94zm-11 1L8.5 8.5l.94-2.06 2.06-.94-2.06-.94L8.5 2.5l-.94 2.06-2.06.94zm10 10l.94 2.06.94-2.06 2.06-.94-2.06-.94-.94-2.06-.94 2.06-2.06.94z\"/><path d=\"M17.41 7.96l-1.37-1.37c-.4-.4-.92-.59-1.43-.59-.52 0-1.04.2-1.43.59L10.3 9.45l-7.72 7.72c-.78.78-.78 2.05 0 2.83L4 21.41c.39.39.9.59 1.41.59.51 0 1.02-.2 1.41-.59l7.78-7.78 2.81-2.81c.8-.78.8-2.07 0-2.86zM5.41 20L4 18.59l7.72-7.72 1.47 1.35L5.41 20z\"/>\n",
              "  </svg>\n",
              "      </button>\n",
              "      \n",
              "  <style>\n",
              "    .colab-df-container {\n",
              "      display:flex;\n",
              "      flex-wrap:wrap;\n",
              "      gap: 12px;\n",
              "    }\n",
              "\n",
              "    .colab-df-convert {\n",
              "      background-color: #E8F0FE;\n",
              "      border: none;\n",
              "      border-radius: 50%;\n",
              "      cursor: pointer;\n",
              "      display: none;\n",
              "      fill: #1967D2;\n",
              "      height: 32px;\n",
              "      padding: 0 0 0 0;\n",
              "      width: 32px;\n",
              "    }\n",
              "\n",
              "    .colab-df-convert:hover {\n",
              "      background-color: #E2EBFA;\n",
              "      box-shadow: 0px 1px 2px rgba(60, 64, 67, 0.3), 0px 1px 3px 1px rgba(60, 64, 67, 0.15);\n",
              "      fill: #174EA6;\n",
              "    }\n",
              "\n",
              "    [theme=dark] .colab-df-convert {\n",
              "      background-color: #3B4455;\n",
              "      fill: #D2E3FC;\n",
              "    }\n",
              "\n",
              "    [theme=dark] .colab-df-convert:hover {\n",
              "      background-color: #434B5C;\n",
              "      box-shadow: 0px 1px 3px 1px rgba(0, 0, 0, 0.15);\n",
              "      filter: drop-shadow(0px 1px 2px rgba(0, 0, 0, 0.3));\n",
              "      fill: #FFFFFF;\n",
              "    }\n",
              "  </style>\n",
              "\n",
              "      <script>\n",
              "        const buttonEl =\n",
              "          document.querySelector('#df-768cfe58-0871-4b8d-b206-55370b51b3a0 button.colab-df-convert');\n",
              "        buttonEl.style.display =\n",
              "          google.colab.kernel.accessAllowed ? 'block' : 'none';\n",
              "\n",
              "        async function convertToInteractive(key) {\n",
              "          const element = document.querySelector('#df-768cfe58-0871-4b8d-b206-55370b51b3a0');\n",
              "          const dataTable =\n",
              "            await google.colab.kernel.invokeFunction('convertToInteractive',\n",
              "                                                     [key], {});\n",
              "          if (!dataTable) return;\n",
              "\n",
              "          const docLinkHtml = 'Like what you see? Visit the ' +\n",
              "            '<a target=\"_blank\" href=https://colab.research.google.com/notebooks/data_table.ipynb>data table notebook</a>'\n",
              "            + ' to learn more about interactive tables.';\n",
              "          element.innerHTML = '';\n",
              "          dataTable['output_type'] = 'display_data';\n",
              "          await google.colab.output.renderOutput(dataTable, element);\n",
              "          const docLink = document.createElement('div');\n",
              "          docLink.innerHTML = docLinkHtml;\n",
              "          element.appendChild(docLink);\n",
              "        }\n",
              "      </script>\n",
              "    </div>\n",
              "  </div>\n",
              "  "
            ]
          },
          "metadata": {},
          "execution_count": 5
        }
      ],
      "source": [
        "data.head()"
      ]
    },
    {
      "cell_type": "code",
      "execution_count": 6,
      "metadata": {
        "id": "AYyXoyVx8koJ",
        "colab": {
          "base_uri": "https://localhost:8080/"
        },
        "outputId": "3f892fb9-7909-485e-a788-aea8040cf4e4"
      },
      "outputs": [
        {
          "output_type": "execute_result",
          "data": {
            "text/plain": [
              "(1458644, 11)"
            ]
          },
          "metadata": {},
          "execution_count": 6
        }
      ],
      "source": [
        "data.shape "
      ]
    },
    {
      "cell_type": "code",
      "execution_count": 7,
      "metadata": {
        "id": "qQY3bF3w8oB3",
        "colab": {
          "base_uri": "https://localhost:8080/"
        },
        "outputId": "9892baeb-08c7-4b49-8fde-66c17c230239"
      },
      "outputs": [
        {
          "output_type": "stream",
          "name": "stdout",
          "text": [
            "There are 1458644 unique id's in Training dataset, which is equal to the number of records\n"
          ]
        }
      ],
      "source": [
        "#Check count of unique id's in the dataset\n",
        "print(\"There are %d unique id's in Training dataset, which is equal to the number of records\"%(data.id.nunique()))"
      ]
    },
    {
      "cell_type": "code",
      "execution_count": 8,
      "metadata": {
        "id": "UMLvvL9P8tXd",
        "colab": {
          "base_uri": "https://localhost:8080/"
        },
        "outputId": "d8860149-753b-4784-b79f-e3b64eb4bd4e"
      },
      "outputs": [
        {
          "output_type": "execute_result",
          "data": {
            "text/plain": [
              "id                    0\n",
              "vendor_id             0\n",
              "pickup_datetime       0\n",
              "dropoff_datetime      0\n",
              "passenger_count       0\n",
              "pickup_longitude      0\n",
              "pickup_latitude       0\n",
              "dropoff_longitude     0\n",
              "dropoff_latitude      0\n",
              "store_and_fwd_flag    0\n",
              "trip_duration         0\n",
              "dtype: int64"
            ]
          },
          "metadata": {},
          "execution_count": 8
        }
      ],
      "source": [
        "#Check for NaN values\n",
        "data.isnull().sum()"
      ]
    },
    {
      "cell_type": "code",
      "execution_count": 9,
      "metadata": {
        "id": "UVbwLlQ88xNY"
      },
      "outputs": [],
      "source": [
        "#Convert timestamp to datetime format to fetch the other details as listed below\n",
        "data['pickup_datetime'] = pd.to_datetime(data['pickup_datetime'])\n",
        "data['dropoff_datetime'] = pd.to_datetime(data['dropoff_datetime'])"
      ]
    },
    {
      "cell_type": "code",
      "execution_count": 10,
      "metadata": {
        "id": "dFUkpc2l80tg"
      },
      "outputs": [],
      "source": [
        "#Calculate and assign new columns to the dataframe such as weekday,\n",
        "#month and pickup_hour which will help us to gain more insights from the data.\n",
        "data['weekday'] = data.pickup_datetime.dt.weekday\n",
        "data['month'] = data.pickup_datetime.dt.month\n",
        "data['weekday_num'] = data.pickup_datetime.dt.weekday\n",
        "data['pickup_hour'] = data.pickup_datetime.dt.hour"
      ]
    },
    {
      "cell_type": "code",
      "execution_count": 11,
      "metadata": {
        "id": "kszSfqsh8_Aw"
      },
      "outputs": [],
      "source": [
        "def calc_distance(df):\n",
        "    pickup = (df['pickup_latitude'], df['pickup_longitude'])\n",
        "    drop = (df['dropoff_latitude'], df['dropoff_longitude'])\n",
        "    return haversine(pickup, drop)"
      ]
    },
    {
      "cell_type": "code",
      "execution_count": 12,
      "metadata": {
        "id": "xFNtdweZ9BtO"
      },
      "outputs": [],
      "source": [
        "#Calculate distance and assign new column to the dataframe.\n",
        "data['distance'] = data.apply(lambda x: calc_distance(x), axis = 1)"
      ]
    },
    {
      "cell_type": "code",
      "execution_count": 13,
      "metadata": {
        "id": "LIOh_dce9EtI"
      },
      "outputs": [],
      "source": [
        "#Calculate Speed in km/h for further insights\n",
        "data['speed'] = (data.distance/(data.trip_duration/3600))"
      ]
    },
    {
      "cell_type": "code",
      "execution_count": 14,
      "metadata": {
        "id": "hIVZH_vf9HUR",
        "colab": {
          "base_uri": "https://localhost:8080/",
          "height": 582
        },
        "outputId": "0f72405e-ed1e-4bb2-f010-52c473c22f45"
      },
      "outputs": [
        {
          "output_type": "execute_result",
          "data": {
            "text/plain": [
              "                 index               0\n",
              "0                   id          object\n",
              "1            vendor_id           int64\n",
              "2      pickup_datetime  datetime64[ns]\n",
              "3     dropoff_datetime  datetime64[ns]\n",
              "4      passenger_count           int64\n",
              "5     pickup_longitude         float64\n",
              "6      pickup_latitude         float64\n",
              "7    dropoff_longitude         float64\n",
              "8     dropoff_latitude         float64\n",
              "9   store_and_fwd_flag          object\n",
              "10       trip_duration           int64\n",
              "11             weekday           int64\n",
              "12               month           int64\n",
              "13         weekday_num           int64\n",
              "14         pickup_hour           int64\n",
              "15            distance         float64\n",
              "16               speed         float64"
            ],
            "text/html": [
              "\n",
              "  <div id=\"df-33823161-8a2d-42e0-bbe5-e888f0cb7204\">\n",
              "    <div class=\"colab-df-container\">\n",
              "      <div>\n",
              "<style scoped>\n",
              "    .dataframe tbody tr th:only-of-type {\n",
              "        vertical-align: middle;\n",
              "    }\n",
              "\n",
              "    .dataframe tbody tr th {\n",
              "        vertical-align: top;\n",
              "    }\n",
              "\n",
              "    .dataframe thead th {\n",
              "        text-align: right;\n",
              "    }\n",
              "</style>\n",
              "<table border=\"1\" class=\"dataframe\">\n",
              "  <thead>\n",
              "    <tr style=\"text-align: right;\">\n",
              "      <th></th>\n",
              "      <th>index</th>\n",
              "      <th>0</th>\n",
              "    </tr>\n",
              "  </thead>\n",
              "  <tbody>\n",
              "    <tr>\n",
              "      <th>0</th>\n",
              "      <td>id</td>\n",
              "      <td>object</td>\n",
              "    </tr>\n",
              "    <tr>\n",
              "      <th>1</th>\n",
              "      <td>vendor_id</td>\n",
              "      <td>int64</td>\n",
              "    </tr>\n",
              "    <tr>\n",
              "      <th>2</th>\n",
              "      <td>pickup_datetime</td>\n",
              "      <td>datetime64[ns]</td>\n",
              "    </tr>\n",
              "    <tr>\n",
              "      <th>3</th>\n",
              "      <td>dropoff_datetime</td>\n",
              "      <td>datetime64[ns]</td>\n",
              "    </tr>\n",
              "    <tr>\n",
              "      <th>4</th>\n",
              "      <td>passenger_count</td>\n",
              "      <td>int64</td>\n",
              "    </tr>\n",
              "    <tr>\n",
              "      <th>5</th>\n",
              "      <td>pickup_longitude</td>\n",
              "      <td>float64</td>\n",
              "    </tr>\n",
              "    <tr>\n",
              "      <th>6</th>\n",
              "      <td>pickup_latitude</td>\n",
              "      <td>float64</td>\n",
              "    </tr>\n",
              "    <tr>\n",
              "      <th>7</th>\n",
              "      <td>dropoff_longitude</td>\n",
              "      <td>float64</td>\n",
              "    </tr>\n",
              "    <tr>\n",
              "      <th>8</th>\n",
              "      <td>dropoff_latitude</td>\n",
              "      <td>float64</td>\n",
              "    </tr>\n",
              "    <tr>\n",
              "      <th>9</th>\n",
              "      <td>store_and_fwd_flag</td>\n",
              "      <td>object</td>\n",
              "    </tr>\n",
              "    <tr>\n",
              "      <th>10</th>\n",
              "      <td>trip_duration</td>\n",
              "      <td>int64</td>\n",
              "    </tr>\n",
              "    <tr>\n",
              "      <th>11</th>\n",
              "      <td>weekday</td>\n",
              "      <td>int64</td>\n",
              "    </tr>\n",
              "    <tr>\n",
              "      <th>12</th>\n",
              "      <td>month</td>\n",
              "      <td>int64</td>\n",
              "    </tr>\n",
              "    <tr>\n",
              "      <th>13</th>\n",
              "      <td>weekday_num</td>\n",
              "      <td>int64</td>\n",
              "    </tr>\n",
              "    <tr>\n",
              "      <th>14</th>\n",
              "      <td>pickup_hour</td>\n",
              "      <td>int64</td>\n",
              "    </tr>\n",
              "    <tr>\n",
              "      <th>15</th>\n",
              "      <td>distance</td>\n",
              "      <td>float64</td>\n",
              "    </tr>\n",
              "    <tr>\n",
              "      <th>16</th>\n",
              "      <td>speed</td>\n",
              "      <td>float64</td>\n",
              "    </tr>\n",
              "  </tbody>\n",
              "</table>\n",
              "</div>\n",
              "      <button class=\"colab-df-convert\" onclick=\"convertToInteractive('df-33823161-8a2d-42e0-bbe5-e888f0cb7204')\"\n",
              "              title=\"Convert this dataframe to an interactive table.\"\n",
              "              style=\"display:none;\">\n",
              "        \n",
              "  <svg xmlns=\"http://www.w3.org/2000/svg\" height=\"24px\"viewBox=\"0 0 24 24\"\n",
              "       width=\"24px\">\n",
              "    <path d=\"M0 0h24v24H0V0z\" fill=\"none\"/>\n",
              "    <path d=\"M18.56 5.44l.94 2.06.94-2.06 2.06-.94-2.06-.94-.94-2.06-.94 2.06-2.06.94zm-11 1L8.5 8.5l.94-2.06 2.06-.94-2.06-.94L8.5 2.5l-.94 2.06-2.06.94zm10 10l.94 2.06.94-2.06 2.06-.94-2.06-.94-.94-2.06-.94 2.06-2.06.94z\"/><path d=\"M17.41 7.96l-1.37-1.37c-.4-.4-.92-.59-1.43-.59-.52 0-1.04.2-1.43.59L10.3 9.45l-7.72 7.72c-.78.78-.78 2.05 0 2.83L4 21.41c.39.39.9.59 1.41.59.51 0 1.02-.2 1.41-.59l7.78-7.78 2.81-2.81c.8-.78.8-2.07 0-2.86zM5.41 20L4 18.59l7.72-7.72 1.47 1.35L5.41 20z\"/>\n",
              "  </svg>\n",
              "      </button>\n",
              "      \n",
              "  <style>\n",
              "    .colab-df-container {\n",
              "      display:flex;\n",
              "      flex-wrap:wrap;\n",
              "      gap: 12px;\n",
              "    }\n",
              "\n",
              "    .colab-df-convert {\n",
              "      background-color: #E8F0FE;\n",
              "      border: none;\n",
              "      border-radius: 50%;\n",
              "      cursor: pointer;\n",
              "      display: none;\n",
              "      fill: #1967D2;\n",
              "      height: 32px;\n",
              "      padding: 0 0 0 0;\n",
              "      width: 32px;\n",
              "    }\n",
              "\n",
              "    .colab-df-convert:hover {\n",
              "      background-color: #E2EBFA;\n",
              "      box-shadow: 0px 1px 2px rgba(60, 64, 67, 0.3), 0px 1px 3px 1px rgba(60, 64, 67, 0.15);\n",
              "      fill: #174EA6;\n",
              "    }\n",
              "\n",
              "    [theme=dark] .colab-df-convert {\n",
              "      background-color: #3B4455;\n",
              "      fill: #D2E3FC;\n",
              "    }\n",
              "\n",
              "    [theme=dark] .colab-df-convert:hover {\n",
              "      background-color: #434B5C;\n",
              "      box-shadow: 0px 1px 3px 1px rgba(0, 0, 0, 0.15);\n",
              "      filter: drop-shadow(0px 1px 2px rgba(0, 0, 0, 0.3));\n",
              "      fill: #FFFFFF;\n",
              "    }\n",
              "  </style>\n",
              "\n",
              "      <script>\n",
              "        const buttonEl =\n",
              "          document.querySelector('#df-33823161-8a2d-42e0-bbe5-e888f0cb7204 button.colab-df-convert');\n",
              "        buttonEl.style.display =\n",
              "          google.colab.kernel.accessAllowed ? 'block' : 'none';\n",
              "\n",
              "        async function convertToInteractive(key) {\n",
              "          const element = document.querySelector('#df-33823161-8a2d-42e0-bbe5-e888f0cb7204');\n",
              "          const dataTable =\n",
              "            await google.colab.kernel.invokeFunction('convertToInteractive',\n",
              "                                                     [key], {});\n",
              "          if (!dataTable) return;\n",
              "\n",
              "          const docLinkHtml = 'Like what you see? Visit the ' +\n",
              "            '<a target=\"_blank\" href=https://colab.research.google.com/notebooks/data_table.ipynb>data table notebook</a>'\n",
              "            + ' to learn more about interactive tables.';\n",
              "          element.innerHTML = '';\n",
              "          dataTable['output_type'] = 'display_data';\n",
              "          await google.colab.output.renderOutput(dataTable, element);\n",
              "          const docLink = document.createElement('div');\n",
              "          docLink.innerHTML = docLinkHtml;\n",
              "          element.appendChild(docLink);\n",
              "        }\n",
              "      </script>\n",
              "    </div>\n",
              "  </div>\n",
              "  "
            ]
          },
          "metadata": {},
          "execution_count": 14
        }
      ],
      "source": [
        "#Check the type of each variable\n",
        "data.dtypes.reset_index()"
      ]
    },
    {
      "cell_type": "code",
      "execution_count": 15,
      "metadata": {
        "id": "zmz8j9Im9PZ1"
      },
      "outputs": [],
      "source": [
        "#Dummify all the categorical features like \"store_and_fwd_flag, vendor_id, month, weekday_num, pickup_hour, passenger_count\" except the label i.e. \"trip_duration\"\n",
        "\n",
        "dummy = pd.get_dummies(data.store_and_fwd_flag, prefix='flag')\n",
        "dummy.drop(dummy.columns[0], axis=1, inplace=True) #avoid dummy trap\n",
        "data = pd.concat([data,dummy], axis = 1)\n",
        "\n",
        "dummy = pd.get_dummies(data.vendor_id, prefix='vendor_id')\n",
        "dummy.drop(dummy.columns[0], axis=1, inplace=True) #avoid dummy trap\n",
        "data = pd.concat([data,dummy], axis = 1)\n",
        "\n",
        "dummy = pd.get_dummies(data.month, prefix='month')\n",
        "dummy.drop(dummy.columns[0], axis=1, inplace=True) #avoid dummy trap\n",
        "data = pd.concat([data,dummy], axis = 1)\n",
        "\n",
        "dummy = pd.get_dummies(data.weekday_num, prefix='weekday_num')\n",
        "dummy.drop(dummy.columns[0], axis=1, inplace=True) #avoid dummy trap\n",
        "data = pd.concat([data,dummy], axis = 1)\n",
        "\n",
        "dummy = pd.get_dummies(data.pickup_hour, prefix='pickup_hour')\n",
        "dummy.drop(dummy.columns[0], axis=1, inplace=True) #avoid dummy trap\n",
        "data = pd.concat([data,dummy], axis = 1)\n",
        "\n",
        "dummy = pd.get_dummies(data.passenger_count, prefix='passenger_count')\n",
        "dummy.drop(dummy.columns[0], axis=1, inplace=True) #avoid dummy trap\n",
        "data = pd.concat([data,dummy], axis = 1)"
      ]
    },
    {
      "cell_type": "code",
      "execution_count": 16,
      "metadata": {
        "id": "vdFTozpN9YO6",
        "colab": {
          "base_uri": "https://localhost:8080/",
          "height": 386
        },
        "outputId": "b7c92b79-012c-4f22-a4cd-5b30dcf3479e"
      },
      "outputs": [
        {
          "output_type": "execute_result",
          "data": {
            "text/plain": [
              "          id  vendor_id     pickup_datetime    dropoff_datetime  \\\n",
              "0  id2875421          2 2016-03-14 17:24:55 2016-03-14 17:32:30   \n",
              "1  id2377394          1 2016-06-12 00:43:35 2016-06-12 00:54:38   \n",
              "2  id3858529          2 2016-01-19 11:35:24 2016-01-19 12:10:48   \n",
              "3  id3504673          2 2016-04-06 19:32:31 2016-04-06 19:39:40   \n",
              "4  id2181028          2 2016-03-26 13:30:55 2016-03-26 13:38:10   \n",
              "\n",
              "   passenger_count  pickup_longitude  pickup_latitude  dropoff_longitude  \\\n",
              "0                1        -73.982155        40.767937         -73.964630   \n",
              "1                1        -73.980415        40.738564         -73.999481   \n",
              "2                1        -73.979027        40.763939         -74.005333   \n",
              "3                1        -74.010040        40.719971         -74.012268   \n",
              "4                1        -73.973053        40.793209         -73.972923   \n",
              "\n",
              "   dropoff_latitude store_and_fwd_flag  ...  pickup_hour_23  \\\n",
              "0         40.765602                  N  ...               0   \n",
              "1         40.731152                  N  ...               0   \n",
              "2         40.710087                  N  ...               0   \n",
              "3         40.706718                  N  ...               0   \n",
              "4         40.782520                  N  ...               0   \n",
              "\n",
              "   passenger_count_1  passenger_count_2  passenger_count_3  passenger_count_4  \\\n",
              "0                  1                  0                  0                  0   \n",
              "1                  1                  0                  0                  0   \n",
              "2                  1                  0                  0                  0   \n",
              "3                  1                  0                  0                  0   \n",
              "4                  1                  0                  0                  0   \n",
              "\n",
              "   passenger_count_5  passenger_count_6  passenger_count_7  passenger_count_8  \\\n",
              "0                  0                  0                  0                  0   \n",
              "1                  0                  0                  0                  0   \n",
              "2                  0                  0                  0                  0   \n",
              "3                  0                  0                  0                  0   \n",
              "4                  0                  0                  0                  0   \n",
              "\n",
              "   passenger_count_9  \n",
              "0                  0  \n",
              "1                  0  \n",
              "2                  0  \n",
              "3                  0  \n",
              "4                  0  \n",
              "\n",
              "[5 rows x 62 columns]"
            ],
            "text/html": [
              "\n",
              "  <div id=\"df-ee1490e3-f5fd-4d64-b6f2-9eba54b75973\">\n",
              "    <div class=\"colab-df-container\">\n",
              "      <div>\n",
              "<style scoped>\n",
              "    .dataframe tbody tr th:only-of-type {\n",
              "        vertical-align: middle;\n",
              "    }\n",
              "\n",
              "    .dataframe tbody tr th {\n",
              "        vertical-align: top;\n",
              "    }\n",
              "\n",
              "    .dataframe thead th {\n",
              "        text-align: right;\n",
              "    }\n",
              "</style>\n",
              "<table border=\"1\" class=\"dataframe\">\n",
              "  <thead>\n",
              "    <tr style=\"text-align: right;\">\n",
              "      <th></th>\n",
              "      <th>id</th>\n",
              "      <th>vendor_id</th>\n",
              "      <th>pickup_datetime</th>\n",
              "      <th>dropoff_datetime</th>\n",
              "      <th>passenger_count</th>\n",
              "      <th>pickup_longitude</th>\n",
              "      <th>pickup_latitude</th>\n",
              "      <th>dropoff_longitude</th>\n",
              "      <th>dropoff_latitude</th>\n",
              "      <th>store_and_fwd_flag</th>\n",
              "      <th>...</th>\n",
              "      <th>pickup_hour_23</th>\n",
              "      <th>passenger_count_1</th>\n",
              "      <th>passenger_count_2</th>\n",
              "      <th>passenger_count_3</th>\n",
              "      <th>passenger_count_4</th>\n",
              "      <th>passenger_count_5</th>\n",
              "      <th>passenger_count_6</th>\n",
              "      <th>passenger_count_7</th>\n",
              "      <th>passenger_count_8</th>\n",
              "      <th>passenger_count_9</th>\n",
              "    </tr>\n",
              "  </thead>\n",
              "  <tbody>\n",
              "    <tr>\n",
              "      <th>0</th>\n",
              "      <td>id2875421</td>\n",
              "      <td>2</td>\n",
              "      <td>2016-03-14 17:24:55</td>\n",
              "      <td>2016-03-14 17:32:30</td>\n",
              "      <td>1</td>\n",
              "      <td>-73.982155</td>\n",
              "      <td>40.767937</td>\n",
              "      <td>-73.964630</td>\n",
              "      <td>40.765602</td>\n",
              "      <td>N</td>\n",
              "      <td>...</td>\n",
              "      <td>0</td>\n",
              "      <td>1</td>\n",
              "      <td>0</td>\n",
              "      <td>0</td>\n",
              "      <td>0</td>\n",
              "      <td>0</td>\n",
              "      <td>0</td>\n",
              "      <td>0</td>\n",
              "      <td>0</td>\n",
              "      <td>0</td>\n",
              "    </tr>\n",
              "    <tr>\n",
              "      <th>1</th>\n",
              "      <td>id2377394</td>\n",
              "      <td>1</td>\n",
              "      <td>2016-06-12 00:43:35</td>\n",
              "      <td>2016-06-12 00:54:38</td>\n",
              "      <td>1</td>\n",
              "      <td>-73.980415</td>\n",
              "      <td>40.738564</td>\n",
              "      <td>-73.999481</td>\n",
              "      <td>40.731152</td>\n",
              "      <td>N</td>\n",
              "      <td>...</td>\n",
              "      <td>0</td>\n",
              "      <td>1</td>\n",
              "      <td>0</td>\n",
              "      <td>0</td>\n",
              "      <td>0</td>\n",
              "      <td>0</td>\n",
              "      <td>0</td>\n",
              "      <td>0</td>\n",
              "      <td>0</td>\n",
              "      <td>0</td>\n",
              "    </tr>\n",
              "    <tr>\n",
              "      <th>2</th>\n",
              "      <td>id3858529</td>\n",
              "      <td>2</td>\n",
              "      <td>2016-01-19 11:35:24</td>\n",
              "      <td>2016-01-19 12:10:48</td>\n",
              "      <td>1</td>\n",
              "      <td>-73.979027</td>\n",
              "      <td>40.763939</td>\n",
              "      <td>-74.005333</td>\n",
              "      <td>40.710087</td>\n",
              "      <td>N</td>\n",
              "      <td>...</td>\n",
              "      <td>0</td>\n",
              "      <td>1</td>\n",
              "      <td>0</td>\n",
              "      <td>0</td>\n",
              "      <td>0</td>\n",
              "      <td>0</td>\n",
              "      <td>0</td>\n",
              "      <td>0</td>\n",
              "      <td>0</td>\n",
              "      <td>0</td>\n",
              "    </tr>\n",
              "    <tr>\n",
              "      <th>3</th>\n",
              "      <td>id3504673</td>\n",
              "      <td>2</td>\n",
              "      <td>2016-04-06 19:32:31</td>\n",
              "      <td>2016-04-06 19:39:40</td>\n",
              "      <td>1</td>\n",
              "      <td>-74.010040</td>\n",
              "      <td>40.719971</td>\n",
              "      <td>-74.012268</td>\n",
              "      <td>40.706718</td>\n",
              "      <td>N</td>\n",
              "      <td>...</td>\n",
              "      <td>0</td>\n",
              "      <td>1</td>\n",
              "      <td>0</td>\n",
              "      <td>0</td>\n",
              "      <td>0</td>\n",
              "      <td>0</td>\n",
              "      <td>0</td>\n",
              "      <td>0</td>\n",
              "      <td>0</td>\n",
              "      <td>0</td>\n",
              "    </tr>\n",
              "    <tr>\n",
              "      <th>4</th>\n",
              "      <td>id2181028</td>\n",
              "      <td>2</td>\n",
              "      <td>2016-03-26 13:30:55</td>\n",
              "      <td>2016-03-26 13:38:10</td>\n",
              "      <td>1</td>\n",
              "      <td>-73.973053</td>\n",
              "      <td>40.793209</td>\n",
              "      <td>-73.972923</td>\n",
              "      <td>40.782520</td>\n",
              "      <td>N</td>\n",
              "      <td>...</td>\n",
              "      <td>0</td>\n",
              "      <td>1</td>\n",
              "      <td>0</td>\n",
              "      <td>0</td>\n",
              "      <td>0</td>\n",
              "      <td>0</td>\n",
              "      <td>0</td>\n",
              "      <td>0</td>\n",
              "      <td>0</td>\n",
              "      <td>0</td>\n",
              "    </tr>\n",
              "  </tbody>\n",
              "</table>\n",
              "<p>5 rows × 62 columns</p>\n",
              "</div>\n",
              "      <button class=\"colab-df-convert\" onclick=\"convertToInteractive('df-ee1490e3-f5fd-4d64-b6f2-9eba54b75973')\"\n",
              "              title=\"Convert this dataframe to an interactive table.\"\n",
              "              style=\"display:none;\">\n",
              "        \n",
              "  <svg xmlns=\"http://www.w3.org/2000/svg\" height=\"24px\"viewBox=\"0 0 24 24\"\n",
              "       width=\"24px\">\n",
              "    <path d=\"M0 0h24v24H0V0z\" fill=\"none\"/>\n",
              "    <path d=\"M18.56 5.44l.94 2.06.94-2.06 2.06-.94-2.06-.94-.94-2.06-.94 2.06-2.06.94zm-11 1L8.5 8.5l.94-2.06 2.06-.94-2.06-.94L8.5 2.5l-.94 2.06-2.06.94zm10 10l.94 2.06.94-2.06 2.06-.94-2.06-.94-.94-2.06-.94 2.06-2.06.94z\"/><path d=\"M17.41 7.96l-1.37-1.37c-.4-.4-.92-.59-1.43-.59-.52 0-1.04.2-1.43.59L10.3 9.45l-7.72 7.72c-.78.78-.78 2.05 0 2.83L4 21.41c.39.39.9.59 1.41.59.51 0 1.02-.2 1.41-.59l7.78-7.78 2.81-2.81c.8-.78.8-2.07 0-2.86zM5.41 20L4 18.59l7.72-7.72 1.47 1.35L5.41 20z\"/>\n",
              "  </svg>\n",
              "      </button>\n",
              "      \n",
              "  <style>\n",
              "    .colab-df-container {\n",
              "      display:flex;\n",
              "      flex-wrap:wrap;\n",
              "      gap: 12px;\n",
              "    }\n",
              "\n",
              "    .colab-df-convert {\n",
              "      background-color: #E8F0FE;\n",
              "      border: none;\n",
              "      border-radius: 50%;\n",
              "      cursor: pointer;\n",
              "      display: none;\n",
              "      fill: #1967D2;\n",
              "      height: 32px;\n",
              "      padding: 0 0 0 0;\n",
              "      width: 32px;\n",
              "    }\n",
              "\n",
              "    .colab-df-convert:hover {\n",
              "      background-color: #E2EBFA;\n",
              "      box-shadow: 0px 1px 2px rgba(60, 64, 67, 0.3), 0px 1px 3px 1px rgba(60, 64, 67, 0.15);\n",
              "      fill: #174EA6;\n",
              "    }\n",
              "\n",
              "    [theme=dark] .colab-df-convert {\n",
              "      background-color: #3B4455;\n",
              "      fill: #D2E3FC;\n",
              "    }\n",
              "\n",
              "    [theme=dark] .colab-df-convert:hover {\n",
              "      background-color: #434B5C;\n",
              "      box-shadow: 0px 1px 3px 1px rgba(0, 0, 0, 0.15);\n",
              "      filter: drop-shadow(0px 1px 2px rgba(0, 0, 0, 0.3));\n",
              "      fill: #FFFFFF;\n",
              "    }\n",
              "  </style>\n",
              "\n",
              "      <script>\n",
              "        const buttonEl =\n",
              "          document.querySelector('#df-ee1490e3-f5fd-4d64-b6f2-9eba54b75973 button.colab-df-convert');\n",
              "        buttonEl.style.display =\n",
              "          google.colab.kernel.accessAllowed ? 'block' : 'none';\n",
              "\n",
              "        async function convertToInteractive(key) {\n",
              "          const element = document.querySelector('#df-ee1490e3-f5fd-4d64-b6f2-9eba54b75973');\n",
              "          const dataTable =\n",
              "            await google.colab.kernel.invokeFunction('convertToInteractive',\n",
              "                                                     [key], {});\n",
              "          if (!dataTable) return;\n",
              "\n",
              "          const docLinkHtml = 'Like what you see? Visit the ' +\n",
              "            '<a target=\"_blank\" href=https://colab.research.google.com/notebooks/data_table.ipynb>data table notebook</a>'\n",
              "            + ' to learn more about interactive tables.';\n",
              "          element.innerHTML = '';\n",
              "          dataTable['output_type'] = 'display_data';\n",
              "          await google.colab.output.renderOutput(dataTable, element);\n",
              "          const docLink = document.createElement('div');\n",
              "          docLink.innerHTML = docLinkHtml;\n",
              "          element.appendChild(docLink);\n",
              "        }\n",
              "      </script>\n",
              "    </div>\n",
              "  </div>\n",
              "  "
            ]
          },
          "metadata": {},
          "execution_count": 16
        }
      ],
      "source": [
        "data.head()"
      ]
    },
    {
      "cell_type": "code",
      "execution_count": 17,
      "metadata": {
        "id": "jsszsDhx9c5v",
        "colab": {
          "base_uri": "https://localhost:8080/"
        },
        "outputId": "5ae747bc-28fe-418f-c1eb-6341965dfe68"
      },
      "outputs": [
        {
          "output_type": "execute_result",
          "data": {
            "text/plain": [
              "1    1033540\n",
              "2     210318\n",
              "5      78088\n",
              "3      59896\n",
              "6      48333\n",
              "4      28404\n",
              "0         60\n",
              "7          3\n",
              "9          1\n",
              "8          1\n",
              "Name: passenger_count, dtype: int64"
            ]
          },
          "metadata": {},
          "execution_count": 17
        }
      ],
      "source": [
        "pd.options.display.float_format = '{:.2f}'.format #To suppres scientific notation.\n",
        "data.passenger_count.value_counts()"
      ]
    },
    {
      "cell_type": "code",
      "execution_count": 18,
      "metadata": {
        "id": "iuR70E_M9f59",
        "colab": {
          "base_uri": "https://localhost:8080/",
          "height": 251
        },
        "outputId": "0540311f-0075-4377-98a0-ef5baa782a6a"
      },
      "outputs": [
        {
          "output_type": "display_data",
          "data": {
            "text/plain": [
              "<Figure size 1440x360 with 1 Axes>"
            ],
            "image/png": "[encoded data removed]"
          },
          "metadata": {
            "needs_background": "light"
          }
        }
      ],
      "source": [
        "plt.figure(figsize = (20,5))\n",
        "sns.boxplot(data.passenger_count)\n",
        "plt.show()"
      ]
    },
    {
      "cell_type": "code",
      "execution_count": 19,
      "metadata": {
        "id": "O9yzP-qw9j32",
        "colab": {
          "base_uri": "https://localhost:8080/"
        },
        "outputId": "1dee0022-501c-4366-9d38-a58d5e2cf817"
      },
      "outputs": [
        {
          "output_type": "execute_result",
          "data": {
            "text/plain": [
              "count   1458644.00\n",
              "mean          1.66\n",
              "std           1.31\n",
              "min           0.00\n",
              "25%           1.00\n",
              "50%           1.00\n",
              "75%           2.00\n",
              "max           9.00\n",
              "Name: passenger_count, dtype: float64"
            ]
          },
          "metadata": {},
          "execution_count": 19
        }
      ],
      "source": [
        "data.passenger_count.describe()"
      ]
    },
    {
      "cell_type": "code",
      "execution_count": 20,
      "metadata": {
        "id": "WqQxGB4eHhuP"
      },
      "outputs": [],
      "source": [
        "data['passenger_count'] = data.passenger_count.map(lambda x: 1 if x == 0 else x)"
      ]
    },
    {
      "cell_type": "code",
      "execution_count": 21,
      "metadata": {
        "id": "RwN639WGHjti"
      },
      "outputs": [],
      "source": [
        "data = data[data.passenger_count <= 6]"
      ]
    },
    {
      "cell_type": "code",
      "execution_count": 22,
      "metadata": {
        "id": "4A5GAr_cHltq",
        "colab": {
          "base_uri": "https://localhost:8080/"
        },
        "outputId": "2b75e496-4678-4efd-a64a-7f645b9e1cd5"
      },
      "outputs": [
        {
          "output_type": "execute_result",
          "data": {
            "text/plain": [
              "1    1033600\n",
              "2     210318\n",
              "5      78088\n",
              "3      59896\n",
              "6      48333\n",
              "4      28404\n",
              "Name: passenger_count, dtype: int64"
            ]
          },
          "metadata": {},
          "execution_count": 22
        }
      ],
      "source": [
        "data.passenger_count.value_counts()\n"
      ]
    },
    {
      "cell_type": "code",
      "execution_count": 23,
      "metadata": {
        "id": "KkCyU5WUHoR9",
        "colab": {
          "base_uri": "https://localhost:8080/",
          "height": 291
        },
        "outputId": "672b2609-cc52-4b61-8802-a68e04acae43"
      },
      "outputs": [
        {
          "output_type": "display_data",
          "data": {
            "text/plain": [
              "<Figure size 432x288 with 1 Axes>"
            ],
            "image/png": "[encoded data removed]"
          },
          "metadata": {
            "needs_background": "light"
          }
        }
      ],
      "source": [
        "sns.countplot(data.passenger_count)\n",
        "plt.show()"
      ]
    },
    {
      "cell_type": "markdown",
      "metadata": {
        "id": "XdZn5J1QHqdl"
      },
      "source": [
        "### Vendor"
      ]
    },
    {
      "cell_type": "markdown",
      "metadata": {
        "id": "DFv2TfVfHtoi"
      },
      "source": [
        "Here we analyze taxi data only for the 2 vendors which are listed as 1 and 2 in the datset."
      ]
    },
    {
      "cell_type": "code",
      "execution_count": 24,
      "metadata": {
        "id": "E3d70MU-HwIn",
        "colab": {
          "base_uri": "https://localhost:8080/",
          "height": 280
        },
        "outputId": "1dc81978-cfaf-4f0d-bb76-a0f590940bb3"
      },
      "outputs": [
        {
          "output_type": "display_data",
          "data": {
            "text/plain": [
              "<Figure size 432x288 with 1 Axes>"
            ],
            "image/png": "[encoded data removed]"
          },
          "metadata": {
            "needs_background": "light"
          }
        }
      ],
      "source": [
        "sns.countplot(data.vendor_id)\n",
        "plt.show()"
      ]
    },
    {
      "cell_type": "markdown",
      "metadata": {
        "id": "zenBN0PQHx_F"
      },
      "source": [
        "Though both the vendors seems to have almost equal market share. But Vendor 2 is evidently more famous among the population as per the above graph."
      ]
    },
    {
      "cell_type": "markdown",
      "metadata": {
        "id": "RUkx2nHIH0c7"
      },
      "source": [
        "### Distance"
      ]
    },
    {
      "cell_type": "markdown",
      "metadata": {
        "id": "hLOnTrefH333"
      },
      "source": [
        "Let's now have a look on the distribution of the distance across the different types of rides.\n"
      ]
    },
    {
      "cell_type": "code",
      "execution_count": 25,
      "metadata": {
        "id": "9TuvbiVkHyyJ",
        "colab": {
          "base_uri": "https://localhost:8080/"
        },
        "outputId": "ce9acbf9-89f7-45bd-b830-2ffc8609b407"
      },
      "outputs": [
        {
          "output_type": "stream",
          "name": "stdout",
          "text": [
            "count   1458639.00\n",
            "mean          3.44\n",
            "std           4.30\n",
            "min           0.00\n",
            "25%           1.23\n",
            "50%           2.09\n",
            "75%           3.88\n",
            "max        1240.91\n",
            "Name: distance, dtype: float64\n"
          ]
        }
      ],
      "source": [
        "print(data.distance.describe())"
      ]
    },
    {
      "cell_type": "code",
      "execution_count": 26,
      "metadata": {
        "id": "oSx82OntH71j",
        "colab": {
          "base_uri": "https://localhost:8080/",
          "height": 251
        },
        "outputId": "b28abfda-7c23-4e65-bb2b-12a42f7d6500"
      },
      "outputs": [
        {
          "output_type": "display_data",
          "data": {
            "text/plain": [
              "<Figure size 1440x360 with 1 Axes>"
            ],
            "image/png": "[encoded data removed]"
          },
          "metadata": {
            "needs_background": "light"
          }
        }
      ],
      "source": [
        "plt.figure(figsize = (20,5))\n",
        "sns.boxplot(data.distance)\n",
        "plt.show()"
      ]
    },
    {
      "cell_type": "markdown",
      "metadata": {
        "id": "0P2zlmEnH9d_"
      },
      "source": [
        "**Interesting find:**\n",
        "There some trips with over 100 km distance.\n",
        "\n",
        "Some of the trips distance value is 0 km.\n",
        "\n",
        "**Observations:**\n",
        "\n",
        "mean distance travelled is approx 3.5 kms.\n",
        "\n",
        "standard deviation of 4.3 which shows that most of the trips are limited to the range of 1-10 kms."
      ]
    },
    {
      "cell_type": "code",
      "execution_count": 27,
      "metadata": {
        "id": "pK4qUzdgIHik",
        "colab": {
          "base_uri": "https://localhost:8080/"
        },
        "outputId": "b1a06915-44e8-49b1-db31-ff3e721d0ca2"
      },
      "outputs": [
        {
          "output_type": "stream",
          "name": "stdout",
          "text": [
            "There are 5895 trip records with 0 km distance\n"
          ]
        }
      ],
      "source": [
        "print(\"There are {} trip records with 0 km distance\".format(data.distance[data.distance == 0 ].count()))"
      ]
    },
    {
      "cell_type": "code",
      "execution_count": 28,
      "metadata": {
        "id": "hQoWqsVLIKKZ",
        "colab": {
          "base_uri": "https://localhost:8080/",
          "height": 386
        },
        "outputId": "b600452f-ee1e-4a49-a60f-6f8b12f971d6"
      },
      "outputs": [
        {
          "output_type": "execute_result",
          "data": {
            "text/plain": [
              "             id  vendor_id     pickup_datetime    dropoff_datetime  \\\n",
              "246   id3487442          2 2016-02-29 18:39:12 2016-02-29 18:42:59   \n",
              "291   id0924324          2 2016-05-10 18:07:52 2016-05-10 18:26:21   \n",
              "407   id1145809          2 2016-05-16 23:15:13 2016-05-16 23:31:00   \n",
              "702   id3499387          1 2016-01-25 19:45:12 2016-01-25 19:54:52   \n",
              "1620  id0753277          1 2016-01-27 22:29:31 2016-01-27 22:29:58   \n",
              "\n",
              "      passenger_count  pickup_longitude  pickup_latitude  dropoff_longitude  \\\n",
              "246                 1            -73.98            40.77             -73.98   \n",
              "291                 2            -73.96            40.78             -73.96   \n",
              "407                 6            -73.81            40.69             -73.81   \n",
              "702                 1            -73.79            40.65             -73.79   \n",
              "1620                1            -74.21            40.82             -74.21   \n",
              "\n",
              "      dropoff_latitude store_and_fwd_flag  ...  pickup_hour_23  \\\n",
              "246              40.77                  N  ...               0   \n",
              "291              40.78                  N  ...               0   \n",
              "407              40.69                  N  ...               1   \n",
              "702              40.65                  N  ...               0   \n",
              "1620             40.82                  N  ...               0   \n",
              "\n",
              "      passenger_count_1  passenger_count_2  passenger_count_3  \\\n",
              "246                   1                  0                  0   \n",
              "291                   0                  1                  0   \n",
              "407                   0                  0                  0   \n",
              "702                   1                  0                  0   \n",
              "1620                  1                  0                  0   \n",
              "\n",
              "      passenger_count_4  passenger_count_5  passenger_count_6  \\\n",
              "246                   0                  0                  0   \n",
              "291                   0                  0                  0   \n",
              "407                   0                  0                  1   \n",
              "702                   0                  0                  0   \n",
              "1620                  0                  0                  0   \n",
              "\n",
              "      passenger_count_7  passenger_count_8  passenger_count_9  \n",
              "246                   0                  0                  0  \n",
              "291                   0                  0                  0  \n",
              "407                   0                  0                  0  \n",
              "702                   0                  0                  0  \n",
              "1620                  0                  0                  0  \n",
              "\n",
              "[5 rows x 62 columns]"
            ],
            "text/html": [
              "\n",
              "  <div id=\"df-fd3fa8ff-4d0c-4894-9dc9-191e68425348\">\n",
              "    <div class=\"colab-df-container\">\n",
              "      <div>\n",
              "<style scoped>\n",
              "    .dataframe tbody tr th:only-of-type {\n",
              "        vertical-align: middle;\n",
              "    }\n",
              "\n",
              "    .dataframe tbody tr th {\n",
              "        vertical-align: top;\n",
              "    }\n",
              "\n",
              "    .dataframe thead th {\n",
              "        text-align: right;\n",
              "    }\n",
              "</style>\n",
              "<table border=\"1\" class=\"dataframe\">\n",
              "  <thead>\n",
              "    <tr style=\"text-align: right;\">\n",
              "      <th></th>\n",
              "      <th>id</th>\n",
              "      <th>vendor_id</th>\n",
              "      <th>pickup_datetime</th>\n",
              "      <th>dropoff_datetime</th>\n",
              "      <th>passenger_count</th>\n",
              "      <th>pickup_longitude</th>\n",
              "      <th>pickup_latitude</th>\n",
              "      <th>dropoff_longitude</th>\n",
              "      <th>dropoff_latitude</th>\n",
              "      <th>store_and_fwd_flag</th>\n",
              "      <th>...</th>\n",
              "      <th>pickup_hour_23</th>\n",
              "      <th>passenger_count_1</th>\n",
              "      <th>passenger_count_2</th>\n",
              "      <th>passenger_count_3</th>\n",
              "      <th>passenger_count_4</th>\n",
              "      <th>passenger_count_5</th>\n",
              "      <th>passenger_count_6</th>\n",
              "      <th>passenger_count_7</th>\n",
              "      <th>passenger_count_8</th>\n",
              "      <th>passenger_count_9</th>\n",
              "    </tr>\n",
              "  </thead>\n",
              "  <tbody>\n",
              "    <tr>\n",
              "      <th>246</th>\n",
              "      <td>id3487442</td>\n",
              "      <td>2</td>\n",
              "      <td>2016-02-29 18:39:12</td>\n",
              "      <td>2016-02-29 18:42:59</td>\n",
              "      <td>1</td>\n",
              "      <td>-73.98</td>\n",
              "      <td>40.77</td>\n",
              "      <td>-73.98</td>\n",
              "      <td>40.77</td>\n",
              "      <td>N</td>\n",
              "      <td>...</td>\n",
              "      <td>0</td>\n",
              "      <td>1</td>\n",
              "      <td>0</td>\n",
              "      <td>0</td>\n",
              "      <td>0</td>\n",
              "      <td>0</td>\n",
              "      <td>0</td>\n",
              "      <td>0</td>\n",
              "      <td>0</td>\n",
              "      <td>0</td>\n",
              "    </tr>\n",
              "    <tr>\n",
              "      <th>291</th>\n",
              "      <td>id0924324</td>\n",
              "      <td>2</td>\n",
              "      <td>2016-05-10 18:07:52</td>\n",
              "      <td>2016-05-10 18:26:21</td>\n",
              "      <td>2</td>\n",
              "      <td>-73.96</td>\n",
              "      <td>40.78</td>\n",
              "      <td>-73.96</td>\n",
              "      <td>40.78</td>\n",
              "      <td>N</td>\n",
              "      <td>...</td>\n",
              "      <td>0</td>\n",
              "      <td>0</td>\n",
              "      <td>1</td>\n",
              "      <td>0</td>\n",
              "      <td>0</td>\n",
              "      <td>0</td>\n",
              "      <td>0</td>\n",
              "      <td>0</td>\n",
              "      <td>0</td>\n",
              "      <td>0</td>\n",
              "    </tr>\n",
              "    <tr>\n",
              "      <th>407</th>\n",
              "      <td>id1145809</td>\n",
              "      <td>2</td>\n",
              "      <td>2016-05-16 23:15:13</td>\n",
              "      <td>2016-05-16 23:31:00</td>\n",
              "      <td>6</td>\n",
              "      <td>-73.81</td>\n",
              "      <td>40.69</td>\n",
              "      <td>-73.81</td>\n",
              "      <td>40.69</td>\n",
              "      <td>N</td>\n",
              "      <td>...</td>\n",
              "      <td>1</td>\n",
              "      <td>0</td>\n",
              "      <td>0</td>\n",
              "      <td>0</td>\n",
              "      <td>0</td>\n",
              "      <td>0</td>\n",
              "      <td>1</td>\n",
              "      <td>0</td>\n",
              "      <td>0</td>\n",
              "      <td>0</td>\n",
              "    </tr>\n",
              "    <tr>\n",
              "      <th>702</th>\n",
              "      <td>id3499387</td>\n",
              "      <td>1</td>\n",
              "      <td>2016-01-25 19:45:12</td>\n",
              "      <td>2016-01-25 19:54:52</td>\n",
              "      <td>1</td>\n",
              "      <td>-73.79</td>\n",
              "      <td>40.65</td>\n",
              "      <td>-73.79</td>\n",
              "      <td>40.65</td>\n",
              "      <td>N</td>\n",
              "      <td>...</td>\n",
              "      <td>0</td>\n",
              "      <td>1</td>\n",
              "      <td>0</td>\n",
              "      <td>0</td>\n",
              "      <td>0</td>\n",
              "      <td>0</td>\n",
              "      <td>0</td>\n",
              "      <td>0</td>\n",
              "      <td>0</td>\n",
              "      <td>0</td>\n",
              "    </tr>\n",
              "    <tr>\n",
              "      <th>1620</th>\n",
              "      <td>id0753277</td>\n",
              "      <td>1</td>\n",
              "      <td>2016-01-27 22:29:31</td>\n",
              "      <td>2016-01-27 22:29:58</td>\n",
              "      <td>1</td>\n",
              "      <td>-74.21</td>\n",
              "      <td>40.82</td>\n",
              "      <td>-74.21</td>\n",
              "      <td>40.82</td>\n",
              "      <td>N</td>\n",
              "      <td>...</td>\n",
              "      <td>0</td>\n",
              "      <td>1</td>\n",
              "      <td>0</td>\n",
              "      <td>0</td>\n",
              "      <td>0</td>\n",
              "      <td>0</td>\n",
              "      <td>0</td>\n",
              "      <td>0</td>\n",
              "      <td>0</td>\n",
              "      <td>0</td>\n",
              "    </tr>\n",
              "  </tbody>\n",
              "</table>\n",
              "<p>5 rows × 62 columns</p>\n",
              "</div>\n",
              "      <button class=\"colab-df-convert\" onclick=\"convertToInteractive('df-fd3fa8ff-4d0c-4894-9dc9-191e68425348')\"\n",
              "              title=\"Convert this dataframe to an interactive table.\"\n",
              "              style=\"display:none;\">\n",
              "        \n",
              "  <svg xmlns=\"http://www.w3.org/2000/svg\" height=\"24px\"viewBox=\"0 0 24 24\"\n",
              "       width=\"24px\">\n",
              "    <path d=\"M0 0h24v24H0V0z\" fill=\"none\"/>\n",
              "    <path d=\"M18.56 5.44l.94 2.06.94-2.06 2.06-.94-2.06-.94-.94-2.06-.94 2.06-2.06.94zm-11 1L8.5 8.5l.94-2.06 2.06-.94-2.06-.94L8.5 2.5l-.94 2.06-2.06.94zm10 10l.94 2.06.94-2.06 2.06-.94-2.06-.94-.94-2.06-.94 2.06-2.06.94z\"/><path d=\"M17.41 7.96l-1.37-1.37c-.4-.4-.92-.59-1.43-.59-.52 0-1.04.2-1.43.59L10.3 9.45l-7.72 7.72c-.78.78-.78 2.05 0 2.83L4 21.41c.39.39.9.59 1.41.59.51 0 1.02-.2 1.41-.59l7.78-7.78 2.81-2.81c.8-.78.8-2.07 0-2.86zM5.41 20L4 18.59l7.72-7.72 1.47 1.35L5.41 20z\"/>\n",
              "  </svg>\n",
              "      </button>\n",
              "      \n",
              "  <style>\n",
              "    .colab-df-container {\n",
              "      display:flex;\n",
              "      flex-wrap:wrap;\n",
              "      gap: 12px;\n",
              "    }\n",
              "\n",
              "    .colab-df-convert {\n",
              "      background-color: #E8F0FE;\n",
              "      border: none;\n",
              "      border-radius: 50%;\n",
              "      cursor: pointer;\n",
              "      display: none;\n",
              "      fill: #1967D2;\n",
              "      height: 32px;\n",
              "      padding: 0 0 0 0;\n",
              "      width: 32px;\n",
              "    }\n",
              "\n",
              "    .colab-df-convert:hover {\n",
              "      background-color: #E2EBFA;\n",
              "      box-shadow: 0px 1px 2px rgba(60, 64, 67, 0.3), 0px 1px 3px 1px rgba(60, 64, 67, 0.15);\n",
              "      fill: #174EA6;\n",
              "    }\n",
              "\n",
              "    [theme=dark] .colab-df-convert {\n",
              "      background-color: #3B4455;\n",
              "      fill: #D2E3FC;\n",
              "    }\n",
              "\n",
              "    [theme=dark] .colab-df-convert:hover {\n",
              "      background-color: #434B5C;\n",
              "      box-shadow: 0px 1px 3px 1px rgba(0, 0, 0, 0.15);\n",
              "      filter: drop-shadow(0px 1px 2px rgba(0, 0, 0, 0.3));\n",
              "      fill: #FFFFFF;\n",
              "    }\n",
              "  </style>\n",
              "\n",
              "      <script>\n",
              "        const buttonEl =\n",
              "          document.querySelector('#df-fd3fa8ff-4d0c-4894-9dc9-191e68425348 button.colab-df-convert');\n",
              "        buttonEl.style.display =\n",
              "          google.colab.kernel.accessAllowed ? 'block' : 'none';\n",
              "\n",
              "        async function convertToInteractive(key) {\n",
              "          const element = document.querySelector('#df-fd3fa8ff-4d0c-4894-9dc9-191e68425348');\n",
              "          const dataTable =\n",
              "            await google.colab.kernel.invokeFunction('convertToInteractive',\n",
              "                                                     [key], {});\n",
              "          if (!dataTable) return;\n",
              "\n",
              "          const docLinkHtml = 'Like what you see? Visit the ' +\n",
              "            '<a target=\"_blank\" href=https://colab.research.google.com/notebooks/data_table.ipynb>data table notebook</a>'\n",
              "            + ' to learn more about interactive tables.';\n",
              "          element.innerHTML = '';\n",
              "          dataTable['output_type'] = 'display_data';\n",
              "          await google.colab.output.renderOutput(dataTable, element);\n",
              "          const docLink = document.createElement('div');\n",
              "          docLink.innerHTML = docLinkHtml;\n",
              "          element.appendChild(docLink);\n",
              "        }\n",
              "      </script>\n",
              "    </div>\n",
              "  </div>\n",
              "  "
            ]
          },
          "metadata": {},
          "execution_count": 28
        }
      ],
      "source": [
        "data[data.distance == 0 ].head()"
      ]
    },
    {
      "cell_type": "markdown",
      "metadata": {
        "id": "HpIgsoAYIP1p"
      },
      "source": [
        "**Observations**\n",
        "\n",
        "Around 6K trip record with distance equal to 0. Below are some possible explanation for such records.\n",
        "\n",
        "\n",
        "\n",
        "1.   Customer changed mind and cancelled the journey just after accepting it.\n",
        "2.   Software didn't recorded dropoff location properly due to which dropoff location is the same as the pickup location.\n",
        "3.   Issue with GPS tracker while the journey is being finished.\n",
        "4.   Driver cancelled the trip just after accepting it due to some reason. So the trip couldn't start\n",
        "5.   Or some other issue with the software itself which a technical guy can explain\n",
        "\n",
        "There is some serious inconsistencies in the data where drop off location is same as the pickup location. We can't think off imputing the distance values considering a correlation with the duration because the dropoff_location coordinates would not be inline with the distance otherwise. We will look more to it in bivariate analysis with the Trip duration."
      ]
    },
    {
      "cell_type": "code",
      "execution_count": 29,
      "metadata": {
        "id": "3h-F4gJWIM8-",
        "colab": {
          "base_uri": "https://localhost:8080/",
          "height": 278
        },
        "outputId": "95c4f8e6-794c-4e87-91c8-84bf616c1025"
      },
      "outputs": [
        {
          "output_type": "display_data",
          "data": {
            "text/plain": [
              "<Figure size 432x288 with 1 Axes>"
            ],
            "image/png": "[encoded data removed]"
          },
          "metadata": {
            "needs_background": "light"
          }
        }
      ],
      "source": [
        "data.distance.groupby(pd.cut(data.distance, np.arange(0,100,10))).count().plot(kind='barh')\n",
        "plt.show()"
      ]
    },
    {
      "cell_type": "markdown",
      "metadata": {
        "id": "C_O1QhwUI35Y"
      },
      "source": [
        "From the above observation it is evident that most of the rides are completed between 1-10 Kms with some of the rides with distances between 10-30 kms. Other slabs bar are not visible because the number of trips are very less as compared to these slabs"
      ]
    },
    {
      "cell_type": "markdown",
      "metadata": {
        "id": "8sqA8VG6I6gn"
      },
      "source": [
        "### Trip duration"
      ]
    },
    {
      "cell_type": "code",
      "execution_count": 30,
      "metadata": {
        "id": "g007ZZqkI4fI",
        "colab": {
          "base_uri": "https://localhost:8080/"
        },
        "outputId": "96636cbc-a50d-4135-8b59-6a3484f0d9ad"
      },
      "outputs": [
        {
          "output_type": "execute_result",
          "data": {
            "text/plain": [
              "count   1458639.00\n",
              "mean        959.50\n",
              "std        5237.44\n",
              "min           1.00\n",
              "25%         397.00\n",
              "50%         662.00\n",
              "75%        1075.00\n",
              "max     3526282.00\n",
              "Name: trip_duration, dtype: float64"
            ]
          },
          "metadata": {},
          "execution_count": 30
        }
      ],
      "source": [
        "data.trip_duration.describe()"
      ]
    },
    {
      "cell_type": "code",
      "execution_count": 31,
      "metadata": {
        "id": "xpd5QzUUI_8q",
        "colab": {
          "base_uri": "https://localhost:8080/",
          "height": 252
        },
        "outputId": "6e220a5e-58ab-435b-90e8-93fff6812867"
      },
      "outputs": [
        {
          "output_type": "display_data",
          "data": {
            "text/plain": [
              "<Figure size 1440x360 with 1 Axes>"
            ],
            "image/png": "[encoded data removed]"
          },
          "metadata": {
            "needs_background": "light"
          }
        }
      ],
      "source": [
        "plt.figure(figsize = (20,5))\n",
        "sns.boxplot(data.trip_duration)\n",
        "plt.show()"
      ]
    },
    {
      "cell_type": "markdown",
      "metadata": {
        "id": "fYXc7vzPJCm9"
      },
      "source": [
        "Interesting find:\n",
        "Some trip durations are over 100000 seconds which are clear outliers and should \n",
        "*   Some trip durations are over 100000 seconds which are clear outliers and should be removed.\n",
        "\n",
        "Observations:\n",
        "\n",
        "*   There are some durations with as low as 1 second. which points towards trips with 0 km distance.\n",
        "*   Major trip durations took between 10-20 mins to complete.\n",
        "*   Mean and mode are not same which shows that trip duration distribution is skewed towards right.\n",
        "\n",
        "Let's analyze more"
      ]
    },
    {
      "cell_type": "code",
      "execution_count": 32,
      "metadata": {
        "id": "ls27cff7JaVY",
        "colab": {
          "base_uri": "https://localhost:8080/"
        },
        "outputId": "c1301962-0f46-43f7-fc61-bb3e4fe01996"
      },
      "outputs": [
        {
          "output_type": "execute_result",
          "data": {
            "text/plain": [
              "trip_duration\n",
              "(1, 3601]             1446308\n",
              "(3601, 7201]            10045\n",
              "(7201, 10801]             141\n",
              "(10801, 14401]             35\n",
              "(14401, 18001]              5\n",
              "                       ...   \n",
              "(3506401, 3510001]          0\n",
              "(3510001, 3513601]          0\n",
              "(3513601, 3517201]          0\n",
              "(3517201, 3520801]          0\n",
              "(3520801, 3524401]          0\n",
              "Name: trip_duration, Length: 979, dtype: int64"
            ]
          },
          "metadata": {},
          "execution_count": 32
        }
      ],
      "source": [
        "data.trip_duration.groupby(pd.cut(data.trip_duration, np.arange(1,max(data.trip_duration),3600))).count()"
      ]
    },
    {
      "cell_type": "markdown",
      "metadata": {
        "id": "_yQiD1ZvJqOC"
      },
      "source": [
        "Observations:\n",
        "\n",
        "*   There are some trips with more than 24 hours of travel duration i.e. 86400 seconds. Which might have occured on weekends for the outstation travels.\n",
        "*   Major chunk of trips are completed within an interval of 1 hour with some good numbers of trips duration going above 1 hour.\n",
        "\n",
        "Let's look at those trips with huge duration, these are outliers and should be removed for the data consistency."
      ]
    },
    {
      "cell_type": "code",
      "execution_count": 33,
      "metadata": {
        "id": "-NWWCWMOJlAf",
        "colab": {
          "base_uri": "https://localhost:8080/",
          "height": 338
        },
        "outputId": "0c57bb8d-73f7-410f-d8f5-a8ca9cea287d"
      },
      "outputs": [
        {
          "output_type": "execute_result",
          "data": {
            "text/plain": [
              "               id  vendor_id     pickup_datetime    dropoff_datetime  \\\n",
              "355003  id1864733          1 2016-01-05 00:19:42 2016-01-27 11:08:38   \n",
              "680594  id0369307          1 2016-02-13 22:38:00 2016-03-08 15:57:38   \n",
              "924150  id1325766          1 2016-01-05 06:14:15 2016-01-31 01:01:07   \n",
              "978383  id0053347          1 2016-02-13 22:46:52 2016-03-25 18:18:14   \n",
              "\n",
              "        passenger_count  pickup_longitude  pickup_latitude  dropoff_longitude  \\\n",
              "355003                1            -73.79            40.64             -73.96   \n",
              "680594                2            -73.92            40.74             -73.98   \n",
              "924150                1            -73.98            40.74             -73.99   \n",
              "978383                1            -73.78            40.65             -73.98   \n",
              "\n",
              "        dropoff_latitude store_and_fwd_flag  ...  pickup_hour_23  \\\n",
              "355003             40.77                  N  ...               0   \n",
              "680594             40.76                  N  ...               0   \n",
              "924150             40.73                  N  ...               0   \n",
              "978383             40.75                  N  ...               0   \n",
              "\n",
              "        passenger_count_1  passenger_count_2  passenger_count_3  \\\n",
              "355003                  1                  0                  0   \n",
              "680594                  0                  1                  0   \n",
              "924150                  1                  0                  0   \n",
              "978383                  1                  0                  0   \n",
              "\n",
              "        passenger_count_4  passenger_count_5  passenger_count_6  \\\n",
              "355003                  0                  0                  0   \n",
              "680594                  0                  0                  0   \n",
              "924150                  0                  0                  0   \n",
              "978383                  0                  0                  0   \n",
              "\n",
              "        passenger_count_7  passenger_count_8  passenger_count_9  \n",
              "355003                  0                  0                  0  \n",
              "680594                  0                  0                  0  \n",
              "924150                  0                  0                  0  \n",
              "978383                  0                  0                  0  \n",
              "\n",
              "[4 rows x 62 columns]"
            ],
            "text/html": [
              "\n",
              "  <div id=\"df-2b26a592-1632-4155-9575-725d4ce08047\">\n",
              "    <div class=\"colab-df-container\">\n",
              "      <div>\n",
              "<style scoped>\n",
              "    .dataframe tbody tr th:only-of-type {\n",
              "        vertical-align: middle;\n",
              "    }\n",
              "\n",
              "    .dataframe tbody tr th {\n",
              "        vertical-align: top;\n",
              "    }\n",
              "\n",
              "    .dataframe thead th {\n",
              "        text-align: right;\n",
              "    }\n",
              "</style>\n",
              "<table border=\"1\" class=\"dataframe\">\n",
              "  <thead>\n",
              "    <tr style=\"text-align: right;\">\n",
              "      <th></th>\n",
              "      <th>id</th>\n",
              "      <th>vendor_id</th>\n",
              "      <th>pickup_datetime</th>\n",
              "      <th>dropoff_datetime</th>\n",
              "      <th>passenger_count</th>\n",
              "      <th>pickup_longitude</th>\n",
              "      <th>pickup_latitude</th>\n",
              "      <th>dropoff_longitude</th>\n",
              "      <th>dropoff_latitude</th>\n",
              "      <th>store_and_fwd_flag</th>\n",
              "      <th>...</th>\n",
              "      <th>pickup_hour_23</th>\n",
              "      <th>passenger_count_1</th>\n",
              "      <th>passenger_count_2</th>\n",
              "      <th>passenger_count_3</th>\n",
              "      <th>passenger_count_4</th>\n",
              "      <th>passenger_count_5</th>\n",
              "      <th>passenger_count_6</th>\n",
              "      <th>passenger_count_7</th>\n",
              "      <th>passenger_count_8</th>\n",
              "      <th>passenger_count_9</th>\n",
              "    </tr>\n",
              "  </thead>\n",
              "  <tbody>\n",
              "    <tr>\n",
              "      <th>355003</th>\n",
              "      <td>id1864733</td>\n",
              "      <td>1</td>\n",
              "      <td>2016-01-05 00:19:42</td>\n",
              "      <td>2016-01-27 11:08:38</td>\n",
              "      <td>1</td>\n",
              "      <td>-73.79</td>\n",
              "      <td>40.64</td>\n",
              "      <td>-73.96</td>\n",
              "      <td>40.77</td>\n",
              "      <td>N</td>\n",
              "      <td>...</td>\n",
              "      <td>0</td>\n",
              "      <td>1</td>\n",
              "      <td>0</td>\n",
              "      <td>0</td>\n",
              "      <td>0</td>\n",
              "      <td>0</td>\n",
              "      <td>0</td>\n",
              "      <td>0</td>\n",
              "      <td>0</td>\n",
              "      <td>0</td>\n",
              "    </tr>\n",
              "    <tr>\n",
              "      <th>680594</th>\n",
              "      <td>id0369307</td>\n",
              "      <td>1</td>\n",
              "      <td>2016-02-13 22:38:00</td>\n",
              "      <td>2016-03-08 15:57:38</td>\n",
              "      <td>2</td>\n",
              "      <td>-73.92</td>\n",
              "      <td>40.74</td>\n",
              "      <td>-73.98</td>\n",
              "      <td>40.76</td>\n",
              "      <td>N</td>\n",
              "      <td>...</td>\n",
              "      <td>0</td>\n",
              "      <td>0</td>\n",
              "      <td>1</td>\n",
              "      <td>0</td>\n",
              "      <td>0</td>\n",
              "      <td>0</td>\n",
              "      <td>0</td>\n",
              "      <td>0</td>\n",
              "      <td>0</td>\n",
              "      <td>0</td>\n",
              "    </tr>\n",
              "    <tr>\n",
              "      <th>924150</th>\n",
              "      <td>id1325766</td>\n",
              "      <td>1</td>\n",
              "      <td>2016-01-05 06:14:15</td>\n",
              "      <td>2016-01-31 01:01:07</td>\n",
              "      <td>1</td>\n",
              "      <td>-73.98</td>\n",
              "      <td>40.74</td>\n",
              "      <td>-73.99</td>\n",
              "      <td>40.73</td>\n",
              "      <td>N</td>\n",
              "      <td>...</td>\n",
              "      <td>0</td>\n",
              "      <td>1</td>\n",
              "      <td>0</td>\n",
              "      <td>0</td>\n",
              "      <td>0</td>\n",
              "      <td>0</td>\n",
              "      <td>0</td>\n",
              "      <td>0</td>\n",
              "      <td>0</td>\n",
              "      <td>0</td>\n",
              "    </tr>\n",
              "    <tr>\n",
              "      <th>978383</th>\n",
              "      <td>id0053347</td>\n",
              "      <td>1</td>\n",
              "      <td>2016-02-13 22:46:52</td>\n",
              "      <td>2016-03-25 18:18:14</td>\n",
              "      <td>1</td>\n",
              "      <td>-73.78</td>\n",
              "      <td>40.65</td>\n",
              "      <td>-73.98</td>\n",
              "      <td>40.75</td>\n",
              "      <td>N</td>\n",
              "      <td>...</td>\n",
              "      <td>0</td>\n",
              "      <td>1</td>\n",
              "      <td>0</td>\n",
              "      <td>0</td>\n",
              "      <td>0</td>\n",
              "      <td>0</td>\n",
              "      <td>0</td>\n",
              "      <td>0</td>\n",
              "      <td>0</td>\n",
              "      <td>0</td>\n",
              "    </tr>\n",
              "  </tbody>\n",
              "</table>\n",
              "<p>4 rows × 62 columns</p>\n",
              "</div>\n",
              "      <button class=\"colab-df-convert\" onclick=\"convertToInteractive('df-2b26a592-1632-4155-9575-725d4ce08047')\"\n",
              "              title=\"Convert this dataframe to an interactive table.\"\n",
              "              style=\"display:none;\">\n",
              "        \n",
              "  <svg xmlns=\"http://www.w3.org/2000/svg\" height=\"24px\"viewBox=\"0 0 24 24\"\n",
              "       width=\"24px\">\n",
              "    <path d=\"M0 0h24v24H0V0z\" fill=\"none\"/>\n",
              "    <path d=\"M18.56 5.44l.94 2.06.94-2.06 2.06-.94-2.06-.94-.94-2.06-.94 2.06-2.06.94zm-11 1L8.5 8.5l.94-2.06 2.06-.94-2.06-.94L8.5 2.5l-.94 2.06-2.06.94zm10 10l.94 2.06.94-2.06 2.06-.94-2.06-.94-.94-2.06-.94 2.06-2.06.94z\"/><path d=\"M17.41 7.96l-1.37-1.37c-.4-.4-.92-.59-1.43-.59-.52 0-1.04.2-1.43.59L10.3 9.45l-7.72 7.72c-.78.78-.78 2.05 0 2.83L4 21.41c.39.39.9.59 1.41.59.51 0 1.02-.2 1.41-.59l7.78-7.78 2.81-2.81c.8-.78.8-2.07 0-2.86zM5.41 20L4 18.59l7.72-7.72 1.47 1.35L5.41 20z\"/>\n",
              "  </svg>\n",
              "      </button>\n",
              "      \n",
              "  <style>\n",
              "    .colab-df-container {\n",
              "      display:flex;\n",
              "      flex-wrap:wrap;\n",
              "      gap: 12px;\n",
              "    }\n",
              "\n",
              "    .colab-df-convert {\n",
              "      background-color: #E8F0FE;\n",
              "      border: none;\n",
              "      border-radius: 50%;\n",
              "      cursor: pointer;\n",
              "      display: none;\n",
              "      fill: #1967D2;\n",
              "      height: 32px;\n",
              "      padding: 0 0 0 0;\n",
              "      width: 32px;\n",
              "    }\n",
              "\n",
              "    .colab-df-convert:hover {\n",
              "      background-color: #E2EBFA;\n",
              "      box-shadow: 0px 1px 2px rgba(60, 64, 67, 0.3), 0px 1px 3px 1px rgba(60, 64, 67, 0.15);\n",
              "      fill: #174EA6;\n",
              "    }\n",
              "\n",
              "    [theme=dark] .colab-df-convert {\n",
              "      background-color: #3B4455;\n",
              "      fill: #D2E3FC;\n",
              "    }\n",
              "\n",
              "    [theme=dark] .colab-df-convert:hover {\n",
              "      background-color: #434B5C;\n",
              "      box-shadow: 0px 1px 3px 1px rgba(0, 0, 0, 0.15);\n",
              "      filter: drop-shadow(0px 1px 2px rgba(0, 0, 0, 0.3));\n",
              "      fill: #FFFFFF;\n",
              "    }\n",
              "  </style>\n",
              "\n",
              "      <script>\n",
              "        const buttonEl =\n",
              "          document.querySelector('#df-2b26a592-1632-4155-9575-725d4ce08047 button.colab-df-convert');\n",
              "        buttonEl.style.display =\n",
              "          google.colab.kernel.accessAllowed ? 'block' : 'none';\n",
              "\n",
              "        async function convertToInteractive(key) {\n",
              "          const element = document.querySelector('#df-2b26a592-1632-4155-9575-725d4ce08047');\n",
              "          const dataTable =\n",
              "            await google.colab.kernel.invokeFunction('convertToInteractive',\n",
              "                                                     [key], {});\n",
              "          if (!dataTable) return;\n",
              "\n",
              "          const docLinkHtml = 'Like what you see? Visit the ' +\n",
              "            '<a target=\"_blank\" href=https://colab.research.google.com/notebooks/data_table.ipynb>data table notebook</a>'\n",
              "            + ' to learn more about interactive tables.';\n",
              "          element.innerHTML = '';\n",
              "          dataTable['output_type'] = 'display_data';\n",
              "          await google.colab.output.renderOutput(dataTable, element);\n",
              "          const docLink = document.createElement('div');\n",
              "          docLink.innerHTML = docLinkHtml;\n",
              "          element.appendChild(docLink);\n",
              "        }\n",
              "      </script>\n",
              "    </div>\n",
              "  </div>\n",
              "  "
            ]
          },
          "metadata": {},
          "execution_count": 33
        }
      ],
      "source": [
        "data[data.trip_duration > 86400]"
      ]
    },
    {
      "cell_type": "markdown",
      "metadata": {
        "id": "W24GSFuXJ5YP"
      },
      "source": [
        "Observations:\n",
        "\n",
        "*   These trips ran for more than 20 days, which seems unlikely by the distance travelled.\n",
        "*   All the trips are taken by vendor 1 which points us to the fact that this vendor might allows much longer trip for outstations.\n",
        "*   All these trips are either taken on Tuesday's in 1st month or Saturday's in 2nd month. There might be some relation with the weekday, pickup location, month and the passenger.\n",
        "*   But they fail our purpose of correct prediction and bring inconsistencies in the algorithm calculation.\n",
        "\n",
        "We should get rid of them for the sake of data consistency. Those are black swans !!"
      ]
    },
    {
      "cell_type": "code",
      "execution_count": 34,
      "metadata": {
        "id": "wlrrEBygJ2sq"
      },
      "outputs": [],
      "source": [
        "data = data[data.trip_duration <= 86400]"
      ]
    },
    {
      "cell_type": "markdown",
      "metadata": {
        "id": "Q48I68VnKMdl"
      },
      "source": [
        "Let's visualize the number of trips taken in slabs of 0-10, 20-30 ... minutes respectively"
      ]
    },
    {
      "cell_type": "code",
      "execution_count": 35,
      "metadata": {
        "id": "on2_DIp0KNN3",
        "colab": {
          "base_uri": "https://localhost:8080/",
          "height": 279
        },
        "outputId": "1c10a35e-1287-41d6-afd9-ffe19f9517af"
      },
      "outputs": [
        {
          "output_type": "display_data",
          "data": {
            "text/plain": [
              "<Figure size 432x288 with 1 Axes>"
            ],
            "image/png": "[encoded data removed]"
          },
          "metadata": {
            "needs_background": "light"
          }
        }
      ],
      "source": [
        "data.trip_duration.groupby(pd.cut(data.trip_duration, np.arange(1,7200,600))).count().plot(kind='barh')\n",
        "plt.xlabel('Trip Counts')\n",
        "plt.ylabel('Trip Duration (seconds)')\n",
        "plt.show()"
      ]
    },
    {
      "cell_type": "markdown",
      "metadata": {
        "id": "DRmQYQrfKR_D"
      },
      "source": [
        "We can observe that most of the trips took 0 - 30 mins to complete i.e. approx 1800 secs. Let's move ahead to next feature."
      ]
    },
    {
      "cell_type": "markdown",
      "metadata": {
        "id": "_OPw8DoFKVIj"
      },
      "source": [
        "### Speed"
      ]
    },
    {
      "cell_type": "markdown",
      "metadata": {
        "id": "viyttWOQKbt8"
      },
      "source": [
        "Speed is a function of distance and time. Let's visualize speed in different trips.\n",
        "\n",
        "Maximum speed limit in NYC is as follows:\n",
        "\n",
        "*   25 mph in urban area i.e. 40 km/h\n",
        "\n",
        "*   65 mph on controlled state highways i.e. approx 104 km/h\n",
        " "
      ]
    },
    {
      "cell_type": "code",
      "execution_count": 36,
      "metadata": {
        "id": "8LWORgcVKQKt",
        "colab": {
          "base_uri": "https://localhost:8080/"
        },
        "outputId": "619f4cef-7c62-4027-bb6b-a8d24ad88ac7"
      },
      "outputs": [
        {
          "output_type": "execute_result",
          "data": {
            "text/plain": [
              "count   1458635.00\n",
              "mean         14.42\n",
              "std          14.98\n",
              "min           0.00\n",
              "25%           9.12\n",
              "50%          12.79\n",
              "75%          17.84\n",
              "max        9274.85\n",
              "Name: speed, dtype: float64"
            ]
          },
          "metadata": {},
          "execution_count": 36
        }
      ],
      "source": [
        "data.speed.describe()"
      ]
    },
    {
      "cell_type": "code",
      "execution_count": 37,
      "metadata": {
        "id": "NfsKiK7nKqiY",
        "colab": {
          "base_uri": "https://localhost:8080/",
          "height": 251
        },
        "outputId": "48807bc3-50b3-48ce-9383-042324380b9c"
      },
      "outputs": [
        {
          "output_type": "display_data",
          "data": {
            "text/plain": [
              "<Figure size 1440x360 with 1 Axes>"
            ],
            "image/png": "[encoded data removed]"
          },
          "metadata": {
            "needs_background": "light"
          }
        }
      ],
      "source": [
        "plt.figure(figsize = (20,5))\n",
        "sns.boxplot(data.speed)\n",
        "plt.show()"
      ]
    },
    {
      "cell_type": "markdown",
      "metadata": {
        "id": "aFs1A-xvKszL"
      },
      "source": [
        "Interesting find:\n",
        "\n",
        "*   Many trips were done at a speed of over 200 km/h. Going SuperSonic..!!\n",
        "\n",
        "Let's remove them and focus on the trips which were done at less than 104 km/h as per the speed limits"
      ]
    },
    {
      "cell_type": "code",
      "execution_count": 38,
      "metadata": {
        "id": "Mdh1nOmHKzwP",
        "colab": {
          "base_uri": "https://localhost:8080/",
          "height": 251
        },
        "outputId": "2123500c-4180-4953-f21d-4fbdefd0ecd3"
      },
      "outputs": [
        {
          "output_type": "display_data",
          "data": {
            "text/plain": [
              "<Figure size 1440x360 with 1 Axes>"
            ],
            "image/png": "[encoded data removed]"
          },
          "metadata": {
            "needs_background": "light"
          }
        }
      ],
      "source": [
        "data = data[data.speed <= 104]\n",
        "plt.figure(figsize = (20,5))\n",
        "sns.boxplot(data.speed)\n",
        "plt.show()"
      ]
    },
    {
      "cell_type": "markdown",
      "metadata": {
        "id": "ykTSJCPIK4HW"
      },
      "source": [
        "Observations:\n",
        "\n",
        "\n",
        "*   Trips over 30 km/h are being considered as outliers but we cannot ignore them because they are well under the highest speed limit of 104 km/h on state controlled highways.\n",
        "*   Mostly trips are done at a speed range of 10-20 km/h with an average speed of around 14 km/h.\n",
        "\n",
        "Let's take a look at the speed range ditribution with the help of graph."
      ]
    },
    {
      "cell_type": "code",
      "execution_count": 39,
      "metadata": {
        "id": "CVJS7IYkLDsb",
        "colab": {
          "base_uri": "https://localhost:8080/",
          "height": 279
        },
        "outputId": "19e62e05-4e9f-4d04-a872-627d73db19dc"
      },
      "outputs": [
        {
          "output_type": "display_data",
          "data": {
            "text/plain": [
              "<Figure size 432x288 with 1 Axes>"
            ],
            "image/png": "[encoded data removed]"
          },
          "metadata": {
            "needs_background": "light"
          }
        }
      ],
      "source": [
        "data.speed.groupby(pd.cut(data.speed, np.arange(0,104,10))).count().plot(kind = 'barh')\n",
        "plt.xlabel('Trip count')\n",
        "plt.ylabel('Speed (Km/H)')\n",
        "plt.show()"
      ]
    },
    {
      "cell_type": "markdown",
      "metadata": {
        "id": "83mIohakLFeN"
      },
      "source": [
        "It is evident from this graph what we thought off earlier i.e. most of the trips were done at a speed range of 10-20 km/H."
      ]
    },
    {
      "cell_type": "markdown",
      "metadata": {
        "id": "1662OFqELINe"
      },
      "source": [
        "### Store_and_fwd_flag"
      ]
    },
    {
      "cell_type": "markdown",
      "metadata": {
        "id": "1AnFWCmrLL0p"
      },
      "source": [
        "This flag indicates whether the trip record was held in vehicle memory before sending to the vendor because the vehicle did not have a connection to the server - Y=store and forward; N=not a store and forward trip."
      ]
    },
    {
      "cell_type": "code",
      "execution_count": 40,
      "metadata": {
        "id": "Pnek--GPLGcQ",
        "colab": {
          "base_uri": "https://localhost:8080/"
        },
        "outputId": "4794728c-f148-4d36-ad0f-f6ce9e0862d9"
      },
      "outputs": [
        {
          "output_type": "execute_result",
          "data": {
            "text/plain": [
              "0   0.99\n",
              "1   0.01\n",
              "Name: flag_Y, dtype: float64"
            ]
          },
          "metadata": {},
          "execution_count": 40
        }
      ],
      "source": [
        "data.flag_Y.value_counts(normalize=True)"
      ]
    },
    {
      "cell_type": "markdown",
      "metadata": {
        "id": "ktDgo6FiLQ5E"
      },
      "source": [
        "Observations:\n",
        "\n",
        "\n",
        "*   List item\n",
        "\n",
        "\n",
        "1.   List item\n",
        "\n",
        "1.   List item\n",
        "2.   List item\n",
        "\n",
        "\n",
        "2.   List item\n",
        "\n",
        "\n",
        "*   List item\n",
        "\n"
      ]
    },
    {
      "cell_type": "code",
      "execution_count": 41,
      "metadata": {
        "id": "OBAk9RfWLWun",
        "colab": {
          "base_uri": "https://localhost:8080/"
        },
        "outputId": "aa092bdb-8efd-4123-9239-6bfd9164ff7b"
      },
      "outputs": [
        {
          "output_type": "execute_result",
          "data": {
            "text/plain": [
              "0    1450433\n",
              "1       8044\n",
              "Name: flag_Y, dtype: int64"
            ]
          },
          "metadata": {},
          "execution_count": 41
        }
      ],
      "source": [
        "data.flag_Y.value_counts()"
      ]
    },
    {
      "cell_type": "markdown",
      "metadata": {
        "id": "QLWUfKVDLZGG"
      },
      "source": [
        "Above result shows that around 8K trips had to store the flag and then report to the server when the connection was established. Let's check the respective distribution with the vendors for the offline trips."
      ]
    },
    {
      "cell_type": "code",
      "execution_count": 42,
      "metadata": {
        "id": "AGPr2W4TLZw4",
        "colab": {
          "base_uri": "https://localhost:8080/"
        },
        "outputId": "b0823905-1148-49fb-905b-d3e2fbbcfbee"
      },
      "outputs": [
        {
          "output_type": "execute_result",
          "data": {
            "text/plain": [
              "1    8044\n",
              "Name: vendor_id, dtype: int64"
            ]
          },
          "metadata": {},
          "execution_count": 42
        }
      ],
      "source": [
        "data.vendor_id[data.flag_Y == 1].value_counts()"
      ]
    },
    {
      "cell_type": "markdown",
      "metadata": {
        "id": "6ZRYPIM6LdmA"
      },
      "source": [
        "Observations:"
      ]
    },
    {
      "cell_type": "code",
      "execution_count": 43,
      "metadata": {
        "id": "xRn3e_NeLgMo",
        "colab": {
          "base_uri": "https://localhost:8080/",
          "height": 661
        },
        "outputId": "3e7f79b4-c337-4b3b-8781-25600e248220"
      },
      "outputs": [
        {
          "output_type": "execute_result",
          "data": {
            "text/plain": [
              "                id  vendor_id     pickup_datetime    dropoff_datetime  \\\n",
              "348      id1633648          1 2016-06-20 14:19:16 2016-06-20 14:34:34   \n",
              "491      id2042535          1 2016-02-12 12:36:38 2016-02-12 12:47:07   \n",
              "610      id0909228          1 2016-05-08 15:02:28 2016-05-08 15:17:54   \n",
              "774      id3697489          1 2016-01-13 13:53:29 2016-01-13 14:08:21   \n",
              "846      id1026973          1 2016-06-25 21:53:30 2016-06-25 22:05:27   \n",
              "...            ...        ...                 ...                 ...   \n",
              "1457556  id2229555          1 2016-01-22 19:05:50 2016-01-22 19:27:09   \n",
              "1457670  id0510811          1 2016-04-07 21:14:30 2016-04-07 21:51:38   \n",
              "1457897  id3209015          1 2016-03-20 18:49:55 2016-03-20 19:09:25   \n",
              "1458060  id1371896          1 2016-03-28 11:45:49 2016-03-28 12:21:45   \n",
              "1458416  id2463060          1 2016-01-04 14:35:34 2016-01-04 14:45:26   \n",
              "\n",
              "         passenger_count  pickup_longitude  pickup_latitude  \\\n",
              "348                    1            -73.98            40.75   \n",
              "491                    1            -73.98            40.76   \n",
              "610                    1            -73.99            40.74   \n",
              "774                    1            -73.95            40.78   \n",
              "846                    1            -73.98            40.76   \n",
              "...                  ...               ...              ...   \n",
              "1457556                1            -73.87            40.77   \n",
              "1457670                1            -73.78            40.64   \n",
              "1457897                1            -73.99            40.71   \n",
              "1458060                1            -73.97            40.76   \n",
              "1458416                1            -73.99            40.75   \n",
              "\n",
              "         dropoff_longitude  dropoff_latitude store_and_fwd_flag  ...  \\\n",
              "348                 -73.95             40.77                  Y  ...   \n",
              "491                 -73.99             40.75                  Y  ...   \n",
              "610                 -74.01             40.72                  Y  ...   \n",
              "774                 -73.98             40.78                  Y  ...   \n",
              "846                 -74.00             40.75                  Y  ...   \n",
              "...                    ...               ...                ...  ...   \n",
              "1457556             -73.93             40.73                  Y  ...   \n",
              "1457670             -73.98             40.67                  Y  ...   \n",
              "1457897             -74.00             40.75                  Y  ...   \n",
              "1458060             -74.01             40.72                  Y  ...   \n",
              "1458416             -73.98             40.77                  Y  ...   \n",
              "\n",
              "         pickup_hour_23  passenger_count_1  passenger_count_2  \\\n",
              "348                   0                  1                  0   \n",
              "491                   0                  1                  0   \n",
              "610                   0                  1                  0   \n",
              "774                   0                  1                  0   \n",
              "846                   0                  1                  0   \n",
              "...                 ...                ...                ...   \n",
              "1457556               0                  1                  0   \n",
              "1457670               0                  1                  0   \n",
              "1457897               0                  1                  0   \n",
              "1458060               0                  1                  0   \n",
              "1458416               0                  1                  0   \n",
              "\n",
              "         passenger_count_3  passenger_count_4  passenger_count_5  \\\n",
              "348                      0                  0                  0   \n",
              "491                      0                  0                  0   \n",
              "610                      0                  0                  0   \n",
              "774                      0                  0                  0   \n",
              "846                      0                  0                  0   \n",
              "...                    ...                ...                ...   \n",
              "1457556                  0                  0                  0   \n",
              "1457670                  0                  0                  0   \n",
              "1457897                  0                  0                  0   \n",
              "1458060                  0                  0                  0   \n",
              "1458416                  0                  0                  0   \n",
              "\n",
              "         passenger_count_6  passenger_count_7  passenger_count_8  \\\n",
              "348                      0                  0                  0   \n",
              "491                      0                  0                  0   \n",
              "610                      0                  0                  0   \n",
              "774                      0                  0                  0   \n",
              "846                      0                  0                  0   \n",
              "...                    ...                ...                ...   \n",
              "1457556                  0                  0                  0   \n",
              "1457670                  0                  0                  0   \n",
              "1457897                  0                  0                  0   \n",
              "1458060                  0                  0                  0   \n",
              "1458416                  0                  0                  0   \n",
              "\n",
              "         passenger_count_9  \n",
              "348                      0  \n",
              "491                      0  \n",
              "610                      0  \n",
              "774                      0  \n",
              "846                      0  \n",
              "...                    ...  \n",
              "1457556                  0  \n",
              "1457670                  0  \n",
              "1457897                  0  \n",
              "1458060                  0  \n",
              "1458416                  0  \n",
              "\n",
              "[8044 rows x 62 columns]"
            ],
            "text/html": [
              "\n",
              "  <div id=\"df-77458b02-16af-4e32-9d70-c5c3174730c8\">\n",
              "    <div class=\"colab-df-container\">\n",
              "      <div>\n",
              "<style scoped>\n",
              "    .dataframe tbody tr th:only-of-type {\n",
              "        vertical-align: middle;\n",
              "    }\n",
              "\n",
              "    .dataframe tbody tr th {\n",
              "        vertical-align: top;\n",
              "    }\n",
              "\n",
              "    .dataframe thead th {\n",
              "        text-align: right;\n",
              "    }\n",
              "</style>\n",
              "<table border=\"1\" class=\"dataframe\">\n",
              "  <thead>\n",
              "    <tr style=\"text-align: right;\">\n",
              "      <th></th>\n",
              "      <th>id</th>\n",
              "      <th>vendor_id</th>\n",
              "      <th>pickup_datetime</th>\n",
              "      <th>dropoff_datetime</th>\n",
              "      <th>passenger_count</th>\n",
              "      <th>pickup_longitude</th>\n",
              "      <th>pickup_latitude</th>\n",
              "      <th>dropoff_longitude</th>\n",
              "      <th>dropoff_latitude</th>\n",
              "      <th>store_and_fwd_flag</th>\n",
              "      <th>...</th>\n",
              "      <th>pickup_hour_23</th>\n",
              "      <th>passenger_count_1</th>\n",
              "      <th>passenger_count_2</th>\n",
              "      <th>passenger_count_3</th>\n",
              "      <th>passenger_count_4</th>\n",
              "      <th>passenger_count_5</th>\n",
              "      <th>passenger_count_6</th>\n",
              "      <th>passenger_count_7</th>\n",
              "      <th>passenger_count_8</th>\n",
              "      <th>passenger_count_9</th>\n",
              "    </tr>\n",
              "  </thead>\n",
              "  <tbody>\n",
              "    <tr>\n",
              "      <th>348</th>\n",
              "      <td>id1633648</td>\n",
              "      <td>1</td>\n",
              "      <td>2016-06-20 14:19:16</td>\n",
              "      <td>2016-06-20 14:34:34</td>\n",
              "      <td>1</td>\n",
              "      <td>-73.98</td>\n",
              "      <td>40.75</td>\n",
              "      <td>-73.95</td>\n",
              "      <td>40.77</td>\n",
              "      <td>Y</td>\n",
              "      <td>...</td>\n",
              "      <td>0</td>\n",
              "      <td>1</td>\n",
              "      <td>0</td>\n",
              "      <td>0</td>\n",
              "      <td>0</td>\n",
              "      <td>0</td>\n",
              "      <td>0</td>\n",
              "      <td>0</td>\n",
              "      <td>0</td>\n",
              "      <td>0</td>\n",
              "    </tr>\n",
              "    <tr>\n",
              "      <th>491</th>\n",
              "      <td>id2042535</td>\n",
              "      <td>1</td>\n",
              "      <td>2016-02-12 12:36:38</td>\n",
              "      <td>2016-02-12 12:47:07</td>\n",
              "      <td>1</td>\n",
              "      <td>-73.98</td>\n",
              "      <td>40.76</td>\n",
              "      <td>-73.99</td>\n",
              "      <td>40.75</td>\n",
              "      <td>Y</td>\n",
              "      <td>...</td>\n",
              "      <td>0</td>\n",
              "      <td>1</td>\n",
              "      <td>0</td>\n",
              "      <td>0</td>\n",
              "      <td>0</td>\n",
              "      <td>0</td>\n",
              "      <td>0</td>\n",
              "      <td>0</td>\n",
              "      <td>0</td>\n",
              "      <td>0</td>\n",
              "    </tr>\n",
              "    <tr>\n",
              "      <th>610</th>\n",
              "      <td>id0909228</td>\n",
              "      <td>1</td>\n",
              "      <td>2016-05-08 15:02:28</td>\n",
              "      <td>2016-05-08 15:17:54</td>\n",
              "      <td>1</td>\n",
              "      <td>-73.99</td>\n",
              "      <td>40.74</td>\n",
              "      <td>-74.01</td>\n",
              "      <td>40.72</td>\n",
              "      <td>Y</td>\n",
              "      <td>...</td>\n",
              "      <td>0</td>\n",
              "      <td>1</td>\n",
              "      <td>0</td>\n",
              "      <td>0</td>\n",
              "      <td>0</td>\n",
              "      <td>0</td>\n",
              "      <td>0</td>\n",
              "      <td>0</td>\n",
              "      <td>0</td>\n",
              "      <td>0</td>\n",
              "    </tr>\n",
              "    <tr>\n",
              "      <th>774</th>\n",
              "      <td>id3697489</td>\n",
              "      <td>1</td>\n",
              "      <td>2016-01-13 13:53:29</td>\n",
              "      <td>2016-01-13 14:08:21</td>\n",
              "      <td>1</td>\n",
              "      <td>-73.95</td>\n",
              "      <td>40.78</td>\n",
              "      <td>-73.98</td>\n",
              "      <td>40.78</td>\n",
              "      <td>Y</td>\n",
              "      <td>...</td>\n",
              "      <td>0</td>\n",
              "      <td>1</td>\n",
              "      <td>0</td>\n",
              "      <td>0</td>\n",
              "      <td>0</td>\n",
              "      <td>0</td>\n",
              "      <td>0</td>\n",
              "      <td>0</td>\n",
              "      <td>0</td>\n",
              "      <td>0</td>\n",
              "    </tr>\n",
              "    <tr>\n",
              "      <th>846</th>\n",
              "      <td>id1026973</td>\n",
              "      <td>1</td>\n",
              "      <td>2016-06-25 21:53:30</td>\n",
              "      <td>2016-06-25 22:05:27</td>\n",
              "      <td>1</td>\n",
              "      <td>-73.98</td>\n",
              "      <td>40.76</td>\n",
              "      <td>-74.00</td>\n",
              "      <td>40.75</td>\n",
              "      <td>Y</td>\n",
              "      <td>...</td>\n",
              "      <td>0</td>\n",
              "      <td>1</td>\n",
              "      <td>0</td>\n",
              "      <td>0</td>\n",
              "      <td>0</td>\n",
              "      <td>0</td>\n",
              "      <td>0</td>\n",
              "      <td>0</td>\n",
              "      <td>0</td>\n",
              "      <td>0</td>\n",
              "    </tr>\n",
              "    <tr>\n",
              "      <th>...</th>\n",
              "      <td>...</td>\n",
              "      <td>...</td>\n",
              "      <td>...</td>\n",
              "      <td>...</td>\n",
              "      <td>...</td>\n",
              "      <td>...</td>\n",
              "      <td>...</td>\n",
              "      <td>...</td>\n",
              "      <td>...</td>\n",
              "      <td>...</td>\n",
              "      <td>...</td>\n",
              "      <td>...</td>\n",
              "      <td>...</td>\n",
              "      <td>...</td>\n",
              "      <td>...</td>\n",
              "      <td>...</td>\n",
              "      <td>...</td>\n",
              "      <td>...</td>\n",
              "      <td>...</td>\n",
              "      <td>...</td>\n",
              "      <td>...</td>\n",
              "    </tr>\n",
              "    <tr>\n",
              "      <th>1457556</th>\n",
              "      <td>id2229555</td>\n",
              "      <td>1</td>\n",
              "      <td>2016-01-22 19:05:50</td>\n",
              "      <td>2016-01-22 19:27:09</td>\n",
              "      <td>1</td>\n",
              "      <td>-73.87</td>\n",
              "      <td>40.77</td>\n",
              "      <td>-73.93</td>\n",
              "      <td>40.73</td>\n",
              "      <td>Y</td>\n",
              "      <td>...</td>\n",
              "      <td>0</td>\n",
              "      <td>1</td>\n",
              "      <td>0</td>\n",
              "      <td>0</td>\n",
              "      <td>0</td>\n",
              "      <td>0</td>\n",
              "      <td>0</td>\n",
              "      <td>0</td>\n",
              "      <td>0</td>\n",
              "      <td>0</td>\n",
              "    </tr>\n",
              "    <tr>\n",
              "      <th>1457670</th>\n",
              "      <td>id0510811</td>\n",
              "      <td>1</td>\n",
              "      <td>2016-04-07 21:14:30</td>\n",
              "      <td>2016-04-07 21:51:38</td>\n",
              "      <td>1</td>\n",
              "      <td>-73.78</td>\n",
              "      <td>40.64</td>\n",
              "      <td>-73.98</td>\n",
              "      <td>40.67</td>\n",
              "      <td>Y</td>\n",
              "      <td>...</td>\n",
              "      <td>0</td>\n",
              "      <td>1</td>\n",
              "      <td>0</td>\n",
              "      <td>0</td>\n",
              "      <td>0</td>\n",
              "      <td>0</td>\n",
              "      <td>0</td>\n",
              "      <td>0</td>\n",
              "      <td>0</td>\n",
              "      <td>0</td>\n",
              "    </tr>\n",
              "    <tr>\n",
              "      <th>1457897</th>\n",
              "      <td>id3209015</td>\n",
              "      <td>1</td>\n",
              "      <td>2016-03-20 18:49:55</td>\n",
              "      <td>2016-03-20 19:09:25</td>\n",
              "      <td>1</td>\n",
              "      <td>-73.99</td>\n",
              "      <td>40.71</td>\n",
              "      <td>-74.00</td>\n",
              "      <td>40.75</td>\n",
              "      <td>Y</td>\n",
              "      <td>...</td>\n",
              "      <td>0</td>\n",
              "      <td>1</td>\n",
              "      <td>0</td>\n",
              "      <td>0</td>\n",
              "      <td>0</td>\n",
              "      <td>0</td>\n",
              "      <td>0</td>\n",
              "      <td>0</td>\n",
              "      <td>0</td>\n",
              "      <td>0</td>\n",
              "    </tr>\n",
              "    <tr>\n",
              "      <th>1458060</th>\n",
              "      <td>id1371896</td>\n",
              "      <td>1</td>\n",
              "      <td>2016-03-28 11:45:49</td>\n",
              "      <td>2016-03-28 12:21:45</td>\n",
              "      <td>1</td>\n",
              "      <td>-73.97</td>\n",
              "      <td>40.76</td>\n",
              "      <td>-74.01</td>\n",
              "      <td>40.72</td>\n",
              "      <td>Y</td>\n",
              "      <td>...</td>\n",
              "      <td>0</td>\n",
              "      <td>1</td>\n",
              "      <td>0</td>\n",
              "      <td>0</td>\n",
              "      <td>0</td>\n",
              "      <td>0</td>\n",
              "      <td>0</td>\n",
              "      <td>0</td>\n",
              "      <td>0</td>\n",
              "      <td>0</td>\n",
              "    </tr>\n",
              "    <tr>\n",
              "      <th>1458416</th>\n",
              "      <td>id2463060</td>\n",
              "      <td>1</td>\n",
              "      <td>2016-01-04 14:35:34</td>\n",
              "      <td>2016-01-04 14:45:26</td>\n",
              "      <td>1</td>\n",
              "      <td>-73.99</td>\n",
              "      <td>40.75</td>\n",
              "      <td>-73.98</td>\n",
              "      <td>40.77</td>\n",
              "      <td>Y</td>\n",
              "      <td>...</td>\n",
              "      <td>0</td>\n",
              "      <td>1</td>\n",
              "      <td>0</td>\n",
              "      <td>0</td>\n",
              "      <td>0</td>\n",
              "      <td>0</td>\n",
              "      <td>0</td>\n",
              "      <td>0</td>\n",
              "      <td>0</td>\n",
              "      <td>0</td>\n",
              "    </tr>\n",
              "  </tbody>\n",
              "</table>\n",
              "<p>8044 rows × 62 columns</p>\n",
              "</div>\n",
              "      <button class=\"colab-df-convert\" onclick=\"convertToInteractive('df-77458b02-16af-4e32-9d70-c5c3174730c8')\"\n",
              "              title=\"Convert this dataframe to an interactive table.\"\n",
              "              style=\"display:none;\">\n",
              "        \n",
              "  <svg xmlns=\"http://www.w3.org/2000/svg\" height=\"24px\"viewBox=\"0 0 24 24\"\n",
              "       width=\"24px\">\n",
              "    <path d=\"M0 0h24v24H0V0z\" fill=\"none\"/>\n",
              "    <path d=\"M18.56 5.44l.94 2.06.94-2.06 2.06-.94-2.06-.94-.94-2.06-.94 2.06-2.06.94zm-11 1L8.5 8.5l.94-2.06 2.06-.94-2.06-.94L8.5 2.5l-.94 2.06-2.06.94zm10 10l.94 2.06.94-2.06 2.06-.94-2.06-.94-.94-2.06-.94 2.06-2.06.94z\"/><path d=\"M17.41 7.96l-1.37-1.37c-.4-.4-.92-.59-1.43-.59-.52 0-1.04.2-1.43.59L10.3 9.45l-7.72 7.72c-.78.78-.78 2.05 0 2.83L4 21.41c.39.39.9.59 1.41.59.51 0 1.02-.2 1.41-.59l7.78-7.78 2.81-2.81c.8-.78.8-2.07 0-2.86zM5.41 20L4 18.59l7.72-7.72 1.47 1.35L5.41 20z\"/>\n",
              "  </svg>\n",
              "      </button>\n",
              "      \n",
              "  <style>\n",
              "    .colab-df-container {\n",
              "      display:flex;\n",
              "      flex-wrap:wrap;\n",
              "      gap: 12px;\n",
              "    }\n",
              "\n",
              "    .colab-df-convert {\n",
              "      background-color: #E8F0FE;\n",
              "      border: none;\n",
              "      border-radius: 50%;\n",
              "      cursor: pointer;\n",
              "      display: none;\n",
              "      fill: #1967D2;\n",
              "      height: 32px;\n",
              "      padding: 0 0 0 0;\n",
              "      width: 32px;\n",
              "    }\n",
              "\n",
              "    .colab-df-convert:hover {\n",
              "      background-color: #E2EBFA;\n",
              "      box-shadow: 0px 1px 2px rgba(60, 64, 67, 0.3), 0px 1px 3px 1px rgba(60, 64, 67, 0.15);\n",
              "      fill: #174EA6;\n",
              "    }\n",
              "\n",
              "    [theme=dark] .colab-df-convert {\n",
              "      background-color: #3B4455;\n",
              "      fill: #D2E3FC;\n",
              "    }\n",
              "\n",
              "    [theme=dark] .colab-df-convert:hover {\n",
              "      background-color: #434B5C;\n",
              "      box-shadow: 0px 1px 3px 1px rgba(0, 0, 0, 0.15);\n",
              "      filter: drop-shadow(0px 1px 2px rgba(0, 0, 0, 0.3));\n",
              "      fill: #FFFFFF;\n",
              "    }\n",
              "  </style>\n",
              "\n",
              "      <script>\n",
              "        const buttonEl =\n",
              "          document.querySelector('#df-77458b02-16af-4e32-9d70-c5c3174730c8 button.colab-df-convert');\n",
              "        buttonEl.style.display =\n",
              "          google.colab.kernel.accessAllowed ? 'block' : 'none';\n",
              "\n",
              "        async function convertToInteractive(key) {\n",
              "          const element = document.querySelector('#df-77458b02-16af-4e32-9d70-c5c3174730c8');\n",
              "          const dataTable =\n",
              "            await google.colab.kernel.invokeFunction('convertToInteractive',\n",
              "                                                     [key], {});\n",
              "          if (!dataTable) return;\n",
              "\n",
              "          const docLinkHtml = 'Like what you see? Visit the ' +\n",
              "            '<a target=\"_blank\" href=https://colab.research.google.com/notebooks/data_table.ipynb>data table notebook</a>'\n",
              "            + ' to learn more about interactive tables.';\n",
              "          element.innerHTML = '';\n",
              "          dataTable['output_type'] = 'display_data';\n",
              "          await google.colab.output.renderOutput(dataTable, element);\n",
              "          const docLink = document.createElement('div');\n",
              "          docLink.innerHTML = docLinkHtml;\n",
              "          element.appendChild(docLink);\n",
              "        }\n",
              "      </script>\n",
              "    </div>\n",
              "  </div>\n",
              "  "
            ]
          },
          "metadata": {},
          "execution_count": 43
        }
      ],
      "source": [
        "data[data.flag_Y == 1]"
      ]
    },
    {
      "cell_type": "markdown",
      "metadata": {
        "id": "KZYxzT-gLlWX"
      },
      "source": [
        "Observations\n",
        "\n",
        "\n",
        "\n",
        "1.   List item\n",
        "\n",
        "*   List item\n",
        "*   List item\n",
        "\n",
        "\n",
        "2.   List item\n",
        "\n"
      ]
    },
    {
      "cell_type": "markdown",
      "metadata": {
        "id": "dor8dGrdLqEG"
      },
      "source": [
        "### Total trips Per Hour"
      ]
    },
    {
      "cell_type": "markdown",
      "metadata": {
        "id": "pNZkbc8sLwnX"
      },
      "source": [
        "Let's take a look at the distribution of the pickups across the 24 hour time scale."
      ]
    },
    {
      "cell_type": "code",
      "execution_count": 44,
      "metadata": {
        "id": "k26P1gQjLoEx",
        "colab": {
          "base_uri": "https://localhost:8080/",
          "height": 280
        },
        "outputId": "959b836b-1c0c-47e8-c673-a432a5730f0e"
      },
      "outputs": [
        {
          "output_type": "display_data",
          "data": {
            "text/plain": [
              "<Figure size 432x288 with 1 Axes>"
            ],
            "image/png": "[encoded data removed]"
          },
          "metadata": {
            "needs_background": "light"
          }
        }
      ],
      "source": [
        "sns.countplot(data.pickup_hour)\n",
        "plt.show()"
      ]
    },
    {
      "cell_type": "markdown",
      "metadata": {
        "id": "c5u3-KfZL0uR"
      },
      "source": [
        "Observation\n",
        "\n",
        "*   It's inline with the general trend of taxi pickups which starts increasing from 6AM in the morning and then declines from late evening i.e. around 8 PM. There is no unusual behavior here."
      ]
    },
    {
      "cell_type": "markdown",
      "metadata": {
        "id": "hF-dGMU5L7yS"
      },
      "source": [
        "### Total trips per weekday"
      ]
    },
    {
      "cell_type": "markdown",
      "metadata": {
        "id": "qTqYoW0fL-gR"
      },
      "source": [
        "Let's take a look now at the distribution of taxi pickups across the week."
      ]
    },
    {
      "cell_type": "code",
      "execution_count": 45,
      "metadata": {
        "id": "r_KVLpGFL5__",
        "colab": {
          "base_uri": "https://localhost:8080/",
          "height": 388
        },
        "outputId": "f0d3466f-7e14-4780-df66-a1b8ad982d66"
      },
      "outputs": [
        {
          "output_type": "display_data",
          "data": {
            "text/plain": [
              "<Figure size 576x432 with 1 Axes>"
            ],
            "image/png": "[encoded data removed]"
          },
          "metadata": {
            "needs_background": "light"
          }
        }
      ],
      "source": [
        "plt.figure(figsize = (8,6))\n",
        "sns.countplot(data.weekday_num)\n",
        "plt.xlabel(' Month ')\n",
        "plt.ylabel('Pickup counts')\n",
        "plt.show()"
      ]
    },
    {
      "cell_type": "markdown",
      "metadata": {
        "id": "Q3-YqVdKMDFJ"
      },
      "source": [
        "Observation\n",
        "*   Here we can see an increasing trend of taxi pickups starting from Monday till Friday. The trend starts declining from saturday till monday which is normal where some office going people likes to stay at home for rest on the weekends.\n",
        "\n",
        "Let's drill down more to see the hourwise pickup pattern across the week"
      ]
    },
    {
      "cell_type": "code",
      "execution_count": 46,
      "metadata": {
        "id": "-Y3DkUgqMH7v",
        "colab": {
          "base_uri": "https://localhost:8080/",
          "height": 133
        },
        "outputId": "478ab50a-301b-4984-8f3b-27c67f634b02"
      },
      "outputs": [
        {
          "output_type": "display_data",
          "data": {
            "text/plain": [
              "<Figure size 1512x216 with 7 Axes>"
            ],
            "image/png": "[encoded data removed]"
          },
          "metadata": {
            "needs_background": "light"
          }
        }
      ],
      "source": [
        "n = sns.FacetGrid(data, col='weekday_num')\n",
        "n.map(plt.hist, 'pickup_hour')\n",
        "plt.show()"
      ]
    },
    {
      "cell_type": "markdown",
      "metadata": {
        "id": "oD8zz_jnMS9R"
      },
      "source": [
        "Interesting find:\n",
        "*   Taxi pickups increased in the late night hours over the weekend possibly due to more outstation rides or for the late night leisures nearby activities.\n",
        "\n",
        "\n",
        "*   Early morning pickups i.e before 5 AM have increased over the weekend in comparison to the office hours pickups i.e. after 7 AM which have decreased due to obvious reasons.\n",
        "\n",
        "*   Taxi pickups seems to be consistent across the week at 15 Hours i.e. at 3 PM."
      ]
    },
    {
      "cell_type": "markdown",
      "metadata": {
        "id": "BFtKzvlKMfKW"
      },
      "source": [
        "### Total trips per month"
      ]
    },
    {
      "cell_type": "markdown",
      "metadata": {
        "id": "wI_8zp_2Mh1r"
      },
      "source": [
        "Let's take a look at the trip distribution across the months to understand if there is any diffrence in the taxi pickups in different months"
      ]
    },
    {
      "cell_type": "code",
      "execution_count": 47,
      "metadata": {
        "id": "MpHuGkacMcyr",
        "colab": {
          "base_uri": "https://localhost:8080/",
          "height": 279
        },
        "outputId": "6f95fe22-05e8-4503-a8ad-8c5c9a725bdc"
      },
      "outputs": [
        {
          "output_type": "display_data",
          "data": {
            "text/plain": [
              "<Figure size 432x288 with 1 Axes>"
            ],
            "image/png": "[encoded data removed]"
          },
          "metadata": {
            "needs_background": "light"
          }
        }
      ],
      "source": [
        "sns.countplot(data.month)\n",
        "plt.ylabel('Trip Counts')\n",
        "plt.xlabel('Months')\n",
        "plt.show()"
      ]
    },
    {
      "cell_type": "markdown",
      "metadata": {
        "id": "hxmnr9VGMm6a"
      },
      "source": [
        "Quite a balance across the months here. It could have been more equivalent if we wouldn't have removed the inconsistent records in our study of the univariate analysis"
      ]
    },
    {
      "cell_type": "markdown",
      "metadata": {
        "id": "YZZhiVfHMpmG"
      },
      "source": [
        "## **Bivariate Analysis**"
      ]
    },
    {
      "cell_type": "markdown",
      "metadata": {
        "id": "L0jsrfeYMufO"
      },
      "source": [
        "Bivariate analysis is used to find out if there is a relationship between two sets of values. It usually involves the variables X and Y."
      ]
    },
    {
      "cell_type": "code",
      "execution_count": 48,
      "metadata": {
        "id": "zKeOvRaAMnya",
        "colab": {
          "base_uri": "https://localhost:8080/",
          "height": 279
        },
        "outputId": "aec62ea7-877b-4c93-c43b-d7e44decc73a"
      },
      "outputs": [
        {
          "output_type": "display_data",
          "data": {
            "text/plain": [
              "<Figure size 432x288 with 1 Axes>"
            ],
            "image/png": "[encoded data removed]"
          },
          "metadata": {
            "needs_background": "light"
          }
        }
      ],
      "source": [
        "group1 = data.groupby('pickup_hour').trip_duration.mean()\n",
        "sns.pointplot(group1.index, group1.values)\n",
        "plt.ylabel('Trip Duration (seconds)')\n",
        "plt.xlabel('Pickup Hour')\n",
        "plt.show()"
      ]
    },
    {
      "cell_type": "code",
      "execution_count": 49,
      "metadata": {
        "id": "l2QekE02Mzsf",
        "colab": {
          "base_uri": "https://localhost:8080/",
          "height": 279
        },
        "outputId": "69bf79d4-5064-4a82-9ce8-aeefd4ea4881"
      },
      "outputs": [
        {
          "output_type": "display_data",
          "data": {
            "text/plain": [
              "<Figure size 432x288 with 1 Axes>"
            ],
            "image/png": "[encoded data removed]"
          },
          "metadata": {
            "needs_background": "light"
          }
        }
      ],
      "source": [
        "group2 = data.groupby('weekday_num').trip_duration.mean()\n",
        "sns.pointplot(group2.index, group2.values)\n",
        "plt.ylabel('Trip Duration (seconds)')\n",
        "plt.xlabel('Weekday')\n",
        "plt.show()"
      ]
    },
    {
      "cell_type": "code",
      "execution_count": 50,
      "metadata": {
        "id": "Q9ds7CpaM02g",
        "colab": {
          "base_uri": "https://localhost:8080/",
          "height": 279
        },
        "outputId": "da0a7dfb-7a75-4c1e-8e78-d678a9a645ac"
      },
      "outputs": [
        {
          "output_type": "display_data",
          "data": {
            "text/plain": [
              "<Figure size 432x288 with 1 Axes>"
            ],
            "image/png": "[encoded data removed]"
          },
          "metadata": {
            "needs_background": "light"
          }
        }
      ],
      "source": [
        "group3 = data.groupby('month').trip_duration.mean()\n",
        "sns.pointplot(group3.index, group3.values)\n",
        "plt.ylabel('Trip Duration (seconds)')\n",
        "plt.xlabel('Month')\n",
        "plt.show()"
      ]
    },
    {
      "cell_type": "markdown",
      "metadata": {
        "id": "uMpQl4n_M46l"
      },
      "source": [
        "### Trip duration per vendor"
      ]
    },
    {
      "cell_type": "markdown",
      "metadata": {
        "id": "M5wAJ4geM9wm"
      },
      "source": [
        "We can also look at the average difference between the trip duration for each vendor. However we do know that vendor 2 has larger share of the market. Let's visualize."
      ]
    },
    {
      "cell_type": "code",
      "execution_count": 51,
      "metadata": {
        "id": "bjw05-gLM6fy",
        "colab": {
          "base_uri": "https://localhost:8080/",
          "height": 279
        },
        "outputId": "65279f29-76bf-4a59-e543-55e8e75969f9"
      },
      "outputs": [
        {
          "output_type": "display_data",
          "data": {
            "text/plain": [
              "<Figure size 432x288 with 1 Axes>"
            ],
            "image/png": "[encoded data removed]"
          },
          "metadata": {
            "needs_background": "light"
          }
        }
      ],
      "source": [
        "group4 = data.groupby('vendor_id').trip_duration.mean()\n",
        "sns.barplot(group4.index, group4.values)\n",
        "plt.ylabel('Trip Duration (seconds)')\n",
        "plt.xlabel('Vendor')\n",
        "plt.show()"
      ]
    },
    {
      "cell_type": "markdown",
      "metadata": {
        "id": "Ko57hb98NCqf"
      },
      "source": [
        "Vendor 2 takes the crown. Average trip duration for vendor 2 is higher than vendor 1 by approx 200 seconds i.e. atleast 3 minutes per trip."
      ]
    },
    {
      "cell_type": "markdown",
      "metadata": {
        "id": "qz7fP5kINEkb"
      },
      "source": [
        "### Trip duration v/s Flag"
      ]
    },
    {
      "cell_type": "markdown",
      "metadata": {
        "id": "gVS4L6zCNIww"
      },
      "source": [
        "Let's visualize if there is any effect of flag setting on the trip duration?"
      ]
    },
    {
      "cell_type": "code",
      "execution_count": 52,
      "metadata": {
        "id": "JHuO32NyNA-0",
        "colab": {
          "base_uri": "https://localhost:8080/",
          "height": 335
        },
        "outputId": "85bb857e-f2af-4f7f-a3c9-94cdd5d7ae19"
      },
      "outputs": [
        {
          "output_type": "display_data",
          "data": {
            "text/plain": [
              "<Figure size 432x360 with 1 Axes>"
            ],
            "image/png": "[encoded data removed]"
          },
          "metadata": {
            "needs_background": "light"
          }
        }
      ],
      "source": [
        "plt.figure(figsize = (6,5))\n",
        "plot_dur = data.loc[(data.trip_duration < 10000)]\n",
        "sns.boxplot(x = \"flag_Y\", y = \"trip_duration\", data = plot_dur)\n",
        "plt.show()"
      ]
    },
    {
      "cell_type": "markdown",
      "metadata": {
        "id": "4Cvzc-CWNO9_"
      },
      "source": [
        "Observations:\n",
        "\n",
        "*   Trip durations scale is less for the trips where the flag is set i.e. the trip details are stored before sending it to the server.\n",
        "*   Trip duration outliers are also less for the trips with flag 'Y' as compared the trips with flag 'N'.\n",
        "*   Trip duration is longer for the trips where the flag is not set.\n",
        "*   Inter quartile range of trip duration is more for the trips with the flag 'Y' as compared to the trips with flag 'N' but the median value is almost equal for both."
      ]
    },
    {
      "cell_type": "markdown",
      "metadata": {
        "id": "Fdcf7zj3NhUS"
      },
      "source": [
        "### Distance per hour"
      ]
    },
    {
      "cell_type": "markdown",
      "metadata": {
        "id": "vZKMuIgVNlhJ"
      },
      "source": [
        "Now, let us check how the distance is distributed against different variables. We know that trip distance must be more or less proportional to the trip duration if we ignore general traffic and other stuff on the road. Let's visualize this for each hour now.\n",
        "\n",
        "Since we have already done the outlier analysis for this variable as well. We can take the mean as aggregate measure for our visualizations."
      ]
    },
    {
      "cell_type": "code",
      "execution_count": 53,
      "metadata": {
        "colab": {
          "base_uri": "https://localhost:8080/",
          "height": 284
        },
        "id": "6bupNT76NfJI",
        "outputId": "594aed45-8a79-41aa-b983-b458f2a369de"
      },
      "outputs": [
        {
          "output_type": "display_data",
          "data": {
            "text/plain": [
              "<Figure size 432x288 with 1 Axes>"
            ],
            "image/png": "[encoded data removed]"
          },
          "metadata": {
            "needs_background": "light"
          }
        }
      ],
      "source": [
        "group5 = data.groupby('pickup_hour').distance.mean()\n",
        "sns.pointplot(group5.index, group5.values)\n",
        "plt.ylabel('Distance (km)')\n",
        "plt.show()"
      ]
    },
    {
      "cell_type": "markdown",
      "metadata": {
        "id": "MPgh2P_dN4GD"
      },
      "source": [
        "Observations:\n",
        "\n",
        "\n",
        "*   Trip distance is highest during early morning hours which can account for some things like:\n",
        "    1.   Outstation trips taken during the weekends.\n",
        "\n",
        "    2.   Longer trips towards the city airport which is located in the outskirts of the city.\n",
        "\n",
        "\n",
        "\n",
        "*   Trip distance is fairly equal from morning till the evening varying around 3 - 3.5 kms.\n",
        "\n",
        "*   It starts increasing gradually towards the late night hours starting from evening till 5 AM and decrease steeply towards morning."
      ]
    },
    {
      "cell_type": "code",
      "execution_count": 54,
      "metadata": {
        "id": "iAvNRl67O3f3"
      },
      "outputs": [],
      "source": [
        "pd.set_option('display.max_columns', None)"
      ]
    },
    {
      "cell_type": "markdown",
      "metadata": {
        "id": "Eqmd4x-WOdV5"
      },
      "source": [
        "### Distance per weekday"
      ]
    },
    {
      "cell_type": "markdown",
      "metadata": {
        "id": "swQjKdC3PJqd"
      },
      "source": [
        "Let's analyze the average trip distance covered on each day of the week."
      ]
    },
    {
      "cell_type": "code",
      "execution_count": 55,
      "metadata": {
        "colab": {
          "base_uri": "https://localhost:8080/",
          "height": 280
        },
        "id": "TRsnCKIlNxIc",
        "outputId": "a6dd00fc-4105-425d-cd95-3dbf98869748"
      },
      "outputs": [
        {
          "output_type": "display_data",
          "data": {
            "text/plain": [
              "<Figure size 432x288 with 1 Axes>"
            ],
            "image/png": "[encoded data removed]"
          },
          "metadata": {
            "needs_background": "light"
          }
        }
      ],
      "source": [
        "group6 = data.groupby('weekday_num').distance.mean()\n",
        "sns.pointplot(group6.index, group6.values)\n",
        "plt.ylabel('Distance (km)')\n",
        "plt.show()"
      ]
    },
    {
      "cell_type": "markdown",
      "metadata": {
        "id": "qCqNCrdOP1yq"
      },
      "source": [
        "So it's a fairly equal distribution with average distance metric verying around 3.5 km/h with Sunday being at the top may be due to outstation trips or night trips towards the airport."
      ]
    },
    {
      "cell_type": "markdown",
      "metadata": {
        "id": "BPYl8-PbP7H9"
      },
      "source": [
        "### Distance per month"
      ]
    },
    {
      "cell_type": "markdown",
      "metadata": {
        "id": "MncduIzrQdbk"
      },
      "source": [
        "Now we will look at the average trip distance covered per month."
      ]
    },
    {
      "cell_type": "code",
      "execution_count": 56,
      "metadata": {
        "colab": {
          "base_uri": "https://localhost:8080/",
          "height": 281
        },
        "id": "8OjskO_YPzlS",
        "outputId": "c4d6d47d-a417-413a-8a14-d595d81e40ff"
      },
      "outputs": [
        {
          "output_type": "display_data",
          "data": {
            "text/plain": [
              "<Figure size 432x288 with 1 Axes>"
            ],
            "image/png": "[encoded data removed]"
          },
          "metadata": {
            "needs_background": "light"
          }
        }
      ],
      "source": [
        "group6 = data.groupby('month').distance.mean()\n",
        "sns.pointplot(group6.index, group6.values)\n",
        "plt.ylabel('Distance (km)')\n",
        "plt.show()"
      ]
    },
    {
      "cell_type": "markdown",
      "metadata": {
        "id": "gsXcA7yvQ6b3"
      },
      "source": [
        "Here also the distibution is almost equivalent, varying mostly around 3.5 km/h with 5th month being the highest in the average distance and 2nd month being the lowest."
      ]
    },
    {
      "cell_type": "markdown",
      "metadata": {
        "id": "UIR7l1T-RAaS"
      },
      "source": [
        "Distance per vendor"
      ]
    },
    {
      "cell_type": "markdown",
      "metadata": {
        "id": "0S9IKpetRBuE"
      },
      "source": []
    },
    {
      "cell_type": "code",
      "execution_count": 57,
      "metadata": {
        "colab": {
          "base_uri": "https://localhost:8080/",
          "height": 280
        },
        "id": "hAP24bCqQ8UF",
        "outputId": "9063528e-fcb7-4299-ea02-a934e885a7c9"
      },
      "outputs": [
        {
          "output_type": "display_data",
          "data": {
            "text/plain": [
              "<Figure size 432x288 with 1 Axes>"
            ],
            "image/png": "[encoded data removed]"
          },
          "metadata": {
            "needs_background": "light"
          }
        }
      ],
      "source": [
        "group8 = data.groupby('vendor_id').distance.mean()\n",
        "sns.barplot(group8.index, group8.values)\n",
        "plt.ylabel(\"Distance km\")\n",
        "plt.show()"
      ]
    },
    {
      "cell_type": "markdown",
      "metadata": {
        "id": "SKDEWjqvTMiJ"
      },
      "source": [
        "This is more or less same picture with both the vendors. Nothing more to analyze in this."
      ]
    },
    {
      "cell_type": "markdown",
      "metadata": {
        "id": "gQm8fm-vTPDU"
      },
      "source": [
        "### Distance v/s Flag"
      ]
    },
    {
      "cell_type": "markdown",
      "metadata": {
        "id": "7Drv5vj2TTlK"
      },
      "source": [
        "Let's visualize if there is any effect of Flag setting on the distance covered in the trips"
      ]
    },
    {
      "cell_type": "code",
      "execution_count": 58,
      "metadata": {
        "colab": {
          "base_uri": "https://localhost:8080/",
          "height": 389
        },
        "id": "VGG03dyFTVgH",
        "outputId": "40ee46d9-fe2c-4706-d052-a9774be31d88"
      },
      "outputs": [
        {
          "output_type": "display_data",
          "data": {
            "text/plain": [
              "<Figure size 432x432 with 1 Axes>"
            ],
            "image/png": "[encoded data removed]"
          },
          "metadata": {
            "needs_background": "light"
          }
        }
      ],
      "source": [
        "plt.figure(figsize = (6,6))\n",
        "plot_dist = data.loc[(data.distance < 100)]\n",
        "sns.boxplot(x = \"flag_Y\", y = \"distance\", data = plot_dist)\n",
        "plt.ylabel('Distance (km)')\n",
        "plt.show()"
      ]
    },
    {
      "cell_type": "markdown",
      "metadata": {
        "id": "X-id9JkVTy62"
      },
      "source": [
        "Observations:\n",
        "\n",
        "\n",
        "*   We can see almost similar results like the one observed in the Trip duration v/s Flag analysis.\n",
        "\n",
        "*   Only two major difference can be seen here.\n",
        "    1.   Interquartile range of distance is almost twice for Flag 'Y' trips as compared to the Flag 'N' trips\n",
        "\n",
        "    2.   Median value is much different in both the case as well.\n",
        "\n",
        "Which points us to the fact that range of distance and trip duration for the Flag 'Y' trips is much more limited and confined as compared with the flag 'N' trips and this also resulted in much less number of outliers for Flag 'Y' trips."
      ]
    },
    {
      "cell_type": "markdown",
      "metadata": {
        "id": "pa-_Lz9bZ3kf"
      },
      "source": [
        "### Distance v/s Trip duration"
      ]
    },
    {
      "cell_type": "markdown",
      "metadata": {
        "id": "d3wPlI8aZ7TA"
      },
      "source": [
        "Let's visualize the relationship between Distance covered and respective trip duration."
      ]
    },
    {
      "cell_type": "code",
      "execution_count": 59,
      "metadata": {
        "colab": {
          "base_uri": "https://localhost:8080/",
          "height": 282
        },
        "id": "iG2992a3Zhys",
        "outputId": "3b0f4e92-6835-4c77-c09a-e7c336157b9f"
      },
      "outputs": [
        {
          "output_type": "display_data",
          "data": {
            "text/plain": [
              "<Figure size 432x288 with 1 Axes>"
            ],
            "image/png": "[encoded data removed]"
          },
          "metadata": {
            "needs_background": "light"
          }
        }
      ],
      "source": [
        "plt.scatter(data.trip_duration, data.distance , s=1, alpha=0.5)\n",
        "plt.ylabel('Distance')\n",
        "plt.xlabel('Trip Duration')\n",
        "plt.show()"
      ]
    },
    {
      "cell_type": "markdown",
      "metadata": {
        "id": "t6DqvEapc4mF"
      },
      "source": [
        "Interesting find:\n",
        "\n",
        "\n",
        "*   There are lots of trips which covered negligible distance but clocked more than 20,000 seconds in terms of the Duration.\n",
        "\n",
        "*   Initially there is some proper correlation between the distance covered and the trip duration in the graph. but later on it all seems uncorrelated.\n",
        "\n",
        "*   There were few trips which covered huge distance of approx 200 kms within very less time frame, which is unlikely and should be treated as outliers.\n",
        "\n",
        "\n",
        "Let's focus on the graph area where distance is < 50 km and duration is < 1000 seconds.\n"
      ]
    },
    {
      "cell_type": "code",
      "execution_count": 60,
      "metadata": {
        "colab": {
          "base_uri": "https://localhost:8080/",
          "height": 279
        },
        "id": "yDH6reLD9vZQ",
        "outputId": "0cae6a64-e998-44f6-fd6a-86ef3ca8de25"
      },
      "outputs": [
        {
          "output_type": "display_data",
          "data": {
            "text/plain": [
              "<Figure size 432x288 with 1 Axes>"
            ],
            "image/png": "[encoded data removed]"
          },
          "metadata": {
            "needs_background": "light"
          }
        }
      ],
      "source": [
        "dur_dist = data.loc[(data.distance < 50) & (data.trip_duration < 1000)]\n",
        "plt.scatter(dur_dist.trip_duration, dur_dist.distance , s=1, alpha=0.5)\n",
        "plt.ylabel('Distance')\n",
        "plt.xlabel('Trip Duration')\n",
        "plt.show()"
      ]
    },
    {
      "cell_type": "markdown",
      "metadata": {
        "id": "zmTGcQLn-GRC"
      },
      "source": [
        "Observations:\n",
        "\n",
        "*   There should have been a linear relationship between the distance covered and trip duration on an average but we can see dense collection of the trips in the lower right corner which showcase many trips with the inconsistent readings."
      ]
    },
    {
      "cell_type": "markdown",
      "metadata": {
        "id": "wE36Uyrf-Ta-"
      },
      "source": [
        "Idea:\n",
        "We should remove those trips which covered 0 km distance but clocked more than 1 minute to make our data more consistent for predictive model. Because if the trip was cancelled after booking, than that should not have taken more than a minute time. This is our assumption."
      ]
    },
    {
      "cell_type": "code",
      "execution_count": 61,
      "metadata": {
        "id": "nvBSEVqM-rnM"
      },
      "outputs": [],
      "source": [
        "data = data[~((data.distance == 0) & (data.trip_duration >= 60))]"
      ]
    },
    {
      "cell_type": "markdown",
      "metadata": {
        "id": "F1CEfy8U_kTh"
      },
      "source": [
        "Now, Instead of looking at each and every trip, we should approximate and try to filter those trips which covered less than 1 km distance and but clocked more than an hour."
      ]
    },
    {
      "cell_type": "code",
      "execution_count": 62,
      "metadata": {
        "id": "DVjR0XI-_xsM"
      },
      "outputs": [],
      "source": [
        "duo = data.loc[(data['distance'] <= 1) & (data['trip_duration'] >= 3600),['distance','trip_duration']].reset_index(drop=True)"
      ]
    },
    {
      "cell_type": "code",
      "execution_count": 63,
      "metadata": {
        "colab": {
          "base_uri": "https://localhost:8080/",
          "height": 112
        },
        "id": "bqS-9c4ACSIL",
        "outputId": "a89ff96a-7c6f-4ba4-f487-cbd2b360df61"
      },
      "outputs": [
        {
          "output_type": "execute_result",
          "data": {
            "text/plain": [
              "   distance  trip_duration\n",
              "0      0.03           4107\n",
              "1      0.77          83016"
            ],
            "text/html": [
              "\n",
              "  <div id=\"df-c61bb399-2914-4e61-a2bb-32b2bbd578ea\">\n",
              "    <div class=\"colab-df-container\">\n",
              "      <div>\n",
              "<style scoped>\n",
              "    .dataframe tbody tr th:only-of-type {\n",
              "        vertical-align: middle;\n",
              "    }\n",
              "\n",
              "    .dataframe tbody tr th {\n",
              "        vertical-align: top;\n",
              "    }\n",
              "\n",
              "    .dataframe thead th {\n",
              "        text-align: right;\n",
              "    }\n",
              "</style>\n",
              "<table border=\"1\" class=\"dataframe\">\n",
              "  <thead>\n",
              "    <tr style=\"text-align: right;\">\n",
              "      <th></th>\n",
              "      <th>distance</th>\n",
              "      <th>trip_duration</th>\n",
              "    </tr>\n",
              "  </thead>\n",
              "  <tbody>\n",
              "    <tr>\n",
              "      <th>0</th>\n",
              "      <td>0.03</td>\n",
              "      <td>4107</td>\n",
              "    </tr>\n",
              "    <tr>\n",
              "      <th>1</th>\n",
              "      <td>0.77</td>\n",
              "      <td>83016</td>\n",
              "    </tr>\n",
              "  </tbody>\n",
              "</table>\n",
              "</div>\n",
              "      <button class=\"colab-df-convert\" onclick=\"convertToInteractive('df-c61bb399-2914-4e61-a2bb-32b2bbd578ea')\"\n",
              "              title=\"Convert this dataframe to an interactive table.\"\n",
              "              style=\"display:none;\">\n",
              "        \n",
              "  <svg xmlns=\"http://www.w3.org/2000/svg\" height=\"24px\"viewBox=\"0 0 24 24\"\n",
              "       width=\"24px\">\n",
              "    <path d=\"M0 0h24v24H0V0z\" fill=\"none\"/>\n",
              "    <path d=\"M18.56 5.44l.94 2.06.94-2.06 2.06-.94-2.06-.94-.94-2.06-.94 2.06-2.06.94zm-11 1L8.5 8.5l.94-2.06 2.06-.94-2.06-.94L8.5 2.5l-.94 2.06-2.06.94zm10 10l.94 2.06.94-2.06 2.06-.94-2.06-.94-.94-2.06-.94 2.06-2.06.94z\"/><path d=\"M17.41 7.96l-1.37-1.37c-.4-.4-.92-.59-1.43-.59-.52 0-1.04.2-1.43.59L10.3 9.45l-7.72 7.72c-.78.78-.78 2.05 0 2.83L4 21.41c.39.39.9.59 1.41.59.51 0 1.02-.2 1.41-.59l7.78-7.78 2.81-2.81c.8-.78.8-2.07 0-2.86zM5.41 20L4 18.59l7.72-7.72 1.47 1.35L5.41 20z\"/>\n",
              "  </svg>\n",
              "      </button>\n",
              "      \n",
              "  <style>\n",
              "    .colab-df-container {\n",
              "      display:flex;\n",
              "      flex-wrap:wrap;\n",
              "      gap: 12px;\n",
              "    }\n",
              "\n",
              "    .colab-df-convert {\n",
              "      background-color: #E8F0FE;\n",
              "      border: none;\n",
              "      border-radius: 50%;\n",
              "      cursor: pointer;\n",
              "      display: none;\n",
              "      fill: #1967D2;\n",
              "      height: 32px;\n",
              "      padding: 0 0 0 0;\n",
              "      width: 32px;\n",
              "    }\n",
              "\n",
              "    .colab-df-convert:hover {\n",
              "      background-color: #E2EBFA;\n",
              "      box-shadow: 0px 1px 2px rgba(60, 64, 67, 0.3), 0px 1px 3px 1px rgba(60, 64, 67, 0.15);\n",
              "      fill: #174EA6;\n",
              "    }\n",
              "\n",
              "    [theme=dark] .colab-df-convert {\n",
              "      background-color: #3B4455;\n",
              "      fill: #D2E3FC;\n",
              "    }\n",
              "\n",
              "    [theme=dark] .colab-df-convert:hover {\n",
              "      background-color: #434B5C;\n",
              "      box-shadow: 0px 1px 3px 1px rgba(0, 0, 0, 0.15);\n",
              "      filter: drop-shadow(0px 1px 2px rgba(0, 0, 0, 0.3));\n",
              "      fill: #FFFFFF;\n",
              "    }\n",
              "  </style>\n",
              "\n",
              "      <script>\n",
              "        const buttonEl =\n",
              "          document.querySelector('#df-c61bb399-2914-4e61-a2bb-32b2bbd578ea button.colab-df-convert');\n",
              "        buttonEl.style.display =\n",
              "          google.colab.kernel.accessAllowed ? 'block' : 'none';\n",
              "\n",
              "        async function convertToInteractive(key) {\n",
              "          const element = document.querySelector('#df-c61bb399-2914-4e61-a2bb-32b2bbd578ea');\n",
              "          const dataTable =\n",
              "            await google.colab.kernel.invokeFunction('convertToInteractive',\n",
              "                                                     [key], {});\n",
              "          if (!dataTable) return;\n",
              "\n",
              "          const docLinkHtml = 'Like what you see? Visit the ' +\n",
              "            '<a target=\"_blank\" href=https://colab.research.google.com/notebooks/data_table.ipynb>data table notebook</a>'\n",
              "            + ' to learn more about interactive tables.';\n",
              "          element.innerHTML = '';\n",
              "          dataTable['output_type'] = 'display_data';\n",
              "          await google.colab.output.renderOutput(dataTable, element);\n",
              "          const docLink = document.createElement('div');\n",
              "          docLink.innerHTML = docLinkHtml;\n",
              "          element.appendChild(docLink);\n",
              "        }\n",
              "      </script>\n",
              "    </div>\n",
              "  </div>\n",
              "  "
            ]
          },
          "metadata": {},
          "execution_count": 63
        }
      ],
      "source": [
        "duo.head(2)"
      ]
    },
    {
      "cell_type": "code",
      "execution_count": 64,
      "metadata": {
        "colab": {
          "base_uri": "https://localhost:8080/",
          "height": 279
        },
        "id": "JIWeXg4P_-WA",
        "outputId": "4050d4ba-e9a5-4a25-ef03-509eb1ae71c3"
      },
      "outputs": [
        {
          "output_type": "display_data",
          "data": {
            "text/plain": [
              "<Figure size 432x288 with 1 Axes>"
            ],
            "image/png": "[encoded data removed]"
          },
          "metadata": {
            "needs_background": "light"
          }
        }
      ],
      "source": [
        "sns.regplot(duo.distance, duo.trip_duration)\n",
        "plt.show()"
      ]
    },
    {
      "cell_type": "markdown",
      "metadata": {
        "id": "uzyE3ZSmBaT4"
      },
      "source": [
        "Observations:\n",
        "\n",
        "\n",
        "*   Though the straight line tries to show some linear relation between the two. But there seems to be negligible correlation between these two metric as seen from the scatter plot where it should have been a linear distribution.\n",
        "\n",
        "*   It is rarely occurs that customer keep sitting in the taxi for more than an hour and it does not travel for even 1 km.\n",
        "\n",
        "These should be removed to bring in more consistency to our results."
      ]
    },
    {
      "cell_type": "code",
      "execution_count": 65,
      "metadata": {
        "id": "-BooR5eXFvX8"
      },
      "outputs": [],
      "source": [
        "data = data[~((data['distance'] <= 1) & (data['trip_duration'] >= 3600))]"
      ]
    },
    {
      "cell_type": "code",
      "execution_count": 66,
      "metadata": {
        "colab": {
          "base_uri": "https://localhost:8080/",
          "height": 279
        },
        "id": "EzZuuqBWF2ZC",
        "outputId": "34887b7b-d01e-448f-a1bd-3cd374a6def4"
      },
      "outputs": [
        {
          "output_type": "display_data",
          "data": {
            "text/plain": [
              "<Figure size 432x288 with 1 Axes>"
            ],
            "image/png": "[encoded data removed]"
          },
          "metadata": {
            "needs_background": "light"
          }
        }
      ],
      "source": [
        "sns.regplot(data.distance, data.trip_duration)\n",
        "plt.show()"
      ]
    },
    {
      "cell_type": "markdown",
      "metadata": {
        "id": "JLz5hdfxGU1k"
      },
      "source": [
        "### Average speed per hour"
      ]
    },
    {
      "cell_type": "markdown",
      "metadata": {
        "id": "6S9DAWE9GalT"
      },
      "source": [
        "Let's look at the average speed of NYC Taxi per hour."
      ]
    },
    {
      "cell_type": "code",
      "execution_count": 67,
      "metadata": {
        "colab": {
          "base_uri": "https://localhost:8080/",
          "height": 280
        },
        "id": "1XYDV0YfGpd_",
        "outputId": "0f7049f8-8f9f-4f7a-a591-e28a410e7ecb"
      },
      "outputs": [
        {
          "output_type": "display_data",
          "data": {
            "text/plain": [
              "<Figure size 432x288 with 1 Axes>"
            ],
            "image/png": "[encoded data removed]"
          },
          "metadata": {
            "needs_background": "light"
          }
        }
      ],
      "source": [
        "group9 = data.groupby('pickup_hour').speed.mean()\n",
        "sns.pointplot(group9.index, group9.values)\n",
        "plt.show()"
      ]
    },
    {
      "cell_type": "markdown",
      "metadata": {
        "id": "89arz22MGl7d"
      },
      "source": [
        "Observation:\n",
        "\n",
        "*   The average trend is totally inline with the normal circumstances.\n",
        "*   Average speed tend to increase after late evening and continues to increase gradually till the late early morning hours.\n",
        "*   Average taxi speed is highest at 5 AM in the morning, then it declines steeply as the office hours approaches.\n",
        "*   Average taxi speed is more or less same during the office hours i.e. from 8 AM till 6PM in the evening."
      ]
    },
    {
      "cell_type": "markdown",
      "metadata": {
        "id": "p59XJrNEHEeB"
      },
      "source": [
        "### Average speed per weekday"
      ]
    },
    {
      "cell_type": "markdown",
      "metadata": {
        "id": "X-jp8mAWHHgm"
      },
      "source": [
        "Let's visualize that on an average what is the speed of a taxi on any given weekday."
      ]
    },
    {
      "cell_type": "code",
      "execution_count": 68,
      "metadata": {
        "colab": {
          "base_uri": "https://localhost:8080/",
          "height": 280
        },
        "id": "rBIOfDAmHGTi",
        "outputId": "97799a40-867e-49a7-a623-eb69c73164e8"
      },
      "outputs": [
        {
          "output_type": "display_data",
          "data": {
            "text/plain": [
              "<Figure size 432x288 with 1 Axes>"
            ],
            "image/png": "[encoded data removed]"
          },
          "metadata": {
            "needs_background": "light"
          }
        }
      ],
      "source": [
        "group10 = data.groupby('weekday_num').speed.mean()\n",
        "sns.pointplot(group10.index, group10.values)\n",
        "plt.show()"
      ]
    },
    {
      "cell_type": "markdown",
      "metadata": {
        "id": "JVYqcAx4Hpqb"
      },
      "source": [
        "Observations:\n",
        "\n",
        "\n",
        "\n",
        "*   Average taxi speed is higher on weekend as compared to the weekdays which is obvious when there is mostly rush of office goers and business owners.\n",
        "\n",
        "*   Even on monday the average taxi speed is shown higher which is quite surprising when it is one of the most busiest day after the weekend. There can be several possibility for such behaviour\n",
        "\n",
        "    1.   Lot of customers who come back from outstation in early hours of Monday before 6 AM to attend office on time.\n",
        "    2.   Early morning hours customers who come from the airports after vacation to attend office/business on time for the coming week.\n",
        "\n",
        "*   There could be some more reasons as well which only a local must be aware of.\n",
        "*  We also can't deny the anomalies in the dataset. which is quite cumbersome to spot in such a large dataset."
      ]
    },
    {
      "cell_type": "markdown",
      "metadata": {
        "id": "NNE05xkYIURZ"
      },
      "source": [
        "### Passenger count per vendor"
      ]
    },
    {
      "cell_type": "markdown",
      "metadata": {
        "id": "Y15k9HBRIW1P"
      },
      "source": [
        "Let's try some different metric in the series i.e. passenger count. We will plot it agaist the vendor only because it will not be much helpful to plot it against hour, weekday or month like others as the passenger count should be a whole number and not a ratio.\n",
        "\n",
        "we will take mean as the aggregate measure because we already did the outlier analysis on this metric. So our results woudn't be affected by some extreme values. Also if we take median than it will return only 1 because majorty of the trips have been taken by single passenger. Let's take a look about it's distribution."
      ]
    },
    {
      "cell_type": "code",
      "execution_count": 69,
      "metadata": {
        "colab": {
          "base_uri": "https://localhost:8080/",
          "height": 280
        },
        "id": "dhB9GD5UIkRd",
        "outputId": "f133b590-59bb-42a2-b76e-919cc010355f"
      },
      "outputs": [
        {
          "output_type": "display_data",
          "data": {
            "text/plain": [
              "<Figure size 432x288 with 1 Axes>"
            ],
            "image/png": "[encoded data removed]"
          },
          "metadata": {
            "needs_background": "light"
          }
        }
      ],
      "source": [
        "group9 = data.groupby('vendor_id').passenger_count.mean()\n",
        "sns.barplot(group9.index, group9.values)\n",
        "plt.ylabel('Passenger count')\n",
        "plt.show()"
      ]
    },
    {
      "cell_type": "markdown",
      "metadata": {
        "id": "ofVMrnpbI2IT"
      },
      "source": [
        "Clear difference between the two operators for the average passenger count in all trips. It seems that vendor 2 trips generally consist of 2 passengers as compared to the vendor 1 with 1 passenger. Let's bifurcate it further."
      ]
    },
    {
      "cell_type": "code",
      "execution_count": 70,
      "metadata": {
        "colab": {
          "base_uri": "https://localhost:8080/",
          "height": 276
        },
        "id": "DWGzPBAVI1XC",
        "outputId": "110e3918-5718-408c-a1ad-f64dcdc56b79"
      },
      "outputs": [
        {
          "output_type": "display_data",
          "data": {
            "text/plain": [
              "<Figure size 432x288 with 1 Axes>"
            ],
            "image/png": "[encoded data removed]"
          },
          "metadata": {
            "needs_background": "light"
          }
        }
      ],
      "source": [
        "data.groupby('passenger_count').vendor_id.value_counts().reset_index(name='count').pivot(\"passenger_count\",\"vendor_id\",\"count\").plot(kind='bar')\n",
        "plt.show()"
      ]
    },
    {
      "cell_type": "markdown",
      "metadata": {
        "id": "eo7rxRQsKBHk"
      },
      "source": [
        "Interesting find:\n",
        "\n",
        "\n",
        "*   It seems that most of the big cars are served by the Vendor 2 including minivans because other than passenger 1, vendor 2 has majority in serving more than 1 passenger count and that explains it greater share of the market."
      ]
    },
    {
      "cell_type": "markdown",
      "metadata": {
        "id": "jAHD-_d4NLxS"
      },
      "source": [
        "# Feature Engineering"
      ]
    },
    {
      "cell_type": "markdown",
      "metadata": {
        "id": "qLmI67ciNPrU"
      },
      "source": [
        "After looking at the dataset from different perspectives. Let's prepare our dataset before training our model. Since our dataset do not contain very large number of dimensions. We will first try to use feature selection instead of the feature extraction technique."
      ]
    },
    {
      "cell_type": "markdown",
      "metadata": {
        "id": "FYQEC_86NjmW"
      },
      "source": [
        "Question:\n",
        "But what's the difference?\n",
        "\n",
        "Feature selection: we select a subset of the original feature set based on the statistical significance of different parameters.\n",
        "Example: Backward elimination, Forward selection, Recursive feature elimination\n",
        "\n",
        "Feature extraction: we build a new set of features from the original feature set\n",
        "Example: PCA, LDA, Kernel PCA"
      ]
    },
    {
      "cell_type": "markdown",
      "metadata": {
        "id": "ipoqFU0FNl5t"
      },
      "source": [
        "## Feature Selection"
      ]
    },
    {
      "cell_type": "markdown",
      "metadata": {
        "id": "k3i-cCo7Nuhd"
      },
      "source": [
        "Intuition:\n",
        "\n",
        "*   We will use backward elimination technique to select the best features to train our model.\n",
        "\n",
        "*   It displays some statistical metrics with there significance value.\n",
        "\n",
        "*   Like, It shows the p values for each feature as per its significance in the whole dataset.\n",
        "\n",
        "*   It also shows the adjusted R squared values to identify whether removing or selecting the feature is beneficial or not.\n",
        "\n",
        "*   For now we will only look at the P and adjusted R squared value to decide which features to keep and which needed to be removed.\n",
        "\n",
        "Let's assign the values to X & Y array from the dataset."
      ]
    },
    {
      "cell_type": "code",
      "execution_count": 71,
      "metadata": {
        "colab": {
          "base_uri": "https://localhost:8080/"
        },
        "id": "P7dDcUue7iqk",
        "outputId": "78df8ef4-9421-4454-d510-8f62afec47b5"
      },
      "outputs": [
        {
          "output_type": "execute_result",
          "data": {
            "text/plain": [
              "[(0, 'id'),\n",
              " (1, 'vendor_id'),\n",
              " (2, 'pickup_datetime'),\n",
              " (3, 'dropoff_datetime'),\n",
              " (4, 'passenger_count'),\n",
              " (5, 'pickup_longitude'),\n",
              " (6, 'pickup_latitude'),\n",
              " (7, 'dropoff_longitude'),\n",
              " (8, 'dropoff_latitude'),\n",
              " (9, 'store_and_fwd_flag'),\n",
              " (10, 'trip_duration'),\n",
              " (11, 'weekday'),\n",
              " (12, 'month'),\n",
              " (13, 'weekday_num'),\n",
              " (14, 'pickup_hour'),\n",
              " (15, 'distance'),\n",
              " (16, 'speed'),\n",
              " (17, 'flag_Y'),\n",
              " (18, 'vendor_id_2'),\n",
              " (19, 'month_2'),\n",
              " (20, 'month_3'),\n",
              " (21, 'month_4'),\n",
              " (22, 'month_5'),\n",
              " (23, 'month_6'),\n",
              " (24, 'weekday_num_1'),\n",
              " (25, 'weekday_num_2'),\n",
              " (26, 'weekday_num_3'),\n",
              " (27, 'weekday_num_4'),\n",
              " (28, 'weekday_num_5'),\n",
              " (29, 'weekday_num_6'),\n",
              " (30, 'pickup_hour_1'),\n",
              " (31, 'pickup_hour_2'),\n",
              " (32, 'pickup_hour_3'),\n",
              " (33, 'pickup_hour_4'),\n",
              " (34, 'pickup_hour_5'),\n",
              " (35, 'pickup_hour_6'),\n",
              " (36, 'pickup_hour_7'),\n",
              " (37, 'pickup_hour_8'),\n",
              " (38, 'pickup_hour_9'),\n",
              " (39, 'pickup_hour_10'),\n",
              " (40, 'pickup_hour_11'),\n",
              " (41, 'pickup_hour_12'),\n",
              " (42, 'pickup_hour_13'),\n",
              " (43, 'pickup_hour_14'),\n",
              " (44, 'pickup_hour_15'),\n",
              " (45, 'pickup_hour_16'),\n",
              " (46, 'pickup_hour_17'),\n",
              " (47, 'pickup_hour_18'),\n",
              " (48, 'pickup_hour_19'),\n",
              " (49, 'pickup_hour_20'),\n",
              " (50, 'pickup_hour_21'),\n",
              " (51, 'pickup_hour_22'),\n",
              " (52, 'pickup_hour_23'),\n",
              " (53, 'passenger_count_1'),\n",
              " (54, 'passenger_count_2'),\n",
              " (55, 'passenger_count_3'),\n",
              " (56, 'passenger_count_4'),\n",
              " (57, 'passenger_count_5'),\n",
              " (58, 'passenger_count_6'),\n",
              " (59, 'passenger_count_7'),\n",
              " (60, 'passenger_count_8'),\n",
              " (61, 'passenger_count_9')]"
            ]
          },
          "metadata": {},
          "execution_count": 71
        }
      ],
      "source": [
        "#First chech the index of the features and label\n",
        "list(zip( range(0,len(data.columns)),data.columns))"
      ]
    },
    {
      "cell_type": "code",
      "execution_count": 72,
      "metadata": {
        "id": "WlXCxqkSCWtT"
      },
      "outputs": [],
      "source": [
        "Y = data.iloc[:,10].values\n",
        "X = data.iloc[:,range(15,61)].values"
      ]
    },
    {
      "cell_type": "markdown",
      "metadata": {
        "id": "Seqp-_lNlfmd"
      },
      "source": [
        "Question:\n",
        "Why few features are not assigned to the X array like features at the index 2,3,10 were missed?\n",
        "\n",
        "Idea:\n",
        "\n",
        "*   duration variable assigned to Y because that is the dependent variable.\n",
        "\n",
        "*   features such as id, timestamp and weekday were not assigned to X array because they are of type object. And we need an array of float data type."
      ]
    },
    {
      "cell_type": "markdown",
      "metadata": {
        "id": "JYiRkca5onTp"
      },
      "source": [
        "Trick for backward elimination:\n",
        "General equation for multiple linear regression is like\n",
        "\n",
        "Y = a0 + a1x1 + a2x2 + ... + anxn\n",
        "\n",
        "Since, we dont have x0 in our X array so the regressor won't consider the constant value of the equation i.e. a0. So to make it count in the equation we will append the selected feature set with a contant series of 1's as a first column. To make it appear like below equation to the statsmodel.\n",
        "\n",
        "y = a0x0 + a1x1 + a2x2 + ... + anxn"
      ]
    },
    {
      "cell_type": "code",
      "execution_count": 73,
      "metadata": {
        "colab": {
          "base_uri": "https://localhost:8080/"
        },
        "id": "dwAjJ4RY9DHX",
        "outputId": "54e5ccf1-9bd8-4d59-cc5d-73127301b76e"
      },
      "outputs": [
        {
          "output_type": "stream",
          "name": "stdout",
          "text": [
            "Let's append 1453811 rows of 1's as the first column in the X array\n"
          ]
        }
      ],
      "source": [
        "print(\"Let's append {} rows of 1's as the first column in the X array\".format(X.shape[0]))"
      ]
    },
    {
      "cell_type": "code",
      "execution_count": 74,
      "metadata": {
        "id": "1xxGJj1d9H8b"
      },
      "outputs": [],
      "source": [
        "X1 = np.append(arr = np.ones((X.shape[0],1)).astype(int), values = X, axis = 1)"
      ]
    },
    {
      "cell_type": "code",
      "execution_count": 75,
      "metadata": {
        "colab": {
          "base_uri": "https://localhost:8080/"
        },
        "id": "BnupnmVx9TI4",
        "outputId": "d8dfd349-ddfb-4b3b-98e8-5270383e223c"
      },
      "outputs": [
        {
          "output_type": "execute_result",
          "data": {
            "text/plain": [
              "(1453811, 47)"
            ]
          },
          "metadata": {},
          "execution_count": 75
        }
      ],
      "source": [
        "X1.shape"
      ]
    },
    {
      "cell_type": "markdown",
      "metadata": {
        "id": "slwdQM-go5dG"
      },
      "source": [
        "There we go, our feature set is now ready for the feature selection model with 1s in the first column for a0 constant.\n",
        "\n",
        "Let's fit stats model on the X array to figure out an optimal set of features by recursively checking for the highest p value and removing the feature of that index."
      ]
    },
    {
      "cell_type": "markdown",
      "metadata": {
        "id": "HPc62CgQpPzL"
      },
      "source": [
        "Note:\n",
        "Here we will take the level of significance as 0.05 i.e. 5% which means that we will reject feature from the list of array and re-run the model till p value for all the features goes below .05 to find out the optimal combination for our model."
      ]
    },
    {
      "cell_type": "code",
      "execution_count": 76,
      "metadata": {
        "id": "OWjeRvHoCfxh"
      },
      "outputs": [],
      "source": [
        "# X_opt = X1[:,[0,1,3,4,6,7,8,9,10,11]]\n",
        "# regressor_OLS = sm.OLS(endog = Y, exog = X_opt).fit()\n",
        "# regressor_OLS.summary()"
      ]
    },
    {
      "cell_type": "code",
      "execution_count": 77,
      "metadata": {
        "id": "fTH9gc3bC_V2"
      },
      "outputs": [],
      "source": [
        "import statsmodels.api as sm"
      ]
    },
    {
      "cell_type": "code",
      "execution_count": 78,
      "metadata": {
        "colab": {
          "base_uri": "https://localhost:8080/",
          "height": 1000
        },
        "id": "5ROPtNVwCt5_",
        "outputId": "9d598885-411a-4eb0-d518-cf995cdb8b98"
      },
      "outputs": [
        {
          "output_type": "stream",
          "name": "stdout",
          "text": [
            "Probability values of each feature \n",
            "\n",
            "[1.25386827e-001 0.00000000e+000 0.00000000e+000 5.69457963e-001\n",
            " 1.93864427e-305 2.61478046e-001 3.80040007e-001 7.81240873e-001\n",
            " 1.08697373e-001 3.30535697e-002 4.64189813e-001 8.08673416e-002\n",
            " 3.44790983e-001 8.44025519e-001 2.41857880e-005 1.87745922e-018\n",
            " 2.09147233e-003 7.20820544e-008 1.46505352e-011 7.60942585e-016\n",
            " 3.14733659e-016 2.11002692e-005 1.71387106e-004 5.78421965e-017\n",
            " 1.57431960e-017 4.41736293e-020 5.75605739e-026 3.87928788e-020\n",
            " 3.24848486e-019 4.28545912e-022 2.52594424e-016 2.54189055e-016\n",
            " 6.37167155e-021 2.74737033e-021 4.16080946e-022 3.13870281e-010\n",
            " 1.25082621e-004 3.19101002e-001 6.38999031e-002 3.12075069e-002\n",
            " 3.51650053e-002 3.12977172e-002 2.99087252e-002 2.98881254e-002\n",
            " 2.95806415e-002             nan]\n",
            "\n",
            "\n",
            "Feature at index 45 is removed \n",
            "\n",
            "44 dimensions remaining now... \n",
            "\n",
            "=================================================================\n",
            "\n",
            "Probability values of each feature \n",
            "\n",
            "[1.25386827e-001 0.00000000e+000 0.00000000e+000 5.69457963e-001\n",
            " 1.93864427e-305 2.61478046e-001 3.80040007e-001 7.81240873e-001\n",
            " 1.08697373e-001 3.30535697e-002 4.64189813e-001 8.08673416e-002\n",
            " 3.44790983e-001 8.44025519e-001 2.41857880e-005 1.87745922e-018\n",
            " 2.09147233e-003 7.20820544e-008 1.46505352e-011 7.60942585e-016\n",
            " 3.14733659e-016 2.11002692e-005 1.71387106e-004 5.78421965e-017\n",
            " 1.57431960e-017 4.41736293e-020 5.75605739e-026 3.87928788e-020\n",
            " 3.24848486e-019 4.28545912e-022 2.52594424e-016 2.54189055e-016\n",
            " 6.37167155e-021 2.74737033e-021 4.16080946e-022 3.13870281e-010\n",
            " 1.25082621e-004 3.19101002e-001 6.38999031e-002 3.12075069e-002\n",
            " 3.51650053e-002 3.12977172e-002 2.99087252e-002 2.98881254e-002\n",
            " 2.95806415e-002]\n",
            "\n",
            "\n",
            "Feature at index 13 is removed \n",
            "\n",
            "43 dimensions remaining now... \n",
            "\n",
            "=================================================================\n",
            "\n",
            "Probability values of each feature \n",
            "\n",
            "[1.26054066e-001 0.00000000e+000 0.00000000e+000 5.69528435e-001\n",
            " 1.91643846e-305 2.64136504e-001 3.77767673e-001 7.82013844e-001\n",
            " 1.06786010e-001 3.26057061e-002 4.58804753e-001 5.17834669e-002\n",
            " 3.18302935e-001 2.51789686e-007 2.80834650e-025 2.09330127e-003\n",
            " 7.22151770e-008 1.46974414e-011 7.60690323e-016 3.11210468e-016\n",
            " 2.07636167e-005 1.73680779e-004 5.89720287e-017 1.60375190e-017\n",
            " 4.50079283e-020 5.84745499e-026 3.95139185e-020 3.30926187e-019\n",
            " 4.35791204e-022 2.57178202e-016 2.58670191e-016 6.46726784e-021\n",
            " 2.78796299e-021 4.23879010e-022 3.19748392e-010 1.26865165e-004\n",
            " 3.20401774e-001 6.39216935e-002 3.12165951e-002 3.51758270e-002\n",
            " 3.13076360e-002 2.99192628e-002 2.98982057e-002 2.95904944e-002]\n",
            "\n",
            "\n",
            "Feature at index 7 is removed \n",
            "\n",
            "42 dimensions remaining now... \n",
            "\n",
            "=================================================================\n",
            "\n",
            "Probability values of each feature \n",
            "\n",
            "[1.26751020e-001 0.00000000e+000 0.00000000e+000 5.69734113e-001\n",
            " 1.80742060e-305 2.55592827e-001 2.27670545e-001 3.95004150e-002\n",
            " 7.89903472e-003 4.58695121e-001 5.18626672e-002 3.18670149e-001\n",
            " 2.58326059e-007 2.77872167e-025 2.09049046e-003 7.20178916e-008\n",
            " 1.46583588e-011 7.58293683e-016 3.12556123e-016 2.08347848e-005\n",
            " 1.73464179e-004 5.91419266e-017 1.60462786e-017 4.51498528e-020\n",
            " 5.88584694e-026 3.97916418e-020 3.33715657e-019 4.40469676e-022\n",
            " 2.60288601e-016 2.61862490e-016 6.54542232e-021 2.81423197e-021\n",
            " 4.25230980e-022 3.19382455e-010 1.26674323e-004 3.20187641e-001\n",
            " 6.37688676e-002 3.12451201e-002 3.52077129e-002 3.13369197e-002\n",
            " 2.99463483e-002 2.99246165e-002 2.96177541e-002]\n",
            "\n",
            "\n",
            "Feature at index 3 is removed \n",
            "\n",
            "41 dimensions remaining now... \n",
            "\n",
            "=================================================================\n",
            "\n",
            "Probability values of each feature \n",
            "\n",
            "[1.27441351e-001 0.00000000e+000 0.00000000e+000 5.72696607e-308\n",
            " 2.55740311e-001 2.27132093e-001 3.93930403e-002 7.90132928e-003\n",
            " 4.59022414e-001 5.18947437e-002 3.18542621e-001 2.55980551e-007\n",
            " 2.71631576e-025 2.09365092e-003 7.21487203e-008 1.47007399e-011\n",
            " 7.57261920e-016 3.10998423e-016 2.08192693e-005 1.73614404e-004\n",
            " 5.87291133e-017 1.58991803e-017 4.47274046e-020 5.78751933e-026\n",
            " 3.91330309e-020 3.27656127e-019 4.30988356e-022 2.56090069e-016\n",
            " 2.56125141e-016 6.40131858e-021 2.77402210e-021 4.19272292e-022\n",
            " 3.18489674e-010 1.26734490e-004 3.19799754e-001 6.36775116e-002\n",
            " 3.10631335e-002 3.50073524e-002 3.11539690e-002 2.97763746e-002\n",
            " 2.97495188e-002 2.94442560e-002]\n",
            "\n",
            "\n",
            "Feature at index 8 is removed \n",
            "\n",
            "40 dimensions remaining now... \n",
            "\n",
            "=================================================================\n",
            "\n",
            "Probability values of each feature \n",
            "\n",
            "[1.28342834e-001 0.00000000e+000 0.00000000e+000 6.07445101e-308\n",
            " 2.56050782e-001 2.36271064e-001 4.12577905e-002 8.10507444e-003\n",
            " 7.18820195e-002 4.27777347e-001 1.05342839e-008 4.59047052e-029\n",
            " 2.08840842e-003 7.15636722e-008 1.44994079e-011 7.55590051e-016\n",
            " 3.24020264e-016 2.17668739e-005 1.64945424e-004 5.32950188e-017\n",
            " 1.44585066e-017 4.08241408e-020 5.18921479e-026 3.62179347e-020\n",
            " 3.01960518e-019 3.97635396e-022 2.39305130e-016 2.40018883e-016\n",
            " 5.87597959e-021 2.52535581e-021 3.84404512e-022 2.95520318e-010\n",
            " 1.20649457e-004 3.15154866e-001 6.30372801e-002 3.11462309e-002\n",
            " 3.50894162e-002 3.12266727e-002 2.98413608e-002 2.98304062e-002\n",
            " 2.95226834e-002]\n",
            "\n",
            "\n",
            "Feature at index 9 is removed \n",
            "\n",
            "39 dimensions remaining now... \n",
            "\n",
            "=================================================================\n",
            "\n",
            "Probability values of each feature \n",
            "\n",
            "[1.29338859e-001 0.00000000e+000 0.00000000e+000 5.90199146e-308\n",
            " 2.54520628e-001 2.44173288e-001 4.08387144e-002 8.72851239e-003\n",
            " 9.89461139e-002 8.64626378e-010 1.00966964e-031 2.07974350e-003\n",
            " 7.07171920e-008 1.43360668e-011 7.44076465e-016 3.25969930e-016\n",
            " 2.20229171e-005 1.64354930e-004 5.43263205e-017 1.49375497e-017\n",
            " 4.17138903e-020 5.36700844e-026 3.72651510e-020 3.11849523e-019\n",
            " 4.13850600e-022 2.48584110e-016 2.52630310e-016 6.24443919e-021\n",
            " 2.64467505e-021 3.92637642e-022 2.94805696e-010 1.19251077e-004\n",
            " 3.13707071e-001 6.23383886e-002 3.11667257e-002 3.51064532e-002\n",
            " 3.12388192e-002 2.98476635e-002 2.98514510e-002 2.95430303e-002]\n",
            "\n",
            "\n",
            "Feature at index 32 is removed \n",
            "\n",
            "38 dimensions remaining now... \n",
            "\n",
            "=================================================================\n",
            "\n",
            "Probability values of each feature \n",
            "\n",
            "[1.35551837e-001 0.00000000e+000 0.00000000e+000 6.05647267e-308\n",
            " 2.54024818e-001 2.44275340e-001 4.07343001e-002 8.62222608e-003\n",
            " 9.77384891e-002 6.67223008e-010 3.92044410e-032 3.58808361e-005\n",
            " 5.94385980e-011 4.45119542e-015 1.25955250e-019 5.94903889e-020\n",
            " 6.95612185e-008 1.12355090e-004 1.00079470e-021 1.55959961e-022\n",
            " 5.95835261e-026 1.65078835e-034 1.94262858e-026 4.24920262e-025\n",
            " 2.07420095e-029 5.38163094e-021 1.36529340e-020 7.05253004e-028\n",
            " 2.38768161e-029 1.27294484e-030 7.32135741e-013 4.52458834e-005\n",
            " 1.16035896e-001 3.13034751e-002 3.52629688e-002 3.13810013e-002\n",
            " 2.99849616e-002 2.99848908e-002 2.96749521e-002]\n",
            "\n",
            "\n",
            "Feature at index 4 is removed \n",
            "\n",
            "37 dimensions remaining now... \n",
            "\n",
            "=================================================================\n",
            "\n",
            "Probability values of each feature \n",
            "\n",
            "[1.37474137e-001 0.00000000e+000 0.00000000e+000 6.45654665e-308\n",
            " 9.90615659e-002 9.93584973e-003 1.48168376e-003 9.75910200e-002\n",
            " 6.03289436e-010 3.70190128e-032 3.52830608e-005 5.79199153e-011\n",
            " 4.28738141e-015 1.23116523e-019 5.87974777e-020 6.86566326e-008\n",
            " 1.13281972e-004 9.81380385e-022 1.53302223e-022 5.87167152e-026\n",
            " 1.61655315e-034 1.89179597e-026 4.08966430e-025 2.02538011e-029\n",
            " 5.27737893e-021 1.34301530e-020 6.86793666e-028 2.25786062e-029\n",
            " 1.24975001e-030 7.38631553e-013 4.51975720e-005 1.16240079e-001\n",
            " 3.12829275e-002 3.52382932e-002 3.13567482e-002 2.99533887e-002\n",
            " 2.99620883e-002 2.96519777e-002]\n",
            "\n",
            "\n",
            "Feature at index 0 is removed \n",
            "\n",
            "36 dimensions remaining now... \n",
            "\n",
            "=================================================================\n",
            "\n",
            "Probability values of each feature \n",
            "\n",
            "[0.00000000e+000 0.00000000e+000 4.42227329e-308 9.77592742e-002\n",
            " 9.72687366e-003 1.45873719e-003 9.84931362e-002 5.75250937e-010\n",
            " 3.41597598e-032 3.24427513e-005 5.32291465e-011 3.94880597e-015\n",
            " 1.11390413e-019 5.08236511e-020 6.39189354e-008 1.20500776e-004\n",
            " 1.15526444e-021 1.80898781e-022 6.94337591e-026 1.98049524e-034\n",
            " 2.29265454e-026 4.84820685e-025 2.48785699e-029 6.20855098e-021\n",
            " 1.57607949e-020 8.34542710e-028 2.76651982e-029 1.57466183e-030\n",
            " 8.44816349e-013 4.89325299e-005 1.20527654e-001 0.00000000e+000\n",
            " 0.00000000e+000 0.00000000e+000 0.00000000e+000 0.00000000e+000\n",
            " 0.00000000e+000]\n",
            "\n",
            "\n",
            "Feature at index 30 is removed \n",
            "\n",
            "35 dimensions remaining now... \n",
            "\n",
            "=================================================================\n",
            "\n",
            "Probability values of each feature \n",
            "\n",
            "[0.00000000e+000 0.00000000e+000 4.14008128e-308 9.81134621e-002\n",
            " 9.80921446e-003 1.46831314e-003 9.89816130e-002 5.63197769e-010\n",
            " 1.78339290e-032 1.89656796e-006 8.96079475e-013 5.37231258e-017\n",
            " 1.40458728e-021 6.69783820e-022 1.72038122e-009 4.07548848e-004\n",
            " 8.02769858e-022 1.09584955e-022 2.68572379e-026 1.52308896e-035\n",
            " 6.37767542e-027 1.71824583e-025 3.63457252e-030 4.32189983e-021\n",
            " 1.44119306e-020 1.44620470e-028 1.84774341e-030 7.57491403e-032\n",
            " 1.51529231e-012 1.74731570e-004 0.00000000e+000 0.00000000e+000\n",
            " 0.00000000e+000 0.00000000e+000 0.00000000e+000 0.00000000e+000]\n",
            "\n",
            "\n",
            "Feature at index 6 is removed \n",
            "\n",
            "34 dimensions remaining now... \n",
            "\n",
            "=================================================================\n",
            "\n",
            "Probability values of each feature \n",
            "\n",
            "[0.00000000e+000 0.00000000e+000 4.05333206e-308 1.04830691e-001\n",
            " 9.57623781e-003 1.69924147e-003 2.68302817e-011 3.05911833e-035\n",
            " 1.84853185e-006 8.63454096e-013 5.11319532e-017 1.35189049e-021\n",
            " 6.74388292e-022 1.79293413e-009 3.92872234e-004 7.66760548e-022\n",
            " 1.06863596e-022 2.62570181e-026 1.49622679e-035 6.16608946e-027\n",
            " 1.69200714e-025 3.69876319e-030 4.46819553e-021 1.48326482e-020\n",
            " 1.48196781e-028 1.91463520e-030 7.37080922e-032 1.44732725e-012\n",
            " 1.68612036e-004 0.00000000e+000 0.00000000e+000 0.00000000e+000\n",
            " 0.00000000e+000 0.00000000e+000 0.00000000e+000]\n",
            "\n",
            "\n",
            "Feature at index 3 is removed \n",
            "\n",
            "33 dimensions remaining now... \n",
            "\n",
            "=================================================================\n",
            "\n",
            "Final stat summary with optimal 33 features\n"
          ]
        },
        {
          "output_type": "execute_result",
          "data": {
            "text/plain": [
              "<class 'statsmodels.iolib.summary.Summary'>\n",
              "\"\"\"\n",
              "                                 OLS Regression Results                                \n",
              "=======================================================================================\n",
              "Dep. Variable:                      y   R-squared (uncentered):                   0.153\n",
              "Model:                            OLS   Adj. R-squared (uncentered):              0.153\n",
              "Method:                 Least Squares   F-statistic:                              7745.\n",
              "Date:                Tue, 14 Mar 2023   Prob (F-statistic):                        0.00\n",
              "Time:                        16:58:33   Log-Likelihood:                     -1.3623e+07\n",
              "No. Observations:             1453811   AIC:                                  2.725e+07\n",
              "Df Residuals:                 1453777   BIC:                                  2.725e+07\n",
              "Df Model:                          34                                                  \n",
              "Covariance Type:            nonrobust                                                  \n",
              "==============================================================================\n",
              "                 coef    std err          t      P>|t|      [0.025      0.975]\n",
              "------------------------------------------------------------------------------\n",
              "x1           228.6199      0.726    314.845      0.000     227.197     230.043\n",
              "x2           -87.4717      0.394   -222.050      0.000     -88.244     -86.700\n",
              "x3           185.7224      4.948     37.531      0.000     176.024     195.421\n",
              "x4            14.3769      6.398      2.247      0.025       1.836      26.918\n",
              "x5            18.4692      6.553      2.819      0.005       5.626      31.312\n",
              "x6            44.8044      6.758      6.629      0.000      31.558      58.051\n",
              "x7            88.8915      7.190     12.364      0.000      74.800     102.983\n",
              "x8            75.6033     15.858      4.768      0.000      44.522     106.684\n",
              "x9           130.0909     18.213      7.143      0.000      94.393     165.789\n",
              "x10          173.9868     20.754      8.383      0.000     133.310     214.664\n",
              "x11          225.1705     23.584      9.548      0.000     178.947     271.394\n",
              "x12          232.6885     24.190      9.619      0.000     185.278     280.099\n",
              "x13          101.8353     16.923      6.017      0.000      68.666     135.004\n",
              "x14          -48.4034     13.662     -3.543      0.000     -75.180     -21.627\n",
              "x15         -122.5362     12.760     -9.603      0.000    -147.545     -97.527\n",
              "x16         -124.6332     12.709     -9.806      0.000    -149.543     -99.723\n",
              "x17         -136.4258     12.857    -10.611      0.000    -161.625    -111.226\n",
              "x18         -157.5283     12.658    -12.445      0.000    -182.337    -132.719\n",
              "x19         -133.6872     12.441    -10.746      0.000    -158.071    -109.303\n",
              "x20         -130.0589     12.463    -10.436      0.000    -154.486    -105.632\n",
              "x21         -140.3987     12.304    -11.411      0.000    -164.514    -116.284\n",
              "x22         -117.4328     12.462     -9.423      0.000    -141.859     -93.007\n",
              "x23         -120.4578     12.961     -9.294      0.000    -145.861     -95.054\n",
              "x24         -134.7737     12.158    -11.086      0.000    -158.602    -110.945\n",
              "x25         -131.2997     11.452    -11.465      0.000    -153.745    -108.854\n",
              "x26         -134.1589     11.423    -11.744      0.000    -156.549    -111.769\n",
              "x27          -82.6733     11.679     -7.079      0.000    -105.564     -59.783\n",
              "x28          -43.8670     11.667     -3.760      0.000     -66.733     -21.001\n",
              "x29         1362.0413      9.098    149.709      0.000    1344.210    1379.873\n",
              "x30         1344.1856     10.670    125.977      0.000    1323.273    1365.099\n",
              "x31         1362.1032     14.564     93.523      0.000    1333.558    1390.649\n",
              "x32         1369.4187     18.980     72.151      0.000    1332.219    1406.619\n",
              "x33         1368.7505     14.031     97.549      0.000    1341.249    1396.252\n",
              "x34         1370.4601     16.195     84.623      0.000    1338.719    1402.202\n",
              "==============================================================================\n",
              "Omnibus:                  3660926.530   Durbin-Watson:                   2.001\n",
              "Prob(Omnibus):                  0.000   Jarque-Bera (JB):      41182616399.685\n",
              "Skew:                          28.368   Prob(JB):                         0.00\n",
              "Kurtosis:                     825.580   Cond. No.                         263.\n",
              "==============================================================================\n",
              "\n",
              "Notes:\n",
              "[1] R² is computed without centering (uncentered) since the model does not contain a constant.\n",
              "[2] Standard Errors assume that the covariance matrix of the errors is correctly specified.\n",
              "\"\"\""
            ],
            "text/html": [
              "<table class=\"simpletable\">\n",
              "<caption>OLS Regression Results</caption>\n",
              "<tr>\n",
              "  <th>Dep. Variable:</th>            <td>y</td>        <th>  R-squared (uncentered):</th>       <td>   0.153</td>  \n",
              "</tr>\n",
              "<tr>\n",
              "  <th>Model:</th>                   <td>OLS</td>       <th>  Adj. R-squared (uncentered):</th>  <td>   0.153</td>  \n",
              "</tr>\n",
              "<tr>\n",
              "  <th>Method:</th>             <td>Least Squares</td>  <th>  F-statistic:       </th>           <td>   7745.</td>  \n",
              "</tr>\n",
              "<tr>\n",
              "  <th>Date:</th>             <td>Tue, 14 Mar 2023</td> <th>  Prob (F-statistic):</th>            <td>  0.00</td>   \n",
              "</tr>\n",
              "<tr>\n",
              "  <th>Time:</th>                 <td>16:58:33</td>     <th>  Log-Likelihood:    </th>          <td>-1.3623e+07</td>\n",
              "</tr>\n",
              "<tr>\n",
              "  <th>No. Observations:</th>      <td>1453811</td>     <th>  AIC:               </th>           <td>2.725e+07</td> \n",
              "</tr>\n",
              "<tr>\n",
              "  <th>Df Residuals:</th>          <td>1453777</td>     <th>  BIC:               </th>           <td>2.725e+07</td> \n",
              "</tr>\n",
              "<tr>\n",
              "  <th>Df Model:</th>              <td>    34</td>      <th>                     </th>               <td> </td>     \n",
              "</tr>\n",
              "<tr>\n",
              "  <th>Covariance Type:</th>      <td>nonrobust</td>    <th>                     </th>               <td> </td>     \n",
              "</tr>\n",
              "</table>\n",
              "<table class=\"simpletable\">\n",
              "<tr>\n",
              "   <td></td>      <th>coef</th>     <th>std err</th>      <th>t</th>      <th>P>|t|</th>  <th>[0.025</th>    <th>0.975]</th>  \n",
              "</tr>\n",
              "<tr>\n",
              "  <th>x1</th>  <td>  228.6199</td> <td>    0.726</td> <td>  314.845</td> <td> 0.000</td> <td>  227.197</td> <td>  230.043</td>\n",
              "</tr>\n",
              "<tr>\n",
              "  <th>x2</th>  <td>  -87.4717</td> <td>    0.394</td> <td> -222.050</td> <td> 0.000</td> <td>  -88.244</td> <td>  -86.700</td>\n",
              "</tr>\n",
              "<tr>\n",
              "  <th>x3</th>  <td>  185.7224</td> <td>    4.948</td> <td>   37.531</td> <td> 0.000</td> <td>  176.024</td> <td>  195.421</td>\n",
              "</tr>\n",
              "<tr>\n",
              "  <th>x4</th>  <td>   14.3769</td> <td>    6.398</td> <td>    2.247</td> <td> 0.025</td> <td>    1.836</td> <td>   26.918</td>\n",
              "</tr>\n",
              "<tr>\n",
              "  <th>x5</th>  <td>   18.4692</td> <td>    6.553</td> <td>    2.819</td> <td> 0.005</td> <td>    5.626</td> <td>   31.312</td>\n",
              "</tr>\n",
              "<tr>\n",
              "  <th>x6</th>  <td>   44.8044</td> <td>    6.758</td> <td>    6.629</td> <td> 0.000</td> <td>   31.558</td> <td>   58.051</td>\n",
              "</tr>\n",
              "<tr>\n",
              "  <th>x7</th>  <td>   88.8915</td> <td>    7.190</td> <td>   12.364</td> <td> 0.000</td> <td>   74.800</td> <td>  102.983</td>\n",
              "</tr>\n",
              "<tr>\n",
              "  <th>x8</th>  <td>   75.6033</td> <td>   15.858</td> <td>    4.768</td> <td> 0.000</td> <td>   44.522</td> <td>  106.684</td>\n",
              "</tr>\n",
              "<tr>\n",
              "  <th>x9</th>  <td>  130.0909</td> <td>   18.213</td> <td>    7.143</td> <td> 0.000</td> <td>   94.393</td> <td>  165.789</td>\n",
              "</tr>\n",
              "<tr>\n",
              "  <th>x10</th> <td>  173.9868</td> <td>   20.754</td> <td>    8.383</td> <td> 0.000</td> <td>  133.310</td> <td>  214.664</td>\n",
              "</tr>\n",
              "<tr>\n",
              "  <th>x11</th> <td>  225.1705</td> <td>   23.584</td> <td>    9.548</td> <td> 0.000</td> <td>  178.947</td> <td>  271.394</td>\n",
              "</tr>\n",
              "<tr>\n",
              "  <th>x12</th> <td>  232.6885</td> <td>   24.190</td> <td>    9.619</td> <td> 0.000</td> <td>  185.278</td> <td>  280.099</td>\n",
              "</tr>\n",
              "<tr>\n",
              "  <th>x13</th> <td>  101.8353</td> <td>   16.923</td> <td>    6.017</td> <td> 0.000</td> <td>   68.666</td> <td>  135.004</td>\n",
              "</tr>\n",
              "<tr>\n",
              "  <th>x14</th> <td>  -48.4034</td> <td>   13.662</td> <td>   -3.543</td> <td> 0.000</td> <td>  -75.180</td> <td>  -21.627</td>\n",
              "</tr>\n",
              "<tr>\n",
              "  <th>x15</th> <td> -122.5362</td> <td>   12.760</td> <td>   -9.603</td> <td> 0.000</td> <td> -147.545</td> <td>  -97.527</td>\n",
              "</tr>\n",
              "<tr>\n",
              "  <th>x16</th> <td> -124.6332</td> <td>   12.709</td> <td>   -9.806</td> <td> 0.000</td> <td> -149.543</td> <td>  -99.723</td>\n",
              "</tr>\n",
              "<tr>\n",
              "  <th>x17</th> <td> -136.4258</td> <td>   12.857</td> <td>  -10.611</td> <td> 0.000</td> <td> -161.625</td> <td> -111.226</td>\n",
              "</tr>\n",
              "<tr>\n",
              "  <th>x18</th> <td> -157.5283</td> <td>   12.658</td> <td>  -12.445</td> <td> 0.000</td> <td> -182.337</td> <td> -132.719</td>\n",
              "</tr>\n",
              "<tr>\n",
              "  <th>x19</th> <td> -133.6872</td> <td>   12.441</td> <td>  -10.746</td> <td> 0.000</td> <td> -158.071</td> <td> -109.303</td>\n",
              "</tr>\n",
              "<tr>\n",
              "  <th>x20</th> <td> -130.0589</td> <td>   12.463</td> <td>  -10.436</td> <td> 0.000</td> <td> -154.486</td> <td> -105.632</td>\n",
              "</tr>\n",
              "<tr>\n",
              "  <th>x21</th> <td> -140.3987</td> <td>   12.304</td> <td>  -11.411</td> <td> 0.000</td> <td> -164.514</td> <td> -116.284</td>\n",
              "</tr>\n",
              "<tr>\n",
              "  <th>x22</th> <td> -117.4328</td> <td>   12.462</td> <td>   -9.423</td> <td> 0.000</td> <td> -141.859</td> <td>  -93.007</td>\n",
              "</tr>\n",
              "<tr>\n",
              "  <th>x23</th> <td> -120.4578</td> <td>   12.961</td> <td>   -9.294</td> <td> 0.000</td> <td> -145.861</td> <td>  -95.054</td>\n",
              "</tr>\n",
              "<tr>\n",
              "  <th>x24</th> <td> -134.7737</td> <td>   12.158</td> <td>  -11.086</td> <td> 0.000</td> <td> -158.602</td> <td> -110.945</td>\n",
              "</tr>\n",
              "<tr>\n",
              "  <th>x25</th> <td> -131.2997</td> <td>   11.452</td> <td>  -11.465</td> <td> 0.000</td> <td> -153.745</td> <td> -108.854</td>\n",
              "</tr>\n",
              "<tr>\n",
              "  <th>x26</th> <td> -134.1589</td> <td>   11.423</td> <td>  -11.744</td> <td> 0.000</td> <td> -156.549</td> <td> -111.769</td>\n",
              "</tr>\n",
              "<tr>\n",
              "  <th>x27</th> <td>  -82.6733</td> <td>   11.679</td> <td>   -7.079</td> <td> 0.000</td> <td> -105.564</td> <td>  -59.783</td>\n",
              "</tr>\n",
              "<tr>\n",
              "  <th>x28</th> <td>  -43.8670</td> <td>   11.667</td> <td>   -3.760</td> <td> 0.000</td> <td>  -66.733</td> <td>  -21.001</td>\n",
              "</tr>\n",
              "<tr>\n",
              "  <th>x29</th> <td> 1362.0413</td> <td>    9.098</td> <td>  149.709</td> <td> 0.000</td> <td> 1344.210</td> <td> 1379.873</td>\n",
              "</tr>\n",
              "<tr>\n",
              "  <th>x30</th> <td> 1344.1856</td> <td>   10.670</td> <td>  125.977</td> <td> 0.000</td> <td> 1323.273</td> <td> 1365.099</td>\n",
              "</tr>\n",
              "<tr>\n",
              "  <th>x31</th> <td> 1362.1032</td> <td>   14.564</td> <td>   93.523</td> <td> 0.000</td> <td> 1333.558</td> <td> 1390.649</td>\n",
              "</tr>\n",
              "<tr>\n",
              "  <th>x32</th> <td> 1369.4187</td> <td>   18.980</td> <td>   72.151</td> <td> 0.000</td> <td> 1332.219</td> <td> 1406.619</td>\n",
              "</tr>\n",
              "<tr>\n",
              "  <th>x33</th> <td> 1368.7505</td> <td>   14.031</td> <td>   97.549</td> <td> 0.000</td> <td> 1341.249</td> <td> 1396.252</td>\n",
              "</tr>\n",
              "<tr>\n",
              "  <th>x34</th> <td> 1370.4601</td> <td>   16.195</td> <td>   84.623</td> <td> 0.000</td> <td> 1338.719</td> <td> 1402.202</td>\n",
              "</tr>\n",
              "</table>\n",
              "<table class=\"simpletable\">\n",
              "<tr>\n",
              "  <th>Omnibus:</th>       <td>3660926.530</td> <th>  Durbin-Watson:     </th>    <td>   2.001</td>    \n",
              "</tr>\n",
              "<tr>\n",
              "  <th>Prob(Omnibus):</th>   <td> 0.000</td>    <th>  Jarque-Bera (JB):  </th> <td>41182616399.685</td>\n",
              "</tr>\n",
              "<tr>\n",
              "  <th>Skew:</th>            <td>28.368</td>    <th>  Prob(JB):          </th>    <td>    0.00</td>    \n",
              "</tr>\n",
              "<tr>\n",
              "  <th>Kurtosis:</th>        <td>825.580</td>   <th>  Cond. No.          </th>    <td>    263.</td>    \n",
              "</tr>\n",
              "</table><br/><br/>Notes:<br/>[1] R² is computed without centering (uncentered) since the model does not contain a constant.<br/>[2] Standard Errors assume that the covariance matrix of the errors is correctly specified."
            ]
          },
          "metadata": {},
          "execution_count": 78
        }
      ],
      "source": [
        "#Select all the features in X array\n",
        "X_opt = X1[:,range(0,46)]\n",
        "regressor_OLS = sm.OLS(endog = Y, exog = X_opt).fit()\n",
        "\n",
        "#Fetch p values for each feature\n",
        "p_Vals = regressor_OLS.pvalues\n",
        "\n",
        "#define significance level for accepting the feature.\n",
        "sig_Level = 0.05\n",
        "\n",
        "#Loop to iterate over features and remove the feature with p value less than the sig_level\n",
        "while max(p_Vals) > sig_Level:\n",
        "    print(\"Probability values of each feature \\n\")\n",
        "    print(p_Vals)\n",
        "    X_opt = np.delete(X_opt, np.argmax(p_Vals), axis = 1)\n",
        "    print(\"\\n\")\n",
        "    print(\"Feature at index {} is removed \\n\".format(str(np.argmax(p_Vals))))\n",
        "    print(str(X_opt.shape[1]-1) + \" dimensions remaining now... \\n\")\n",
        "    regressor_OLS = sm.OLS(endog = Y, exog = X_opt).fit()\n",
        "    p_Vals = regressor_OLS.pvalues\n",
        "    print(\"=================================================================\\n\")\n",
        "\n",
        "#Print final summary\n",
        "print(\"Final stat summary with optimal {} features\".format(str(X_opt.shape[1]-1)))\n",
        "regressor_OLS.summary()"
      ]
    },
    {
      "cell_type": "markdown",
      "metadata": {
        "id": "1eyvH-7UT2f1"
      },
      "source": [
        "Observations\n",
        "Finally we have reached the combination of optimum features with each feature having p value < 0.05."
      ]
    },
    {
      "cell_type": "markdown",
      "metadata": {
        "id": "Nf1ZI2pMUD7p"
      },
      "source": [
        "### **Split Data**"
      ]
    },
    {
      "cell_type": "markdown",
      "metadata": {
        "id": "hBu4bc30T-Pd"
      },
      "source": [
        "Before training our model on the dataset, we need to split the dataset into training and testing datasets. This is required to train our model on the major part of our dataset and test the accuracy of the model on the minor part. Let's split it"
      ]
    },
    {
      "cell_type": "code",
      "execution_count": 79,
      "metadata": {
        "id": "16uevdJMDydR"
      },
      "outputs": [],
      "source": [
        "#Split raw data\n",
        "X_train, X_test, y_train, y_test = train_test_split(X,Y, random_state=4, test_size=0.2)\n",
        "\n",
        "#Split data from the feature selection group\n",
        "X_train_fs, X_test_fs, y_train_fs, y_test_fs = train_test_split(X_opt,Y, random_state=4, test_size=0.2)"
      ]
    },
    {
      "cell_type": "markdown",
      "metadata": {
        "id": "t4K1DjHjUQ2w"
      },
      "source": [
        "This will divide our dataset randomly with a ratio of 80/20 where training set consists of more than 1 million records and test dataset with more than .35 million records. Let's train our model on the training set now."
      ]
    },
    {
      "cell_type": "markdown",
      "metadata": {
        "id": "rRpH_b74UVus"
      },
      "source": [
        "## **Feature Extraction**"
      ]
    },
    {
      "cell_type": "markdown",
      "metadata": {
        "id": "-QBADXphUZqG"
      },
      "source": [
        "We will use PCA for feature extraction i.e. Principal Component Analysis. It is a statistical procedure that uses an orthogonal transformation to convert a set of observations of possibly correlated variables into a set of values of linearly uncorrelated variables called principal components"
      ]
    },
    {
      "cell_type": "markdown",
      "metadata": {
        "id": "O634_k0DUllH"
      },
      "source": [
        "Split Data\n",
        "Lets split our data first before scaling the features"
      ]
    },
    {
      "cell_type": "code",
      "execution_count": 80,
      "metadata": {
        "id": "ZdXQUca0F9KM"
      },
      "outputs": [],
      "source": [
        "X_train_pca, X_test_pca, y_train_pca, y_test_pca = train_test_split(X,Y, random_state=4, test_size=0.2)"
      ]
    },
    {
      "cell_type": "markdown",
      "metadata": {
        "id": "iI95r77kUvDq"
      },
      "source": [
        "Scale Data\n"
      ]
    },
    {
      "cell_type": "markdown",
      "metadata": {
        "id": "MEAkA6TOU0S3"
      },
      "source": [
        "It is suggested to scale the input varibles first before applying PCA to standardise the variance and avoid the bias. Lets Scale the data using StandardScaler."
      ]
    },
    {
      "cell_type": "code",
      "execution_count": 81,
      "metadata": {
        "id": "OWmUpv8MU52s"
      },
      "outputs": [],
      "source": [
        "from sklearn.preprocessing import StandardScaler\n",
        "scaler = StandardScaler()\n",
        "X_train_pca = scaler.fit_transform(X_train_pca)\n",
        "X_test_pca = scaler.transform(X_test_pca)"
      ]
    },
    {
      "cell_type": "markdown",
      "metadata": {
        "id": "1_9_lw0NVC67"
      },
      "source": [
        "**PCA application**"
      ]
    },
    {
      "cell_type": "markdown",
      "metadata": {
        "id": "UWbwKaJbVFKD"
      },
      "source": [
        "Let's apply PCA technique on the training features to understand how many principal components should we select for our model to capture atleast 90% variance. For that we will take help of plot and cumsum function of numpy package."
      ]
    },
    {
      "cell_type": "code",
      "execution_count": 82,
      "metadata": {
        "colab": {
          "base_uri": "https://localhost:8080/",
          "height": 279
        },
        "id": "p-oir3iQGGlX",
        "outputId": "0ee96ba1-8a73-4b81-d016-1645f95ea706"
      },
      "outputs": [
        {
          "output_type": "display_data",
          "data": {
            "text/plain": [
              "<Figure size 432x288 with 1 Axes>"
            ],
            "image/png": "[encoded data removed]"
          },
          "metadata": {
            "needs_background": "light"
          }
        }
      ],
      "source": [
        "from sklearn.decomposition import PCA\n",
        "pca = PCA().fit(X_train_pca)\n",
        "plt.plot(np.cumsum(pca.explained_variance_ratio_))\n",
        "plt.xlabel(\"number of components\")\n",
        "plt.ylabel(\"Cumulative explained variance\")\n",
        "plt.show()"
      ]
    },
    {
      "cell_type": "code",
      "execution_count": 83,
      "metadata": {
        "colab": {
          "base_uri": "https://localhost:8080/"
        },
        "id": "WhHxB7L2GJ-W",
        "outputId": "5e128fdc-ab8b-43dd-f193-7c6d744abd69"
      },
      "outputs": [
        {
          "output_type": "execute_result",
          "data": {
            "text/plain": [
              "[(1, 4.32),\n",
              " (2, 8.26),\n",
              " (3, 11.29),\n",
              " (4, 14.149999999999999),\n",
              " (5, 16.979999999999997),\n",
              " (6, 19.759999999999998),\n",
              " (7, 22.509999999999998),\n",
              " (8, 25.229999999999997),\n",
              " (9, 27.9),\n",
              " (10, 30.56),\n",
              " (11, 33.14),\n",
              " (12, 35.71),\n",
              " (13, 38.13),\n",
              " (14, 40.550000000000004),\n",
              " (15, 42.970000000000006),\n",
              " (16, 45.38000000000001),\n",
              " (17, 47.790000000000006),\n",
              " (18, 50.190000000000005),\n",
              " (19, 52.59),\n",
              " (20, 54.980000000000004),\n",
              " (21, 57.370000000000005),\n",
              " (22, 59.760000000000005),\n",
              " (23, 62.14000000000001),\n",
              " (24, 64.52000000000001),\n",
              " (25, 66.9),\n",
              " (26, 69.28),\n",
              " (27, 71.65),\n",
              " (28, 74.02000000000001),\n",
              " (29, 76.37),\n",
              " (30, 78.7),\n",
              " (31, 81.03),\n",
              " (32, 83.35),\n",
              " (33, 85.66),\n",
              " (34, 87.97),\n",
              " (35, 90.27),\n",
              " (36, 92.53),\n",
              " (37, 94.64),\n",
              " (38, 96.58),\n",
              " (39, 98.28999999999999),\n",
              " (40, 99.14999999999999),\n",
              " (41, 99.58),\n",
              " (42, 99.92),\n",
              " (43, 100.01),\n",
              " (44, 100.01),\n",
              " (45, 100.01)]"
            ]
          },
          "metadata": {},
          "execution_count": 83
        }
      ],
      "source": [
        "arr = np.cumsum(np.round(pca.explained_variance_ratio_, decimals=4)*100)\n",
        "list(zip(range(1,len(arr)), arr))"
      ]
    },
    {
      "cell_type": "markdown",
      "metadata": {
        "id": "5oiYlZ5qVUVm"
      },
      "source": [
        "Observation\n",
        "\n",
        "*   Here we can see that almost 40 variables are needed for capturing atleast 99% of the variance in the training dataset. Hence we will use the same set of variables."
      ]
    },
    {
      "cell_type": "code",
      "execution_count": 84,
      "metadata": {
        "id": "WyA64SSPGOg1"
      },
      "outputs": [],
      "source": [
        "pca_10 = PCA(n_components=40)\n",
        "X_train_pca = pca_10.fit_transform(X_train_pca)\n",
        "X_test_pca = pca_10.transform(X_test_pca)"
      ]
    },
    {
      "cell_type": "markdown",
      "metadata": {
        "id": "KtJFFXNzWMBa"
      },
      "source": [
        "PCA is applied on the training and the test dataset. Our input features are now ready for the regression."
      ]
    },
    {
      "cell_type": "markdown",
      "metadata": {
        "id": "sEZl362eWQ-W"
      },
      "source": [
        "### Correlation Analysis"
      ]
    },
    {
      "cell_type": "markdown",
      "metadata": {
        "id": "h92aufOCWTwO"
      },
      "source": [
        "Correlation analysis is a method of statistical evaluation used to study the strength of a relationship between two or more, numerically measured, continuous variables. This analysis is useful when we need to check if there are possible connections between variables. We will utilize Heatmap for our analysis."
      ]
    },
    {
      "cell_type": "markdown",
      "metadata": {
        "id": "_bwHr8E5WYhE"
      },
      "source": [
        "Heatmap"
      ]
    },
    {
      "cell_type": "markdown",
      "metadata": {
        "id": "hdJEukiMWb5b"
      },
      "source": [
        "A heatmap is a graphical representation of data that uses a system of color-coding to represent statistical relationship between different values.\n",
        "\n",
        "Let's plot the relationship between the features of the Feature selection group first"
      ]
    },
    {
      "cell_type": "code",
      "execution_count": 85,
      "metadata": {
        "colab": {
          "base_uri": "https://localhost:8080/",
          "height": 856
        },
        "id": "cQZankZAWKT9",
        "outputId": "e9cdec0e-e7b9-4b2f-f102-98f922446bbe"
      },
      "outputs": [
        {
          "output_type": "display_data",
          "data": {
            "text/plain": [
              "<Figure size 1080x1080 with 2 Axes>"
            ],
            "image/png": "[encoded data removed]"
          },
          "metadata": {
            "needs_background": "light"
          }
        }
      ],
      "source": [
        "plt.figure(figsize=(15,15))\n",
        "corr = pd.DataFrame(X_train_fs[:,1:]).corr()\n",
        "corr.index = pd.DataFrame(X_train_fs[:,1:]).columns\n",
        "sns.heatmap(corr, cmap='RdYlGn', vmin=-1, vmax=1, square=True)\n",
        "plt.title(\"Correlation Heatmap\", fontsize=16)\n",
        "plt.show()"
      ]
    },
    {
      "cell_type": "markdown",
      "metadata": {
        "id": "iGMjqxGiWjCU"
      },
      "source": [
        "Observations\n",
        "\n",
        "\n",
        "*   Some combinations of features shows slight correlation but not above 0.5.\n",
        "\n",
        "\n",
        "*   Some features are infact negatively correlated.\n",
        "\n",
        "*   But most of the features shows no correlation. Which is a good thing.\n",
        "\n",
        "\n",
        "All in all, we have a very good pack of attributes to train our model. Let's move ahead.\n"
      ]
    },
    {
      "cell_type": "markdown",
      "metadata": {
        "id": "Fymh64bva7A_"
      },
      "source": [
        "Let's now plot the relationship between the features of the Feature extraction group."
      ]
    },
    {
      "cell_type": "code",
      "execution_count": 86,
      "metadata": {
        "colab": {
          "base_uri": "https://localhost:8080/",
          "height": 856
        },
        "id": "1Z5_bp8Ta9iG",
        "outputId": "ab617180-395e-4be7-82fa-7e372fb77623"
      },
      "outputs": [
        {
          "output_type": "display_data",
          "data": {
            "text/plain": [
              "<Figure size 1080x1080 with 2 Axes>"
            ],
            "image/png": "[encoded data removed]"
          },
          "metadata": {
            "needs_background": "light"
          }
        }
      ],
      "source": [
        "plt.figure(figsize=(15,15))\n",
        "corr = pd.DataFrame(X_train_pca).corr()\n",
        "corr.index = pd.DataFrame(X_train_pca).columns\n",
        "sns.heatmap(corr, cmap='RdYlGn', vmin=-1, vmax=1, square=True)\n",
        "plt.title(\"Correlation Heatmap\", fontsize=16)\n",
        "plt.show()"
      ]
    },
    {
      "cell_type": "markdown",
      "metadata": {
        "id": "bvCwhpgKbFEM"
      },
      "source": [
        "Observations\n",
        "*   All of the features shows NO correlation at all. Because feature extraction removes all collinearity."
      ]
    },
    {
      "cell_type": "markdown",
      "metadata": {
        "id": "FRwVgfG5bMCM"
      },
      "source": [
        "Let's move on to the Model now."
      ]
    },
    {
      "cell_type": "markdown",
      "metadata": {
        "id": "7liGU31AGdb5"
      },
      "source": [
        "### Model\n",
        "\n",
        "---\n",
        "We need a model to train on our dataset to serve our purpose of prediciting the NYC taxi trip duration given the other features as training and test set. Since our dependent variable contains continous values so we will use regression technique to predict our output."
      ]
    },
    {
      "cell_type": "markdown",
      "metadata": {
        "id": "m7-CGn1JGmNm"
      },
      "source": [
        "### Multiple Linear Regression\n",
        "\n",
        "---\n",
        "It is used to explain the relationship between one continuous dependent variable and two or more independent variables. Let's proceed"
      ]
    },
    {
      "cell_type": "markdown",
      "metadata": {
        "id": "50ciGa6oGuMu"
      },
      "source": [
        "### Model training\n",
        "\n",
        "---\n",
        "We will first try with the default instantiation of the regressor object without using any generalization parameter. We will also not perform any scaling of the features because linear regression model takes care of that inherently. This is a plus point to use Linear regression model. It is quite fast to train even on very large datasets. So considering the size of our dataset this seems to be the correct approach as of now. Let's see how it performs."
      ]
    },
    {
      "cell_type": "code",
      "execution_count": 87,
      "metadata": {
        "colab": {
          "base_uri": "https://localhost:8080/",
          "height": 75
        },
        "id": "bElzHKeXGsSg",
        "outputId": "541949ab-3b04-43cf-d062-39e35119fd1f"
      },
      "outputs": [
        {
          "output_type": "execute_result",
          "data": {
            "text/plain": [
              "LinearRegression()"
            ],
            "text/html": [
              "<style>#sk-container-id-1 {color: black;background-color: white;}#sk-container-id-1 pre{padding: 0;}#sk-container-id-1 div.sk-toggleable {background-color: white;}#sk-container-id-1 label.sk-toggleable__label {cursor: pointer;display: block;width: 100%;margin-bottom: 0;padding: 0.3em;box-sizing: border-box;text-align: center;}#sk-container-id-1 label.sk-toggleable__label-arrow:before {content: \"▸\";float: left;margin-right: 0.25em;color: #696969;}#sk-container-id-1 label.sk-toggleable__label-arrow:hover:before {color: black;}#sk-container-id-1 div.sk-estimator:hover label.sk-toggleable__label-arrow:before {color: black;}#sk-container-id-1 div.sk-toggleable__content {max-height: 0;max-width: 0;overflow: hidden;text-align: left;background-color: #f0f8ff;}#sk-container-id-1 div.sk-toggleable__content pre {margin: 0.2em;color: black;border-radius: 0.25em;background-color: #f0f8ff;}#sk-container-id-1 input.sk-toggleable__control:checked~div.sk-toggleable__content {max-height: 200px;max-width: 100%;overflow: auto;}#sk-container-id-1 input.sk-toggleable__control:checked~label.sk-toggleable__label-arrow:before {content: \"▾\";}#sk-container-id-1 div.sk-estimator input.sk-toggleable__control:checked~label.sk-toggleable__label {background-color: #d4ebff;}#sk-container-id-1 div.sk-label input.sk-toggleable__control:checked~label.sk-toggleable__label {background-color: #d4ebff;}#sk-container-id-1 input.sk-hidden--visually {border: 0;clip: rect(1px 1px 1px 1px);clip: rect(1px, 1px, 1px, 1px);height: 1px;margin: -1px;overflow: hidden;padding: 0;position: absolute;width: 1px;}#sk-container-id-1 div.sk-estimator {font-family: monospace;background-color: #f0f8ff;border: 1px dotted black;border-radius: 0.25em;box-sizing: border-box;margin-bottom: 0.5em;}#sk-container-id-1 div.sk-estimator:hover {background-color: #d4ebff;}#sk-container-id-1 div.sk-parallel-item::after {content: \"\";width: 100%;border-bottom: 1px solid gray;flex-grow: 1;}#sk-container-id-1 div.sk-label:hover label.sk-toggleable__label {background-color: #d4ebff;}#sk-container-id-1 div.sk-serial::before {content: \"\";position: absolute;border-left: 1px solid gray;box-sizing: border-box;top: 0;bottom: 0;left: 50%;z-index: 0;}#sk-container-id-1 div.sk-serial {display: flex;flex-direction: column;align-items: center;background-color: white;padding-right: 0.2em;padding-left: 0.2em;position: relative;}#sk-container-id-1 div.sk-item {position: relative;z-index: 1;}#sk-container-id-1 div.sk-parallel {display: flex;align-items: stretch;justify-content: center;background-color: white;position: relative;}#sk-container-id-1 div.sk-item::before, #sk-container-id-1 div.sk-parallel-item::before {content: \"\";position: absolute;border-left: 1px solid gray;box-sizing: border-box;top: 0;bottom: 0;left: 50%;z-index: -1;}#sk-container-id-1 div.sk-parallel-item {display: flex;flex-direction: column;z-index: 1;position: relative;background-color: white;}#sk-container-id-1 div.sk-parallel-item:first-child::after {align-self: flex-end;width: 50%;}#sk-container-id-1 div.sk-parallel-item:last-child::after {align-self: flex-start;width: 50%;}#sk-container-id-1 div.sk-parallel-item:only-child::after {width: 0;}#sk-container-id-1 div.sk-dashed-wrapped {border: 1px dashed gray;margin: 0 0.4em 0.5em 0.4em;box-sizing: border-box;padding-bottom: 0.4em;background-color: white;}#sk-container-id-1 div.sk-label label {font-family: monospace;font-weight: bold;display: inline-block;line-height: 1.2em;}#sk-container-id-1 div.sk-label-container {text-align: center;}#sk-container-id-1 div.sk-container {/* jupyter's `normalize.less` sets `[hidden] { display: none; }` but bootstrap.min.css set `[hidden] { display: none !important; }` so we also need the `!important` here to be able to override the default hidden behavior on the sphinx rendered scikit-learn.org. See: https://github.com/scikit-learn/scikit-learn/issues/21755 */display: inline-block !important;position: relative;}#sk-container-id-1 div.sk-text-repr-fallback {display: none;}</style><div id=\"sk-container-id-1\" class=\"sk-top-container\"><div class=\"sk-text-repr-fallback\"><pre>LinearRegression()</pre><b>In a Jupyter environment, please rerun this cell to show the HTML representation or trust the notebook. <br />On GitHub, the HTML representation is unable to render, please try loading this page with nbviewer.org.</b></div><div class=\"sk-container\" hidden><div class=\"sk-item\"><div class=\"sk-estimator sk-toggleable\"><input class=\"sk-toggleable__control sk-hidden--visually\" id=\"sk-estimator-id-1\" type=\"checkbox\" checked><label for=\"sk-estimator-id-1\" class=\"sk-toggleable__label sk-toggleable__label-arrow\">LinearRegression</label><div class=\"sk-toggleable__content\"><pre>LinearRegression()</pre></div></div></div></div></div>"
            ]
          },
          "metadata": {},
          "execution_count": 87
        }
      ],
      "source": [
        "#Linear regressor for the raw data\n",
        "regressor = LinearRegression() \n",
        "regressor.fit(X_train,y_train) \n",
        "\n",
        "#Linear regressor for the Feature selection group\n",
        "regressor1 = LinearRegression() \n",
        "regressor1.fit(X_train_fs,y_train_fs) \n",
        "\n",
        "#Linear regressor for the Feature extraction group\n",
        "regressor2 = LinearRegression() \n",
        "regressor2.fit(X_train_pca,y_train_pca) "
      ]
    },
    {
      "cell_type": "markdown",
      "metadata": {
        "id": "1sI-or-AG3Tv"
      },
      "source": [
        "Interesting find:\n",
        "\n",
        "\n",
        "*   It took approx 1 second to train the model on dataset of more than 1 million records.\n",
        "\n",
        "*   It is evident that Linear regression model is extremely fast to train on the high dimension datasets consisting of even millions of records.\n",
        "\n",
        "*   Linear regression object for the feature extraction group took less time to train on the input features.\n"
      ]
    },
    {
      "cell_type": "markdown",
      "metadata": {
        "id": "xXNGaKO4JMSq"
      },
      "source": [
        "### Model prediction\n",
        "\n",
        "---\n",
        "So now, our model has been fitted to the training set. It's time to predict the dependent variable. Let's do that now."
      ]
    },
    {
      "cell_type": "code",
      "execution_count": 88,
      "metadata": {
        "id": "Cr1TI5KUJVnw"
      },
      "outputs": [],
      "source": [
        "#Predict from the test features of raw data\n",
        "y_pred = regressor.predict(X_test) \n",
        "\n",
        "#Predict from the test features of Feature Selection group\n",
        "y_pred = regressor1.predict(X_test_fs) \n",
        "\n",
        "#Predict from the test features of Feature Extraction group\n",
        "y_pred_pca = regressor2.predict(X_test_pca) "
      ]
    },
    {
      "cell_type": "markdown",
      "metadata": {
        "id": "vgfJ8IR4JXwm"
      },
      "source": [
        "### Model evaluation\n",
        "---\n",
        "We will evaluate our model's accuracy through two suggested metrics for the regression models. i.e. RMSE and variance score. Where RMSE of 0 and variance of 1 is considered as the best score for a prediction model."
      ]
    },
    {
      "cell_type": "code",
      "execution_count": 89,
      "metadata": {
        "colab": {
          "base_uri": "https://localhost:8080/"
        },
        "id": "51y7r-HvJeBJ",
        "outputId": "c1ebc203-b420-4dbc-84bf-0ac143bf816d"
      },
      "outputs": [
        {
          "output_type": "stream",
          "name": "stdout",
          "text": [
            "RMSE score for the Multiple LR raw is : 2739.010998931892\n",
            "Variance score for the Multiple LR raw is : 0.07\n",
            "\n",
            "\n",
            "RMSE score for the Multiple LR FS is : 2739.010998931892\n",
            "Variance score for the Multiple LR FS is : 0.07\n",
            "\n",
            "\n",
            "RMSE score for the Multiple LR PCA is : 2739.1503151243\n",
            "Variance score for the Multiple LR PCA is : 0.07\n"
          ]
        }
      ],
      "source": [
        "#Evaluate the regressor on the raw data\n",
        "print('RMSE score for the Multiple LR raw is : {}'.format(np.sqrt(metrics.mean_squared_error(y_test,y_pred))))\n",
        "print('Variance score for the Multiple LR raw is : %.2f' % regressor.score(X_test, y_test))\n",
        "print(\"\\n\")\n",
        "\n",
        "#Evaluate the regressor on the Feature selection group\n",
        "print('RMSE score for the Multiple LR FS is : {}'.format(np.sqrt(metrics.mean_squared_error(y_test_fs,y_pred))))\n",
        "print('Variance score for the Multiple LR FS is : %.2f' % regressor1.score(X_test_fs, y_test_fs))\n",
        "print(\"\\n\")\n",
        "\n",
        "#Evaluate the regressor on the Feature extraction group\n",
        "print('RMSE score for the Multiple LR PCA is : {}'.format(np.sqrt(metrics.mean_squared_error(y_test_pca,y_pred_pca))))\n",
        "print('Variance score for the Multiple LR PCA is : %.2f' % regressor2.score(X_test_pca, y_test_pca))"
      ]
    },
    {
      "cell_type": "markdown",
      "metadata": {
        "id": "U0cRx3SvJnDV"
      },
      "source": [
        "**Observations**\n",
        "\n",
        "\n",
        "*   Very poor Root mean squared value.\n",
        "*   And the low variance score which is also bad.\n",
        "*   Both the models i.e. from the feature selection and the feature extraction group resulted quite bad in prediction."
      ]
    },
    {
      "cell_type": "markdown",
      "metadata": {
        "id": "yzdqKhJ4J20F"
      },
      "source": [
        "Let's find out the reason of this behaviour:-"
      ]
    },
    {
      "cell_type": "code",
      "execution_count": 90,
      "metadata": {
        "colab": {
          "base_uri": "https://localhost:8080/"
        },
        "id": "Of_rHJEFKCnA",
        "outputId": "41b58d30-68ee-415b-e1d2-5a1b36ea4d7c"
      },
      "outputs": [
        {
          "output_type": "execute_result",
          "data": {
            "text/plain": [
              "(1163048, 46)"
            ]
          },
          "metadata": {},
          "execution_count": 90
        }
      ],
      "source": [
        "X_train.shape"
      ]
    },
    {
      "cell_type": "code",
      "execution_count": 91,
      "metadata": {
        "colab": {
          "base_uri": "https://localhost:8080/",
          "height": 1000
        },
        "id": "twFks2wEKFRr",
        "outputId": "ab8f190b-05f0-4d43-9d8d-c5a240f297d3"
      },
      "outputs": [
        {
          "output_type": "execute_result",
          "data": {
            "text/plain": [
              "          Value\n",
              "0 vs 46    0.18\n",
              "1 vs 46   -0.05\n",
              "3 vs 46    0.03\n",
              "38 vs 46  -0.01\n",
              "29 vs 46   0.01\n",
              "20 vs 46  -0.01\n",
              "30 vs 46   0.01\n",
              "8 vs 46    0.01\n",
              "28 vs 46   0.01\n",
              "42 vs 46   0.01\n",
              "4 vs 46   -0.01\n",
              "7 vs 46    0.01\n",
              "21 vs 46  -0.01\n",
              "11 vs 46   0.01\n",
              "31 vs 46   0.01\n",
              "14 vs 46  -0.01\n",
              "34 vs 46  -0.01\n",
              "12 vs 46   0.01\n",
              "33 vs 46  -0.01\n",
              "27 vs 46   0.01\n",
              "39 vs 46   0.01\n",
              "43 vs 46   0.00\n",
              "13 vs 46  -0.00\n",
              "41 vs 46   0.00\n",
              "40 vs 46   0.00\n",
              "19 vs 46  -0.00\n",
              "35 vs 46  -0.00\n",
              "26 vs 46   0.00\n",
              "15 vs 46  -0.00\n",
              "16 vs 46  -0.00\n",
              "2 vs 46    0.00\n",
              "10 vs 46   0.00\n",
              "5 vs 46   -0.00\n",
              "32 vs 46   0.00\n",
              "22 vs 46  -0.00\n",
              "37 vs 46  -0.00\n",
              "17 vs 46  -0.00\n",
              "24 vs 46  -0.00\n",
              "9 vs 46    0.00\n",
              "25 vs 46   0.00\n",
              "6 vs 46    0.00\n",
              "23 vs 46  -0.00\n",
              "18 vs 46  -0.00\n",
              "36 vs 46   0.00\n",
              "44 vs 46    NaN\n",
              "45 vs 46    NaN"
            ],
            "text/html": [
              "\n",
              "  <div id=\"df-a8b661b7-bcf8-4182-8565-10a42feb32d1\">\n",
              "    <div class=\"colab-df-container\">\n",
              "      <div>\n",
              "<style scoped>\n",
              "    .dataframe tbody tr th:only-of-type {\n",
              "        vertical-align: middle;\n",
              "    }\n",
              "\n",
              "    .dataframe tbody tr th {\n",
              "        vertical-align: top;\n",
              "    }\n",
              "\n",
              "    .dataframe thead th {\n",
              "        text-align: right;\n",
              "    }\n",
              "</style>\n",
              "<table border=\"1\" class=\"dataframe\">\n",
              "  <thead>\n",
              "    <tr style=\"text-align: right;\">\n",
              "      <th></th>\n",
              "      <th>Value</th>\n",
              "    </tr>\n",
              "  </thead>\n",
              "  <tbody>\n",
              "    <tr>\n",
              "      <th>0 vs 46</th>\n",
              "      <td>0.18</td>\n",
              "    </tr>\n",
              "    <tr>\n",
              "      <th>1 vs 46</th>\n",
              "      <td>-0.05</td>\n",
              "    </tr>\n",
              "    <tr>\n",
              "      <th>3 vs 46</th>\n",
              "      <td>0.03</td>\n",
              "    </tr>\n",
              "    <tr>\n",
              "      <th>38 vs 46</th>\n",
              "      <td>-0.01</td>\n",
              "    </tr>\n",
              "    <tr>\n",
              "      <th>29 vs 46</th>\n",
              "      <td>0.01</td>\n",
              "    </tr>\n",
              "    <tr>\n",
              "      <th>20 vs 46</th>\n",
              "      <td>-0.01</td>\n",
              "    </tr>\n",
              "    <tr>\n",
              "      <th>30 vs 46</th>\n",
              "      <td>0.01</td>\n",
              "    </tr>\n",
              "    <tr>\n",
              "      <th>8 vs 46</th>\n",
              "      <td>0.01</td>\n",
              "    </tr>\n",
              "    <tr>\n",
              "      <th>28 vs 46</th>\n",
              "      <td>0.01</td>\n",
              "    </tr>\n",
              "    <tr>\n",
              "      <th>42 vs 46</th>\n",
              "      <td>0.01</td>\n",
              "    </tr>\n",
              "    <tr>\n",
              "      <th>4 vs 46</th>\n",
              "      <td>-0.01</td>\n",
              "    </tr>\n",
              "    <tr>\n",
              "      <th>7 vs 46</th>\n",
              "      <td>0.01</td>\n",
              "    </tr>\n",
              "    <tr>\n",
              "      <th>21 vs 46</th>\n",
              "      <td>-0.01</td>\n",
              "    </tr>\n",
              "    <tr>\n",
              "      <th>11 vs 46</th>\n",
              "      <td>0.01</td>\n",
              "    </tr>\n",
              "    <tr>\n",
              "      <th>31 vs 46</th>\n",
              "      <td>0.01</td>\n",
              "    </tr>\n",
              "    <tr>\n",
              "      <th>14 vs 46</th>\n",
              "      <td>-0.01</td>\n",
              "    </tr>\n",
              "    <tr>\n",
              "      <th>34 vs 46</th>\n",
              "      <td>-0.01</td>\n",
              "    </tr>\n",
              "    <tr>\n",
              "      <th>12 vs 46</th>\n",
              "      <td>0.01</td>\n",
              "    </tr>\n",
              "    <tr>\n",
              "      <th>33 vs 46</th>\n",
              "      <td>-0.01</td>\n",
              "    </tr>\n",
              "    <tr>\n",
              "      <th>27 vs 46</th>\n",
              "      <td>0.01</td>\n",
              "    </tr>\n",
              "    <tr>\n",
              "      <th>39 vs 46</th>\n",
              "      <td>0.01</td>\n",
              "    </tr>\n",
              "    <tr>\n",
              "      <th>43 vs 46</th>\n",
              "      <td>0.00</td>\n",
              "    </tr>\n",
              "    <tr>\n",
              "      <th>13 vs 46</th>\n",
              "      <td>-0.00</td>\n",
              "    </tr>\n",
              "    <tr>\n",
              "      <th>41 vs 46</th>\n",
              "      <td>0.00</td>\n",
              "    </tr>\n",
              "    <tr>\n",
              "      <th>40 vs 46</th>\n",
              "      <td>0.00</td>\n",
              "    </tr>\n",
              "    <tr>\n",
              "      <th>19 vs 46</th>\n",
              "      <td>-0.00</td>\n",
              "    </tr>\n",
              "    <tr>\n",
              "      <th>35 vs 46</th>\n",
              "      <td>-0.00</td>\n",
              "    </tr>\n",
              "    <tr>\n",
              "      <th>26 vs 46</th>\n",
              "      <td>0.00</td>\n",
              "    </tr>\n",
              "    <tr>\n",
              "      <th>15 vs 46</th>\n",
              "      <td>-0.00</td>\n",
              "    </tr>\n",
              "    <tr>\n",
              "      <th>16 vs 46</th>\n",
              "      <td>-0.00</td>\n",
              "    </tr>\n",
              "    <tr>\n",
              "      <th>2 vs 46</th>\n",
              "      <td>0.00</td>\n",
              "    </tr>\n",
              "    <tr>\n",
              "      <th>10 vs 46</th>\n",
              "      <td>0.00</td>\n",
              "    </tr>\n",
              "    <tr>\n",
              "      <th>5 vs 46</th>\n",
              "      <td>-0.00</td>\n",
              "    </tr>\n",
              "    <tr>\n",
              "      <th>32 vs 46</th>\n",
              "      <td>0.00</td>\n",
              "    </tr>\n",
              "    <tr>\n",
              "      <th>22 vs 46</th>\n",
              "      <td>-0.00</td>\n",
              "    </tr>\n",
              "    <tr>\n",
              "      <th>37 vs 46</th>\n",
              "      <td>-0.00</td>\n",
              "    </tr>\n",
              "    <tr>\n",
              "      <th>17 vs 46</th>\n",
              "      <td>-0.00</td>\n",
              "    </tr>\n",
              "    <tr>\n",
              "      <th>24 vs 46</th>\n",
              "      <td>-0.00</td>\n",
              "    </tr>\n",
              "    <tr>\n",
              "      <th>9 vs 46</th>\n",
              "      <td>0.00</td>\n",
              "    </tr>\n",
              "    <tr>\n",
              "      <th>25 vs 46</th>\n",
              "      <td>0.00</td>\n",
              "    </tr>\n",
              "    <tr>\n",
              "      <th>6 vs 46</th>\n",
              "      <td>0.00</td>\n",
              "    </tr>\n",
              "    <tr>\n",
              "      <th>23 vs 46</th>\n",
              "      <td>-0.00</td>\n",
              "    </tr>\n",
              "    <tr>\n",
              "      <th>18 vs 46</th>\n",
              "      <td>-0.00</td>\n",
              "    </tr>\n",
              "    <tr>\n",
              "      <th>36 vs 46</th>\n",
              "      <td>0.00</td>\n",
              "    </tr>\n",
              "    <tr>\n",
              "      <th>44 vs 46</th>\n",
              "      <td>NaN</td>\n",
              "    </tr>\n",
              "    <tr>\n",
              "      <th>45 vs 46</th>\n",
              "      <td>NaN</td>\n",
              "    </tr>\n",
              "  </tbody>\n",
              "</table>\n",
              "</div>\n",
              "      <button class=\"colab-df-convert\" onclick=\"convertToInteractive('df-a8b661b7-bcf8-4182-8565-10a42feb32d1')\"\n",
              "              title=\"Convert this dataframe to an interactive table.\"\n",
              "              style=\"display:none;\">\n",
              "        \n",
              "  <svg xmlns=\"http://www.w3.org/2000/svg\" height=\"24px\"viewBox=\"0 0 24 24\"\n",
              "       width=\"24px\">\n",
              "    <path d=\"M0 0h24v24H0V0z\" fill=\"none\"/>\n",
              "    <path d=\"M18.56 5.44l.94 2.06.94-2.06 2.06-.94-2.06-.94-.94-2.06-.94 2.06-2.06.94zm-11 1L8.5 8.5l.94-2.06 2.06-.94-2.06-.94L8.5 2.5l-.94 2.06-2.06.94zm10 10l.94 2.06.94-2.06 2.06-.94-2.06-.94-.94-2.06-.94 2.06-2.06.94z\"/><path d=\"M17.41 7.96l-1.37-1.37c-.4-.4-.92-.59-1.43-.59-.52 0-1.04.2-1.43.59L10.3 9.45l-7.72 7.72c-.78.78-.78 2.05 0 2.83L4 21.41c.39.39.9.59 1.41.59.51 0 1.02-.2 1.41-.59l7.78-7.78 2.81-2.81c.8-.78.8-2.07 0-2.86zM5.41 20L4 18.59l7.72-7.72 1.47 1.35L5.41 20z\"/>\n",
              "  </svg>\n",
              "      </button>\n",
              "      \n",
              "  <style>\n",
              "    .colab-df-container {\n",
              "      display:flex;\n",
              "      flex-wrap:wrap;\n",
              "      gap: 12px;\n",
              "    }\n",
              "\n",
              "    .colab-df-convert {\n",
              "      background-color: #E8F0FE;\n",
              "      border: none;\n",
              "      border-radius: 50%;\n",
              "      cursor: pointer;\n",
              "      display: none;\n",
              "      fill: #1967D2;\n",
              "      height: 32px;\n",
              "      padding: 0 0 0 0;\n",
              "      width: 32px;\n",
              "    }\n",
              "\n",
              "    .colab-df-convert:hover {\n",
              "      background-color: #E2EBFA;\n",
              "      box-shadow: 0px 1px 2px rgba(60, 64, 67, 0.3), 0px 1px 3px 1px rgba(60, 64, 67, 0.15);\n",
              "      fill: #174EA6;\n",
              "    }\n",
              "\n",
              "    [theme=dark] .colab-df-convert {\n",
              "      background-color: #3B4455;\n",
              "      fill: #D2E3FC;\n",
              "    }\n",
              "\n",
              "    [theme=dark] .colab-df-convert:hover {\n",
              "      background-color: #434B5C;\n",
              "      box-shadow: 0px 1px 3px 1px rgba(0, 0, 0, 0.15);\n",
              "      filter: drop-shadow(0px 1px 2px rgba(0, 0, 0, 0.3));\n",
              "      fill: #FFFFFF;\n",
              "    }\n",
              "  </style>\n",
              "\n",
              "      <script>\n",
              "        const buttonEl =\n",
              "          document.querySelector('#df-a8b661b7-bcf8-4182-8565-10a42feb32d1 button.colab-df-convert');\n",
              "        buttonEl.style.display =\n",
              "          google.colab.kernel.accessAllowed ? 'block' : 'none';\n",
              "\n",
              "        async function convertToInteractive(key) {\n",
              "          const element = document.querySelector('#df-a8b661b7-bcf8-4182-8565-10a42feb32d1');\n",
              "          const dataTable =\n",
              "            await google.colab.kernel.invokeFunction('convertToInteractive',\n",
              "                                                     [key], {});\n",
              "          if (!dataTable) return;\n",
              "\n",
              "          const docLinkHtml = 'Like what you see? Visit the ' +\n",
              "            '<a target=\"_blank\" href=https://colab.research.google.com/notebooks/data_table.ipynb>data table notebook</a>'\n",
              "            + ' to learn more about interactive tables.';\n",
              "          element.innerHTML = '';\n",
              "          dataTable['output_type'] = 'display_data';\n",
              "          await google.colab.output.renderOutput(dataTable, element);\n",
              "          const docLink = document.createElement('div');\n",
              "          docLink.innerHTML = docLinkHtml;\n",
              "          element.appendChild(docLink);\n",
              "        }\n",
              "      </script>\n",
              "    </div>\n",
              "  </div>\n",
              "  "
            ]
          },
          "metadata": {},
          "execution_count": 91
        }
      ],
      "source": [
        "#Find linear correlation of each feature with the target variable\n",
        "from scipy.stats import pearsonr\n",
        "df1 = pd.DataFrame(np.concatenate((X_train,y_train.reshape(len(y_train),1)),axis=1))\n",
        "df1.columns = df1.columns.astype(str)\n",
        "\n",
        "features = df1.iloc[:,:46].columns.tolist()\n",
        "target = df1.iloc[:,46].name\n",
        "\n",
        "correlations = {}\n",
        "for f in features:\n",
        "    data_temp = df1[[f,target]]\n",
        "    x1 = data_temp[f].values\n",
        "    x2 = data_temp[target].values\n",
        "    key = f + ' vs ' + target\n",
        "    correlations[key] = pearsonr(x1,x2)[0]\n",
        "    \n",
        "data_correlations = pd.DataFrame(correlations, index=['Value']).T\n",
        "data_correlations.loc[data_correlations['Value'].abs().sort_values(ascending=False).index]"
      ]
    },
    {
      "cell_type": "markdown",
      "metadata": {
        "id": "NaHGm_K5KQRl"
      },
      "source": [
        "**Observations**\n",
        "\n",
        "We can see that none of the feature is linearly correlated with the target variable \"46\". That is why it is not a good model for the prediction of the trip duration. So let's move ahead and try the random forest regressor. We are not using decision tree regressor because the random forest will anyways consist of almost all its properties. Also, we will not use SVR because it takes too much time to train on this huge dataset even with the default settings. It seems to be not good with high dimensional dataset as well as for the huge instances."
      ]
    },
    {
      "cell_type": "markdown",
      "metadata": {
        "id": "_nk2h-gf7B3f"
      },
      "source": [
        "### Random Forest Regressor\n",
        "\n",
        "---\n",
        "A random forest is a meta estimator that fits a number of classifying decision trees on various sub-samples of the dataset and use averaging to improve the predictive accuracy and control over-fitting"
      ]
    },
    {
      "cell_type": "markdown",
      "metadata": {
        "id": "sAXt9XdM7Mjo"
      },
      "source": [
        "**Model training**\n",
        "\n",
        "---\n",
        "Now we will train the model on the filtered features. Our data has already been split so we will not split the data further."
      ]
    },
    {
      "cell_type": "markdown",
      "metadata": {
        "id": "ucnh5gNM7WIg"
      },
      "source": [
        "Note:\n",
        "We used GridSearch to tune the hyperparameters of random forest regressor to get the best possible test score. We tried various combination of the allowed hyper params values. But any kind of combination could not produce significantly better results than the default settings. There can be many reasons for that and it totally depends on the type of data we have in hand. Therefore we will not show tuned regressor results here."
      ]
    },
    {
      "cell_type": "code",
      "execution_count": null,
      "metadata": {
        "id": "S1zcsbe87AfW"
      },
      "outputs": [],
      "source": [
        "#instantiate the object for the Random Forest Regressor with default params from raw data\n",
        "regressor_rfraw = RandomForestRegressor(n_jobs=-1)\n",
        "\n",
        "#instantiate the object for the Random Forest Regressor with default params for Feature Selection Group\n",
        "regressor_rf = RandomForestRegressor(n_jobs=-1)\n",
        "\n",
        "# #instantiate the object for the Random Forest Regressor with tuned hyper parameters for Feature Selection Group\n",
        "# regressor_rf1 = RandomForestRegressor(n_estimators = 26,\n",
        "#                                      max_depth = 22,\n",
        "#                                      min_samples_split = 9,\n",
        "#                                      n_jobs=-1)\n",
        "\n",
        "#instantiate the object for the Random Forest Regressor for Feature Extraction Group\n",
        "regressor_rf2 = RandomForestRegressor(n_jobs=-1)\n",
        "\n",
        "\n",
        "#Train the object with default params for raw data\n",
        "regressor_rfraw.fit(X_train,y_train)\n",
        "\n",
        "#Train the object with default params for Feature Selection Group\n",
        "regressor_rf.fit(X_train_fs,y_train_fs)\n",
        "\n",
        "# #Train the object with tuned params for Feature Selection Group\n",
        "# regressor_rf1.fit(X_train_fs,y_train_fs)\n",
        "\n",
        "# #Train the object with default params for Feature Extraction Group\n",
        "regressor_rf2.fit(X_train_pca,y_train_pca)\n",
        "print(\"\\n\")"
      ]
    },
    {
      "cell_type": "markdown",
      "metadata": {
        "id": "42i5k15nDY7s"
      },
      "source": [
        "**Model prediction**"
      ]
    },
    {
      "cell_type": "code",
      "execution_count": null,
      "metadata": {
        "id": "zZVHYhzVDdkZ"
      },
      "outputs": [],
      "source": [
        "#Predict the output with object of default params for Feature Selection Group\n",
        "y_pred_rfraw = regressor_rfraw.predict(X_test)\n",
        "\n",
        "#Predict the output with object of default params for Feature Selection Group\n",
        "y_pred_rf = regressor_rf.predict(X_test_fs)\n",
        "\n",
        "# #Predict the output with object of hyper tuned params for Feature Selection Group\n",
        "# y_pred_rf1 = regressor_rf1.predict(X_test_fs)\n",
        "\n",
        "#Predict the output with object of PCA params for Feature Extraction Group\n",
        "y_pred_rfpca = regressor_rf2.predict(X_test_pca)\n",
        "\n",
        "print(\"\\n\")"
      ]
    },
    {
      "cell_type": "markdown",
      "metadata": {
        "id": "6KZOXaq6DitA"
      },
      "source": [
        "**Model evaluation**"
      ]
    },
    {
      "cell_type": "code",
      "execution_count": null,
      "metadata": {
        "id": "fdxnK6osDf7D"
      },
      "outputs": [],
      "source": [
        "#Evaluate the model with default params for raw data\n",
        "print('RMSE score for the RF regressor raw is : {}'.format(np.sqrt(metrics.mean_squared_error(y_test,y_pred_rfraw))))\n",
        "print('RMSLE score for the RF regressor raw is : {}'.format(np.sqrt(metrics.mean_squared_log_error(y_test,y_pred_rfraw))))\n",
        "print('Variance score for the RF regressor raw is : %.2f' % regressor_rfraw.score(X_test, y_test))\n",
        "\n",
        "print(\"\\n\")\n",
        "\n",
        "#Evaluate the model with default params for Feature Selection Group\n",
        "print('RMSE score for the RF regressor is : {}'.format(np.sqrt(metrics.mean_squared_error(y_test_fs,y_pred_rf))))\n",
        "print('RMSLE score for the RF regressor is : {}'.format(np.sqrt(metrics.mean_squared_log_error(y_test_fs,y_pred_rf))))\n",
        "print('Variance score for the RF regressor is : %.2f' % regressor_rf.score(X_test_fs, y_test_fs))\n",
        "\n",
        "# print(\"\\n\")\n",
        "\n",
        "# #Evaluate the model with tuned params for Feature Selection Group\n",
        "# print('RMSE score for the RF regressor1 is : {}'.format(np.sqrt(metrics.mean_squared_error(y_test_fs,y_pred_rf1))))\n",
        "# print('RMSLE score for the RF regressor1 is : {}'.format(np.sqrt(metrics.mean_squared_log_error(y_test_fs,y_pred_rf1))))\n",
        "# print('Variance score for the RF regressor1 is : %.2f' % regressor_rf1.score(X_test_fs, y_test_fs))\n",
        "\n",
        "print(\"\\n\")\n",
        "#Evaluate the model with PCA params  for Feature Extraction Group\n",
        "print('RMSE score for the RF regressor2 is : {}'.format(np.sqrt(metrics.mean_squared_error(y_test_pca, y_pred_rfpca))))\n",
        "print('Variance score for the RF regressor2 is : %.2f' % regressor_rf2.score(X_test_pca, y_test_pca))"
      ]
    },
    {
      "cell_type": "markdown",
      "source": [
        "**Interesting find**\n",
        "\n",
        "\n",
        "*   There is approx 200% improvement on the RMSE score for the Random forest regressor over the Linear regressor of the feature selection group.\n",
        "\n",
        "\n",
        "*   Even the variance score is approx 1 which is a good score.\n",
        "\n",
        "*   RMSE score for the RF regressor of feature extraction group is still very bad along with the variance score.\n",
        "\n",
        "*   RMSE score for the feature selection group is more or less same as the raw data score. Sometimes the RMSE score for the raw data is better and vice versa. It fluctuates on every iteration and this is quite weird!\n",
        "\n",
        "---\n",
        "\n",
        "Let's see if we can improve this further with the most sought after algorigthm i.e. XGBoost!!"
      ],
      "metadata": {
        "id": "87qVR4Zy0QsY"
      }
    },
    {
      "cell_type": "markdown",
      "source": [
        "**XGBoost Regressor**\n",
        "\n",
        "---\n",
        "\n",
        "XGBoost (Extreme Gradient Boosting) is an optimized distributed gradient boosting library. It uses gradient boosting (GBM) framework at core. It belongs to a family of boosting algorithms that convert weak learners into strong learners. A weak learner is one which is slightly better than random guessing.\n",
        "\n",
        "'Boosting' here is a sequential process; i.e., trees are grown using the information from a previously grown tree one after the other. This process slowly learns from data and tries to improve its prediction in the subsequent iterations."
      ],
      "metadata": {
        "id": "iV-Fgbm-0sFU"
      }
    },
    {
      "cell_type": "markdown",
      "source": [
        "**Model training**\n",
        "\n",
        "---\n",
        "We will train the model on the filtered features. Our data has already been split so we will not split the data further."
      ],
      "metadata": {
        "id": "jDQpEiy11ABr"
      }
    },
    {
      "cell_type": "markdown",
      "source": [
        "**Note:**\n",
        "We used GridSearch to tune the hyperparameters of XGBoost regressor to get the best possible test score. We will compare results from the default regressor and the tuned regressor."
      ],
      "metadata": {
        "id": "HwjO1woq1IW7"
      }
    },
    {
      "cell_type": "code",
      "source": [
        "#instantiate the object for the XGBoost Regressor with default params for raw data\n",
        "regressor_xgbraw = XGBRegressor(n_jobs=-1)\n",
        "\n",
        "#instantiate the object for the XGBoost Regressor with default params for Feature Selection Group\n",
        "regressor_xgb = XGBRegressor(n_jobs=-1)\n",
        "\n",
        "#instantiate the object for the XGBoost Regressor with tuned hyper parameters for Feature Selection Group\n",
        "regressor_xgb1 = XGBRegressor(n_estimators=300,\n",
        "                            learning_rate=0.08,\n",
        "                            gamma=0,\n",
        "                            subsample=0.75,\n",
        "                            colsample_bytree=1,\n",
        "                            max_depth=7,\n",
        "                            min_child_weight=4,\n",
        "                            silent=1,\n",
        "                           n_jobs=-1)\n",
        "\n",
        "#instantiate the object for the XGBoost Regressor for Feature Extraction Group\n",
        "regressor_xgb2 = XGBRegressor(n_jobs=-1)\n",
        "\n",
        "\n",
        "#Train the object with default params for raw data\n",
        "regressor_xgbraw.fit(X_train,y_train)\n",
        "\n",
        "#Train the object with default params for Feature Selection Group\n",
        "regressor_xgb.fit(X_train_fs,y_train_fs)\n",
        "\n",
        "#Train the object with tuned params for Feature Selection Group\n",
        "regressor_xgb1.fit(X_train_fs,y_train_fs)\n",
        "\n",
        "#Train the object with default params for Feature Extraction Group\n",
        "regressor_xgb2.fit(X_train_pca,y_train_pca)\n",
        "\n",
        "print(\"\\n\")"
      ],
      "metadata": {
        "id": "YEqpXRax0qI6"
      },
      "execution_count": null,
      "outputs": []
    },
    {
      "cell_type": "markdown",
      "source": [
        "**Model prediction**"
      ],
      "metadata": {
        "id": "edmkxvT-1dNB"
      }
    },
    {
      "cell_type": "code",
      "source": [
        "#Predict the output with object of default params for raw data\n",
        "y_pred_xgbraw = regressor_xgbraw.predict(X_test)\n",
        "\n",
        "#Predict the output with object of default params for Feature Selection Group\n",
        "y_pred_xgb = regressor_xgb.predict(X_test_fs)\n",
        "\n",
        "#Predict the output with object of hyper tuned params for Feature Selection Group\n",
        "y_pred_xgb1 = regressor_xgb1.predict(X_test_fs)\n",
        "\n",
        "#Predict the output with object of PCA params for Feature Extraction Group\n",
        "y_pred_xgb_pca = regressor_xgb2.predict(X_test_pca)\n",
        "\n",
        "print(\"\\n\")"
      ],
      "metadata": {
        "id": "v-TohnKf1gRg"
      },
      "execution_count": null,
      "outputs": []
    },
    {
      "cell_type": "markdown",
      "source": [
        "**Model Evaluation**"
      ],
      "metadata": {
        "id": "59OAONmK1iBY"
      }
    },
    {
      "cell_type": "code",
      "source": [
        "#Evaluate the model with default params for raw data\n",
        "print('RMSE score for the XGBoost regressor raw is : {}'.format(np.sqrt(metrics.mean_squared_error(y_test,y_pred_xgbraw))))\n",
        "# print('RMSLE score for the XGBoost regressor is : {}'.format(np.sqrt(metrics.mean_squared_log_error(y_test,y_pred_xgb))))\n",
        "print('Variance score for the XGBoost regressor raw is : %.2f' % regressor_xgbraw.score(X_test, y_test))\n",
        "\n",
        "print(\"\\n\")\n",
        "\n",
        "#Evaluate the model with default params for Feature Selection Group\n",
        "print('RMSE score for the XGBoost regressor is : {}'.format(np.sqrt(metrics.mean_squared_error(y_test_fs,y_pred_xgb))))\n",
        "# print('RMSLE score for the XGBoost regressor is : {}'.format(np.sqrt(metrics.mean_squared_log_error(y_test,y_pred_xgb))))\n",
        "print('Variance score for the XGBoost regressor is : %.2f' % regressor_xgb.score(X_test_fs, y_test_fs))\n",
        "\n",
        "print(\"\\n\")\n",
        "#Evaluate the model with Tuned params for Feature Selection Group\n",
        "print('RMSE score for the XGBoost regressor1 is : {}'.format(np.sqrt(metrics.mean_squared_error(y_test_fs,y_pred_xgb1))))\n",
        "# print('RMSLE score for the XGBoost regressor1 is : {}'.format(np.sqrt(metrics.mean_squared_log_error(y_test_fs,y_pred_xgb1))))\n",
        "print('Variance score for the XGBoost regressor1 is : %.2f' % regressor_xgb1.score(X_test_fs,y_test_fs))\n",
        "\n",
        "print(\"\\n\")\n",
        "\n",
        "#Evaluate the model with PCA params  for Feature Extraction Group\n",
        "print('RMSE score for the XGBoost regressor2 is : {}'.format(np.sqrt(metrics.mean_squared_error(y_test_pca, y_pred_xgb_pca))))\n",
        "print('Variance score for the XGBoost regressor2 is : %.2f' % regressor_xgb2.score(X_test_pca, y_test_pca))"
      ],
      "metadata": {
        "id": "MZGhyiI71jfw"
      },
      "execution_count": null,
      "outputs": []
    },
    {
      "cell_type": "markdown",
      "source": [
        "**Observations**\n",
        "\n",
        "*   There is a significant improvement in the RMSE score for the tuned XGBoost regressor over the Random forest regressor when trained on the feature selection group.\n",
        "\n",
        "\n",
        "*   But the performance of the default XGBoost regressor is quite worse than the default RF regressor on the same data.\n",
        "\n",
        "*   Also, the RMSE score on the raw data and feature selected data are same, which disproves the theory that it is always better to select the relevant features which are statistically important. As the data behaves differently in different models.\n",
        "\n",
        "*   Not to mention the fact that RMSE score for the XGBoost regressor of the feature extraction group is still bad along with the variance score.\n"
      ],
      "metadata": {
        "id": "j-t1cL8o1tc-"
      }
    },
    {
      "cell_type": "code",
      "source": [
        "#Comparing test results for the XGBoost and RF regressor\n",
        "print(\"Total sum of difference between the actual and the predicted values for the RF regressor is : %d\"%np.abs(np.sum(np.subtract(y_test,y_pred_rf))))\n",
        "print(\"Total sum of difference between the actual and the predicted values for the tuned XGB regressor is : %d\"%np.abs(np.sum(np.subtract(y_test,y_pred_xgb1))))"
      ],
      "metadata": {
        "id": "mQHz-0Dj2Dxl"
      },
      "execution_count": null,
      "outputs": []
    },
    {
      "cell_type": "markdown",
      "source": [
        "## General inference\n",
        "\n",
        "*   XGBoost proved to be much more efficient in predicting the output. But it takes much more time to train it over the large dataset wih more complexity as compared to the RF and Linear regression model but less time then the SVR.\n",
        "\n",
        "\n",
        "*   It didn't helped us much to generalize the model by tuning hyper parameters for the RF model as there is not much difference in the RMSE scores of the default model and the tuned model of the feature selection group infact both varies on every iteration and sometimes the tuned model gives poor results than the default model. Though we tried many possible alterations with GSCV but the tuning could not achieve a significant improvement over the default model which also depends on the contents of the dataset.\n",
        "\n",
        "\n",
        "*   Contrast to the RF regressor, XGBoost regressor prediction results were consistent on every iteration i.e. for each param configuration the results were the same.\n",
        "\n",
        "*   Feature extraction didn't helped in anyway to improve the RMSE score with any of the regressor models. This shows us that the feature extraction is somewhat not a good technique to preprocess the data before feeding it into the regressor models for the continous target value prediction. Whereas it also depends on the type and features of data that how it behaves with the model.\n"
      ],
      "metadata": {
        "id": "ZuAGdulW2Fl8"
      }
    }
  ],
  "metadata": {
    "colab": {
      "provenance": [],
      "authorship_tag": "ABX9TyNUDvyV6PiJFh/dutx6XeHH",
      "include_colab_link": true
    },
    "kernelspec": {
      "display_name": "Python 3",
      "name": "python3"
    },
    "language_info": {
      "name": "python"
    }
  },
  "nbformat": 4,
  "nbformat_minor": 0
}