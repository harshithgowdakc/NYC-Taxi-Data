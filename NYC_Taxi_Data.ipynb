{
  "nbformat": 4,
  "nbformat_minor": 0,
  "metadata": {
    "colab": {
      "provenance": [],
      "authorship_tag": "ABX9TyMuHa5/+/Ac6yuTJQB6gS4V",
      "include_colab_link": true
    },
    "kernelspec": {
      "name": "python3",
      "display_name": "Python 3"
    },
    "language_info": {
      "name": "python"
    }
  },
  "cells": [
    {
      "cell_type": "markdown",
      "metadata": {
        "id": "view-in-github",
        "colab_type": "text"
      },
      "source": [
        "<a href=\"https://colab.research.google.com/github/harshithgowdakc/NYC-Taxi-Data/blob/main/NYC_Taxi_Data.ipynb\" target=\"_parent\"><img src=\"https://colab.research.google.com/assets/colab-badge.svg\" alt=\"Open In Colab\"/></a>"
      ]
    },
    {
      "cell_type": "code",
      "source": [
        "!pip install haversine"
      ],
      "metadata": {
        "colab": {
          "base_uri": "https://localhost:8080/"
        },
        "id": "wzbjH4ae8HT5",
        "outputId": "1fa200cc-887b-4ee7-db2b-854d798b6acf"
      },
      "execution_count": 1,
      "outputs": [
        {
          "output_type": "stream",
          "name": "stdout",
          "text": [
            "Looking in indexes: https://pypi.org/simple, https://us-python.pkg.dev/colab-wheels/public/simple/\n",
            "Collecting haversine\n",
            "  Downloading haversine-2.8.0-py2.py3-none-any.whl (7.7 kB)\n",
            "Installing collected packages: haversine\n",
            "Successfully installed haversine-2.8.0\n"
          ]
        }
      ]
    },
    {
      "cell_type": "code",
      "execution_count": 2,
      "metadata": {
        "id": "px-zTJsc78Ob"
      },
      "outputs": [],
      "source": [
        "import numpy as np\n",
        "import pandas as pd\n",
        "import seaborn as sns\n",
        "import matplotlib.pyplot as plt\n",
        "import datetime as dt\n",
        "from sklearn.linear_model import LinearRegression\n",
        "from sklearn.ensemble import RandomForestRegressor\n",
        "from xgboost import XGBRegressor\n",
        "from sklearn import metrics\n",
        "from sklearn.model_selection import train_test_split, GridSearchCV\n",
        "from haversine import haversine\n",
        "import statsmodels.formula.api as sm\n",
        "from sklearn.model_selection import learning_curve\n",
        "from sklearn.model_selection import ShuffleSplit\n",
        "import warnings; warnings.simplefilter('ignore')"
      ]
    },
    {
      "cell_type": "code",
      "source": [
        "from google.colab import drive\n",
        "drive.mount('/content/drive')"
      ],
      "metadata": {
        "colab": {
          "base_uri": "https://localhost:8080/"
        },
        "id": "FHAwh5Oz8Rdf",
        "outputId": "a14c76d3-9971-41cc-b851-c0662b892e5d"
      },
      "execution_count": 3,
      "outputs": [
        {
          "output_type": "stream",
          "name": "stdout",
          "text": [
            "Mounted at /content/drive\n"
          ]
        }
      ]
    },
    {
      "cell_type": "code",
      "source": [
        "data = pd.read_csv('/content/drive/MyDrive/Colab Notebooks/AlmaBetter/Project CPG/NYC Taxi Data.csv')"
      ],
      "metadata": {
        "id": "3TC06Vgn8ZGZ"
      },
      "execution_count": 4,
      "outputs": []
    },
    {
      "cell_type": "code",
      "source": [
        "data.head()"
      ],
      "metadata": {
        "colab": {
          "base_uri": "https://localhost:8080/",
          "height": 206
        },
        "id": "FbRl3Vms8gTq",
        "outputId": "a5206a71-2d3b-4490-e704-283ceaa273d6"
      },
      "execution_count": 9,
      "outputs": [
        {
          "output_type": "execute_result",
          "data": {
            "text/plain": [
              "          id  vendor_id      pickup_datetime     dropoff_datetime  \\\n",
              "0  id2875421          2  2016-03-14 17:24:55  2016-03-14 17:32:30   \n",
              "1  id2377394          1  2016-06-12 00:43:35  2016-06-12 00:54:38   \n",
              "2  id3858529          2  2016-01-19 11:35:24  2016-01-19 12:10:48   \n",
              "3  id3504673          2  2016-04-06 19:32:31  2016-04-06 19:39:40   \n",
              "4  id2181028          2  2016-03-26 13:30:55  2016-03-26 13:38:10   \n",
              "\n",
              "   passenger_count  pickup_longitude  pickup_latitude  dropoff_longitude  \\\n",
              "0                1        -73.982155        40.767937         -73.964630   \n",
              "1                1        -73.980415        40.738564         -73.999481   \n",
              "2                1        -73.979027        40.763939         -74.005333   \n",
              "3                1        -74.010040        40.719971         -74.012268   \n",
              "4                1        -73.973053        40.793209         -73.972923   \n",
              "\n",
              "   dropoff_latitude store_and_fwd_flag  trip_duration  \n",
              "0         40.765602                  N            455  \n",
              "1         40.731152                  N            663  \n",
              "2         40.710087                  N           2124  \n",
              "3         40.706718                  N            429  \n",
              "4         40.782520                  N            435  "
            ],
            "text/html": [
              "\n",
              "  <div id=\"df-28e269de-bfd4-471f-abe8-efe16a9c685d\">\n",
              "    <div class=\"colab-df-container\">\n",
              "      <div>\n",
              "<style scoped>\n",
              "    .dataframe tbody tr th:only-of-type {\n",
              "        vertical-align: middle;\n",
              "    }\n",
              "\n",
              "    .dataframe tbody tr th {\n",
              "        vertical-align: top;\n",
              "    }\n",
              "\n",
              "    .dataframe thead th {\n",
              "        text-align: right;\n",
              "    }\n",
              "</style>\n",
              "<table border=\"1\" class=\"dataframe\">\n",
              "  <thead>\n",
              "    <tr style=\"text-align: right;\">\n",
              "      <th></th>\n",
              "      <th>id</th>\n",
              "      <th>vendor_id</th>\n",
              "      <th>pickup_datetime</th>\n",
              "      <th>dropoff_datetime</th>\n",
              "      <th>passenger_count</th>\n",
              "      <th>pickup_longitude</th>\n",
              "      <th>pickup_latitude</th>\n",
              "      <th>dropoff_longitude</th>\n",
              "      <th>dropoff_latitude</th>\n",
              "      <th>store_and_fwd_flag</th>\n",
              "      <th>trip_duration</th>\n",
              "    </tr>\n",
              "  </thead>\n",
              "  <tbody>\n",
              "    <tr>\n",
              "      <th>0</th>\n",
              "      <td>id2875421</td>\n",
              "      <td>2</td>\n",
              "      <td>2016-03-14 17:24:55</td>\n",
              "      <td>2016-03-14 17:32:30</td>\n",
              "      <td>1</td>\n",
              "      <td>-73.982155</td>\n",
              "      <td>40.767937</td>\n",
              "      <td>-73.964630</td>\n",
              "      <td>40.765602</td>\n",
              "      <td>N</td>\n",
              "      <td>455</td>\n",
              "    </tr>\n",
              "    <tr>\n",
              "      <th>1</th>\n",
              "      <td>id2377394</td>\n",
              "      <td>1</td>\n",
              "      <td>2016-06-12 00:43:35</td>\n",
              "      <td>2016-06-12 00:54:38</td>\n",
              "      <td>1</td>\n",
              "      <td>-73.980415</td>\n",
              "      <td>40.738564</td>\n",
              "      <td>-73.999481</td>\n",
              "      <td>40.731152</td>\n",
              "      <td>N</td>\n",
              "      <td>663</td>\n",
              "    </tr>\n",
              "    <tr>\n",
              "      <th>2</th>\n",
              "      <td>id3858529</td>\n",
              "      <td>2</td>\n",
              "      <td>2016-01-19 11:35:24</td>\n",
              "      <td>2016-01-19 12:10:48</td>\n",
              "      <td>1</td>\n",
              "      <td>-73.979027</td>\n",
              "      <td>40.763939</td>\n",
              "      <td>-74.005333</td>\n",
              "      <td>40.710087</td>\n",
              "      <td>N</td>\n",
              "      <td>2124</td>\n",
              "    </tr>\n",
              "    <tr>\n",
              "      <th>3</th>\n",
              "      <td>id3504673</td>\n",
              "      <td>2</td>\n",
              "      <td>2016-04-06 19:32:31</td>\n",
              "      <td>2016-04-06 19:39:40</td>\n",
              "      <td>1</td>\n",
              "      <td>-74.010040</td>\n",
              "      <td>40.719971</td>\n",
              "      <td>-74.012268</td>\n",
              "      <td>40.706718</td>\n",
              "      <td>N</td>\n",
              "      <td>429</td>\n",
              "    </tr>\n",
              "    <tr>\n",
              "      <th>4</th>\n",
              "      <td>id2181028</td>\n",
              "      <td>2</td>\n",
              "      <td>2016-03-26 13:30:55</td>\n",
              "      <td>2016-03-26 13:38:10</td>\n",
              "      <td>1</td>\n",
              "      <td>-73.973053</td>\n",
              "      <td>40.793209</td>\n",
              "      <td>-73.972923</td>\n",
              "      <td>40.782520</td>\n",
              "      <td>N</td>\n",
              "      <td>435</td>\n",
              "    </tr>\n",
              "  </tbody>\n",
              "</table>\n",
              "</div>\n",
              "      <button class=\"colab-df-convert\" onclick=\"convertToInteractive('df-28e269de-bfd4-471f-abe8-efe16a9c685d')\"\n",
              "              title=\"Convert this dataframe to an interactive table.\"\n",
              "              style=\"display:none;\">\n",
              "        \n",
              "  <svg xmlns=\"http://www.w3.org/2000/svg\" height=\"24px\"viewBox=\"0 0 24 24\"\n",
              "       width=\"24px\">\n",
              "    <path d=\"M0 0h24v24H0V0z\" fill=\"none\"/>\n",
              "    <path d=\"M18.56 5.44l.94 2.06.94-2.06 2.06-.94-2.06-.94-.94-2.06-.94 2.06-2.06.94zm-11 1L8.5 8.5l.94-2.06 2.06-.94-2.06-.94L8.5 2.5l-.94 2.06-2.06.94zm10 10l.94 2.06.94-2.06 2.06-.94-2.06-.94-.94-2.06-.94 2.06-2.06.94z\"/><path d=\"M17.41 7.96l-1.37-1.37c-.4-.4-.92-.59-1.43-.59-.52 0-1.04.2-1.43.59L10.3 9.45l-7.72 7.72c-.78.78-.78 2.05 0 2.83L4 21.41c.39.39.9.59 1.41.59.51 0 1.02-.2 1.41-.59l7.78-7.78 2.81-2.81c.8-.78.8-2.07 0-2.86zM5.41 20L4 18.59l7.72-7.72 1.47 1.35L5.41 20z\"/>\n",
              "  </svg>\n",
              "      </button>\n",
              "      \n",
              "  <style>\n",
              "    .colab-df-container {\n",
              "      display:flex;\n",
              "      flex-wrap:wrap;\n",
              "      gap: 12px;\n",
              "    }\n",
              "\n",
              "    .colab-df-convert {\n",
              "      background-color: #E8F0FE;\n",
              "      border: none;\n",
              "      border-radius: 50%;\n",
              "      cursor: pointer;\n",
              "      display: none;\n",
              "      fill: #1967D2;\n",
              "      height: 32px;\n",
              "      padding: 0 0 0 0;\n",
              "      width: 32px;\n",
              "    }\n",
              "\n",
              "    .colab-df-convert:hover {\n",
              "      background-color: #E2EBFA;\n",
              "      box-shadow: 0px 1px 2px rgba(60, 64, 67, 0.3), 0px 1px 3px 1px rgba(60, 64, 67, 0.15);\n",
              "      fill: #174EA6;\n",
              "    }\n",
              "\n",
              "    [theme=dark] .colab-df-convert {\n",
              "      background-color: #3B4455;\n",
              "      fill: #D2E3FC;\n",
              "    }\n",
              "\n",
              "    [theme=dark] .colab-df-convert:hover {\n",
              "      background-color: #434B5C;\n",
              "      box-shadow: 0px 1px 3px 1px rgba(0, 0, 0, 0.15);\n",
              "      filter: drop-shadow(0px 1px 2px rgba(0, 0, 0, 0.3));\n",
              "      fill: #FFFFFF;\n",
              "    }\n",
              "  </style>\n",
              "\n",
              "      <script>\n",
              "        const buttonEl =\n",
              "          document.querySelector('#df-28e269de-bfd4-471f-abe8-efe16a9c685d button.colab-df-convert');\n",
              "        buttonEl.style.display =\n",
              "          google.colab.kernel.accessAllowed ? 'block' : 'none';\n",
              "\n",
              "        async function convertToInteractive(key) {\n",
              "          const element = document.querySelector('#df-28e269de-bfd4-471f-abe8-efe16a9c685d');\n",
              "          const dataTable =\n",
              "            await google.colab.kernel.invokeFunction('convertToInteractive',\n",
              "                                                     [key], {});\n",
              "          if (!dataTable) return;\n",
              "\n",
              "          const docLinkHtml = 'Like what you see? Visit the ' +\n",
              "            '<a target=\"_blank\" href=https://colab.research.google.com/notebooks/data_table.ipynb>data table notebook</a>'\n",
              "            + ' to learn more about interactive tables.';\n",
              "          element.innerHTML = '';\n",
              "          dataTable['output_type'] = 'display_data';\n",
              "          await google.colab.output.renderOutput(dataTable, element);\n",
              "          const docLink = document.createElement('div');\n",
              "          docLink.innerHTML = docLinkHtml;\n",
              "          element.appendChild(docLink);\n",
              "        }\n",
              "      </script>\n",
              "    </div>\n",
              "  </div>\n",
              "  "
            ]
          },
          "metadata": {},
          "execution_count": 9
        }
      ]
    },
    {
      "cell_type": "code",
      "source": [
        "data.shape "
      ],
      "metadata": {
        "colab": {
          "base_uri": "https://localhost:8080/"
        },
        "id": "AYyXoyVx8koJ",
        "outputId": "0060f18f-10ef-4974-b2c6-aef040c0b70c"
      },
      "execution_count": 10,
      "outputs": [
        {
          "output_type": "execute_result",
          "data": {
            "text/plain": [
              "(1458644, 11)"
            ]
          },
          "metadata": {},
          "execution_count": 10
        }
      ]
    },
    {
      "cell_type": "code",
      "source": [
        "#Check count of unique id's in the dataset\n",
        "print(\"There are %d unique id's in Training dataset, which is equal to the number of records\"%(data.id.nunique()))"
      ],
      "metadata": {
        "colab": {
          "base_uri": "https://localhost:8080/"
        },
        "id": "qQY3bF3w8oB3",
        "outputId": "3bcea63e-4105-43fd-9c2e-acfac74b5c23"
      },
      "execution_count": 11,
      "outputs": [
        {
          "output_type": "stream",
          "name": "stdout",
          "text": [
            "There are 1458644 unique id's in Training dataset, which is equal to the number of records\n"
          ]
        }
      ]
    },
    {
      "cell_type": "code",
      "source": [
        "#Check for NaN values\n",
        "data.isnull().sum()"
      ],
      "metadata": {
        "colab": {
          "base_uri": "https://localhost:8080/"
        },
        "id": "UMLvvL9P8tXd",
        "outputId": "1b0d76ce-9562-4029-9743-c6571d543f8c"
      },
      "execution_count": 12,
      "outputs": [
        {
          "output_type": "execute_result",
          "data": {
            "text/plain": [
              "id                    0\n",
              "vendor_id             0\n",
              "pickup_datetime       0\n",
              "dropoff_datetime      0\n",
              "passenger_count       0\n",
              "pickup_longitude      0\n",
              "pickup_latitude       0\n",
              "dropoff_longitude     0\n",
              "dropoff_latitude      0\n",
              "store_and_fwd_flag    0\n",
              "trip_duration         0\n",
              "dtype: int64"
            ]
          },
          "metadata": {},
          "execution_count": 12
        }
      ]
    },
    {
      "cell_type": "code",
      "source": [
        "#Convert timestamp to datetime format to fetch the other details as listed below\n",
        "data['pickup_datetime'] = pd.to_datetime(data['pickup_datetime'])\n",
        "data['dropoff_datetime'] = pd.to_datetime(data['dropoff_datetime'])"
      ],
      "metadata": {
        "id": "UVbwLlQ88xNY"
      },
      "execution_count": 5,
      "outputs": []
    },
    {
      "cell_type": "code",
      "source": [
        "#Calculate and assign new columns to the dataframe such as weekday,\n",
        "#month and pickup_hour which will help us to gain more insights from the data.\n",
        "data['weekday'] = data.pickup_datetime.dt.weekday\n",
        "data['month'] = data.pickup_datetime.dt.month\n",
        "data['weekday_num'] = data.pickup_datetime.dt.weekday\n",
        "data['pickup_hour'] = data.pickup_datetime.dt.hour"
      ],
      "metadata": {
        "id": "dFUkpc2l80tg"
      },
      "execution_count": 6,
      "outputs": []
    },
    {
      "cell_type": "code",
      "source": [
        "def calc_distance(df):\n",
        "    pickup = (df['pickup_latitude'], df['pickup_longitude'])\n",
        "    drop = (df['dropoff_latitude'], df['dropoff_longitude'])\n",
        "    return haversine(pickup, drop)"
      ],
      "metadata": {
        "id": "kszSfqsh8_Aw"
      },
      "execution_count": 7,
      "outputs": []
    },
    {
      "cell_type": "code",
      "source": [
        "#Calculate distance and assign new column to the dataframe.\n",
        "data['distance'] = data.apply(lambda x: calc_distance(x), axis = 1)"
      ],
      "metadata": {
        "id": "xFNtdweZ9BtO"
      },
      "execution_count": 8,
      "outputs": []
    },
    {
      "cell_type": "code",
      "source": [
        "#Calculate Speed in km/h for further insights\n",
        "data['speed'] = (data.distance/(data.trip_duration/3600))"
      ],
      "metadata": {
        "id": "LIOh_dce9EtI"
      },
      "execution_count": 9,
      "outputs": []
    },
    {
      "cell_type": "code",
      "source": [
        "#Check the type of each variable\n",
        "data.dtypes.reset_index()"
      ],
      "metadata": {
        "colab": {
          "base_uri": "https://localhost:8080/",
          "height": 582
        },
        "id": "hIVZH_vf9HUR",
        "outputId": "d342136b-3c4c-41e2-dfc4-e3a8d815cba4"
      },
      "execution_count": 18,
      "outputs": [
        {
          "output_type": "execute_result",
          "data": {
            "text/plain": [
              "                 index               0\n",
              "0                   id          object\n",
              "1            vendor_id           int64\n",
              "2      pickup_datetime  datetime64[ns]\n",
              "3     dropoff_datetime  datetime64[ns]\n",
              "4      passenger_count           int64\n",
              "5     pickup_longitude         float64\n",
              "6      pickup_latitude         float64\n",
              "7    dropoff_longitude         float64\n",
              "8     dropoff_latitude         float64\n",
              "9   store_and_fwd_flag          object\n",
              "10       trip_duration           int64\n",
              "11             weekday           int64\n",
              "12               month           int64\n",
              "13         weekday_num           int64\n",
              "14         pickup_hour           int64\n",
              "15            distance         float64\n",
              "16               speed         float64"
            ],
            "text/html": [
              "\n",
              "  <div id=\"df-2cc65456-0892-4d8c-845f-728ff855f93a\">\n",
              "    <div class=\"colab-df-container\">\n",
              "      <div>\n",
              "<style scoped>\n",
              "    .dataframe tbody tr th:only-of-type {\n",
              "        vertical-align: middle;\n",
              "    }\n",
              "\n",
              "    .dataframe tbody tr th {\n",
              "        vertical-align: top;\n",
              "    }\n",
              "\n",
              "    .dataframe thead th {\n",
              "        text-align: right;\n",
              "    }\n",
              "</style>\n",
              "<table border=\"1\" class=\"dataframe\">\n",
              "  <thead>\n",
              "    <tr style=\"text-align: right;\">\n",
              "      <th></th>\n",
              "      <th>index</th>\n",
              "      <th>0</th>\n",
              "    </tr>\n",
              "  </thead>\n",
              "  <tbody>\n",
              "    <tr>\n",
              "      <th>0</th>\n",
              "      <td>id</td>\n",
              "      <td>object</td>\n",
              "    </tr>\n",
              "    <tr>\n",
              "      <th>1</th>\n",
              "      <td>vendor_id</td>\n",
              "      <td>int64</td>\n",
              "    </tr>\n",
              "    <tr>\n",
              "      <th>2</th>\n",
              "      <td>pickup_datetime</td>\n",
              "      <td>datetime64[ns]</td>\n",
              "    </tr>\n",
              "    <tr>\n",
              "      <th>3</th>\n",
              "      <td>dropoff_datetime</td>\n",
              "      <td>datetime64[ns]</td>\n",
              "    </tr>\n",
              "    <tr>\n",
              "      <th>4</th>\n",
              "      <td>passenger_count</td>\n",
              "      <td>int64</td>\n",
              "    </tr>\n",
              "    <tr>\n",
              "      <th>5</th>\n",
              "      <td>pickup_longitude</td>\n",
              "      <td>float64</td>\n",
              "    </tr>\n",
              "    <tr>\n",
              "      <th>6</th>\n",
              "      <td>pickup_latitude</td>\n",
              "      <td>float64</td>\n",
              "    </tr>\n",
              "    <tr>\n",
              "      <th>7</th>\n",
              "      <td>dropoff_longitude</td>\n",
              "      <td>float64</td>\n",
              "    </tr>\n",
              "    <tr>\n",
              "      <th>8</th>\n",
              "      <td>dropoff_latitude</td>\n",
              "      <td>float64</td>\n",
              "    </tr>\n",
              "    <tr>\n",
              "      <th>9</th>\n",
              "      <td>store_and_fwd_flag</td>\n",
              "      <td>object</td>\n",
              "    </tr>\n",
              "    <tr>\n",
              "      <th>10</th>\n",
              "      <td>trip_duration</td>\n",
              "      <td>int64</td>\n",
              "    </tr>\n",
              "    <tr>\n",
              "      <th>11</th>\n",
              "      <td>weekday</td>\n",
              "      <td>int64</td>\n",
              "    </tr>\n",
              "    <tr>\n",
              "      <th>12</th>\n",
              "      <td>month</td>\n",
              "      <td>int64</td>\n",
              "    </tr>\n",
              "    <tr>\n",
              "      <th>13</th>\n",
              "      <td>weekday_num</td>\n",
              "      <td>int64</td>\n",
              "    </tr>\n",
              "    <tr>\n",
              "      <th>14</th>\n",
              "      <td>pickup_hour</td>\n",
              "      <td>int64</td>\n",
              "    </tr>\n",
              "    <tr>\n",
              "      <th>15</th>\n",
              "      <td>distance</td>\n",
              "      <td>float64</td>\n",
              "    </tr>\n",
              "    <tr>\n",
              "      <th>16</th>\n",
              "      <td>speed</td>\n",
              "      <td>float64</td>\n",
              "    </tr>\n",
              "  </tbody>\n",
              "</table>\n",
              "</div>\n",
              "      <button class=\"colab-df-convert\" onclick=\"convertToInteractive('df-2cc65456-0892-4d8c-845f-728ff855f93a')\"\n",
              "              title=\"Convert this dataframe to an interactive table.\"\n",
              "              style=\"display:none;\">\n",
              "        \n",
              "  <svg xmlns=\"http://www.w3.org/2000/svg\" height=\"24px\"viewBox=\"0 0 24 24\"\n",
              "       width=\"24px\">\n",
              "    <path d=\"M0 0h24v24H0V0z\" fill=\"none\"/>\n",
              "    <path d=\"M18.56 5.44l.94 2.06.94-2.06 2.06-.94-2.06-.94-.94-2.06-.94 2.06-2.06.94zm-11 1L8.5 8.5l.94-2.06 2.06-.94-2.06-.94L8.5 2.5l-.94 2.06-2.06.94zm10 10l.94 2.06.94-2.06 2.06-.94-2.06-.94-.94-2.06-.94 2.06-2.06.94z\"/><path d=\"M17.41 7.96l-1.37-1.37c-.4-.4-.92-.59-1.43-.59-.52 0-1.04.2-1.43.59L10.3 9.45l-7.72 7.72c-.78.78-.78 2.05 0 2.83L4 21.41c.39.39.9.59 1.41.59.51 0 1.02-.2 1.41-.59l7.78-7.78 2.81-2.81c.8-.78.8-2.07 0-2.86zM5.41 20L4 18.59l7.72-7.72 1.47 1.35L5.41 20z\"/>\n",
              "  </svg>\n",
              "      </button>\n",
              "      \n",
              "  <style>\n",
              "    .colab-df-container {\n",
              "      display:flex;\n",
              "      flex-wrap:wrap;\n",
              "      gap: 12px;\n",
              "    }\n",
              "\n",
              "    .colab-df-convert {\n",
              "      background-color: #E8F0FE;\n",
              "      border: none;\n",
              "      border-radius: 50%;\n",
              "      cursor: pointer;\n",
              "      display: none;\n",
              "      fill: #1967D2;\n",
              "      height: 32px;\n",
              "      padding: 0 0 0 0;\n",
              "      width: 32px;\n",
              "    }\n",
              "\n",
              "    .colab-df-convert:hover {\n",
              "      background-color: #E2EBFA;\n",
              "      box-shadow: 0px 1px 2px rgba(60, 64, 67, 0.3), 0px 1px 3px 1px rgba(60, 64, 67, 0.15);\n",
              "      fill: #174EA6;\n",
              "    }\n",
              "\n",
              "    [theme=dark] .colab-df-convert {\n",
              "      background-color: #3B4455;\n",
              "      fill: #D2E3FC;\n",
              "    }\n",
              "\n",
              "    [theme=dark] .colab-df-convert:hover {\n",
              "      background-color: #434B5C;\n",
              "      box-shadow: 0px 1px 3px 1px rgba(0, 0, 0, 0.15);\n",
              "      filter: drop-shadow(0px 1px 2px rgba(0, 0, 0, 0.3));\n",
              "      fill: #FFFFFF;\n",
              "    }\n",
              "  </style>\n",
              "\n",
              "      <script>\n",
              "        const buttonEl =\n",
              "          document.querySelector('#df-2cc65456-0892-4d8c-845f-728ff855f93a button.colab-df-convert');\n",
              "        buttonEl.style.display =\n",
              "          google.colab.kernel.accessAllowed ? 'block' : 'none';\n",
              "\n",
              "        async function convertToInteractive(key) {\n",
              "          const element = document.querySelector('#df-2cc65456-0892-4d8c-845f-728ff855f93a');\n",
              "          const dataTable =\n",
              "            await google.colab.kernel.invokeFunction('convertToInteractive',\n",
              "                                                     [key], {});\n",
              "          if (!dataTable) return;\n",
              "\n",
              "          const docLinkHtml = 'Like what you see? Visit the ' +\n",
              "            '<a target=\"_blank\" href=https://colab.research.google.com/notebooks/data_table.ipynb>data table notebook</a>'\n",
              "            + ' to learn more about interactive tables.';\n",
              "          element.innerHTML = '';\n",
              "          dataTable['output_type'] = 'display_data';\n",
              "          await google.colab.output.renderOutput(dataTable, element);\n",
              "          const docLink = document.createElement('div');\n",
              "          docLink.innerHTML = docLinkHtml;\n",
              "          element.appendChild(docLink);\n",
              "        }\n",
              "      </script>\n",
              "    </div>\n",
              "  </div>\n",
              "  "
            ]
          },
          "metadata": {},
          "execution_count": 18
        }
      ]
    },
    {
      "cell_type": "code",
      "source": [
        "#Dummify all the categorical features like \"store_and_fwd_flag, vendor_id, month, weekday_num, pickup_hour, passenger_count\" except the label i.e. \"trip_duration\"\n",
        "\n",
        "dummy = pd.get_dummies(data.store_and_fwd_flag, prefix='flag')\n",
        "dummy.drop(dummy.columns[0], axis=1, inplace=True) #avoid dummy trap\n",
        "data = pd.concat([data,dummy], axis = 1)\n",
        "\n",
        "dummy = pd.get_dummies(data.vendor_id, prefix='vendor_id')\n",
        "dummy.drop(dummy.columns[0], axis=1, inplace=True) #avoid dummy trap\n",
        "data = pd.concat([data,dummy], axis = 1)\n",
        "\n",
        "dummy = pd.get_dummies(data.month, prefix='month')\n",
        "dummy.drop(dummy.columns[0], axis=1, inplace=True) #avoid dummy trap\n",
        "data = pd.concat([data,dummy], axis = 1)\n",
        "\n",
        "dummy = pd.get_dummies(data.weekday_num, prefix='weekday_num')\n",
        "dummy.drop(dummy.columns[0], axis=1, inplace=True) #avoid dummy trap\n",
        "data = pd.concat([data,dummy], axis = 1)\n",
        "\n",
        "dummy = pd.get_dummies(data.pickup_hour, prefix='pickup_hour')\n",
        "dummy.drop(dummy.columns[0], axis=1, inplace=True) #avoid dummy trap\n",
        "data = pd.concat([data,dummy], axis = 1)\n",
        "\n",
        "dummy = pd.get_dummies(data.passenger_count, prefix='passenger_count')\n",
        "dummy.drop(dummy.columns[0], axis=1, inplace=True) #avoid dummy trap\n",
        "data = pd.concat([data,dummy], axis = 1)"
      ],
      "metadata": {
        "id": "zmz8j9Im9PZ1"
      },
      "execution_count": 10,
      "outputs": []
    },
    {
      "cell_type": "code",
      "source": [
        "data.head()"
      ],
      "metadata": {
        "colab": {
          "base_uri": "https://localhost:8080/",
          "height": 386
        },
        "id": "vdFTozpN9YO6",
        "outputId": "5b3b8e18-0e42-43b3-a62b-4501594ae354"
      },
      "execution_count": 20,
      "outputs": [
        {
          "output_type": "execute_result",
          "data": {
            "text/plain": [
              "          id  vendor_id     pickup_datetime    dropoff_datetime  \\\n",
              "0  id2875421          2 2016-03-14 17:24:55 2016-03-14 17:32:30   \n",
              "1  id2377394          1 2016-06-12 00:43:35 2016-06-12 00:54:38   \n",
              "2  id3858529          2 2016-01-19 11:35:24 2016-01-19 12:10:48   \n",
              "3  id3504673          2 2016-04-06 19:32:31 2016-04-06 19:39:40   \n",
              "4  id2181028          2 2016-03-26 13:30:55 2016-03-26 13:38:10   \n",
              "\n",
              "   passenger_count  pickup_longitude  pickup_latitude  dropoff_longitude  \\\n",
              "0                1        -73.982155        40.767937         -73.964630   \n",
              "1                1        -73.980415        40.738564         -73.999481   \n",
              "2                1        -73.979027        40.763939         -74.005333   \n",
              "3                1        -74.010040        40.719971         -74.012268   \n",
              "4                1        -73.973053        40.793209         -73.972923   \n",
              "\n",
              "   dropoff_latitude store_and_fwd_flag  ...  pickup_hour_23  \\\n",
              "0         40.765602                  N  ...               0   \n",
              "1         40.731152                  N  ...               0   \n",
              "2         40.710087                  N  ...               0   \n",
              "3         40.706718                  N  ...               0   \n",
              "4         40.782520                  N  ...               0   \n",
              "\n",
              "   passenger_count_1  passenger_count_2  passenger_count_3  passenger_count_4  \\\n",
              "0                  1                  0                  0                  0   \n",
              "1                  1                  0                  0                  0   \n",
              "2                  1                  0                  0                  0   \n",
              "3                  1                  0                  0                  0   \n",
              "4                  1                  0                  0                  0   \n",
              "\n",
              "   passenger_count_5  passenger_count_6  passenger_count_7  passenger_count_8  \\\n",
              "0                  0                  0                  0                  0   \n",
              "1                  0                  0                  0                  0   \n",
              "2                  0                  0                  0                  0   \n",
              "3                  0                  0                  0                  0   \n",
              "4                  0                  0                  0                  0   \n",
              "\n",
              "   passenger_count_9  \n",
              "0                  0  \n",
              "1                  0  \n",
              "2                  0  \n",
              "3                  0  \n",
              "4                  0  \n",
              "\n",
              "[5 rows x 62 columns]"
            ],
            "text/html": [
              "\n",
              "  <div id=\"df-adf4198f-d7a9-44ba-928b-e13297926ab2\">\n",
              "    <div class=\"colab-df-container\">\n",
              "      <div>\n",
              "<style scoped>\n",
              "    .dataframe tbody tr th:only-of-type {\n",
              "        vertical-align: middle;\n",
              "    }\n",
              "\n",
              "    .dataframe tbody tr th {\n",
              "        vertical-align: top;\n",
              "    }\n",
              "\n",
              "    .dataframe thead th {\n",
              "        text-align: right;\n",
              "    }\n",
              "</style>\n",
              "<table border=\"1\" class=\"dataframe\">\n",
              "  <thead>\n",
              "    <tr style=\"text-align: right;\">\n",
              "      <th></th>\n",
              "      <th>id</th>\n",
              "      <th>vendor_id</th>\n",
              "      <th>pickup_datetime</th>\n",
              "      <th>dropoff_datetime</th>\n",
              "      <th>passenger_count</th>\n",
              "      <th>pickup_longitude</th>\n",
              "      <th>pickup_latitude</th>\n",
              "      <th>dropoff_longitude</th>\n",
              "      <th>dropoff_latitude</th>\n",
              "      <th>store_and_fwd_flag</th>\n",
              "      <th>...</th>\n",
              "      <th>pickup_hour_23</th>\n",
              "      <th>passenger_count_1</th>\n",
              "      <th>passenger_count_2</th>\n",
              "      <th>passenger_count_3</th>\n",
              "      <th>passenger_count_4</th>\n",
              "      <th>passenger_count_5</th>\n",
              "      <th>passenger_count_6</th>\n",
              "      <th>passenger_count_7</th>\n",
              "      <th>passenger_count_8</th>\n",
              "      <th>passenger_count_9</th>\n",
              "    </tr>\n",
              "  </thead>\n",
              "  <tbody>\n",
              "    <tr>\n",
              "      <th>0</th>\n",
              "      <td>id2875421</td>\n",
              "      <td>2</td>\n",
              "      <td>2016-03-14 17:24:55</td>\n",
              "      <td>2016-03-14 17:32:30</td>\n",
              "      <td>1</td>\n",
              "      <td>-73.982155</td>\n",
              "      <td>40.767937</td>\n",
              "      <td>-73.964630</td>\n",
              "      <td>40.765602</td>\n",
              "      <td>N</td>\n",
              "      <td>...</td>\n",
              "      <td>0</td>\n",
              "      <td>1</td>\n",
              "      <td>0</td>\n",
              "      <td>0</td>\n",
              "      <td>0</td>\n",
              "      <td>0</td>\n",
              "      <td>0</td>\n",
              "      <td>0</td>\n",
              "      <td>0</td>\n",
              "      <td>0</td>\n",
              "    </tr>\n",
              "    <tr>\n",
              "      <th>1</th>\n",
              "      <td>id2377394</td>\n",
              "      <td>1</td>\n",
              "      <td>2016-06-12 00:43:35</td>\n",
              "      <td>2016-06-12 00:54:38</td>\n",
              "      <td>1</td>\n",
              "      <td>-73.980415</td>\n",
              "      <td>40.738564</td>\n",
              "      <td>-73.999481</td>\n",
              "      <td>40.731152</td>\n",
              "      <td>N</td>\n",
              "      <td>...</td>\n",
              "      <td>0</td>\n",
              "      <td>1</td>\n",
              "      <td>0</td>\n",
              "      <td>0</td>\n",
              "      <td>0</td>\n",
              "      <td>0</td>\n",
              "      <td>0</td>\n",
              "      <td>0</td>\n",
              "      <td>0</td>\n",
              "      <td>0</td>\n",
              "    </tr>\n",
              "    <tr>\n",
              "      <th>2</th>\n",
              "      <td>id3858529</td>\n",
              "      <td>2</td>\n",
              "      <td>2016-01-19 11:35:24</td>\n",
              "      <td>2016-01-19 12:10:48</td>\n",
              "      <td>1</td>\n",
              "      <td>-73.979027</td>\n",
              "      <td>40.763939</td>\n",
              "      <td>-74.005333</td>\n",
              "      <td>40.710087</td>\n",
              "      <td>N</td>\n",
              "      <td>...</td>\n",
              "      <td>0</td>\n",
              "      <td>1</td>\n",
              "      <td>0</td>\n",
              "      <td>0</td>\n",
              "      <td>0</td>\n",
              "      <td>0</td>\n",
              "      <td>0</td>\n",
              "      <td>0</td>\n",
              "      <td>0</td>\n",
              "      <td>0</td>\n",
              "    </tr>\n",
              "    <tr>\n",
              "      <th>3</th>\n",
              "      <td>id3504673</td>\n",
              "      <td>2</td>\n",
              "      <td>2016-04-06 19:32:31</td>\n",
              "      <td>2016-04-06 19:39:40</td>\n",
              "      <td>1</td>\n",
              "      <td>-74.010040</td>\n",
              "      <td>40.719971</td>\n",
              "      <td>-74.012268</td>\n",
              "      <td>40.706718</td>\n",
              "      <td>N</td>\n",
              "      <td>...</td>\n",
              "      <td>0</td>\n",
              "      <td>1</td>\n",
              "      <td>0</td>\n",
              "      <td>0</td>\n",
              "      <td>0</td>\n",
              "      <td>0</td>\n",
              "      <td>0</td>\n",
              "      <td>0</td>\n",
              "      <td>0</td>\n",
              "      <td>0</td>\n",
              "    </tr>\n",
              "    <tr>\n",
              "      <th>4</th>\n",
              "      <td>id2181028</td>\n",
              "      <td>2</td>\n",
              "      <td>2016-03-26 13:30:55</td>\n",
              "      <td>2016-03-26 13:38:10</td>\n",
              "      <td>1</td>\n",
              "      <td>-73.973053</td>\n",
              "      <td>40.793209</td>\n",
              "      <td>-73.972923</td>\n",
              "      <td>40.782520</td>\n",
              "      <td>N</td>\n",
              "      <td>...</td>\n",
              "      <td>0</td>\n",
              "      <td>1</td>\n",
              "      <td>0</td>\n",
              "      <td>0</td>\n",
              "      <td>0</td>\n",
              "      <td>0</td>\n",
              "      <td>0</td>\n",
              "      <td>0</td>\n",
              "      <td>0</td>\n",
              "      <td>0</td>\n",
              "    </tr>\n",
              "  </tbody>\n",
              "</table>\n",
              "<p>5 rows × 62 columns</p>\n",
              "</div>\n",
              "      <button class=\"colab-df-convert\" onclick=\"convertToInteractive('df-adf4198f-d7a9-44ba-928b-e13297926ab2')\"\n",
              "              title=\"Convert this dataframe to an interactive table.\"\n",
              "              style=\"display:none;\">\n",
              "        \n",
              "  <svg xmlns=\"http://www.w3.org/2000/svg\" height=\"24px\"viewBox=\"0 0 24 24\"\n",
              "       width=\"24px\">\n",
              "    <path d=\"M0 0h24v24H0V0z\" fill=\"none\"/>\n",
              "    <path d=\"M18.56 5.44l.94 2.06.94-2.06 2.06-.94-2.06-.94-.94-2.06-.94 2.06-2.06.94zm-11 1L8.5 8.5l.94-2.06 2.06-.94-2.06-.94L8.5 2.5l-.94 2.06-2.06.94zm10 10l.94 2.06.94-2.06 2.06-.94-2.06-.94-.94-2.06-.94 2.06-2.06.94z\"/><path d=\"M17.41 7.96l-1.37-1.37c-.4-.4-.92-.59-1.43-.59-.52 0-1.04.2-1.43.59L10.3 9.45l-7.72 7.72c-.78.78-.78 2.05 0 2.83L4 21.41c.39.39.9.59 1.41.59.51 0 1.02-.2 1.41-.59l7.78-7.78 2.81-2.81c.8-.78.8-2.07 0-2.86zM5.41 20L4 18.59l7.72-7.72 1.47 1.35L5.41 20z\"/>\n",
              "  </svg>\n",
              "      </button>\n",
              "      \n",
              "  <style>\n",
              "    .colab-df-container {\n",
              "      display:flex;\n",
              "      flex-wrap:wrap;\n",
              "      gap: 12px;\n",
              "    }\n",
              "\n",
              "    .colab-df-convert {\n",
              "      background-color: #E8F0FE;\n",
              "      border: none;\n",
              "      border-radius: 50%;\n",
              "      cursor: pointer;\n",
              "      display: none;\n",
              "      fill: #1967D2;\n",
              "      height: 32px;\n",
              "      padding: 0 0 0 0;\n",
              "      width: 32px;\n",
              "    }\n",
              "\n",
              "    .colab-df-convert:hover {\n",
              "      background-color: #E2EBFA;\n",
              "      box-shadow: 0px 1px 2px rgba(60, 64, 67, 0.3), 0px 1px 3px 1px rgba(60, 64, 67, 0.15);\n",
              "      fill: #174EA6;\n",
              "    }\n",
              "\n",
              "    [theme=dark] .colab-df-convert {\n",
              "      background-color: #3B4455;\n",
              "      fill: #D2E3FC;\n",
              "    }\n",
              "\n",
              "    [theme=dark] .colab-df-convert:hover {\n",
              "      background-color: #434B5C;\n",
              "      box-shadow: 0px 1px 3px 1px rgba(0, 0, 0, 0.15);\n",
              "      filter: drop-shadow(0px 1px 2px rgba(0, 0, 0, 0.3));\n",
              "      fill: #FFFFFF;\n",
              "    }\n",
              "  </style>\n",
              "\n",
              "      <script>\n",
              "        const buttonEl =\n",
              "          document.querySelector('#df-adf4198f-d7a9-44ba-928b-e13297926ab2 button.colab-df-convert');\n",
              "        buttonEl.style.display =\n",
              "          google.colab.kernel.accessAllowed ? 'block' : 'none';\n",
              "\n",
              "        async function convertToInteractive(key) {\n",
              "          const element = document.querySelector('#df-adf4198f-d7a9-44ba-928b-e13297926ab2');\n",
              "          const dataTable =\n",
              "            await google.colab.kernel.invokeFunction('convertToInteractive',\n",
              "                                                     [key], {});\n",
              "          if (!dataTable) return;\n",
              "\n",
              "          const docLinkHtml = 'Like what you see? Visit the ' +\n",
              "            '<a target=\"_blank\" href=https://colab.research.google.com/notebooks/data_table.ipynb>data table notebook</a>'\n",
              "            + ' to learn more about interactive tables.';\n",
              "          element.innerHTML = '';\n",
              "          dataTable['output_type'] = 'display_data';\n",
              "          await google.colab.output.renderOutput(dataTable, element);\n",
              "          const docLink = document.createElement('div');\n",
              "          docLink.innerHTML = docLinkHtml;\n",
              "          element.appendChild(docLink);\n",
              "        }\n",
              "      </script>\n",
              "    </div>\n",
              "  </div>\n",
              "  "
            ]
          },
          "metadata": {},
          "execution_count": 20
        }
      ]
    },
    {
      "cell_type": "code",
      "source": [
        "pd.options.display.float_format = '{:.2f}'.format #To suppres scientific notation.\n",
        "data.passenger_count.value_counts()"
      ],
      "metadata": {
        "colab": {
          "base_uri": "https://localhost:8080/"
        },
        "id": "jsszsDhx9c5v",
        "outputId": "ccba2c32-6354-4a14-c41e-1a5ca87ba003"
      },
      "execution_count": 21,
      "outputs": [
        {
          "output_type": "execute_result",
          "data": {
            "text/plain": [
              "1    1033540\n",
              "2     210318\n",
              "5      78088\n",
              "3      59896\n",
              "6      48333\n",
              "4      28404\n",
              "0         60\n",
              "7          3\n",
              "9          1\n",
              "8          1\n",
              "Name: passenger_count, dtype: int64"
            ]
          },
          "metadata": {},
          "execution_count": 21
        }
      ]
    },
    {
      "cell_type": "code",
      "source": [
        "plt.figure(figsize = (20,5))\n",
        "sns.boxplot(data.passenger_count)\n",
        "plt.show()"
      ],
      "metadata": {
        "colab": {
          "base_uri": "https://localhost:8080/",
          "height": 334
        },
        "id": "iuR70E_M9f59",
        "outputId": "534a5bf3-0117-45e6-cde5-79451920310c"
      },
      "execution_count": 22,
      "outputs": [
        {
          "output_type": "display_data",
          "data": {
            "text/plain": [
              "<Figure size 1440x360 with 1 Axes>"
            ],
            "image/png": "[encoded data removed]"
          },
          "metadata": {
            "needs_background": "light"
          }
        }
      ]
    },
    {
      "cell_type": "code",
      "source": [
        "data.passenger_count.describe()"
      ],
      "metadata": {
        "colab": {
          "base_uri": "https://localhost:8080/"
        },
        "id": "O9yzP-qw9j32",
        "outputId": "254f2081-d287-4a0f-b870-060c57b39078"
      },
      "execution_count": 23,
      "outputs": [
        {
          "output_type": "execute_result",
          "data": {
            "text/plain": [
              "count   1458644.00\n",
              "mean          1.66\n",
              "std           1.31\n",
              "min           0.00\n",
              "25%           1.00\n",
              "50%           1.00\n",
              "75%           2.00\n",
              "max           9.00\n",
              "Name: passenger_count, dtype: float64"
            ]
          },
          "metadata": {},
          "execution_count": 23
        }
      ]
    },
    {
      "cell_type": "code",
      "source": [
        "data['passenger_count'] = data.passenger_count.map(lambda x: 1 if x == 0 else x)"
      ],
      "metadata": {
        "id": "WqQxGB4eHhuP"
      },
      "execution_count": 24,
      "outputs": []
    },
    {
      "cell_type": "code",
      "source": [
        "data = data[data.passenger_count <= 6]"
      ],
      "metadata": {
        "id": "RwN639WGHjti"
      },
      "execution_count": 25,
      "outputs": []
    },
    {
      "cell_type": "code",
      "source": [
        "data.passenger_count.value_counts()\n"
      ],
      "metadata": {
        "colab": {
          "base_uri": "https://localhost:8080/"
        },
        "id": "4A5GAr_cHltq",
        "outputId": "0cada53a-7f0c-4b6f-f9ed-54f169b73372"
      },
      "execution_count": 26,
      "outputs": [
        {
          "output_type": "execute_result",
          "data": {
            "text/plain": [
              "1    1033600\n",
              "2     210318\n",
              "5      78088\n",
              "3      59896\n",
              "6      48333\n",
              "4      28404\n",
              "Name: passenger_count, dtype: int64"
            ]
          },
          "metadata": {},
          "execution_count": 26
        }
      ]
    },
    {
      "cell_type": "code",
      "source": [
        "sns.countplot(data.passenger_count)\n",
        "plt.show()"
      ],
      "metadata": {
        "colab": {
          "base_uri": "https://localhost:8080/",
          "height": 291
        },
        "id": "KkCyU5WUHoR9",
        "outputId": "1913e2d7-8635-47bb-8ef9-3f4ade02d9b3"
      },
      "execution_count": 27,
      "outputs": [
        {
          "output_type": "display_data",
          "data": {
            "text/plain": [
              "<Figure size 432x288 with 1 Axes>"
            ],
            "image/png": "[encoded data removed]"
          },
          "metadata": {
            "needs_background": "light"
          }
        }
      ]
    },
    {
      "cell_type": "markdown",
      "source": [
        "### Vendor"
      ],
      "metadata": {
        "id": "XdZn5J1QHqdl"
      }
    },
    {
      "cell_type": "markdown",
      "source": [
        "Here we analyze taxi data only for the 2 vendors which are listed as 1 and 2 in the datset."
      ],
      "metadata": {
        "id": "DFv2TfVfHtoi"
      }
    },
    {
      "cell_type": "code",
      "source": [
        "sns.countplot(data.vendor_id)\n",
        "plt.show()"
      ],
      "metadata": {
        "colab": {
          "base_uri": "https://localhost:8080/",
          "height": 280
        },
        "id": "E3d70MU-HwIn",
        "outputId": "8c6fa368-81e4-4b0e-c635-fde358e358db"
      },
      "execution_count": 28,
      "outputs": [
        {
          "output_type": "display_data",
          "data": {
            "text/plain": [
              "<Figure size 432x288 with 1 Axes>"
            ],
            "image/png": "[encoded data removed]"
          },
          "metadata": {
            "needs_background": "light"
          }
        }
      ]
    },
    {
      "cell_type": "markdown",
      "source": [
        "Though both the vendors seems to have almost equal market share. But Vendor 2 is evidently more famous among the population as per the above graph."
      ],
      "metadata": {
        "id": "zenBN0PQHx_F"
      }
    },
    {
      "cell_type": "markdown",
      "source": [
        "### Distance"
      ],
      "metadata": {
        "id": "RUkx2nHIH0c7"
      }
    },
    {
      "cell_type": "markdown",
      "source": [
        "Let's now have a look on the distribution of the distance across the different types of rides.\n"
      ],
      "metadata": {
        "id": "hLOnTrefH333"
      }
    },
    {
      "cell_type": "code",
      "source": [
        "print(data.distance.describe())"
      ],
      "metadata": {
        "colab": {
          "base_uri": "https://localhost:8080/"
        },
        "id": "9TuvbiVkHyyJ",
        "outputId": "4f767e24-a1ca-42b2-f9c7-800ef75d5c6b"
      },
      "execution_count": 29,
      "outputs": [
        {
          "output_type": "stream",
          "name": "stdout",
          "text": [
            "count   1458639.00\n",
            "mean          3.44\n",
            "std           4.30\n",
            "min           0.00\n",
            "25%           1.23\n",
            "50%           2.09\n",
            "75%           3.88\n",
            "max        1240.91\n",
            "Name: distance, dtype: float64\n"
          ]
        }
      ]
    },
    {
      "cell_type": "code",
      "source": [
        "plt.figure(figsize = (20,5))\n",
        "sns.boxplot(data.distance)\n",
        "plt.show()"
      ],
      "metadata": {
        "colab": {
          "base_uri": "https://localhost:8080/",
          "height": 334
        },
        "id": "oSx82OntH71j",
        "outputId": "d61f57d1-30cd-40f1-dc98-3a58d4871d34"
      },
      "execution_count": 30,
      "outputs": [
        {
          "output_type": "display_data",
          "data": {
            "text/plain": [
              "<Figure size 1440x360 with 1 Axes>"
            ],
            "image/png": "[encoded data removed]"
          },
          "metadata": {
            "needs_background": "light"
          }
        }
      ]
    },
    {
      "cell_type": "markdown",
      "source": [
        "**Interesting find:**\n",
        "There some trips with over 100 km distance.\n",
        "\n",
        "Some of the trips distance value is 0 km.\n",
        "\n",
        "**Observations:**\n",
        "\n",
        "mean distance travelled is approx 3.5 kms.\n",
        "\n",
        "standard deviation of 4.3 which shows that most of the trips are limited to the range of 1-10 kms."
      ],
      "metadata": {
        "id": "0P2zlmEnH9d_"
      }
    },
    {
      "cell_type": "code",
      "source": [
        "print(\"There are {} trip records with 0 km distance\".format(data.distance[data.distance == 0 ].count()))"
      ],
      "metadata": {
        "colab": {
          "base_uri": "https://localhost:8080/"
        },
        "id": "pK4qUzdgIHik",
        "outputId": "8a987636-aa47-4868-b931-5b7f646159f9"
      },
      "execution_count": 11,
      "outputs": [
        {
          "output_type": "stream",
          "name": "stdout",
          "text": [
            "There are 5897 trip records with 0 km distance\n"
          ]
        }
      ]
    },
    {
      "cell_type": "code",
      "source": [
        "data[data.distance == 0 ].head()"
      ],
      "metadata": {
        "colab": {
          "base_uri": "https://localhost:8080/",
          "height": 386
        },
        "id": "hQoWqsVLIKKZ",
        "outputId": "71b77aeb-457e-4503-985e-423692da2cc0"
      },
      "execution_count": 12,
      "outputs": [
        {
          "output_type": "execute_result",
          "data": {
            "text/plain": [
              "             id  vendor_id     pickup_datetime    dropoff_datetime  \\\n",
              "246   id3487442          2 2016-02-29 18:39:12 2016-02-29 18:42:59   \n",
              "291   id0924324          2 2016-05-10 18:07:52 2016-05-10 18:26:21   \n",
              "407   id1145809          2 2016-05-16 23:15:13 2016-05-16 23:31:00   \n",
              "702   id3499387          1 2016-01-25 19:45:12 2016-01-25 19:54:52   \n",
              "1620  id0753277          1 2016-01-27 22:29:31 2016-01-27 22:29:58   \n",
              "\n",
              "      passenger_count  pickup_longitude  pickup_latitude  dropoff_longitude  \\\n",
              "246                 1        -73.981819        40.768963         -73.981819   \n",
              "291                 2        -73.959068        40.775661         -73.959068   \n",
              "407                 6        -73.808487        40.687336         -73.808487   \n",
              "702                 1        -73.786720        40.647041         -73.786720   \n",
              "1620                1        -74.209854        40.816853         -74.209854   \n",
              "\n",
              "      dropoff_latitude store_and_fwd_flag  ...  pickup_hour_23  \\\n",
              "246          40.768963                  N  ...               0   \n",
              "291          40.775661                  N  ...               0   \n",
              "407          40.687336                  N  ...               1   \n",
              "702          40.647041                  N  ...               0   \n",
              "1620         40.816853                  N  ...               0   \n",
              "\n",
              "      passenger_count_1  passenger_count_2  passenger_count_3  \\\n",
              "246                   1                  0                  0   \n",
              "291                   0                  1                  0   \n",
              "407                   0                  0                  0   \n",
              "702                   1                  0                  0   \n",
              "1620                  1                  0                  0   \n",
              "\n",
              "      passenger_count_4  passenger_count_5  passenger_count_6  \\\n",
              "246                   0                  0                  0   \n",
              "291                   0                  0                  0   \n",
              "407                   0                  0                  1   \n",
              "702                   0                  0                  0   \n",
              "1620                  0                  0                  0   \n",
              "\n",
              "      passenger_count_7  passenger_count_8  passenger_count_9  \n",
              "246                   0                  0                  0  \n",
              "291                   0                  0                  0  \n",
              "407                   0                  0                  0  \n",
              "702                   0                  0                  0  \n",
              "1620                  0                  0                  0  \n",
              "\n",
              "[5 rows x 62 columns]"
            ],
            "text/html": [
              "\n",
              "  <div id=\"df-23123389-92b5-410a-96b5-8e8fa070ee61\">\n",
              "    <div class=\"colab-df-container\">\n",
              "      <div>\n",
              "<style scoped>\n",
              "    .dataframe tbody tr th:only-of-type {\n",
              "        vertical-align: middle;\n",
              "    }\n",
              "\n",
              "    .dataframe tbody tr th {\n",
              "        vertical-align: top;\n",
              "    }\n",
              "\n",
              "    .dataframe thead th {\n",
              "        text-align: right;\n",
              "    }\n",
              "</style>\n",
              "<table border=\"1\" class=\"dataframe\">\n",
              "  <thead>\n",
              "    <tr style=\"text-align: right;\">\n",
              "      <th></th>\n",
              "      <th>id</th>\n",
              "      <th>vendor_id</th>\n",
              "      <th>pickup_datetime</th>\n",
              "      <th>dropoff_datetime</th>\n",
              "      <th>passenger_count</th>\n",
              "      <th>pickup_longitude</th>\n",
              "      <th>pickup_latitude</th>\n",
              "      <th>dropoff_longitude</th>\n",
              "      <th>dropoff_latitude</th>\n",
              "      <th>store_and_fwd_flag</th>\n",
              "      <th>...</th>\n",
              "      <th>pickup_hour_23</th>\n",
              "      <th>passenger_count_1</th>\n",
              "      <th>passenger_count_2</th>\n",
              "      <th>passenger_count_3</th>\n",
              "      <th>passenger_count_4</th>\n",
              "      <th>passenger_count_5</th>\n",
              "      <th>passenger_count_6</th>\n",
              "      <th>passenger_count_7</th>\n",
              "      <th>passenger_count_8</th>\n",
              "      <th>passenger_count_9</th>\n",
              "    </tr>\n",
              "  </thead>\n",
              "  <tbody>\n",
              "    <tr>\n",
              "      <th>246</th>\n",
              "      <td>id3487442</td>\n",
              "      <td>2</td>\n",
              "      <td>2016-02-29 18:39:12</td>\n",
              "      <td>2016-02-29 18:42:59</td>\n",
              "      <td>1</td>\n",
              "      <td>-73.981819</td>\n",
              "      <td>40.768963</td>\n",
              "      <td>-73.981819</td>\n",
              "      <td>40.768963</td>\n",
              "      <td>N</td>\n",
              "      <td>...</td>\n",
              "      <td>0</td>\n",
              "      <td>1</td>\n",
              "      <td>0</td>\n",
              "      <td>0</td>\n",
              "      <td>0</td>\n",
              "      <td>0</td>\n",
              "      <td>0</td>\n",
              "      <td>0</td>\n",
              "      <td>0</td>\n",
              "      <td>0</td>\n",
              "    </tr>\n",
              "    <tr>\n",
              "      <th>291</th>\n",
              "      <td>id0924324</td>\n",
              "      <td>2</td>\n",
              "      <td>2016-05-10 18:07:52</td>\n",
              "      <td>2016-05-10 18:26:21</td>\n",
              "      <td>2</td>\n",
              "      <td>-73.959068</td>\n",
              "      <td>40.775661</td>\n",
              "      <td>-73.959068</td>\n",
              "      <td>40.775661</td>\n",
              "      <td>N</td>\n",
              "      <td>...</td>\n",
              "      <td>0</td>\n",
              "      <td>0</td>\n",
              "      <td>1</td>\n",
              "      <td>0</td>\n",
              "      <td>0</td>\n",
              "      <td>0</td>\n",
              "      <td>0</td>\n",
              "      <td>0</td>\n",
              "      <td>0</td>\n",
              "      <td>0</td>\n",
              "    </tr>\n",
              "    <tr>\n",
              "      <th>407</th>\n",
              "      <td>id1145809</td>\n",
              "      <td>2</td>\n",
              "      <td>2016-05-16 23:15:13</td>\n",
              "      <td>2016-05-16 23:31:00</td>\n",
              "      <td>6</td>\n",
              "      <td>-73.808487</td>\n",
              "      <td>40.687336</td>\n",
              "      <td>-73.808487</td>\n",
              "      <td>40.687336</td>\n",
              "      <td>N</td>\n",
              "      <td>...</td>\n",
              "      <td>1</td>\n",
              "      <td>0</td>\n",
              "      <td>0</td>\n",
              "      <td>0</td>\n",
              "      <td>0</td>\n",
              "      <td>0</td>\n",
              "      <td>1</td>\n",
              "      <td>0</td>\n",
              "      <td>0</td>\n",
              "      <td>0</td>\n",
              "    </tr>\n",
              "    <tr>\n",
              "      <th>702</th>\n",
              "      <td>id3499387</td>\n",
              "      <td>1</td>\n",
              "      <td>2016-01-25 19:45:12</td>\n",
              "      <td>2016-01-25 19:54:52</td>\n",
              "      <td>1</td>\n",
              "      <td>-73.786720</td>\n",
              "      <td>40.647041</td>\n",
              "      <td>-73.786720</td>\n",
              "      <td>40.647041</td>\n",
              "      <td>N</td>\n",
              "      <td>...</td>\n",
              "      <td>0</td>\n",
              "      <td>1</td>\n",
              "      <td>0</td>\n",
              "      <td>0</td>\n",
              "      <td>0</td>\n",
              "      <td>0</td>\n",
              "      <td>0</td>\n",
              "      <td>0</td>\n",
              "      <td>0</td>\n",
              "      <td>0</td>\n",
              "    </tr>\n",
              "    <tr>\n",
              "      <th>1620</th>\n",
              "      <td>id0753277</td>\n",
              "      <td>1</td>\n",
              "      <td>2016-01-27 22:29:31</td>\n",
              "      <td>2016-01-27 22:29:58</td>\n",
              "      <td>1</td>\n",
              "      <td>-74.209854</td>\n",
              "      <td>40.816853</td>\n",
              "      <td>-74.209854</td>\n",
              "      <td>40.816853</td>\n",
              "      <td>N</td>\n",
              "      <td>...</td>\n",
              "      <td>0</td>\n",
              "      <td>1</td>\n",
              "      <td>0</td>\n",
              "      <td>0</td>\n",
              "      <td>0</td>\n",
              "      <td>0</td>\n",
              "      <td>0</td>\n",
              "      <td>0</td>\n",
              "      <td>0</td>\n",
              "      <td>0</td>\n",
              "    </tr>\n",
              "  </tbody>\n",
              "</table>\n",
              "<p>5 rows × 62 columns</p>\n",
              "</div>\n",
              "      <button class=\"colab-df-convert\" onclick=\"convertToInteractive('df-23123389-92b5-410a-96b5-8e8fa070ee61')\"\n",
              "              title=\"Convert this dataframe to an interactive table.\"\n",
              "              style=\"display:none;\">\n",
              "        \n",
              "  <svg xmlns=\"http://www.w3.org/2000/svg\" height=\"24px\"viewBox=\"0 0 24 24\"\n",
              "       width=\"24px\">\n",
              "    <path d=\"M0 0h24v24H0V0z\" fill=\"none\"/>\n",
              "    <path d=\"M18.56 5.44l.94 2.06.94-2.06 2.06-.94-2.06-.94-.94-2.06-.94 2.06-2.06.94zm-11 1L8.5 8.5l.94-2.06 2.06-.94-2.06-.94L8.5 2.5l-.94 2.06-2.06.94zm10 10l.94 2.06.94-2.06 2.06-.94-2.06-.94-.94-2.06-.94 2.06-2.06.94z\"/><path d=\"M17.41 7.96l-1.37-1.37c-.4-.4-.92-.59-1.43-.59-.52 0-1.04.2-1.43.59L10.3 9.45l-7.72 7.72c-.78.78-.78 2.05 0 2.83L4 21.41c.39.39.9.59 1.41.59.51 0 1.02-.2 1.41-.59l7.78-7.78 2.81-2.81c.8-.78.8-2.07 0-2.86zM5.41 20L4 18.59l7.72-7.72 1.47 1.35L5.41 20z\"/>\n",
              "  </svg>\n",
              "      </button>\n",
              "      \n",
              "  <style>\n",
              "    .colab-df-container {\n",
              "      display:flex;\n",
              "      flex-wrap:wrap;\n",
              "      gap: 12px;\n",
              "    }\n",
              "\n",
              "    .colab-df-convert {\n",
              "      background-color: #E8F0FE;\n",
              "      border: none;\n",
              "      border-radius: 50%;\n",
              "      cursor: pointer;\n",
              "      display: none;\n",
              "      fill: #1967D2;\n",
              "      height: 32px;\n",
              "      padding: 0 0 0 0;\n",
              "      width: 32px;\n",
              "    }\n",
              "\n",
              "    .colab-df-convert:hover {\n",
              "      background-color: #E2EBFA;\n",
              "      box-shadow: 0px 1px 2px rgba(60, 64, 67, 0.3), 0px 1px 3px 1px rgba(60, 64, 67, 0.15);\n",
              "      fill: #174EA6;\n",
              "    }\n",
              "\n",
              "    [theme=dark] .colab-df-convert {\n",
              "      background-color: #3B4455;\n",
              "      fill: #D2E3FC;\n",
              "    }\n",
              "\n",
              "    [theme=dark] .colab-df-convert:hover {\n",
              "      background-color: #434B5C;\n",
              "      box-shadow: 0px 1px 3px 1px rgba(0, 0, 0, 0.15);\n",
              "      filter: drop-shadow(0px 1px 2px rgba(0, 0, 0, 0.3));\n",
              "      fill: #FFFFFF;\n",
              "    }\n",
              "  </style>\n",
              "\n",
              "      <script>\n",
              "        const buttonEl =\n",
              "          document.querySelector('#df-23123389-92b5-410a-96b5-8e8fa070ee61 button.colab-df-convert');\n",
              "        buttonEl.style.display =\n",
              "          google.colab.kernel.accessAllowed ? 'block' : 'none';\n",
              "\n",
              "        async function convertToInteractive(key) {\n",
              "          const element = document.querySelector('#df-23123389-92b5-410a-96b5-8e8fa070ee61');\n",
              "          const dataTable =\n",
              "            await google.colab.kernel.invokeFunction('convertToInteractive',\n",
              "                                                     [key], {});\n",
              "          if (!dataTable) return;\n",
              "\n",
              "          const docLinkHtml = 'Like what you see? Visit the ' +\n",
              "            '<a target=\"_blank\" href=https://colab.research.google.com/notebooks/data_table.ipynb>data table notebook</a>'\n",
              "            + ' to learn more about interactive tables.';\n",
              "          element.innerHTML = '';\n",
              "          dataTable['output_type'] = 'display_data';\n",
              "          await google.colab.output.renderOutput(dataTable, element);\n",
              "          const docLink = document.createElement('div');\n",
              "          docLink.innerHTML = docLinkHtml;\n",
              "          element.appendChild(docLink);\n",
              "        }\n",
              "      </script>\n",
              "    </div>\n",
              "  </div>\n",
              "  "
            ]
          },
          "metadata": {},
          "execution_count": 12
        }
      ]
    },
    {
      "cell_type": "markdown",
      "source": [
        "**Observations**\n",
        "\n",
        "Around 6K trip record with distance equal to 0. Below are some possible explanation for such records.\n",
        "\n",
        "\n",
        "\n",
        "1.   Customer changed mind and cancelled the journey just after accepting it.\n",
        "2.   Software didn't recorded dropoff location properly due to which dropoff location is the same as the pickup location.\n",
        "3.   Issue with GPS tracker while the journey is being finished.\n",
        "4.   Driver cancelled the trip just after accepting it due to some reason. So the trip couldn't start\n",
        "5.   Or some other issue with the software itself which a technical guy can explain\n",
        "\n",
        "There is some serious inconsistencies in the data where drop off location is same as the pickup location. We can't think off imputing the distance values considering a correlation with the duration because the dropoff_location coordinates would not be inline with the distance otherwise. We will look more to it in bivariate analysis with the Trip duration."
      ],
      "metadata": {
        "id": "HpIgsoAYIP1p"
      }
    },
    {
      "cell_type": "code",
      "source": [
        "data.distance.groupby(pd.cut(data.distance, np.arange(0,100,10))).count().plot(kind='barh')\n",
        "plt.show()"
      ],
      "metadata": {
        "colab": {
          "base_uri": "https://localhost:8080/",
          "height": 278
        },
        "id": "3h-F4gJWIM8-",
        "outputId": "7e9c86a6-2237-4eb3-9716-27592484d443"
      },
      "execution_count": 13,
      "outputs": [
        {
          "output_type": "display_data",
          "data": {
            "text/plain": [
              "<Figure size 432x288 with 1 Axes>"
            ],
            "image/png": "[encoded data removed]"
          },
          "metadata": {
            "needs_background": "light"
          }
        }
      ]
    },
    {
      "cell_type": "markdown",
      "source": [
        "From the above observation it is evident that most of the rides are completed between 1-10 Kms with some of the rides with distances between 10-30 kms. Other slabs bar are not visible because the number of trips are very less as compared to these slabs"
      ],
      "metadata": {
        "id": "C_O1QhwUI35Y"
      }
    },
    {
      "cell_type": "markdown",
      "source": [
        "### Trip duration"
      ],
      "metadata": {
        "id": "8sqA8VG6I6gn"
      }
    },
    {
      "cell_type": "code",
      "source": [
        "data.trip_duration.describe()"
      ],
      "metadata": {
        "colab": {
          "base_uri": "https://localhost:8080/"
        },
        "id": "g007ZZqkI4fI",
        "outputId": "f4025b5a-a77c-4885-de00-1aef4092895f"
      },
      "execution_count": 14,
      "outputs": [
        {
          "output_type": "execute_result",
          "data": {
            "text/plain": [
              "count    1.458644e+06\n",
              "mean     9.594923e+02\n",
              "std      5.237432e+03\n",
              "min      1.000000e+00\n",
              "25%      3.970000e+02\n",
              "50%      6.620000e+02\n",
              "75%      1.075000e+03\n",
              "max      3.526282e+06\n",
              "Name: trip_duration, dtype: float64"
            ]
          },
          "metadata": {},
          "execution_count": 14
        }
      ]
    },
    {
      "cell_type": "code",
      "source": [
        "plt.figure(figsize = (20,5))\n",
        "sns.boxplot(data.trip_duration)\n",
        "plt.show()"
      ],
      "metadata": {
        "colab": {
          "base_uri": "https://localhost:8080/",
          "height": 335
        },
        "id": "xpd5QzUUI_8q",
        "outputId": "745dd8bb-7bf8-4afc-bc72-1b64f9b6eb00"
      },
      "execution_count": 15,
      "outputs": [
        {
          "output_type": "display_data",
          "data": {
            "text/plain": [
              "<Figure size 1440x360 with 1 Axes>"
            ],
            "image/png": "[encoded data removed]"
          },
          "metadata": {
            "needs_background": "light"
          }
        }
      ]
    },
    {
      "cell_type": "markdown",
      "source": [
        "Interesting find:\n",
        "Some trip durations are over 100000 seconds which are clear outliers and should \n",
        "*   Some trip durations are over 100000 seconds which are clear outliers and should be removed.\n",
        "\n",
        "Observations:\n",
        "\n",
        "*   There are some durations with as low as 1 second. which points towards trips with 0 km distance.\n",
        "*   Major trip durations took between 10-20 mins to complete.\n",
        "*   Mean and mode are not same which shows that trip duration distribution is skewed towards right.\n",
        "\n",
        "Let's analyze more"
      ],
      "metadata": {
        "id": "fYXc7vzPJCm9"
      }
    },
    {
      "cell_type": "code",
      "source": [
        "data.trip_duration.groupby(pd.cut(data.trip_duration, np.arange(1,max(data.trip_duration),3600))).count()"
      ],
      "metadata": {
        "colab": {
          "base_uri": "https://localhost:8080/"
        },
        "id": "ls27cff7JaVY",
        "outputId": "becb185a-bd52-4187-c460-a61a9f501ccb"
      },
      "execution_count": 16,
      "outputs": [
        {
          "output_type": "execute_result",
          "data": {
            "text/plain": [
              "trip_duration\n",
              "(1, 3601]             1446313\n",
              "(3601, 7201]            10045\n",
              "(7201, 10801]             141\n",
              "(10801, 14401]             35\n",
              "(14401, 18001]              5\n",
              "                       ...   \n",
              "(3506401, 3510001]          0\n",
              "(3510001, 3513601]          0\n",
              "(3513601, 3517201]          0\n",
              "(3517201, 3520801]          0\n",
              "(3520801, 3524401]          0\n",
              "Name: trip_duration, Length: 979, dtype: int64"
            ]
          },
          "metadata": {},
          "execution_count": 16
        }
      ]
    },
    {
      "cell_type": "markdown",
      "source": [
        "Observations:\n",
        "\n",
        "*   There are some trips with more than 24 hours of travel duration i.e. 86400 seconds. Which might have occured on weekends for the outstation travels.\n",
        "*   Major chunk of trips are completed within an interval of 1 hour with some good numbers of trips duration going above 1 hour.\n",
        "\n",
        "Let's look at those trips with huge duration, these are outliers and should be removed for the data consistency."
      ],
      "metadata": {
        "id": "_yQiD1ZvJqOC"
      }
    },
    {
      "cell_type": "code",
      "source": [
        "data[data.trip_duration > 86400]"
      ],
      "metadata": {
        "colab": {
          "base_uri": "https://localhost:8080/",
          "height": 338
        },
        "id": "-NWWCWMOJlAf",
        "outputId": "871d833f-edda-4147-bc39-c116fdb2ff6b"
      },
      "execution_count": 17,
      "outputs": [
        {
          "output_type": "execute_result",
          "data": {
            "text/plain": [
              "               id  vendor_id     pickup_datetime    dropoff_datetime  \\\n",
              "355003  id1864733          1 2016-01-05 00:19:42 2016-01-27 11:08:38   \n",
              "680594  id0369307          1 2016-02-13 22:38:00 2016-03-08 15:57:38   \n",
              "924150  id1325766          1 2016-01-05 06:14:15 2016-01-31 01:01:07   \n",
              "978383  id0053347          1 2016-02-13 22:46:52 2016-03-25 18:18:14   \n",
              "\n",
              "        passenger_count  pickup_longitude  pickup_latitude  dropoff_longitude  \\\n",
              "355003                1        -73.789650        40.643559         -73.956810   \n",
              "680594                2        -73.921677        40.735252         -73.984749   \n",
              "924150                1        -73.983788        40.742325         -73.985489   \n",
              "978383                1        -73.783905        40.648632         -73.978271   \n",
              "\n",
              "        dropoff_latitude store_and_fwd_flag  ...  pickup_hour_23  \\\n",
              "355003         40.773087                  N  ...               0   \n",
              "680594         40.759979                  N  ...               0   \n",
              "924150         40.727676                  N  ...               0   \n",
              "978383         40.750202                  N  ...               0   \n",
              "\n",
              "        passenger_count_1  passenger_count_2  passenger_count_3  \\\n",
              "355003                  1                  0                  0   \n",
              "680594                  0                  1                  0   \n",
              "924150                  1                  0                  0   \n",
              "978383                  1                  0                  0   \n",
              "\n",
              "        passenger_count_4  passenger_count_5  passenger_count_6  \\\n",
              "355003                  0                  0                  0   \n",
              "680594                  0                  0                  0   \n",
              "924150                  0                  0                  0   \n",
              "978383                  0                  0                  0   \n",
              "\n",
              "        passenger_count_7  passenger_count_8  passenger_count_9  \n",
              "355003                  0                  0                  0  \n",
              "680594                  0                  0                  0  \n",
              "924150                  0                  0                  0  \n",
              "978383                  0                  0                  0  \n",
              "\n",
              "[4 rows x 62 columns]"
            ],
            "text/html": [
              "\n",
              "  <div id=\"df-954ba939-517f-4ef1-8a6b-c0a07488cdf6\">\n",
              "    <div class=\"colab-df-container\">\n",
              "      <div>\n",
              "<style scoped>\n",
              "    .dataframe tbody tr th:only-of-type {\n",
              "        vertical-align: middle;\n",
              "    }\n",
              "\n",
              "    .dataframe tbody tr th {\n",
              "        vertical-align: top;\n",
              "    }\n",
              "\n",
              "    .dataframe thead th {\n",
              "        text-align: right;\n",
              "    }\n",
              "</style>\n",
              "<table border=\"1\" class=\"dataframe\">\n",
              "  <thead>\n",
              "    <tr style=\"text-align: right;\">\n",
              "      <th></th>\n",
              "      <th>id</th>\n",
              "      <th>vendor_id</th>\n",
              "      <th>pickup_datetime</th>\n",
              "      <th>dropoff_datetime</th>\n",
              "      <th>passenger_count</th>\n",
              "      <th>pickup_longitude</th>\n",
              "      <th>pickup_latitude</th>\n",
              "      <th>dropoff_longitude</th>\n",
              "      <th>dropoff_latitude</th>\n",
              "      <th>store_and_fwd_flag</th>\n",
              "      <th>...</th>\n",
              "      <th>pickup_hour_23</th>\n",
              "      <th>passenger_count_1</th>\n",
              "      <th>passenger_count_2</th>\n",
              "      <th>passenger_count_3</th>\n",
              "      <th>passenger_count_4</th>\n",
              "      <th>passenger_count_5</th>\n",
              "      <th>passenger_count_6</th>\n",
              "      <th>passenger_count_7</th>\n",
              "      <th>passenger_count_8</th>\n",
              "      <th>passenger_count_9</th>\n",
              "    </tr>\n",
              "  </thead>\n",
              "  <tbody>\n",
              "    <tr>\n",
              "      <th>355003</th>\n",
              "      <td>id1864733</td>\n",
              "      <td>1</td>\n",
              "      <td>2016-01-05 00:19:42</td>\n",
              "      <td>2016-01-27 11:08:38</td>\n",
              "      <td>1</td>\n",
              "      <td>-73.789650</td>\n",
              "      <td>40.643559</td>\n",
              "      <td>-73.956810</td>\n",
              "      <td>40.773087</td>\n",
              "      <td>N</td>\n",
              "      <td>...</td>\n",
              "      <td>0</td>\n",
              "      <td>1</td>\n",
              "      <td>0</td>\n",
              "      <td>0</td>\n",
              "      <td>0</td>\n",
              "      <td>0</td>\n",
              "      <td>0</td>\n",
              "      <td>0</td>\n",
              "      <td>0</td>\n",
              "      <td>0</td>\n",
              "    </tr>\n",
              "    <tr>\n",
              "      <th>680594</th>\n",
              "      <td>id0369307</td>\n",
              "      <td>1</td>\n",
              "      <td>2016-02-13 22:38:00</td>\n",
              "      <td>2016-03-08 15:57:38</td>\n",
              "      <td>2</td>\n",
              "      <td>-73.921677</td>\n",
              "      <td>40.735252</td>\n",
              "      <td>-73.984749</td>\n",
              "      <td>40.759979</td>\n",
              "      <td>N</td>\n",
              "      <td>...</td>\n",
              "      <td>0</td>\n",
              "      <td>0</td>\n",
              "      <td>1</td>\n",
              "      <td>0</td>\n",
              "      <td>0</td>\n",
              "      <td>0</td>\n",
              "      <td>0</td>\n",
              "      <td>0</td>\n",
              "      <td>0</td>\n",
              "      <td>0</td>\n",
              "    </tr>\n",
              "    <tr>\n",
              "      <th>924150</th>\n",
              "      <td>id1325766</td>\n",
              "      <td>1</td>\n",
              "      <td>2016-01-05 06:14:15</td>\n",
              "      <td>2016-01-31 01:01:07</td>\n",
              "      <td>1</td>\n",
              "      <td>-73.983788</td>\n",
              "      <td>40.742325</td>\n",
              "      <td>-73.985489</td>\n",
              "      <td>40.727676</td>\n",
              "      <td>N</td>\n",
              "      <td>...</td>\n",
              "      <td>0</td>\n",
              "      <td>1</td>\n",
              "      <td>0</td>\n",
              "      <td>0</td>\n",
              "      <td>0</td>\n",
              "      <td>0</td>\n",
              "      <td>0</td>\n",
              "      <td>0</td>\n",
              "      <td>0</td>\n",
              "      <td>0</td>\n",
              "    </tr>\n",
              "    <tr>\n",
              "      <th>978383</th>\n",
              "      <td>id0053347</td>\n",
              "      <td>1</td>\n",
              "      <td>2016-02-13 22:46:52</td>\n",
              "      <td>2016-03-25 18:18:14</td>\n",
              "      <td>1</td>\n",
              "      <td>-73.783905</td>\n",
              "      <td>40.648632</td>\n",
              "      <td>-73.978271</td>\n",
              "      <td>40.750202</td>\n",
              "      <td>N</td>\n",
              "      <td>...</td>\n",
              "      <td>0</td>\n",
              "      <td>1</td>\n",
              "      <td>0</td>\n",
              "      <td>0</td>\n",
              "      <td>0</td>\n",
              "      <td>0</td>\n",
              "      <td>0</td>\n",
              "      <td>0</td>\n",
              "      <td>0</td>\n",
              "      <td>0</td>\n",
              "    </tr>\n",
              "  </tbody>\n",
              "</table>\n",
              "<p>4 rows × 62 columns</p>\n",
              "</div>\n",
              "      <button class=\"colab-df-convert\" onclick=\"convertToInteractive('df-954ba939-517f-4ef1-8a6b-c0a07488cdf6')\"\n",
              "              title=\"Convert this dataframe to an interactive table.\"\n",
              "              style=\"display:none;\">\n",
              "        \n",
              "  <svg xmlns=\"http://www.w3.org/2000/svg\" height=\"24px\"viewBox=\"0 0 24 24\"\n",
              "       width=\"24px\">\n",
              "    <path d=\"M0 0h24v24H0V0z\" fill=\"none\"/>\n",
              "    <path d=\"M18.56 5.44l.94 2.06.94-2.06 2.06-.94-2.06-.94-.94-2.06-.94 2.06-2.06.94zm-11 1L8.5 8.5l.94-2.06 2.06-.94-2.06-.94L8.5 2.5l-.94 2.06-2.06.94zm10 10l.94 2.06.94-2.06 2.06-.94-2.06-.94-.94-2.06-.94 2.06-2.06.94z\"/><path d=\"M17.41 7.96l-1.37-1.37c-.4-.4-.92-.59-1.43-.59-.52 0-1.04.2-1.43.59L10.3 9.45l-7.72 7.72c-.78.78-.78 2.05 0 2.83L4 21.41c.39.39.9.59 1.41.59.51 0 1.02-.2 1.41-.59l7.78-7.78 2.81-2.81c.8-.78.8-2.07 0-2.86zM5.41 20L4 18.59l7.72-7.72 1.47 1.35L5.41 20z\"/>\n",
              "  </svg>\n",
              "      </button>\n",
              "      \n",
              "  <style>\n",
              "    .colab-df-container {\n",
              "      display:flex;\n",
              "      flex-wrap:wrap;\n",
              "      gap: 12px;\n",
              "    }\n",
              "\n",
              "    .colab-df-convert {\n",
              "      background-color: #E8F0FE;\n",
              "      border: none;\n",
              "      border-radius: 50%;\n",
              "      cursor: pointer;\n",
              "      display: none;\n",
              "      fill: #1967D2;\n",
              "      height: 32px;\n",
              "      padding: 0 0 0 0;\n",
              "      width: 32px;\n",
              "    }\n",
              "\n",
              "    .colab-df-convert:hover {\n",
              "      background-color: #E2EBFA;\n",
              "      box-shadow: 0px 1px 2px rgba(60, 64, 67, 0.3), 0px 1px 3px 1px rgba(60, 64, 67, 0.15);\n",
              "      fill: #174EA6;\n",
              "    }\n",
              "\n",
              "    [theme=dark] .colab-df-convert {\n",
              "      background-color: #3B4455;\n",
              "      fill: #D2E3FC;\n",
              "    }\n",
              "\n",
              "    [theme=dark] .colab-df-convert:hover {\n",
              "      background-color: #434B5C;\n",
              "      box-shadow: 0px 1px 3px 1px rgba(0, 0, 0, 0.15);\n",
              "      filter: drop-shadow(0px 1px 2px rgba(0, 0, 0, 0.3));\n",
              "      fill: #FFFFFF;\n",
              "    }\n",
              "  </style>\n",
              "\n",
              "      <script>\n",
              "        const buttonEl =\n",
              "          document.querySelector('#df-954ba939-517f-4ef1-8a6b-c0a07488cdf6 button.colab-df-convert');\n",
              "        buttonEl.style.display =\n",
              "          google.colab.kernel.accessAllowed ? 'block' : 'none';\n",
              "\n",
              "        async function convertToInteractive(key) {\n",
              "          const element = document.querySelector('#df-954ba939-517f-4ef1-8a6b-c0a07488cdf6');\n",
              "          const dataTable =\n",
              "            await google.colab.kernel.invokeFunction('convertToInteractive',\n",
              "                                                     [key], {});\n",
              "          if (!dataTable) return;\n",
              "\n",
              "          const docLinkHtml = 'Like what you see? Visit the ' +\n",
              "            '<a target=\"_blank\" href=https://colab.research.google.com/notebooks/data_table.ipynb>data table notebook</a>'\n",
              "            + ' to learn more about interactive tables.';\n",
              "          element.innerHTML = '';\n",
              "          dataTable['output_type'] = 'display_data';\n",
              "          await google.colab.output.renderOutput(dataTable, element);\n",
              "          const docLink = document.createElement('div');\n",
              "          docLink.innerHTML = docLinkHtml;\n",
              "          element.appendChild(docLink);\n",
              "        }\n",
              "      </script>\n",
              "    </div>\n",
              "  </div>\n",
              "  "
            ]
          },
          "metadata": {},
          "execution_count": 17
        }
      ]
    },
    {
      "cell_type": "markdown",
      "source": [
        "Observations:\n",
        "\n",
        "*   These trips ran for more than 20 days, which seems unlikely by the distance travelled.\n",
        "*   All the trips are taken by vendor 1 which points us to the fact that this vendor might allows much longer trip for outstations.\n",
        "*   All these trips are either taken on Tuesday's in 1st month or Saturday's in 2nd month. There might be some relation with the weekday, pickup location, month and the passenger.\n",
        "*   But they fail our purpose of correct prediction and bring inconsistencies in the algorithm calculation.\n",
        "\n",
        "We should get rid of them for the sake of data consistency. Those are black swans !!"
      ],
      "metadata": {
        "id": "W24GSFuXJ5YP"
      }
    },
    {
      "cell_type": "code",
      "source": [
        "data = data[data.trip_duration <= 86400]"
      ],
      "metadata": {
        "id": "wlrrEBygJ2sq"
      },
      "execution_count": 18,
      "outputs": []
    },
    {
      "cell_type": "markdown",
      "source": [
        "Let's visualize the number of trips taken in slabs of 0-10, 20-30 ... minutes respectively"
      ],
      "metadata": {
        "id": "Q48I68VnKMdl"
      }
    },
    {
      "cell_type": "code",
      "source": [
        "data.trip_duration.groupby(pd.cut(data.trip_duration, np.arange(1,7200,600))).count().plot(kind='barh')\n",
        "plt.xlabel('Trip Counts')\n",
        "plt.ylabel('Trip Duration (seconds)')\n",
        "plt.show()"
      ],
      "metadata": {
        "colab": {
          "base_uri": "https://localhost:8080/",
          "height": 279
        },
        "id": "on2_DIp0KNN3",
        "outputId": "96a6996d-527f-4b92-8566-22352beeaabe"
      },
      "execution_count": 19,
      "outputs": [
        {
          "output_type": "display_data",
          "data": {
            "text/plain": [
              "<Figure size 432x288 with 1 Axes>"
            ],
            "image/png": "[encoded data removed]"
          },
          "metadata": {
            "needs_background": "light"
          }
        }
      ]
    },
    {
      "cell_type": "markdown",
      "source": [
        "We can observe that most of the trips took 0 - 30 mins to complete i.e. approx 1800 secs. Let's move ahead to next feature."
      ],
      "metadata": {
        "id": "DRmQYQrfKR_D"
      }
    },
    {
      "cell_type": "markdown",
      "source": [
        "### Speed"
      ],
      "metadata": {
        "id": "_OPw8DoFKVIj"
      }
    },
    {
      "cell_type": "markdown",
      "source": [
        "Speed is a function of distance and time. Let's visualize speed in different trips.\n",
        "\n",
        "Maximum speed limit in NYC is as follows:\n",
        "\n",
        "*   25 mph in urban area i.e. 40 km/h\n",
        "\n",
        "*   65 mph on controlled state highways i.e. approx 104 km/h\n",
        " "
      ],
      "metadata": {
        "id": "viyttWOQKbt8"
      }
    },
    {
      "cell_type": "code",
      "source": [
        "data.speed.describe()"
      ],
      "metadata": {
        "colab": {
          "base_uri": "https://localhost:8080/"
        },
        "id": "8LWORgcVKQKt",
        "outputId": "e165b6ce-2865-4da1-be45-006aaca3ee21"
      },
      "execution_count": 20,
      "outputs": [
        {
          "output_type": "execute_result",
          "data": {
            "text/plain": [
              "count    1.458640e+06\n",
              "mean     1.442327e+01\n",
              "std      1.497755e+01\n",
              "min      0.000000e+00\n",
              "25%      9.121313e+00\n",
              "50%      1.279201e+01\n",
              "75%      1.784496e+01\n",
              "max      9.274850e+03\n",
              "Name: speed, dtype: float64"
            ]
          },
          "metadata": {},
          "execution_count": 20
        }
      ]
    },
    {
      "cell_type": "code",
      "source": [
        "plt.figure(figsize = (20,5))\n",
        "sns.boxplot(data.speed)\n",
        "plt.show()"
      ],
      "metadata": {
        "colab": {
          "base_uri": "https://localhost:8080/",
          "height": 334
        },
        "id": "NfsKiK7nKqiY",
        "outputId": "c85e9983-2caa-4d3e-f0ed-3960fe84ba6c"
      },
      "execution_count": 21,
      "outputs": [
        {
          "output_type": "display_data",
          "data": {
            "text/plain": [
              "<Figure size 1440x360 with 1 Axes>"
            ],
            "image/png": "[encoded data removed]"
          },
          "metadata": {
            "needs_background": "light"
          }
        }
      ]
    },
    {
      "cell_type": "markdown",
      "source": [
        "Interesting find:\n",
        "\n",
        "*   Many trips were done at a speed of over 200 km/h. Going SuperSonic..!!\n",
        "\n",
        "Let's remove them and focus on the trips which were done at less than 104 km/h as per the speed limits"
      ],
      "metadata": {
        "id": "aFs1A-xvKszL"
      }
    },
    {
      "cell_type": "code",
      "source": [
        "data = data[data.speed <= 104]\n",
        "plt.figure(figsize = (20,5))\n",
        "sns.boxplot(data.speed)\n",
        "plt.show()"
      ],
      "metadata": {
        "colab": {
          "base_uri": "https://localhost:8080/",
          "height": 334
        },
        "id": "Mdh1nOmHKzwP",
        "outputId": "c10af4e0-332e-4ca5-fa71-5e57c6cf6afa"
      },
      "execution_count": 42,
      "outputs": [
        {
          "output_type": "display_data",
          "data": {
            "text/plain": [
              "<Figure size 1440x360 with 1 Axes>"
            ],
            "image/png": "[encoded data removed]"
          },
          "metadata": {
            "needs_background": "light"
          }
        }
      ]
    },
    {
      "cell_type": "markdown",
      "source": [
        "Observations:\n",
        "\n",
        "\n",
        "*   Trips over 30 km/h are being considered as outliers but we cannot ignore them because they are well under the highest speed limit of 104 km/h on state controlled highways.\n",
        "*   Mostly trips are done at a speed range of 10-20 km/h with an average speed of around 14 km/h.\n",
        "\n",
        "Let's take a look at the speed range ditribution with the help of graph."
      ],
      "metadata": {
        "id": "ykTSJCPIK4HW"
      }
    },
    {
      "cell_type": "code",
      "source": [
        "data.speed.groupby(pd.cut(data.speed, np.arange(0,104,10))).count().plot(kind = 'barh')\n",
        "plt.xlabel('Trip count')\n",
        "plt.ylabel('Speed (Km/H)')\n",
        "plt.show()"
      ],
      "metadata": {
        "colab": {
          "base_uri": "https://localhost:8080/",
          "height": 279
        },
        "id": "CVJS7IYkLDsb",
        "outputId": "8ac8387f-3f2b-4e00-85c6-1bcc0ef61fac"
      },
      "execution_count": 43,
      "outputs": [
        {
          "output_type": "display_data",
          "data": {
            "text/plain": [
              "<Figure size 432x288 with 1 Axes>"
            ],
            "image/png": "[encoded data removed]"
          },
          "metadata": {
            "needs_background": "light"
          }
        }
      ]
    },
    {
      "cell_type": "markdown",
      "source": [
        "It is evident from this graph what we thought off earlier i.e. most of the trips were done at a speed range of 10-20 km/H."
      ],
      "metadata": {
        "id": "83mIohakLFeN"
      }
    },
    {
      "cell_type": "markdown",
      "source": [
        "### Store_and_fwd_flag"
      ],
      "metadata": {
        "id": "1662OFqELINe"
      }
    },
    {
      "cell_type": "markdown",
      "source": [
        "This flag indicates whether the trip record was held in vehicle memory before sending to the vendor because the vehicle did not have a connection to the server - Y=store and forward; N=not a store and forward trip."
      ],
      "metadata": {
        "id": "1AnFWCmrLL0p"
      }
    },
    {
      "cell_type": "code",
      "source": [
        "data.flag_Y.value_counts(normalize=True)"
      ],
      "metadata": {
        "colab": {
          "base_uri": "https://localhost:8080/"
        },
        "id": "Pnek--GPLGcQ",
        "outputId": "ee37834e-2956-4696-8865-80170f876b25"
      },
      "execution_count": 22,
      "outputs": [
        {
          "output_type": "execute_result",
          "data": {
            "text/plain": [
              "0    0.994485\n",
              "1    0.005515\n",
              "Name: flag_Y, dtype: float64"
            ]
          },
          "metadata": {},
          "execution_count": 22
        }
      ]
    },
    {
      "cell_type": "markdown",
      "source": [
        "Observations:\n",
        "\n",
        "\n",
        "*   List item\n",
        "\n",
        "\n",
        "1.   List item\n",
        "\n",
        "1.   List item\n",
        "2.   List item\n",
        "\n",
        "\n",
        "2.   List item\n",
        "\n",
        "\n",
        "*   List item\n",
        "\n"
      ],
      "metadata": {
        "id": "ktDgo6FiLQ5E"
      }
    },
    {
      "cell_type": "code",
      "source": [
        "data.flag_Y.value_counts()"
      ],
      "metadata": {
        "colab": {
          "base_uri": "https://localhost:8080/"
        },
        "id": "OBAk9RfWLWun",
        "outputId": "95e6a88c-9a1b-4e04-cd09-fcac6043c8d9"
      },
      "execution_count": 23,
      "outputs": [
        {
          "output_type": "execute_result",
          "data": {
            "text/plain": [
              "0    1450595\n",
              "1       8045\n",
              "Name: flag_Y, dtype: int64"
            ]
          },
          "metadata": {},
          "execution_count": 23
        }
      ]
    },
    {
      "cell_type": "markdown",
      "source": [
        "Above result shows that around 8K trips had to store the flag and then report to the server when the connection was established. Let's check the respective distribution with the vendors for the offline trips."
      ],
      "metadata": {
        "id": "QLWUfKVDLZGG"
      }
    },
    {
      "cell_type": "code",
      "source": [
        "data.vendor_id[data.flag_Y == 1].value_counts()"
      ],
      "metadata": {
        "colab": {
          "base_uri": "https://localhost:8080/"
        },
        "id": "AGPr2W4TLZw4",
        "outputId": "547f640a-7a3a-46fc-f851-3fbbae7fc220"
      },
      "execution_count": 46,
      "outputs": [
        {
          "output_type": "execute_result",
          "data": {
            "text/plain": [
              "1    8044\n",
              "Name: vendor_id, dtype: int64"
            ]
          },
          "metadata": {},
          "execution_count": 46
        }
      ]
    },
    {
      "cell_type": "markdown",
      "source": [
        "Observations:"
      ],
      "metadata": {
        "id": "6ZRYPIM6LdmA"
      }
    },
    {
      "cell_type": "code",
      "source": [
        "data[data.flag_Y == 1]"
      ],
      "metadata": {
        "colab": {
          "base_uri": "https://localhost:8080/",
          "height": 661
        },
        "id": "xRn3e_NeLgMo",
        "outputId": "1263c6ca-3eee-43d8-b202-30d943961a29"
      },
      "execution_count": 47,
      "outputs": [
        {
          "output_type": "execute_result",
          "data": {
            "text/plain": [
              "                id  vendor_id     pickup_datetime    dropoff_datetime  \\\n",
              "348      id1633648          1 2016-06-20 14:19:16 2016-06-20 14:34:34   \n",
              "491      id2042535          1 2016-02-12 12:36:38 2016-02-12 12:47:07   \n",
              "610      id0909228          1 2016-05-08 15:02:28 2016-05-08 15:17:54   \n",
              "774      id3697489          1 2016-01-13 13:53:29 2016-01-13 14:08:21   \n",
              "846      id1026973          1 2016-06-25 21:53:30 2016-06-25 22:05:27   \n",
              "...            ...        ...                 ...                 ...   \n",
              "1457556  id2229555          1 2016-01-22 19:05:50 2016-01-22 19:27:09   \n",
              "1457670  id0510811          1 2016-04-07 21:14:30 2016-04-07 21:51:38   \n",
              "1457897  id3209015          1 2016-03-20 18:49:55 2016-03-20 19:09:25   \n",
              "1458060  id1371896          1 2016-03-28 11:45:49 2016-03-28 12:21:45   \n",
              "1458416  id2463060          1 2016-01-04 14:35:34 2016-01-04 14:45:26   \n",
              "\n",
              "         passenger_count  pickup_longitude  pickup_latitude  \\\n",
              "348                    1            -73.98            40.75   \n",
              "491                    1            -73.98            40.76   \n",
              "610                    1            -73.99            40.74   \n",
              "774                    1            -73.95            40.78   \n",
              "846                    1            -73.98            40.76   \n",
              "...                  ...               ...              ...   \n",
              "1457556                1            -73.87            40.77   \n",
              "1457670                1            -73.78            40.64   \n",
              "1457897                1            -73.99            40.71   \n",
              "1458060                1            -73.97            40.76   \n",
              "1458416                1            -73.99            40.75   \n",
              "\n",
              "         dropoff_longitude  dropoff_latitude store_and_fwd_flag  ...  \\\n",
              "348                 -73.95             40.77                  Y  ...   \n",
              "491                 -73.99             40.75                  Y  ...   \n",
              "610                 -74.01             40.72                  Y  ...   \n",
              "774                 -73.98             40.78                  Y  ...   \n",
              "846                 -74.00             40.75                  Y  ...   \n",
              "...                    ...               ...                ...  ...   \n",
              "1457556             -73.93             40.73                  Y  ...   \n",
              "1457670             -73.98             40.67                  Y  ...   \n",
              "1457897             -74.00             40.75                  Y  ...   \n",
              "1458060             -74.01             40.72                  Y  ...   \n",
              "1458416             -73.98             40.77                  Y  ...   \n",
              "\n",
              "         pickup_hour_23  passenger_count_1  passenger_count_2  \\\n",
              "348                   0                  1                  0   \n",
              "491                   0                  1                  0   \n",
              "610                   0                  1                  0   \n",
              "774                   0                  1                  0   \n",
              "846                   0                  1                  0   \n",
              "...                 ...                ...                ...   \n",
              "1457556               0                  1                  0   \n",
              "1457670               0                  1                  0   \n",
              "1457897               0                  1                  0   \n",
              "1458060               0                  1                  0   \n",
              "1458416               0                  1                  0   \n",
              "\n",
              "         passenger_count_3  passenger_count_4  passenger_count_5  \\\n",
              "348                      0                  0                  0   \n",
              "491                      0                  0                  0   \n",
              "610                      0                  0                  0   \n",
              "774                      0                  0                  0   \n",
              "846                      0                  0                  0   \n",
              "...                    ...                ...                ...   \n",
              "1457556                  0                  0                  0   \n",
              "1457670                  0                  0                  0   \n",
              "1457897                  0                  0                  0   \n",
              "1458060                  0                  0                  0   \n",
              "1458416                  0                  0                  0   \n",
              "\n",
              "         passenger_count_6  passenger_count_7  passenger_count_8  \\\n",
              "348                      0                  0                  0   \n",
              "491                      0                  0                  0   \n",
              "610                      0                  0                  0   \n",
              "774                      0                  0                  0   \n",
              "846                      0                  0                  0   \n",
              "...                    ...                ...                ...   \n",
              "1457556                  0                  0                  0   \n",
              "1457670                  0                  0                  0   \n",
              "1457897                  0                  0                  0   \n",
              "1458060                  0                  0                  0   \n",
              "1458416                  0                  0                  0   \n",
              "\n",
              "         passenger_count_9  \n",
              "348                      0  \n",
              "491                      0  \n",
              "610                      0  \n",
              "774                      0  \n",
              "846                      0  \n",
              "...                    ...  \n",
              "1457556                  0  \n",
              "1457670                  0  \n",
              "1457897                  0  \n",
              "1458060                  0  \n",
              "1458416                  0  \n",
              "\n",
              "[8044 rows x 62 columns]"
            ],
            "text/html": [
              "\n",
              "  <div id=\"df-7b8138c9-4b53-440f-b2be-0a01d5eeea8d\">\n",
              "    <div class=\"colab-df-container\">\n",
              "      <div>\n",
              "<style scoped>\n",
              "    .dataframe tbody tr th:only-of-type {\n",
              "        vertical-align: middle;\n",
              "    }\n",
              "\n",
              "    .dataframe tbody tr th {\n",
              "        vertical-align: top;\n",
              "    }\n",
              "\n",
              "    .dataframe thead th {\n",
              "        text-align: right;\n",
              "    }\n",
              "</style>\n",
              "<table border=\"1\" class=\"dataframe\">\n",
              "  <thead>\n",
              "    <tr style=\"text-align: right;\">\n",
              "      <th></th>\n",
              "      <th>id</th>\n",
              "      <th>vendor_id</th>\n",
              "      <th>pickup_datetime</th>\n",
              "      <th>dropoff_datetime</th>\n",
              "      <th>passenger_count</th>\n",
              "      <th>pickup_longitude</th>\n",
              "      <th>pickup_latitude</th>\n",
              "      <th>dropoff_longitude</th>\n",
              "      <th>dropoff_latitude</th>\n",
              "      <th>store_and_fwd_flag</th>\n",
              "      <th>...</th>\n",
              "      <th>pickup_hour_23</th>\n",
              "      <th>passenger_count_1</th>\n",
              "      <th>passenger_count_2</th>\n",
              "      <th>passenger_count_3</th>\n",
              "      <th>passenger_count_4</th>\n",
              "      <th>passenger_count_5</th>\n",
              "      <th>passenger_count_6</th>\n",
              "      <th>passenger_count_7</th>\n",
              "      <th>passenger_count_8</th>\n",
              "      <th>passenger_count_9</th>\n",
              "    </tr>\n",
              "  </thead>\n",
              "  <tbody>\n",
              "    <tr>\n",
              "      <th>348</th>\n",
              "      <td>id1633648</td>\n",
              "      <td>1</td>\n",
              "      <td>2016-06-20 14:19:16</td>\n",
              "      <td>2016-06-20 14:34:34</td>\n",
              "      <td>1</td>\n",
              "      <td>-73.98</td>\n",
              "      <td>40.75</td>\n",
              "      <td>-73.95</td>\n",
              "      <td>40.77</td>\n",
              "      <td>Y</td>\n",
              "      <td>...</td>\n",
              "      <td>0</td>\n",
              "      <td>1</td>\n",
              "      <td>0</td>\n",
              "      <td>0</td>\n",
              "      <td>0</td>\n",
              "      <td>0</td>\n",
              "      <td>0</td>\n",
              "      <td>0</td>\n",
              "      <td>0</td>\n",
              "      <td>0</td>\n",
              "    </tr>\n",
              "    <tr>\n",
              "      <th>491</th>\n",
              "      <td>id2042535</td>\n",
              "      <td>1</td>\n",
              "      <td>2016-02-12 12:36:38</td>\n",
              "      <td>2016-02-12 12:47:07</td>\n",
              "      <td>1</td>\n",
              "      <td>-73.98</td>\n",
              "      <td>40.76</td>\n",
              "      <td>-73.99</td>\n",
              "      <td>40.75</td>\n",
              "      <td>Y</td>\n",
              "      <td>...</td>\n",
              "      <td>0</td>\n",
              "      <td>1</td>\n",
              "      <td>0</td>\n",
              "      <td>0</td>\n",
              "      <td>0</td>\n",
              "      <td>0</td>\n",
              "      <td>0</td>\n",
              "      <td>0</td>\n",
              "      <td>0</td>\n",
              "      <td>0</td>\n",
              "    </tr>\n",
              "    <tr>\n",
              "      <th>610</th>\n",
              "      <td>id0909228</td>\n",
              "      <td>1</td>\n",
              "      <td>2016-05-08 15:02:28</td>\n",
              "      <td>2016-05-08 15:17:54</td>\n",
              "      <td>1</td>\n",
              "      <td>-73.99</td>\n",
              "      <td>40.74</td>\n",
              "      <td>-74.01</td>\n",
              "      <td>40.72</td>\n",
              "      <td>Y</td>\n",
              "      <td>...</td>\n",
              "      <td>0</td>\n",
              "      <td>1</td>\n",
              "      <td>0</td>\n",
              "      <td>0</td>\n",
              "      <td>0</td>\n",
              "      <td>0</td>\n",
              "      <td>0</td>\n",
              "      <td>0</td>\n",
              "      <td>0</td>\n",
              "      <td>0</td>\n",
              "    </tr>\n",
              "    <tr>\n",
              "      <th>774</th>\n",
              "      <td>id3697489</td>\n",
              "      <td>1</td>\n",
              "      <td>2016-01-13 13:53:29</td>\n",
              "      <td>2016-01-13 14:08:21</td>\n",
              "      <td>1</td>\n",
              "      <td>-73.95</td>\n",
              "      <td>40.78</td>\n",
              "      <td>-73.98</td>\n",
              "      <td>40.78</td>\n",
              "      <td>Y</td>\n",
              "      <td>...</td>\n",
              "      <td>0</td>\n",
              "      <td>1</td>\n",
              "      <td>0</td>\n",
              "      <td>0</td>\n",
              "      <td>0</td>\n",
              "      <td>0</td>\n",
              "      <td>0</td>\n",
              "      <td>0</td>\n",
              "      <td>0</td>\n",
              "      <td>0</td>\n",
              "    </tr>\n",
              "    <tr>\n",
              "      <th>846</th>\n",
              "      <td>id1026973</td>\n",
              "      <td>1</td>\n",
              "      <td>2016-06-25 21:53:30</td>\n",
              "      <td>2016-06-25 22:05:27</td>\n",
              "      <td>1</td>\n",
              "      <td>-73.98</td>\n",
              "      <td>40.76</td>\n",
              "      <td>-74.00</td>\n",
              "      <td>40.75</td>\n",
              "      <td>Y</td>\n",
              "      <td>...</td>\n",
              "      <td>0</td>\n",
              "      <td>1</td>\n",
              "      <td>0</td>\n",
              "      <td>0</td>\n",
              "      <td>0</td>\n",
              "      <td>0</td>\n",
              "      <td>0</td>\n",
              "      <td>0</td>\n",
              "      <td>0</td>\n",
              "      <td>0</td>\n",
              "    </tr>\n",
              "    <tr>\n",
              "      <th>...</th>\n",
              "      <td>...</td>\n",
              "      <td>...</td>\n",
              "      <td>...</td>\n",
              "      <td>...</td>\n",
              "      <td>...</td>\n",
              "      <td>...</td>\n",
              "      <td>...</td>\n",
              "      <td>...</td>\n",
              "      <td>...</td>\n",
              "      <td>...</td>\n",
              "      <td>...</td>\n",
              "      <td>...</td>\n",
              "      <td>...</td>\n",
              "      <td>...</td>\n",
              "      <td>...</td>\n",
              "      <td>...</td>\n",
              "      <td>...</td>\n",
              "      <td>...</td>\n",
              "      <td>...</td>\n",
              "      <td>...</td>\n",
              "      <td>...</td>\n",
              "    </tr>\n",
              "    <tr>\n",
              "      <th>1457556</th>\n",
              "      <td>id2229555</td>\n",
              "      <td>1</td>\n",
              "      <td>2016-01-22 19:05:50</td>\n",
              "      <td>2016-01-22 19:27:09</td>\n",
              "      <td>1</td>\n",
              "      <td>-73.87</td>\n",
              "      <td>40.77</td>\n",
              "      <td>-73.93</td>\n",
              "      <td>40.73</td>\n",
              "      <td>Y</td>\n",
              "      <td>...</td>\n",
              "      <td>0</td>\n",
              "      <td>1</td>\n",
              "      <td>0</td>\n",
              "      <td>0</td>\n",
              "      <td>0</td>\n",
              "      <td>0</td>\n",
              "      <td>0</td>\n",
              "      <td>0</td>\n",
              "      <td>0</td>\n",
              "      <td>0</td>\n",
              "    </tr>\n",
              "    <tr>\n",
              "      <th>1457670</th>\n",
              "      <td>id0510811</td>\n",
              "      <td>1</td>\n",
              "      <td>2016-04-07 21:14:30</td>\n",
              "      <td>2016-04-07 21:51:38</td>\n",
              "      <td>1</td>\n",
              "      <td>-73.78</td>\n",
              "      <td>40.64</td>\n",
              "      <td>-73.98</td>\n",
              "      <td>40.67</td>\n",
              "      <td>Y</td>\n",
              "      <td>...</td>\n",
              "      <td>0</td>\n",
              "      <td>1</td>\n",
              "      <td>0</td>\n",
              "      <td>0</td>\n",
              "      <td>0</td>\n",
              "      <td>0</td>\n",
              "      <td>0</td>\n",
              "      <td>0</td>\n",
              "      <td>0</td>\n",
              "      <td>0</td>\n",
              "    </tr>\n",
              "    <tr>\n",
              "      <th>1457897</th>\n",
              "      <td>id3209015</td>\n",
              "      <td>1</td>\n",
              "      <td>2016-03-20 18:49:55</td>\n",
              "      <td>2016-03-20 19:09:25</td>\n",
              "      <td>1</td>\n",
              "      <td>-73.99</td>\n",
              "      <td>40.71</td>\n",
              "      <td>-74.00</td>\n",
              "      <td>40.75</td>\n",
              "      <td>Y</td>\n",
              "      <td>...</td>\n",
              "      <td>0</td>\n",
              "      <td>1</td>\n",
              "      <td>0</td>\n",
              "      <td>0</td>\n",
              "      <td>0</td>\n",
              "      <td>0</td>\n",
              "      <td>0</td>\n",
              "      <td>0</td>\n",
              "      <td>0</td>\n",
              "      <td>0</td>\n",
              "    </tr>\n",
              "    <tr>\n",
              "      <th>1458060</th>\n",
              "      <td>id1371896</td>\n",
              "      <td>1</td>\n",
              "      <td>2016-03-28 11:45:49</td>\n",
              "      <td>2016-03-28 12:21:45</td>\n",
              "      <td>1</td>\n",
              "      <td>-73.97</td>\n",
              "      <td>40.76</td>\n",
              "      <td>-74.01</td>\n",
              "      <td>40.72</td>\n",
              "      <td>Y</td>\n",
              "      <td>...</td>\n",
              "      <td>0</td>\n",
              "      <td>1</td>\n",
              "      <td>0</td>\n",
              "      <td>0</td>\n",
              "      <td>0</td>\n",
              "      <td>0</td>\n",
              "      <td>0</td>\n",
              "      <td>0</td>\n",
              "      <td>0</td>\n",
              "      <td>0</td>\n",
              "    </tr>\n",
              "    <tr>\n",
              "      <th>1458416</th>\n",
              "      <td>id2463060</td>\n",
              "      <td>1</td>\n",
              "      <td>2016-01-04 14:35:34</td>\n",
              "      <td>2016-01-04 14:45:26</td>\n",
              "      <td>1</td>\n",
              "      <td>-73.99</td>\n",
              "      <td>40.75</td>\n",
              "      <td>-73.98</td>\n",
              "      <td>40.77</td>\n",
              "      <td>Y</td>\n",
              "      <td>...</td>\n",
              "      <td>0</td>\n",
              "      <td>1</td>\n",
              "      <td>0</td>\n",
              "      <td>0</td>\n",
              "      <td>0</td>\n",
              "      <td>0</td>\n",
              "      <td>0</td>\n",
              "      <td>0</td>\n",
              "      <td>0</td>\n",
              "      <td>0</td>\n",
              "    </tr>\n",
              "  </tbody>\n",
              "</table>\n",
              "<p>8044 rows × 62 columns</p>\n",
              "</div>\n",
              "      <button class=\"colab-df-convert\" onclick=\"convertToInteractive('df-7b8138c9-4b53-440f-b2be-0a01d5eeea8d')\"\n",
              "              title=\"Convert this dataframe to an interactive table.\"\n",
              "              style=\"display:none;\">\n",
              "        \n",
              "  <svg xmlns=\"http://www.w3.org/2000/svg\" height=\"24px\"viewBox=\"0 0 24 24\"\n",
              "       width=\"24px\">\n",
              "    <path d=\"M0 0h24v24H0V0z\" fill=\"none\"/>\n",
              "    <path d=\"M18.56 5.44l.94 2.06.94-2.06 2.06-.94-2.06-.94-.94-2.06-.94 2.06-2.06.94zm-11 1L8.5 8.5l.94-2.06 2.06-.94-2.06-.94L8.5 2.5l-.94 2.06-2.06.94zm10 10l.94 2.06.94-2.06 2.06-.94-2.06-.94-.94-2.06-.94 2.06-2.06.94z\"/><path d=\"M17.41 7.96l-1.37-1.37c-.4-.4-.92-.59-1.43-.59-.52 0-1.04.2-1.43.59L10.3 9.45l-7.72 7.72c-.78.78-.78 2.05 0 2.83L4 21.41c.39.39.9.59 1.41.59.51 0 1.02-.2 1.41-.59l7.78-7.78 2.81-2.81c.8-.78.8-2.07 0-2.86zM5.41 20L4 18.59l7.72-7.72 1.47 1.35L5.41 20z\"/>\n",
              "  </svg>\n",
              "      </button>\n",
              "      \n",
              "  <style>\n",
              "    .colab-df-container {\n",
              "      display:flex;\n",
              "      flex-wrap:wrap;\n",
              "      gap: 12px;\n",
              "    }\n",
              "\n",
              "    .colab-df-convert {\n",
              "      background-color: #E8F0FE;\n",
              "      border: none;\n",
              "      border-radius: 50%;\n",
              "      cursor: pointer;\n",
              "      display: none;\n",
              "      fill: #1967D2;\n",
              "      height: 32px;\n",
              "      padding: 0 0 0 0;\n",
              "      width: 32px;\n",
              "    }\n",
              "\n",
              "    .colab-df-convert:hover {\n",
              "      background-color: #E2EBFA;\n",
              "      box-shadow: 0px 1px 2px rgba(60, 64, 67, 0.3), 0px 1px 3px 1px rgba(60, 64, 67, 0.15);\n",
              "      fill: #174EA6;\n",
              "    }\n",
              "\n",
              "    [theme=dark] .colab-df-convert {\n",
              "      background-color: #3B4455;\n",
              "      fill: #D2E3FC;\n",
              "    }\n",
              "\n",
              "    [theme=dark] .colab-df-convert:hover {\n",
              "      background-color: #434B5C;\n",
              "      box-shadow: 0px 1px 3px 1px rgba(0, 0, 0, 0.15);\n",
              "      filter: drop-shadow(0px 1px 2px rgba(0, 0, 0, 0.3));\n",
              "      fill: #FFFFFF;\n",
              "    }\n",
              "  </style>\n",
              "\n",
              "      <script>\n",
              "        const buttonEl =\n",
              "          document.querySelector('#df-7b8138c9-4b53-440f-b2be-0a01d5eeea8d button.colab-df-convert');\n",
              "        buttonEl.style.display =\n",
              "          google.colab.kernel.accessAllowed ? 'block' : 'none';\n",
              "\n",
              "        async function convertToInteractive(key) {\n",
              "          const element = document.querySelector('#df-7b8138c9-4b53-440f-b2be-0a01d5eeea8d');\n",
              "          const dataTable =\n",
              "            await google.colab.kernel.invokeFunction('convertToInteractive',\n",
              "                                                     [key], {});\n",
              "          if (!dataTable) return;\n",
              "\n",
              "          const docLinkHtml = 'Like what you see? Visit the ' +\n",
              "            '<a target=\"_blank\" href=https://colab.research.google.com/notebooks/data_table.ipynb>data table notebook</a>'\n",
              "            + ' to learn more about interactive tables.';\n",
              "          element.innerHTML = '';\n",
              "          dataTable['output_type'] = 'display_data';\n",
              "          await google.colab.output.renderOutput(dataTable, element);\n",
              "          const docLink = document.createElement('div');\n",
              "          docLink.innerHTML = docLinkHtml;\n",
              "          element.appendChild(docLink);\n",
              "        }\n",
              "      </script>\n",
              "    </div>\n",
              "  </div>\n",
              "  "
            ]
          },
          "metadata": {},
          "execution_count": 47
        }
      ]
    },
    {
      "cell_type": "markdown",
      "source": [
        "Observations\n",
        "\n",
        "\n",
        "\n",
        "1.   List item\n",
        "\n",
        "*   List item\n",
        "*   List item\n",
        "\n",
        "\n",
        "2.   List item\n",
        "\n"
      ],
      "metadata": {
        "id": "KZYxzT-gLlWX"
      }
    },
    {
      "cell_type": "markdown",
      "source": [
        "### Total trips Per Hour"
      ],
      "metadata": {
        "id": "dor8dGrdLqEG"
      }
    },
    {
      "cell_type": "markdown",
      "source": [
        "Let's take a look at the distribution of the pickups across the 24 hour time scale."
      ],
      "metadata": {
        "id": "pNZkbc8sLwnX"
      }
    },
    {
      "cell_type": "code",
      "source": [
        "sns.countplot(data.pickup_hour)\n",
        "plt.show()"
      ],
      "metadata": {
        "colab": {
          "base_uri": "https://localhost:8080/",
          "height": 280
        },
        "id": "k26P1gQjLoEx",
        "outputId": "ca35ebdd-1382-4bc5-a50b-1059fe5e391c"
      },
      "execution_count": 48,
      "outputs": [
        {
          "output_type": "display_data",
          "data": {
            "text/plain": [
              "<Figure size 432x288 with 1 Axes>"
            ],
            "image/png": "[encoded data removed]"
          },
          "metadata": {
            "needs_background": "light"
          }
        }
      ]
    },
    {
      "cell_type": "markdown",
      "source": [
        "Observation\n",
        "\n",
        "*   It's inline with the general trend of taxi pickups which starts increasing from 6AM in the morning and then declines from late evening i.e. around 8 PM. There is no unusual behavior here."
      ],
      "metadata": {
        "id": "c5u3-KfZL0uR"
      }
    },
    {
      "cell_type": "markdown",
      "source": [
        "### Total trips per weekday"
      ],
      "metadata": {
        "id": "hF-dGMU5L7yS"
      }
    },
    {
      "cell_type": "markdown",
      "source": [
        "Let's take a look now at the distribution of taxi pickups across the week."
      ],
      "metadata": {
        "id": "qTqYoW0fL-gR"
      }
    },
    {
      "cell_type": "code",
      "source": [
        "plt.figure(figsize = (8,6))\n",
        "sns.countplot(data.weekday_num)\n",
        "plt.xlabel(' Month ')\n",
        "plt.ylabel('Pickup counts')\n",
        "plt.show()"
      ],
      "metadata": {
        "colab": {
          "base_uri": "https://localhost:8080/",
          "height": 388
        },
        "id": "r_KVLpGFL5__",
        "outputId": "e5d2bbfa-05ae-4055-caba-b1beb2f8f17b"
      },
      "execution_count": 49,
      "outputs": [
        {
          "output_type": "display_data",
          "data": {
            "text/plain": [
              "<Figure size 576x432 with 1 Axes>"
            ],
            "image/png": "[encoded data removed]"
          },
          "metadata": {
            "needs_background": "light"
          }
        }
      ]
    },
    {
      "cell_type": "markdown",
      "source": [
        "Observation\n",
        "*   Here we can see an increasing trend of taxi pickups starting from Monday till Friday. The trend starts declining from saturday till monday which is normal where some office going people likes to stay at home for rest on the weekends.\n",
        "\n",
        "Let's drill down more to see the hourwise pickup pattern across the week"
      ],
      "metadata": {
        "id": "Q3-YqVdKMDFJ"
      }
    },
    {
      "cell_type": "code",
      "source": [
        "n = sns.FacetGrid(data, col='weekday_num')\n",
        "n.map(plt.hist, 'pickup_hour')\n",
        "plt.show()"
      ],
      "metadata": {
        "colab": {
          "base_uri": "https://localhost:8080/",
          "height": 225
        },
        "id": "-Y3DkUgqMH7v",
        "outputId": "26d8f703-f715-44a4-db95-fe228aabadce"
      },
      "execution_count": 50,
      "outputs": [
        {
          "output_type": "display_data",
          "data": {
            "text/plain": [
              "<Figure size 1512x216 with 7 Axes>"
            ],
            "image/png": "[encoded data removed]"
          },
          "metadata": {
            "needs_background": "light"
          }
        }
      ]
    },
    {
      "cell_type": "markdown",
      "source": [
        "Interesting find:\n",
        "*   Taxi pickups increased in the late night hours over the weekend possibly due to more outstation rides or for the late night leisures nearby activities.\n",
        "\n",
        "\n",
        "*   Early morning pickups i.e before 5 AM have increased over the weekend in comparison to the office hours pickups i.e. after 7 AM which have decreased due to obvious reasons.\n",
        "\n",
        "*   Taxi pickups seems to be consistent across the week at 15 Hours i.e. at 3 PM."
      ],
      "metadata": {
        "id": "oD8zz_jnMS9R"
      }
    },
    {
      "cell_type": "markdown",
      "source": [
        "### Total trips per month"
      ],
      "metadata": {
        "id": "BFtKzvlKMfKW"
      }
    },
    {
      "cell_type": "markdown",
      "source": [
        "Let's take a look at the trip distribution across the months to understand if there is any diffrence in the taxi pickups in different months"
      ],
      "metadata": {
        "id": "wI_8zp_2Mh1r"
      }
    },
    {
      "cell_type": "code",
      "source": [
        "sns.countplot(data.month)\n",
        "plt.ylabel('Trip Counts')\n",
        "plt.xlabel('Months')\n",
        "plt.show()"
      ],
      "metadata": {
        "colab": {
          "base_uri": "https://localhost:8080/",
          "height": 279
        },
        "id": "MpHuGkacMcyr",
        "outputId": "dddec70d-0044-4078-be5a-2dc808848822"
      },
      "execution_count": 51,
      "outputs": [
        {
          "output_type": "display_data",
          "data": {
            "text/plain": [
              "<Figure size 432x288 with 1 Axes>"
            ],
            "image/png": "[encoded data removed]"
          },
          "metadata": {
            "needs_background": "light"
          }
        }
      ]
    },
    {
      "cell_type": "markdown",
      "source": [
        "Quite a balance across the months here. It could have been more equivalent if we wouldn't have removed the inconsistent records in our study of the univariate analysis"
      ],
      "metadata": {
        "id": "hxmnr9VGMm6a"
      }
    },
    {
      "cell_type": "markdown",
      "source": [
        "## **Bivariate Analysis**"
      ],
      "metadata": {
        "id": "YZZhiVfHMpmG"
      }
    },
    {
      "cell_type": "markdown",
      "source": [
        "Bivariate analysis is used to find out if there is a relationship between two sets of values. It usually involves the variables X and Y."
      ],
      "metadata": {
        "id": "L0jsrfeYMufO"
      }
    },
    {
      "cell_type": "code",
      "source": [
        "group1 = data.groupby('pickup_hour').trip_duration.mean()\n",
        "sns.pointplot(group1.index, group1.values)\n",
        "plt.ylabel('Trip Duration (seconds)')\n",
        "plt.xlabel('Pickup Hour')\n",
        "plt.show()"
      ],
      "metadata": {
        "colab": {
          "base_uri": "https://localhost:8080/",
          "height": 279
        },
        "id": "zKeOvRaAMnya",
        "outputId": "2a50d339-f30a-4fe7-8d48-cf9ec0eb44d5"
      },
      "execution_count": 52,
      "outputs": [
        {
          "output_type": "display_data",
          "data": {
            "text/plain": [
              "<Figure size 432x288 with 1 Axes>"
            ],
            "image/png": "[encoded data removed]"
          },
          "metadata": {
            "needs_background": "light"
          }
        }
      ]
    },
    {
      "cell_type": "code",
      "source": [
        "group2 = data.groupby('weekday_num').trip_duration.mean()\n",
        "sns.pointplot(group2.index, group2.values)\n",
        "plt.ylabel('Trip Duration (seconds)')\n",
        "plt.xlabel('Weekday')\n",
        "plt.show()"
      ],
      "metadata": {
        "colab": {
          "base_uri": "https://localhost:8080/",
          "height": 279
        },
        "id": "l2QekE02Mzsf",
        "outputId": "706108cf-dcf0-4a49-f886-063dc139178c"
      },
      "execution_count": 53,
      "outputs": [
        {
          "output_type": "display_data",
          "data": {
            "text/plain": [
              "<Figure size 432x288 with 1 Axes>"
            ],
            "image/png": "[encoded data removed]"
          },
          "metadata": {
            "needs_background": "light"
          }
        }
      ]
    },
    {
      "cell_type": "code",
      "source": [
        "group3 = data.groupby('month').trip_duration.mean()\n",
        "sns.pointplot(group3.index, group3.values)\n",
        "plt.ylabel('Trip Duration (seconds)')\n",
        "plt.xlabel('Month')\n",
        "plt.show()"
      ],
      "metadata": {
        "colab": {
          "base_uri": "https://localhost:8080/",
          "height": 279
        },
        "id": "Q9ds7CpaM02g",
        "outputId": "8695b21f-c761-41d0-f1dc-1047220245d9"
      },
      "execution_count": 54,
      "outputs": [
        {
          "output_type": "display_data",
          "data": {
            "text/plain": [
              "<Figure size 432x288 with 1 Axes>"
            ],
            "image/png": "[encoded data removed]"
          },
          "metadata": {
            "needs_background": "light"
          }
        }
      ]
    },
    {
      "cell_type": "markdown",
      "source": [
        "### Trip duration per vendor"
      ],
      "metadata": {
        "id": "uMpQl4n_M46l"
      }
    },
    {
      "cell_type": "markdown",
      "source": [
        "We can also look at the average difference between the trip duration for each vendor. However we do know that vendor 2 has larger share of the market. Let's visualize."
      ],
      "metadata": {
        "id": "M5wAJ4geM9wm"
      }
    },
    {
      "cell_type": "code",
      "source": [
        "group4 = data.groupby('vendor_id').trip_duration.mean()\n",
        "sns.barplot(group4.index, group4.values)\n",
        "plt.ylabel('Trip Duration (seconds)')\n",
        "plt.xlabel('Vendor')\n",
        "plt.show()"
      ],
      "metadata": {
        "colab": {
          "base_uri": "https://localhost:8080/",
          "height": 279
        },
        "id": "bjw05-gLM6fy",
        "outputId": "e2dda93b-f1c2-4863-d94f-27649c004fa5"
      },
      "execution_count": 55,
      "outputs": [
        {
          "output_type": "display_data",
          "data": {
            "text/plain": [
              "<Figure size 432x288 with 1 Axes>"
            ],
            "image/png": "[encoded data removed]"
          },
          "metadata": {
            "needs_background": "light"
          }
        }
      ]
    },
    {
      "cell_type": "markdown",
      "source": [
        "Vendor 2 takes the crown. Average trip duration for vendor 2 is higher than vendor 1 by approx 200 seconds i.e. atleast 3 minutes per trip."
      ],
      "metadata": {
        "id": "Ko57hb98NCqf"
      }
    },
    {
      "cell_type": "markdown",
      "source": [
        "### Trip duration v/s Flag"
      ],
      "metadata": {
        "id": "qz7fP5kINEkb"
      }
    },
    {
      "cell_type": "markdown",
      "source": [
        "Let's visualize if there is any effect of flag setting on the trip duration?"
      ],
      "metadata": {
        "id": "gVS4L6zCNIww"
      }
    },
    {
      "cell_type": "code",
      "source": [
        "plt.figure(figsize = (6,5))\n",
        "plot_dur = data.loc[(data.trip_duration < 10000)]\n",
        "sns.boxplot(x = \"flag_Y\", y = \"trip_duration\", data = plot_dur)\n",
        "plt.show()"
      ],
      "metadata": {
        "colab": {
          "base_uri": "https://localhost:8080/",
          "height": 335
        },
        "id": "JHuO32NyNA-0",
        "outputId": "4d857a14-ff8e-4811-e827-e483065da86b"
      },
      "execution_count": 56,
      "outputs": [
        {
          "output_type": "display_data",
          "data": {
            "text/plain": [
              "<Figure size 432x360 with 1 Axes>"
            ],
            "image/png": "[encoded data removed]"
          },
          "metadata": {
            "needs_background": "light"
          }
        }
      ]
    },
    {
      "cell_type": "markdown",
      "source": [
        "Observations:\n",
        "\n",
        "*   Trip durations scale is less for the trips where the flag is set i.e. the trip details are stored before sending it to the server.\n",
        "*   Trip duration outliers are also less for the trips with flag 'Y' as compared the trips with flag 'N'.\n",
        "*   Trip duration is longer for the trips where the flag is not set.\n",
        "*   Inter quartile range of trip duration is more for the trips with the flag 'Y' as compared to the trips with flag 'N' but the median value is almost equal for both."
      ],
      "metadata": {
        "id": "4Cvzc-CWNO9_"
      }
    },
    {
      "cell_type": "markdown",
      "source": [
        "### Distance per hour"
      ],
      "metadata": {
        "id": "Fdcf7zj3NhUS"
      }
    },
    {
      "cell_type": "markdown",
      "source": [
        "Now, let us check how the distance is distributed against different variables. We know that trip distance must be more or less proportional to the trip duration if we ignore general traffic and other stuff on the road. Let's visualize this for each hour now.\n",
        "\n",
        "Since we have already done the outlier analysis for this variable as well. We can take the mean as aggregate measure for our visualizations."
      ],
      "metadata": {
        "id": "vZKMuIgVNlhJ"
      }
    },
    {
      "cell_type": "code",
      "source": [
        "group5 = data.groupby('pickup_hour').distance.mean()\n",
        "sns.pointplot(group5.index, group5.values)\n",
        "plt.ylabel('Distance (km)')\n",
        "plt.show()"
      ],
      "metadata": {
        "colab": {
          "base_uri": "https://localhost:8080/",
          "height": 284
        },
        "id": "6bupNT76NfJI",
        "outputId": "8c598c12-9fe2-4ff6-ae1a-d3dc411d5ecd"
      },
      "execution_count": 57,
      "outputs": [
        {
          "output_type": "display_data",
          "data": {
            "text/plain": [
              "<Figure size 432x288 with 1 Axes>"
            ],
            "image/png": "[encoded data removed]"
          },
          "metadata": {
            "needs_background": "light"
          }
        }
      ]
    },
    {
      "cell_type": "markdown",
      "source": [
        "Observations:\n",
        "\n",
        "\n",
        "*   Trip distance is highest during early morning hours which can account for some things like:\n",
        "    1.   Outstation trips taken during the weekends.\n",
        "\n",
        "    2.   Longer trips towards the city airport which is located in the outskirts of the city.\n",
        "\n",
        "\n",
        "\n",
        "*   Trip distance is fairly equal from morning till the evening varying around 3 - 3.5 kms.\n",
        "\n",
        "*   It starts increasing gradually towards the late night hours starting from evening till 5 AM and decrease steeply towards morning."
      ],
      "metadata": {
        "id": "MPgh2P_dN4GD"
      }
    },
    {
      "cell_type": "code",
      "source": [
        "pd.set_option('display.max_columns', None)"
      ],
      "metadata": {
        "id": "iAvNRl67O3f3"
      },
      "execution_count": 58,
      "outputs": []
    },
    {
      "cell_type": "markdown",
      "source": [
        "### Distance per weekday"
      ],
      "metadata": {
        "id": "Eqmd4x-WOdV5"
      }
    },
    {
      "cell_type": "markdown",
      "source": [
        "Let's analyze the average trip distance covered on each day of the week."
      ],
      "metadata": {
        "id": "swQjKdC3PJqd"
      }
    },
    {
      "cell_type": "code",
      "source": [
        "group6 = data.groupby('weekday_num').distance.mean()\n",
        "sns.pointplot(group6.index, group6.values)\n",
        "plt.ylabel('Distance (km)')\n",
        "plt.show()"
      ],
      "metadata": {
        "colab": {
          "base_uri": "https://localhost:8080/",
          "height": 280
        },
        "id": "TRsnCKIlNxIc",
        "outputId": "c5196068-4daa-40f4-be96-bbdcbc2752ac"
      },
      "execution_count": 59,
      "outputs": [
        {
          "output_type": "display_data",
          "data": {
            "text/plain": [
              "<Figure size 432x288 with 1 Axes>"
            ],
            "image/png": "[encoded data removed]"
          },
          "metadata": {
            "needs_background": "light"
          }
        }
      ]
    },
    {
      "cell_type": "markdown",
      "source": [
        "So it's a fairly equal distribution with average distance metric verying around 3.5 km/h with Sunday being at the top may be due to outstation trips or night trips towards the airport."
      ],
      "metadata": {
        "id": "qCqNCrdOP1yq"
      }
    },
    {
      "cell_type": "markdown",
      "source": [
        "### Distance per month"
      ],
      "metadata": {
        "id": "BPYl8-PbP7H9"
      }
    },
    {
      "cell_type": "markdown",
      "source": [
        "Now we will look at the average trip distance covered per month."
      ],
      "metadata": {
        "id": "MncduIzrQdbk"
      }
    },
    {
      "cell_type": "code",
      "source": [
        "group6 = data.groupby('month').distance.mean()\n",
        "sns.pointplot(group6.index, group6.values)\n",
        "plt.ylabel('Distance (km)')\n",
        "plt.show()"
      ],
      "metadata": {
        "colab": {
          "base_uri": "https://localhost:8080/",
          "height": 281
        },
        "id": "8OjskO_YPzlS",
        "outputId": "0b1aab71-3f5d-4245-a043-aa857edfa57d"
      },
      "execution_count": 60,
      "outputs": [
        {
          "output_type": "display_data",
          "data": {
            "text/plain": [
              "<Figure size 432x288 with 1 Axes>"
            ],
            "image/png": "[encoded data removed]"
          },
          "metadata": {
            "needs_background": "light"
          }
        }
      ]
    },
    {
      "cell_type": "markdown",
      "source": [
        "Here also the distibution is almost equivalent, varying mostly around 3.5 km/h with 5th month being the highest in the average distance and 2nd month being the lowest."
      ],
      "metadata": {
        "id": "gsXcA7yvQ6b3"
      }
    },
    {
      "cell_type": "markdown",
      "source": [
        "Distance per vendor"
      ],
      "metadata": {
        "id": "UIR7l1T-RAaS"
      }
    },
    {
      "cell_type": "markdown",
      "source": [],
      "metadata": {
        "id": "0S9IKpetRBuE"
      }
    },
    {
      "cell_type": "code",
      "source": [
        "group8 = data.groupby('vendor_id').distance.mean()\n",
        "sns.barplot(group8.index, group8.values)\n",
        "plt.ylabel(\"Distance km\")\n",
        "plt.show()"
      ],
      "metadata": {
        "colab": {
          "base_uri": "https://localhost:8080/",
          "height": 280
        },
        "id": "hAP24bCqQ8UF",
        "outputId": "fcc99a65-92da-45ad-e133-348e2836ac32"
      },
      "execution_count": 61,
      "outputs": [
        {
          "output_type": "display_data",
          "data": {
            "text/plain": [
              "<Figure size 432x288 with 1 Axes>"
            ],
            "image/png": "[encoded data removed]"
          },
          "metadata": {
            "needs_background": "light"
          }
        }
      ]
    },
    {
      "cell_type": "markdown",
      "source": [
        "This is more or less same picture with both the vendors. Nothing more to analyze in this."
      ],
      "metadata": {
        "id": "SKDEWjqvTMiJ"
      }
    },
    {
      "cell_type": "markdown",
      "source": [
        "### Distance v/s Flag"
      ],
      "metadata": {
        "id": "gQm8fm-vTPDU"
      }
    },
    {
      "cell_type": "markdown",
      "source": [
        "Let's visualize if there is any effect of Flag setting on the distance covered in the trips"
      ],
      "metadata": {
        "id": "7Drv5vj2TTlK"
      }
    },
    {
      "cell_type": "code",
      "source": [
        "plt.figure(figsize = (6,6))\n",
        "plot_dist = data.loc[(data.distance < 100)]\n",
        "sns.boxplot(x = \"flag_Y\", y = \"distance\", data = plot_dist)\n",
        "plt.ylabel('Distance (km)')\n",
        "plt.show()"
      ],
      "metadata": {
        "colab": {
          "base_uri": "https://localhost:8080/",
          "height": 389
        },
        "id": "VGG03dyFTVgH",
        "outputId": "646a4061-8341-44f9-cdc0-780a668d3122"
      },
      "execution_count": 62,
      "outputs": [
        {
          "output_type": "display_data",
          "data": {
            "text/plain": [
              "<Figure size 432x432 with 1 Axes>"
            ],
            "image/png": "[encoded data removed]"
          },
          "metadata": {
            "needs_background": "light"
          }
        }
      ]
    },
    {
      "cell_type": "markdown",
      "source": [
        "Observations:\n",
        "\n",
        "\n",
        "*   We can see almost similar results like the one observed in the Trip duration v/s Flag analysis.\n",
        "\n",
        "*   Only two major difference can be seen here.\n",
        "    1.   Interquartile range of distance is almost twice for Flag 'Y' trips as compared to the Flag 'N' trips\n",
        "\n",
        "    2.   Median value is much different in both the case as well.\n",
        "\n",
        "Which points us to the fact that range of distance and trip duration for the Flag 'Y' trips is much more limited and confined as compared with the flag 'N' trips and this also resulted in much less number of outliers for Flag 'Y' trips."
      ],
      "metadata": {
        "id": "X-id9JkVTy62"
      }
    },
    {
      "cell_type": "markdown",
      "source": [
        "### Distance v/s Trip duration"
      ],
      "metadata": {
        "id": "pa-_Lz9bZ3kf"
      }
    },
    {
      "cell_type": "markdown",
      "source": [
        "Let's visualize the relationship between Distance covered and respective trip duration."
      ],
      "metadata": {
        "id": "d3wPlI8aZ7TA"
      }
    },
    {
      "cell_type": "code",
      "source": [
        "plt.scatter(data.trip_duration, data.distance , s=1, alpha=0.5)\n",
        "plt.ylabel('Distance')\n",
        "plt.xlabel('Trip Duration')\n",
        "plt.show()"
      ],
      "metadata": {
        "colab": {
          "base_uri": "https://localhost:8080/",
          "height": 282
        },
        "id": "iG2992a3Zhys",
        "outputId": "1d17fadf-0847-49d2-c27a-c3f6bafac325"
      },
      "execution_count": 63,
      "outputs": [
        {
          "output_type": "display_data",
          "data": {
            "text/plain": [
              "<Figure size 432x288 with 1 Axes>"
            ],
            "image/png": "[encoded data removed]"
          },
          "metadata": {
            "needs_background": "light"
          }
        }
      ]
    },
    {
      "cell_type": "markdown",
      "source": [
        "Interesting find:\n",
        "\n",
        "\n",
        "*   There are lots of trips which covered negligible distance but clocked more than 20,000 seconds in terms of the Duration.\n",
        "\n",
        "*   Initially there is some proper correlation between the distance covered and the trip duration in the graph. but later on it all seems uncorrelated.\n",
        "\n",
        "*   There were few trips which covered huge distance of approx 200 kms within very less time frame, which is unlikely and should be treated as outliers.\n",
        "\n",
        "\n",
        "Let's focus on the graph area where distance is < 50 km and duration is < 1000 seconds.\n"
      ],
      "metadata": {
        "id": "t6DqvEapc4mF"
      }
    },
    {
      "cell_type": "code",
      "source": [
        "dur_dist = data.loc[(data.distance < 50) & (data.trip_duration < 1000)]\n",
        "plt.scatter(dur_dist.trip_duration, dur_dist.distance , s=1, alpha=0.5)\n",
        "plt.ylabel('Distance')\n",
        "plt.xlabel('Trip Duration')\n",
        "plt.show()"
      ],
      "metadata": {
        "colab": {
          "base_uri": "https://localhost:8080/",
          "height": 279
        },
        "id": "yDH6reLD9vZQ",
        "outputId": "1d5647b9-e1ec-452d-edc4-a1881553f1bf"
      },
      "execution_count": 24,
      "outputs": [
        {
          "output_type": "display_data",
          "data": {
            "text/plain": [
              "<Figure size 432x288 with 1 Axes>"
            ],
            "image/png": "[encoded data removed]"
          },
          "metadata": {
            "needs_background": "light"
          }
        }
      ]
    },
    {
      "cell_type": "markdown",
      "source": [
        "Observations:\n",
        "\n",
        "*   There should have been a linear relationship between the distance covered and trip duration on an average but we can see dense collection of the trips in the lower right corner which showcase many trips with the inconsistent readings."
      ],
      "metadata": {
        "id": "zmTGcQLn-GRC"
      }
    },
    {
      "cell_type": "markdown",
      "source": [
        "Idea:\n",
        "We should remove those trips which covered 0 km distance but clocked more than 1 minute to make our data more consistent for predictive model. Because if the trip was cancelled after booking, than that should not have taken more than a minute time. This is our assumption."
      ],
      "metadata": {
        "id": "wE36Uyrf-Ta-"
      }
    },
    {
      "cell_type": "code",
      "source": [
        "data = data[~((data.distance == 0) & (data.trip_duration >= 60))]"
      ],
      "metadata": {
        "id": "nvBSEVqM-rnM"
      },
      "execution_count": 25,
      "outputs": []
    },
    {
      "cell_type": "markdown",
      "source": [
        "Now, Instead of looking at each and every trip, we should approximate and try to filter those trips which covered less than 1 km distance and but clocked more than an hour."
      ],
      "metadata": {
        "id": "F1CEfy8U_kTh"
      }
    },
    {
      "cell_type": "code",
      "source": [
        "duo = data.loc[(data['distance'] <= 1) & (data['trip_duration'] >= 3600),['distance','trip_duration']].reset_index(drop=True)"
      ],
      "metadata": {
        "id": "DVjR0XI-_xsM"
      },
      "execution_count": 26,
      "outputs": []
    },
    {
      "cell_type": "code",
      "source": [
        "duo.head(2)"
      ],
      "metadata": {
        "colab": {
          "base_uri": "https://localhost:8080/",
          "height": 112
        },
        "id": "bqS-9c4ACSIL",
        "outputId": "12a3c642-7b81-46d9-dfa5-7c8711626049"
      },
      "execution_count": 27,
      "outputs": [
        {
          "output_type": "execute_result",
          "data": {
            "text/plain": [
              "   distance  trip_duration\n",
              "0  0.034562           4107\n",
              "1  0.767895          83016"
            ],
            "text/html": [
              "\n",
              "  <div id=\"df-0e9cacb7-9ada-4880-b2e9-69ed5ace6b88\">\n",
              "    <div class=\"colab-df-container\">\n",
              "      <div>\n",
              "<style scoped>\n",
              "    .dataframe tbody tr th:only-of-type {\n",
              "        vertical-align: middle;\n",
              "    }\n",
              "\n",
              "    .dataframe tbody tr th {\n",
              "        vertical-align: top;\n",
              "    }\n",
              "\n",
              "    .dataframe thead th {\n",
              "        text-align: right;\n",
              "    }\n",
              "</style>\n",
              "<table border=\"1\" class=\"dataframe\">\n",
              "  <thead>\n",
              "    <tr style=\"text-align: right;\">\n",
              "      <th></th>\n",
              "      <th>distance</th>\n",
              "      <th>trip_duration</th>\n",
              "    </tr>\n",
              "  </thead>\n",
              "  <tbody>\n",
              "    <tr>\n",
              "      <th>0</th>\n",
              "      <td>0.034562</td>\n",
              "      <td>4107</td>\n",
              "    </tr>\n",
              "    <tr>\n",
              "      <th>1</th>\n",
              "      <td>0.767895</td>\n",
              "      <td>83016</td>\n",
              "    </tr>\n",
              "  </tbody>\n",
              "</table>\n",
              "</div>\n",
              "      <button class=\"colab-df-convert\" onclick=\"convertToInteractive('df-0e9cacb7-9ada-4880-b2e9-69ed5ace6b88')\"\n",
              "              title=\"Convert this dataframe to an interactive table.\"\n",
              "              style=\"display:none;\">\n",
              "        \n",
              "  <svg xmlns=\"http://www.w3.org/2000/svg\" height=\"24px\"viewBox=\"0 0 24 24\"\n",
              "       width=\"24px\">\n",
              "    <path d=\"M0 0h24v24H0V0z\" fill=\"none\"/>\n",
              "    <path d=\"M18.56 5.44l.94 2.06.94-2.06 2.06-.94-2.06-.94-.94-2.06-.94 2.06-2.06.94zm-11 1L8.5 8.5l.94-2.06 2.06-.94-2.06-.94L8.5 2.5l-.94 2.06-2.06.94zm10 10l.94 2.06.94-2.06 2.06-.94-2.06-.94-.94-2.06-.94 2.06-2.06.94z\"/><path d=\"M17.41 7.96l-1.37-1.37c-.4-.4-.92-.59-1.43-.59-.52 0-1.04.2-1.43.59L10.3 9.45l-7.72 7.72c-.78.78-.78 2.05 0 2.83L4 21.41c.39.39.9.59 1.41.59.51 0 1.02-.2 1.41-.59l7.78-7.78 2.81-2.81c.8-.78.8-2.07 0-2.86zM5.41 20L4 18.59l7.72-7.72 1.47 1.35L5.41 20z\"/>\n",
              "  </svg>\n",
              "      </button>\n",
              "      \n",
              "  <style>\n",
              "    .colab-df-container {\n",
              "      display:flex;\n",
              "      flex-wrap:wrap;\n",
              "      gap: 12px;\n",
              "    }\n",
              "\n",
              "    .colab-df-convert {\n",
              "      background-color: #E8F0FE;\n",
              "      border: none;\n",
              "      border-radius: 50%;\n",
              "      cursor: pointer;\n",
              "      display: none;\n",
              "      fill: #1967D2;\n",
              "      height: 32px;\n",
              "      padding: 0 0 0 0;\n",
              "      width: 32px;\n",
              "    }\n",
              "\n",
              "    .colab-df-convert:hover {\n",
              "      background-color: #E2EBFA;\n",
              "      box-shadow: 0px 1px 2px rgba(60, 64, 67, 0.3), 0px 1px 3px 1px rgba(60, 64, 67, 0.15);\n",
              "      fill: #174EA6;\n",
              "    }\n",
              "\n",
              "    [theme=dark] .colab-df-convert {\n",
              "      background-color: #3B4455;\n",
              "      fill: #D2E3FC;\n",
              "    }\n",
              "\n",
              "    [theme=dark] .colab-df-convert:hover {\n",
              "      background-color: #434B5C;\n",
              "      box-shadow: 0px 1px 3px 1px rgba(0, 0, 0, 0.15);\n",
              "      filter: drop-shadow(0px 1px 2px rgba(0, 0, 0, 0.3));\n",
              "      fill: #FFFFFF;\n",
              "    }\n",
              "  </style>\n",
              "\n",
              "      <script>\n",
              "        const buttonEl =\n",
              "          document.querySelector('#df-0e9cacb7-9ada-4880-b2e9-69ed5ace6b88 button.colab-df-convert');\n",
              "        buttonEl.style.display =\n",
              "          google.colab.kernel.accessAllowed ? 'block' : 'none';\n",
              "\n",
              "        async function convertToInteractive(key) {\n",
              "          const element = document.querySelector('#df-0e9cacb7-9ada-4880-b2e9-69ed5ace6b88');\n",
              "          const dataTable =\n",
              "            await google.colab.kernel.invokeFunction('convertToInteractive',\n",
              "                                                     [key], {});\n",
              "          if (!dataTable) return;\n",
              "\n",
              "          const docLinkHtml = 'Like what you see? Visit the ' +\n",
              "            '<a target=\"_blank\" href=https://colab.research.google.com/notebooks/data_table.ipynb>data table notebook</a>'\n",
              "            + ' to learn more about interactive tables.';\n",
              "          element.innerHTML = '';\n",
              "          dataTable['output_type'] = 'display_data';\n",
              "          await google.colab.output.renderOutput(dataTable, element);\n",
              "          const docLink = document.createElement('div');\n",
              "          docLink.innerHTML = docLinkHtml;\n",
              "          element.appendChild(docLink);\n",
              "        }\n",
              "      </script>\n",
              "    </div>\n",
              "  </div>\n",
              "  "
            ]
          },
          "metadata": {},
          "execution_count": 27
        }
      ]
    },
    {
      "cell_type": "code",
      "source": [
        "sns.regplot(duo.distance, duo.trip_duration)\n",
        "plt.show()"
      ],
      "metadata": {
        "colab": {
          "base_uri": "https://localhost:8080/",
          "height": 279
        },
        "id": "JIWeXg4P_-WA",
        "outputId": "4eb9cbf3-ab54-44ba-dd57-23400b115559"
      },
      "execution_count": 28,
      "outputs": [
        {
          "output_type": "display_data",
          "data": {
            "text/plain": [
              "<Figure size 432x288 with 1 Axes>"
            ],
            "image/png": "[encoded data removed]"
          },
          "metadata": {
            "needs_background": "light"
          }
        }
      ]
    },
    {
      "cell_type": "markdown",
      "source": [
        "Observations:\n",
        "\n",
        "\n",
        "*   Though the straight line tries to show some linear relation between the two. But there seems to be negligible correlation between these two metric as seen from the scatter plot where it should have been a linear distribution.\n",
        "\n",
        "*   It is rarely occurs that customer keep sitting in the taxi for more than an hour and it does not travel for even 1 km.\n",
        "\n",
        "These should be removed to bring in more consistency to our results."
      ],
      "metadata": {
        "id": "uzyE3ZSmBaT4"
      }
    },
    {
      "cell_type": "code",
      "source": [
        "data = data[~((data['distance'] <= 1) & (data['trip_duration'] >= 3600))]"
      ],
      "metadata": {
        "id": "-BooR5eXFvX8"
      },
      "execution_count": 29,
      "outputs": []
    },
    {
      "cell_type": "code",
      "source": [
        "sns.regplot(data.distance, data.trip_duration)\n",
        "plt.show()"
      ],
      "metadata": {
        "colab": {
          "base_uri": "https://localhost:8080/",
          "height": 279
        },
        "id": "EzZuuqBWF2ZC",
        "outputId": "b9044b01-5fa5-46d9-aeb1-55846838cca7"
      },
      "execution_count": 30,
      "outputs": [
        {
          "output_type": "display_data",
          "data": {
            "text/plain": [
              "<Figure size 432x288 with 1 Axes>"
            ],
            "image/png": "[encoded data removed]"
          },
          "metadata": {
            "needs_background": "light"
          }
        }
      ]
    },
    {
      "cell_type": "markdown",
      "source": [
        "### Average speed per hour"
      ],
      "metadata": {
        "id": "JLz5hdfxGU1k"
      }
    },
    {
      "cell_type": "markdown",
      "source": [
        "Let's look at the average speed of NYC Taxi per hour."
      ],
      "metadata": {
        "id": "6S9DAWE9GalT"
      }
    },
    {
      "cell_type": "code",
      "source": [
        "group9 = data.groupby('pickup_hour').speed.mean()\n",
        "sns.pointplot(group9.index, group9.values)\n",
        "plt.show()"
      ],
      "metadata": {
        "colab": {
          "base_uri": "https://localhost:8080/",
          "height": 280
        },
        "id": "1XYDV0YfGpd_",
        "outputId": "c1cf1659-9783-4325-e589-c082013013c7"
      },
      "execution_count": 71,
      "outputs": [
        {
          "output_type": "display_data",
          "data": {
            "text/plain": [
              "<Figure size 432x288 with 1 Axes>"
            ],
            "image/png": "[encoded data removed]"
          },
          "metadata": {
            "needs_background": "light"
          }
        }
      ]
    },
    {
      "cell_type": "markdown",
      "source": [
        "Observation:\n",
        "\n",
        "*   The average trend is totally inline with the normal circumstances.\n",
        "*   Average speed tend to increase after late evening and continues to increase gradually till the late early morning hours.\n",
        "*   Average taxi speed is highest at 5 AM in the morning, then it declines steeply as the office hours approaches.\n",
        "*   Average taxi speed is more or less same during the office hours i.e. from 8 AM till 6PM in the evening."
      ],
      "metadata": {
        "id": "89arz22MGl7d"
      }
    },
    {
      "cell_type": "markdown",
      "source": [
        "### Average speed per weekday"
      ],
      "metadata": {
        "id": "p59XJrNEHEeB"
      }
    },
    {
      "cell_type": "markdown",
      "source": [
        "Let's visualize that on an average what is the speed of a taxi on any given weekday."
      ],
      "metadata": {
        "id": "X-jp8mAWHHgm"
      }
    },
    {
      "cell_type": "code",
      "source": [
        "group10 = data.groupby('weekday_num').speed.mean()\n",
        "sns.pointplot(group10.index, group10.values)\n",
        "plt.show()"
      ],
      "metadata": {
        "colab": {
          "base_uri": "https://localhost:8080/",
          "height": 280
        },
        "id": "rBIOfDAmHGTi",
        "outputId": "0f58046d-6ca3-4020-8e9d-3d1e1fa227cf"
      },
      "execution_count": 72,
      "outputs": [
        {
          "output_type": "display_data",
          "data": {
            "text/plain": [
              "<Figure size 432x288 with 1 Axes>"
            ],
            "image/png": "[encoded data removed]"
          },
          "metadata": {
            "needs_background": "light"
          }
        }
      ]
    },
    {
      "cell_type": "markdown",
      "source": [
        "Observations:\n",
        "\n",
        "\n",
        "\n",
        "*   Average taxi speed is higher on weekend as compared to the weekdays which is obvious when there is mostly rush of office goers and business owners.\n",
        "\n",
        "*   Even on monday the average taxi speed is shown higher which is quite surprising when it is one of the most busiest day after the weekend. There can be several possibility for such behaviour\n",
        "\n",
        "    1.   Lot of customers who come back from outstation in early hours of Monday before 6 AM to attend office on time.\n",
        "    2.   Early morning hours customers who come from the airports after vacation to attend office/business on time for the coming week.\n",
        "\n",
        "*   There could be some more reasons as well which only a local must be aware of.\n",
        "*  We also can't deny the anomalies in the dataset. which is quite cumbersome to spot in such a large dataset."
      ],
      "metadata": {
        "id": "JVYqcAx4Hpqb"
      }
    },
    {
      "cell_type": "markdown",
      "source": [
        "### Passenger count per vendor"
      ],
      "metadata": {
        "id": "NNE05xkYIURZ"
      }
    },
    {
      "cell_type": "markdown",
      "source": [
        "Let's try some different metric in the series i.e. passenger count. We will plot it agaist the vendor only because it will not be much helpful to plot it against hour, weekday or month like others as the passenger count should be a whole number and not a ratio.\n",
        "\n",
        "we will take mean as the aggregate measure because we already did the outlier analysis on this metric. So our results woudn't be affected by some extreme values. Also if we take median than it will return only 1 because majorty of the trips have been taken by single passenger. Let's take a look about it's distribution."
      ],
      "metadata": {
        "id": "Y15k9HBRIW1P"
      }
    },
    {
      "cell_type": "code",
      "source": [
        "group9 = data.groupby('vendor_id').passenger_count.mean()\n",
        "sns.barplot(group9.index, group9.values)\n",
        "plt.ylabel('Passenger count')\n",
        "plt.show()"
      ],
      "metadata": {
        "colab": {
          "base_uri": "https://localhost:8080/",
          "height": 280
        },
        "id": "dhB9GD5UIkRd",
        "outputId": "1c33cdcf-3f13-46e4-b733-6fd3bd1db904"
      },
      "execution_count": 73,
      "outputs": [
        {
          "output_type": "display_data",
          "data": {
            "text/plain": [
              "<Figure size 432x288 with 1 Axes>"
            ],
            "image/png": "[encoded data removed]"
          },
          "metadata": {
            "needs_background": "light"
          }
        }
      ]
    },
    {
      "cell_type": "markdown",
      "source": [
        "Clear difference between the two operators for the average passenger count in all trips. It seems that vendor 2 trips generally consist of 2 passengers as compared to the vendor 1 with 1 passenger. Let's bifurcate it further."
      ],
      "metadata": {
        "id": "ofVMrnpbI2IT"
      }
    },
    {
      "cell_type": "code",
      "source": [
        "data.groupby('passenger_count').vendor_id.value_counts().reset_index(name='count').pivot(\"passenger_count\",\"vendor_id\",\"count\").plot(kind='bar')\n",
        "plt.show()"
      ],
      "metadata": {
        "colab": {
          "base_uri": "https://localhost:8080/",
          "height": 276
        },
        "id": "DWGzPBAVI1XC",
        "outputId": "8be5304f-c6d5-433f-ec40-aaafb23a094e"
      },
      "execution_count": 74,
      "outputs": [
        {
          "output_type": "display_data",
          "data": {
            "text/plain": [
              "<Figure size 432x288 with 1 Axes>"
            ],
            "image/png": "[encoded data removed]"
          },
          "metadata": {
            "needs_background": "light"
          }
        }
      ]
    },
    {
      "cell_type": "markdown",
      "source": [
        "Interesting find:\n",
        "\n",
        "\n",
        "*   It seems that most of the big cars are served by the Vendor 2 including minivans because other than passenger 1, vendor 2 has majority in serving more than 1 passenger count and that explains it greater share of the market."
      ],
      "metadata": {
        "id": "eo7rxRQsKBHk"
      }
    },
    {
      "cell_type": "markdown",
      "source": [
        "# Feature Engineering"
      ],
      "metadata": {
        "id": "jAHD-_d4NLxS"
      }
    },
    {
      "cell_type": "markdown",
      "source": [
        "After looking at the dataset from different perspectives. Let's prepare our dataset before training our model. Since our dataset do not contain very large number of dimensions. We will first try to use feature selection instead of the feature extraction technique."
      ],
      "metadata": {
        "id": "qLmI67ciNPrU"
      }
    },
    {
      "cell_type": "markdown",
      "source": [
        "Question:\n",
        "But what's the difference?\n",
        "\n",
        "Feature selection: we select a subset of the original feature set based on the statistical significance of different parameters.\n",
        "Example: Backward elimination, Forward selection, Recursive feature elimination\n",
        "\n",
        "Feature extraction: we build a new set of features from the original feature set\n",
        "Example: PCA, LDA, Kernel PCA"
      ],
      "metadata": {
        "id": "FYQEC_86NjmW"
      }
    },
    {
      "cell_type": "markdown",
      "source": [
        "## Feature Selection"
      ],
      "metadata": {
        "id": "ipoqFU0FNl5t"
      }
    },
    {
      "cell_type": "markdown",
      "source": [
        "Intuition:\n",
        "\n",
        "*   We will use backward elimination technique to select the best features to train our model.\n",
        "\n",
        "*   It displays some statistical metrics with there significance value.\n",
        "\n",
        "*   Like, It shows the p values for each feature as per its significance in the whole dataset.\n",
        "\n",
        "*   It also shows the adjusted R squared values to identify whether removing or selecting the feature is beneficial or not.\n",
        "\n",
        "*   For now we will only look at the P and adjusted R squared value to decide which features to keep and which needed to be removed.\n",
        "\n",
        "Let's assign the values to X & Y array from the dataset."
      ],
      "metadata": {
        "id": "k3i-cCo7Nuhd"
      }
    },
    {
      "cell_type": "markdown",
      "source": [
        "Question:\n",
        "Why few features are not assigned to the X array like features at the index 2,3,10 were missed?\n",
        "\n",
        "Idea:\n",
        "\n",
        "*   duration variable assigned to Y because that is the dependent variable.\n",
        "\n",
        "*   features such as id, timestamp and weekday were not assigned to X array because they are of type object. And we need an array of float data type."
      ],
      "metadata": {
        "id": "Seqp-_lNlfmd"
      }
    },
    {
      "cell_type": "markdown",
      "source": [
        "Trick for backward elimination:\n",
        "General equation for multiple linear regression is like\n",
        "\n",
        "Y = a0 + a1x1 + a2x2 + ... + anxn\n",
        "\n",
        "Since, we dont have x0 in our X array so the regressor won't consider the constant value of the equation i.e. a0. So to make it count in the equation we will append the selected feature set with a contant series of 1's as a first column. To make it appear like below equation to the statsmodel.\n",
        "\n",
        "y = a0x0 + a1x1 + a2x2 + ... + anxn"
      ],
      "metadata": {
        "id": "JYiRkca5onTp"
      }
    },
    {
      "cell_type": "code",
      "source": [
        "data.columns"
      ],
      "metadata": {
        "colab": {
          "base_uri": "https://localhost:8080/"
        },
        "id": "yUIZ7v6_UMTu",
        "outputId": "7f4dad83-c541-437e-dfbe-f0c0bf7bdc48"
      },
      "execution_count": 31,
      "outputs": [
        {
          "output_type": "execute_result",
          "data": {
            "text/plain": [
              "Index(['id', 'vendor_id', 'pickup_datetime', 'dropoff_datetime',\n",
              "       'passenger_count', 'pickup_longitude', 'pickup_latitude',\n",
              "       'dropoff_longitude', 'dropoff_latitude', 'store_and_fwd_flag',\n",
              "       'trip_duration', 'weekday', 'month', 'weekday_num', 'pickup_hour',\n",
              "       'distance', 'speed', 'flag_Y', 'vendor_id_2', 'month_2', 'month_3',\n",
              "       'month_4', 'month_5', 'month_6', 'weekday_num_1', 'weekday_num_2',\n",
              "       'weekday_num_3', 'weekday_num_4', 'weekday_num_5', 'weekday_num_6',\n",
              "       'pickup_hour_1', 'pickup_hour_2', 'pickup_hour_3', 'pickup_hour_4',\n",
              "       'pickup_hour_5', 'pickup_hour_6', 'pickup_hour_7', 'pickup_hour_8',\n",
              "       'pickup_hour_9', 'pickup_hour_10', 'pickup_hour_11', 'pickup_hour_12',\n",
              "       'pickup_hour_13', 'pickup_hour_14', 'pickup_hour_15', 'pickup_hour_16',\n",
              "       'pickup_hour_17', 'pickup_hour_18', 'pickup_hour_19', 'pickup_hour_20',\n",
              "       'pickup_hour_21', 'pickup_hour_22', 'pickup_hour_23',\n",
              "       'passenger_count_1', 'passenger_count_2', 'passenger_count_3',\n",
              "       'passenger_count_4', 'passenger_count_5', 'passenger_count_6',\n",
              "       'passenger_count_7', 'passenger_count_8', 'passenger_count_9'],\n",
              "      dtype='object')"
            ]
          },
          "metadata": {},
          "execution_count": 31
        }
      ]
    },
    {
      "cell_type": "code",
      "source": [
        "data.info()"
      ],
      "metadata": {
        "colab": {
          "base_uri": "https://localhost:8080/"
        },
        "id": "hH74XjVeYH_p",
        "outputId": "b75df864-82f4-43fe-daf2-640998c850f3"
      },
      "execution_count": 35,
      "outputs": [
        {
          "output_type": "stream",
          "name": "stdout",
          "text": [
            "<class 'pandas.core.frame.DataFrame'>\n",
            "Int64Index: 1453973 entries, 0 to 1458643\n",
            "Data columns (total 62 columns):\n",
            " #   Column              Non-Null Count    Dtype         \n",
            "---  ------              --------------    -----         \n",
            " 0   id                  1453973 non-null  object        \n",
            " 1   vendor_id           1453973 non-null  int64         \n",
            " 2   pickup_datetime     1453973 non-null  datetime64[ns]\n",
            " 3   dropoff_datetime    1453973 non-null  datetime64[ns]\n",
            " 4   passenger_count     1453973 non-null  int64         \n",
            " 5   pickup_longitude    1453973 non-null  float64       \n",
            " 6   pickup_latitude     1453973 non-null  float64       \n",
            " 7   dropoff_longitude   1453973 non-null  float64       \n",
            " 8   dropoff_latitude    1453973 non-null  float64       \n",
            " 9   store_and_fwd_flag  1453973 non-null  object        \n",
            " 10  trip_duration       1453973 non-null  int64         \n",
            " 11  weekday             1453973 non-null  int64         \n",
            " 12  month               1453973 non-null  int64         \n",
            " 13  weekday_num         1453973 non-null  int64         \n",
            " 14  pickup_hour         1453973 non-null  int64         \n",
            " 15  distance            1453973 non-null  float64       \n",
            " 16  speed               1453973 non-null  float64       \n",
            " 17  flag_Y              1453973 non-null  uint8         \n",
            " 18  vendor_id_2         1453973 non-null  uint8         \n",
            " 19  month_2             1453973 non-null  uint8         \n",
            " 20  month_3             1453973 non-null  uint8         \n",
            " 21  month_4             1453973 non-null  uint8         \n",
            " 22  month_5             1453973 non-null  uint8         \n",
            " 23  month_6             1453973 non-null  uint8         \n",
            " 24  weekday_num_1       1453973 non-null  uint8         \n",
            " 25  weekday_num_2       1453973 non-null  uint8         \n",
            " 26  weekday_num_3       1453973 non-null  uint8         \n",
            " 27  weekday_num_4       1453973 non-null  uint8         \n",
            " 28  weekday_num_5       1453973 non-null  uint8         \n",
            " 29  weekday_num_6       1453973 non-null  uint8         \n",
            " 30  pickup_hour_1       1453973 non-null  uint8         \n",
            " 31  pickup_hour_2       1453973 non-null  uint8         \n",
            " 32  pickup_hour_3       1453973 non-null  uint8         \n",
            " 33  pickup_hour_4       1453973 non-null  uint8         \n",
            " 34  pickup_hour_5       1453973 non-null  uint8         \n",
            " 35  pickup_hour_6       1453973 non-null  uint8         \n",
            " 36  pickup_hour_7       1453973 non-null  uint8         \n",
            " 37  pickup_hour_8       1453973 non-null  uint8         \n",
            " 38  pickup_hour_9       1453973 non-null  uint8         \n",
            " 39  pickup_hour_10      1453973 non-null  uint8         \n",
            " 40  pickup_hour_11      1453973 non-null  uint8         \n",
            " 41  pickup_hour_12      1453973 non-null  uint8         \n",
            " 42  pickup_hour_13      1453973 non-null  uint8         \n",
            " 43  pickup_hour_14      1453973 non-null  uint8         \n",
            " 44  pickup_hour_15      1453973 non-null  uint8         \n",
            " 45  pickup_hour_16      1453973 non-null  uint8         \n",
            " 46  pickup_hour_17      1453973 non-null  uint8         \n",
            " 47  pickup_hour_18      1453973 non-null  uint8         \n",
            " 48  pickup_hour_19      1453973 non-null  uint8         \n",
            " 49  pickup_hour_20      1453973 non-null  uint8         \n",
            " 50  pickup_hour_21      1453973 non-null  uint8         \n",
            " 51  pickup_hour_22      1453973 non-null  uint8         \n",
            " 52  pickup_hour_23      1453973 non-null  uint8         \n",
            " 53  passenger_count_1   1453973 non-null  uint8         \n",
            " 54  passenger_count_2   1453973 non-null  uint8         \n",
            " 55  passenger_count_3   1453973 non-null  uint8         \n",
            " 56  passenger_count_4   1453973 non-null  uint8         \n",
            " 57  passenger_count_5   1453973 non-null  uint8         \n",
            " 58  passenger_count_6   1453973 non-null  uint8         \n",
            " 59  passenger_count_7   1453973 non-null  uint8         \n",
            " 60  passenger_count_8   1453973 non-null  uint8         \n",
            " 61  passenger_count_9   1453973 non-null  uint8         \n",
            "dtypes: datetime64[ns](2), float64(6), int64(7), object(2), uint8(45)\n",
            "memory usage: 262.1+ MB\n"
          ]
        }
      ]
    },
    {
      "cell_type": "code",
      "source": [
        "data.shape"
      ],
      "metadata": {
        "colab": {
          "base_uri": "https://localhost:8080/"
        },
        "id": "iKq0M8k6lP8g",
        "outputId": "3ec88c98-75a9-4213-e4bd-352a5b7e9705"
      },
      "execution_count": 81,
      "outputs": [
        {
          "output_type": "execute_result",
          "data": {
            "text/plain": [
              "(1453811, 62)"
            ]
          },
          "metadata": {},
          "execution_count": 81
        }
      ]
    },
    {
      "cell_type": "code",
      "source": [
        "data.head(2)"
      ],
      "metadata": {
        "colab": {
          "base_uri": "https://localhost:8080/",
          "height": 240
        },
        "id": "s3KvGgVwXpxE",
        "outputId": "ea2cd250-097c-479a-bbf9-a10123ff444a"
      },
      "execution_count": 36,
      "outputs": [
        {
          "output_type": "execute_result",
          "data": {
            "text/plain": [
              "          id  vendor_id     pickup_datetime    dropoff_datetime  \\\n",
              "0  id2875421          2 2016-03-14 17:24:55 2016-03-14 17:32:30   \n",
              "1  id2377394          1 2016-06-12 00:43:35 2016-06-12 00:54:38   \n",
              "\n",
              "   passenger_count  pickup_longitude  pickup_latitude  dropoff_longitude  \\\n",
              "0                1        -73.982155        40.767937         -73.964630   \n",
              "1                1        -73.980415        40.738564         -73.999481   \n",
              "\n",
              "   dropoff_latitude store_and_fwd_flag  ...  pickup_hour_23  \\\n",
              "0         40.765602                  N  ...               0   \n",
              "1         40.731152                  N  ...               0   \n",
              "\n",
              "   passenger_count_1  passenger_count_2  passenger_count_3  passenger_count_4  \\\n",
              "0                  1                  0                  0                  0   \n",
              "1                  1                  0                  0                  0   \n",
              "\n",
              "   passenger_count_5  passenger_count_6  passenger_count_7  passenger_count_8  \\\n",
              "0                  0                  0                  0                  0   \n",
              "1                  0                  0                  0                  0   \n",
              "\n",
              "   passenger_count_9  \n",
              "0                  0  \n",
              "1                  0  \n",
              "\n",
              "[2 rows x 62 columns]"
            ],
            "text/html": [
              "\n",
              "  <div id=\"df-0449f71a-295d-4ae5-9d9e-4f03bb8ff67a\">\n",
              "    <div class=\"colab-df-container\">\n",
              "      <div>\n",
              "<style scoped>\n",
              "    .dataframe tbody tr th:only-of-type {\n",
              "        vertical-align: middle;\n",
              "    }\n",
              "\n",
              "    .dataframe tbody tr th {\n",
              "        vertical-align: top;\n",
              "    }\n",
              "\n",
              "    .dataframe thead th {\n",
              "        text-align: right;\n",
              "    }\n",
              "</style>\n",
              "<table border=\"1\" class=\"dataframe\">\n",
              "  <thead>\n",
              "    <tr style=\"text-align: right;\">\n",
              "      <th></th>\n",
              "      <th>id</th>\n",
              "      <th>vendor_id</th>\n",
              "      <th>pickup_datetime</th>\n",
              "      <th>dropoff_datetime</th>\n",
              "      <th>passenger_count</th>\n",
              "      <th>pickup_longitude</th>\n",
              "      <th>pickup_latitude</th>\n",
              "      <th>dropoff_longitude</th>\n",
              "      <th>dropoff_latitude</th>\n",
              "      <th>store_and_fwd_flag</th>\n",
              "      <th>...</th>\n",
              "      <th>pickup_hour_23</th>\n",
              "      <th>passenger_count_1</th>\n",
              "      <th>passenger_count_2</th>\n",
              "      <th>passenger_count_3</th>\n",
              "      <th>passenger_count_4</th>\n",
              "      <th>passenger_count_5</th>\n",
              "      <th>passenger_count_6</th>\n",
              "      <th>passenger_count_7</th>\n",
              "      <th>passenger_count_8</th>\n",
              "      <th>passenger_count_9</th>\n",
              "    </tr>\n",
              "  </thead>\n",
              "  <tbody>\n",
              "    <tr>\n",
              "      <th>0</th>\n",
              "      <td>id2875421</td>\n",
              "      <td>2</td>\n",
              "      <td>2016-03-14 17:24:55</td>\n",
              "      <td>2016-03-14 17:32:30</td>\n",
              "      <td>1</td>\n",
              "      <td>-73.982155</td>\n",
              "      <td>40.767937</td>\n",
              "      <td>-73.964630</td>\n",
              "      <td>40.765602</td>\n",
              "      <td>N</td>\n",
              "      <td>...</td>\n",
              "      <td>0</td>\n",
              "      <td>1</td>\n",
              "      <td>0</td>\n",
              "      <td>0</td>\n",
              "      <td>0</td>\n",
              "      <td>0</td>\n",
              "      <td>0</td>\n",
              "      <td>0</td>\n",
              "      <td>0</td>\n",
              "      <td>0</td>\n",
              "    </tr>\n",
              "    <tr>\n",
              "      <th>1</th>\n",
              "      <td>id2377394</td>\n",
              "      <td>1</td>\n",
              "      <td>2016-06-12 00:43:35</td>\n",
              "      <td>2016-06-12 00:54:38</td>\n",
              "      <td>1</td>\n",
              "      <td>-73.980415</td>\n",
              "      <td>40.738564</td>\n",
              "      <td>-73.999481</td>\n",
              "      <td>40.731152</td>\n",
              "      <td>N</td>\n",
              "      <td>...</td>\n",
              "      <td>0</td>\n",
              "      <td>1</td>\n",
              "      <td>0</td>\n",
              "      <td>0</td>\n",
              "      <td>0</td>\n",
              "      <td>0</td>\n",
              "      <td>0</td>\n",
              "      <td>0</td>\n",
              "      <td>0</td>\n",
              "      <td>0</td>\n",
              "    </tr>\n",
              "  </tbody>\n",
              "</table>\n",
              "<p>2 rows × 62 columns</p>\n",
              "</div>\n",
              "      <button class=\"colab-df-convert\" onclick=\"convertToInteractive('df-0449f71a-295d-4ae5-9d9e-4f03bb8ff67a')\"\n",
              "              title=\"Convert this dataframe to an interactive table.\"\n",
              "              style=\"display:none;\">\n",
              "        \n",
              "  <svg xmlns=\"http://www.w3.org/2000/svg\" height=\"24px\"viewBox=\"0 0 24 24\"\n",
              "       width=\"24px\">\n",
              "    <path d=\"M0 0h24v24H0V0z\" fill=\"none\"/>\n",
              "    <path d=\"M18.56 5.44l.94 2.06.94-2.06 2.06-.94-2.06-.94-.94-2.06-.94 2.06-2.06.94zm-11 1L8.5 8.5l.94-2.06 2.06-.94-2.06-.94L8.5 2.5l-.94 2.06-2.06.94zm10 10l.94 2.06.94-2.06 2.06-.94-2.06-.94-.94-2.06-.94 2.06-2.06.94z\"/><path d=\"M17.41 7.96l-1.37-1.37c-.4-.4-.92-.59-1.43-.59-.52 0-1.04.2-1.43.59L10.3 9.45l-7.72 7.72c-.78.78-.78 2.05 0 2.83L4 21.41c.39.39.9.59 1.41.59.51 0 1.02-.2 1.41-.59l7.78-7.78 2.81-2.81c.8-.78.8-2.07 0-2.86zM5.41 20L4 18.59l7.72-7.72 1.47 1.35L5.41 20z\"/>\n",
              "  </svg>\n",
              "      </button>\n",
              "      \n",
              "  <style>\n",
              "    .colab-df-container {\n",
              "      display:flex;\n",
              "      flex-wrap:wrap;\n",
              "      gap: 12px;\n",
              "    }\n",
              "\n",
              "    .colab-df-convert {\n",
              "      background-color: #E8F0FE;\n",
              "      border: none;\n",
              "      border-radius: 50%;\n",
              "      cursor: pointer;\n",
              "      display: none;\n",
              "      fill: #1967D2;\n",
              "      height: 32px;\n",
              "      padding: 0 0 0 0;\n",
              "      width: 32px;\n",
              "    }\n",
              "\n",
              "    .colab-df-convert:hover {\n",
              "      background-color: #E2EBFA;\n",
              "      box-shadow: 0px 1px 2px rgba(60, 64, 67, 0.3), 0px 1px 3px 1px rgba(60, 64, 67, 0.15);\n",
              "      fill: #174EA6;\n",
              "    }\n",
              "\n",
              "    [theme=dark] .colab-df-convert {\n",
              "      background-color: #3B4455;\n",
              "      fill: #D2E3FC;\n",
              "    }\n",
              "\n",
              "    [theme=dark] .colab-df-convert:hover {\n",
              "      background-color: #434B5C;\n",
              "      box-shadow: 0px 1px 3px 1px rgba(0, 0, 0, 0.15);\n",
              "      filter: drop-shadow(0px 1px 2px rgba(0, 0, 0, 0.3));\n",
              "      fill: #FFFFFF;\n",
              "    }\n",
              "  </style>\n",
              "\n",
              "      <script>\n",
              "        const buttonEl =\n",
              "          document.querySelector('#df-0449f71a-295d-4ae5-9d9e-4f03bb8ff67a button.colab-df-convert');\n",
              "        buttonEl.style.display =\n",
              "          google.colab.kernel.accessAllowed ? 'block' : 'none';\n",
              "\n",
              "        async function convertToInteractive(key) {\n",
              "          const element = document.querySelector('#df-0449f71a-295d-4ae5-9d9e-4f03bb8ff67a');\n",
              "          const dataTable =\n",
              "            await google.colab.kernel.invokeFunction('convertToInteractive',\n",
              "                                                     [key], {});\n",
              "          if (!dataTable) return;\n",
              "\n",
              "          const docLinkHtml = 'Like what you see? Visit the ' +\n",
              "            '<a target=\"_blank\" href=https://colab.research.google.com/notebooks/data_table.ipynb>data table notebook</a>'\n",
              "            + ' to learn more about interactive tables.';\n",
              "          element.innerHTML = '';\n",
              "          dataTable['output_type'] = 'display_data';\n",
              "          await google.colab.output.renderOutput(dataTable, element);\n",
              "          const docLink = document.createElement('div');\n",
              "          docLink.innerHTML = docLinkHtml;\n",
              "          element.appendChild(docLink);\n",
              "        }\n",
              "      </script>\n",
              "    </div>\n",
              "  </div>\n",
              "  "
            ]
          },
          "metadata": {},
          "execution_count": 36
        }
      ]
    },
    {
      "cell_type": "code",
      "source": [
        "x = data.loc[:,:]\n",
        "y = data['trip_duration']"
      ],
      "metadata": {
        "id": "rT_N-RSrXnU_"
      },
      "execution_count": 32,
      "outputs": []
    },
    {
      "cell_type": "code",
      "source": [
        "x.drop(columns = ['trip_duration','store_and_fwd_flag','id'], axis= 1, inplace = True)"
      ],
      "metadata": {
        "id": "3TvXu7xeX8Ub"
      },
      "execution_count": 39,
      "outputs": []
    },
    {
      "cell_type": "code",
      "source": [
        "x = x.iloc[:,12:59]"
      ],
      "metadata": {
        "id": "MPfeyk8Ja7fg"
      },
      "execution_count": 42,
      "outputs": []
    },
    {
      "cell_type": "code",
      "source": [
        "#Split raw data\n",
        "x_train, x_test, y_train, y_test = train_test_split(x,y, random_state=4, test_size=0.2)"
      ],
      "metadata": {
        "id": "ZdgQvy34T7qj"
      },
      "execution_count": 44,
      "outputs": []
    },
    {
      "cell_type": "code",
      "source": [
        "#feature scaling\n",
        "from sklearn.feature_selection import chi2\n",
        "chi2(x_train,y_train)"
      ],
      "metadata": {
        "colab": {
          "base_uri": "https://localhost:8080/"
        },
        "id": "zruzyZUjXECU",
        "outputId": "1c4edba3-87ac-4904-fcc8-0123c9083d8c"
      },
      "execution_count": 50,
      "outputs": [
        {
          "output_type": "execute_result",
          "data": {
            "text/plain": [
              "(array([3.28286307e+06, 3.04825240e+05, 1.62355832e+04, 3.79970748e+03,\n",
              "        5.49184224e+03, 5.52960571e+03, 5.64997156e+03, 7.83879350e+03,\n",
              "        8.11431286e+03, 6.19744435e+03, 7.18100902e+03, 8.28766528e+03,\n",
              "        6.95919642e+03, 5.87605795e+03, 7.37446336e+03, 5.78724153e+03,\n",
              "        5.54980491e+03, 5.46844048e+03, 5.55670449e+03, 6.64669959e+03,\n",
              "        1.12029477e+04, 1.03160942e+04, 6.57647770e+03, 5.64931740e+03,\n",
              "        5.46275860e+03, 6.34726998e+03, 6.86707814e+03, 7.78519067e+03,\n",
              "        1.13826925e+04, 1.41316156e+04, 1.67748790e+04, 1.16557611e+04,\n",
              "        6.48981169e+03, 5.17051225e+03, 5.15213806e+03, 5.31468717e+03,\n",
              "        5.40986515e+03, 4.98925141e+03, 2.61496016e+03, 7.34378205e+03,\n",
              "        7.48403985e+03, 8.60256134e+03, 7.38941524e+03, 7.52647369e+03,\n",
              "        1.03728610e+04, 3.91542424e+03,            nan]),\n",
              " array([0.00000000e+000, 0.00000000e+000, 0.00000000e+000, 1.00000000e+000,\n",
              "        1.00000000e+000, 1.00000000e+000, 1.00000000e+000, 7.96124583e-016,\n",
              "        2.80777236e-024, 9.99999998e-001, 3.68989561e-003, 1.78919673e-030,\n",
              "        2.05265018e-001, 1.00000000e+000, 9.89367407e-006, 1.00000000e+000,\n",
              "        1.00000000e+000, 1.00000000e+000, 1.00000000e+000, 9.68577251e-001,\n",
              "        8.12891758e-215, 4.79511211e-145, 9.93334136e-001, 1.00000000e+000,\n",
              "        1.00000000e+000, 9.99996784e-001, 4.83850408e-001, 2.18130202e-014,\n",
              "        3.82179868e-230, 0.00000000e+000, 0.00000000e+000, 3.89233483e-254,\n",
              "        9.99400809e-001, 1.00000000e+000, 1.00000000e+000, 1.00000000e+000,\n",
              "        1.00000000e+000, 1.00000000e+000, 1.00000000e+000, 2.94379382e-005,\n",
              "        1.27105502e-007, 2.30824299e-043, 5.69726977e-006, 1.94395341e-008,\n",
              "        3.35070387e-149, 1.00000000e+000,             nan]))"
            ]
          },
          "metadata": {},
          "execution_count": 50
        }
      ]
    },
    {
      "cell_type": "code",
      "source": [
        "p_values=pd.Series(f_p_values[1])\n",
        "p_values.index=x_train.columns\n",
        "p_values"
      ],
      "metadata": {
        "colab": {
          "base_uri": "https://localhost:8080/"
        },
        "id": "gG7hZBabcU5l",
        "outputId": "a7404831-312e-441d-db11-50d2e393379f"
      },
      "execution_count": 59,
      "outputs": [
        {
          "output_type": "execute_result",
          "data": {
            "text/plain": [
              "distance              0.000000e+00\n",
              "speed                 0.000000e+00\n",
              "flag_Y                0.000000e+00\n",
              "vendor_id_2           1.000000e+00\n",
              "month_2               1.000000e+00\n",
              "month_3               1.000000e+00\n",
              "month_4               1.000000e+00\n",
              "month_5               7.961246e-16\n",
              "month_6               2.807772e-24\n",
              "weekday_num_1         1.000000e+00\n",
              "weekday_num_2         3.689896e-03\n",
              "weekday_num_3         1.789197e-30\n",
              "weekday_num_4         2.052650e-01\n",
              "weekday_num_5         1.000000e+00\n",
              "weekday_num_6         9.893674e-06\n",
              "pickup_hour_1         1.000000e+00\n",
              "pickup_hour_2         1.000000e+00\n",
              "pickup_hour_3         1.000000e+00\n",
              "pickup_hour_4         1.000000e+00\n",
              "pickup_hour_5         9.685773e-01\n",
              "pickup_hour_6        8.128918e-215\n",
              "pickup_hour_7        4.795112e-145\n",
              "pickup_hour_8         9.933341e-01\n",
              "pickup_hour_9         1.000000e+00\n",
              "pickup_hour_10        1.000000e+00\n",
              "pickup_hour_11        9.999968e-01\n",
              "pickup_hour_12        4.838504e-01\n",
              "pickup_hour_13        2.181302e-14\n",
              "pickup_hour_14       3.821799e-230\n",
              "pickup_hour_15        0.000000e+00\n",
              "pickup_hour_16        0.000000e+00\n",
              "pickup_hour_17       3.892335e-254\n",
              "pickup_hour_18        9.994008e-01\n",
              "pickup_hour_19        1.000000e+00\n",
              "pickup_hour_20        1.000000e+00\n",
              "pickup_hour_21        1.000000e+00\n",
              "pickup_hour_22        1.000000e+00\n",
              "pickup_hour_23        1.000000e+00\n",
              "passenger_count_1     1.000000e+00\n",
              "passenger_count_2     2.943794e-05\n",
              "passenger_count_3     1.271055e-07\n",
              "passenger_count_4     2.308243e-43\n",
              "passenger_count_5     5.697270e-06\n",
              "passenger_count_6     1.943953e-08\n",
              "passenger_count_7    3.350704e-149\n",
              "passenger_count_8     1.000000e+00\n",
              "passenger_count_9              NaN\n",
              "dtype: float64"
            ]
          },
          "metadata": {},
          "execution_count": 59
        }
      ]
    },
    {
      "cell_type": "code",
      "source": [
        "p_values.sort_index(ascending=False).head(10)"
      ],
      "metadata": {
        "colab": {
          "base_uri": "https://localhost:8080/"
        },
        "id": "wOznmiKdezNR",
        "outputId": "b895a45b-b7fc-4162-8ba9-30a2c8d9e8d4"
      },
      "execution_count": 61,
      "outputs": [
        {
          "output_type": "execute_result",
          "data": {
            "text/plain": [
              "weekday_num_6    9.893674e-06\n",
              "weekday_num_5    1.000000e+00\n",
              "weekday_num_4    2.052650e-01\n",
              "weekday_num_3    1.789197e-30\n",
              "weekday_num_2    3.689896e-03\n",
              "weekday_num_1    1.000000e+00\n",
              "vendor_id_2      1.000000e+00\n",
              "speed            0.000000e+00\n",
              "pickup_hour_9    1.000000e+00\n",
              "pickup_hour_8    9.933341e-01\n",
              "dtype: float64"
            ]
          },
          "metadata": {},
          "execution_count": 61
        }
      ]
    },
    {
      "cell_type": "code",
      "source": [
        "from sklearn.feature_selection import mutual_info_regression\n",
        "# determine the mutual information\n",
        "mutual_info = mutual_info_regression(x_train, y_train)\n",
        "mutual_info"
      ],
      "metadata": {
        "colab": {
          "base_uri": "https://localhost:8080/"
        },
        "id": "mXJ8DJ3PfF6b",
        "outputId": "946e4ade-99f1-4713-bf0a-bf64d924aeef"
      },
      "execution_count": 62,
      "outputs": [
        {
          "output_type": "execute_result",
          "data": {
            "text/plain": [
              "array([5.72671221e-01, 8.67562024e-02, 4.44875956e-04, 5.53857639e-04,\n",
              "       7.22421613e-04, 1.36049114e-03, 8.99445307e-04, 0.00000000e+00,\n",
              "       3.46848997e-04, 6.45051848e-04, 1.35244612e-03, 0.00000000e+00,\n",
              "       0.00000000e+00, 8.68644317e-04, 1.47584047e-03, 9.20524607e-04,\n",
              "       8.21884461e-04, 7.07903883e-04, 1.56708597e-04, 0.00000000e+00,\n",
              "       2.01590010e-03, 1.20291326e-03, 0.00000000e+00, 3.93860421e-04,\n",
              "       0.00000000e+00, 1.50219236e-04, 0.00000000e+00, 1.95398482e-04,\n",
              "       9.42492728e-04, 1.86709450e-04, 2.15012390e-03, 1.15810753e-03,\n",
              "       7.10301869e-04, 0.00000000e+00, 6.89300290e-04, 1.01303807e-03,\n",
              "       1.66648590e-03, 0.00000000e+00, 9.42962115e-04, 7.03198097e-04,\n",
              "       2.15305597e-03, 3.94095235e-04, 0.00000000e+00, 0.00000000e+00,\n",
              "       6.29144024e-04, 7.43776729e-04, 6.57454881e-04])"
            ]
          },
          "metadata": {},
          "execution_count": 62
        }
      ]
    },
    {
      "cell_type": "code",
      "source": [
        "mutual_info = pd.Series(mutual_info)\n",
        "mutual_info.index = x_train.columns\n",
        "mutual_info.sort_values(ascending=False)"
      ],
      "metadata": {
        "colab": {
          "base_uri": "https://localhost:8080/"
        },
        "id": "YacYohW1fMOt",
        "outputId": "b85f43a7-8282-4516-d346-d5925db9adfd"
      },
      "execution_count": 63,
      "outputs": [
        {
          "output_type": "execute_result",
          "data": {
            "text/plain": [
              "distance             0.572671\n",
              "speed                0.086756\n",
              "passenger_count_3    0.002153\n",
              "pickup_hour_16       0.002150\n",
              "pickup_hour_6        0.002016\n",
              "pickup_hour_22       0.001666\n",
              "weekday_num_6        0.001476\n",
              "month_3              0.001360\n",
              "weekday_num_2        0.001352\n",
              "pickup_hour_7        0.001203\n",
              "pickup_hour_17       0.001158\n",
              "pickup_hour_21       0.001013\n",
              "passenger_count_1    0.000943\n",
              "pickup_hour_14       0.000942\n",
              "pickup_hour_1        0.000921\n",
              "month_4              0.000899\n",
              "weekday_num_5        0.000869\n",
              "pickup_hour_2        0.000822\n",
              "passenger_count_8    0.000744\n",
              "month_2              0.000722\n",
              "pickup_hour_18       0.000710\n",
              "pickup_hour_3        0.000708\n",
              "passenger_count_2    0.000703\n",
              "pickup_hour_20       0.000689\n",
              "passenger_count_9    0.000657\n",
              "weekday_num_1        0.000645\n",
              "passenger_count_7    0.000629\n",
              "vendor_id_2          0.000554\n",
              "flag_Y               0.000445\n",
              "passenger_count_4    0.000394\n",
              "pickup_hour_9        0.000394\n",
              "month_6              0.000347\n",
              "pickup_hour_13       0.000195\n",
              "pickup_hour_15       0.000187\n",
              "pickup_hour_4        0.000157\n",
              "pickup_hour_11       0.000150\n",
              "pickup_hour_5        0.000000\n",
              "pickup_hour_19       0.000000\n",
              "weekday_num_4        0.000000\n",
              "weekday_num_3        0.000000\n",
              "pickup_hour_12       0.000000\n",
              "pickup_hour_23       0.000000\n",
              "month_5              0.000000\n",
              "pickup_hour_8        0.000000\n",
              "passenger_count_5    0.000000\n",
              "passenger_count_6    0.000000\n",
              "pickup_hour_10       0.000000\n",
              "dtype: float64"
            ]
          },
          "metadata": {},
          "execution_count": 63
        }
      ]
    },
    {
      "cell_type": "code",
      "source": [
        "from sklearn.feature_selection import SelectKBest"
      ],
      "metadata": {
        "id": "iztUZ68TutXq"
      },
      "execution_count": 64,
      "outputs": []
    },
    {
      "cell_type": "code",
      "source": [
        "from sklearn.decomposition import PCA\n",
        "from sklearn.preprocessing import StandardScaler\n",
        "import numpy as np\n",
        "\n",
        "# Create some sample data\n",
        "X = np.random.rand(100, 5) # 100 samples with 5 features\n",
        "\n",
        "# Standardize the data\n",
        "scaler = StandardScaler()\n",
        "X_scaled = scaler.fit_transform(X)\n",
        "\n",
        "# Create a PCA object and fit the data\n",
        "pca = PCA(n_components=2) # Reduce to 2 components\n",
        "pca.fit(X_scaled)\n",
        "\n",
        "# Transform the data into the new space\n",
        "X_pca = pca.transform(X_scaled)\n",
        "\n",
        "# Print the explained variance ratio of each component\n",
        "print(pca.explained_variance_ratio_)\n",
        "\n",
        "# Plot the transformed data\n",
        "import matplotlib.pyplot as plt\n",
        "plt.scatter(X_pca[:, 0], X_pca[:, 1])\n",
        "plt.xlabel('PC1')\n",
        "plt.ylabel('PC2')\n",
        "plt.show()\n"
      ],
      "metadata": {
        "colab": {
          "base_uri": "https://localhost:8080/",
          "height": 299
        },
        "id": "_dpqOsQ2bwr9",
        "outputId": "96ed2a1d-c587-4153-ca86-08efca496af7"
      },
      "execution_count": 65,
      "outputs": [
        {
          "output_type": "stream",
          "name": "stdout",
          "text": [
            "[0.26237646 0.22925442]\n"
          ]
        },
        {
          "output_type": "display_data",
          "data": {
            "text/plain": [
              "<Figure size 432x288 with 1 Axes>"
            ],
            "image/png": "[encoded data removed]"
          },
          "metadata": {
            "needs_background": "light"
          }
        }
      ]
    },
    {
      "cell_type": "code",
      "source": [],
      "metadata": {
        "id": "bRBw9M5Xbwl9"
      },
      "execution_count": null,
      "outputs": []
    },
    {
      "cell_type": "markdown",
      "source": [
        "There we go, our feature set is now ready for the feature selection model with 1s in the first column for a0 constant.\n",
        "\n",
        "Let's fit stats model on the X array to figure out an optimal set of features by recursively checking for the highest p value and removing the feature of that index."
      ],
      "metadata": {
        "id": "slwdQM-go5dG"
      }
    },
    {
      "cell_type": "markdown",
      "source": [
        "Note:\n",
        "Here we will take the level of significance as 0.05 i.e. 5% which means that we will reject feature from the list of array and re-run the model till p value for all the features goes below .05 to find out the optimal combination for our model."
      ],
      "metadata": {
        "id": "HPc62CgQpPzL"
      }
    },
    {
      "cell_type": "markdown",
      "source": [
        "Observations\n",
        "Finally we have reached the combination of optimum features with each feature having p value < 0.05."
      ],
      "metadata": {
        "id": "1eyvH-7UT2f1"
      }
    },
    {
      "cell_type": "markdown",
      "source": [
        "### **Split Data**"
      ],
      "metadata": {
        "id": "Nf1ZI2pMUD7p"
      }
    },
    {
      "cell_type": "markdown",
      "source": [
        "Before training our model on the dataset, we need to split the dataset into training and testing datasets. This is required to train our model on the major part of our dataset and test the accuracy of the model on the minor part. Let's split it"
      ],
      "metadata": {
        "id": "hBu4bc30T-Pd"
      }
    },
    {
      "cell_type": "markdown",
      "source": [
        "This will divide our dataset randomly with a ratio of 80/20 where training set consists of more than 1 million records and test dataset with more than .35 million records. Let's train our model on the training set now."
      ],
      "metadata": {
        "id": "t4K1DjHjUQ2w"
      }
    },
    {
      "cell_type": "markdown",
      "source": [
        "## **Feature Extraction**"
      ],
      "metadata": {
        "id": "rRpH_b74UVus"
      }
    },
    {
      "cell_type": "markdown",
      "source": [
        "We will use PCA for feature extraction i.e. Principal Component Analysis. It is a statistical procedure that uses an orthogonal transformation to convert a set of observations of possibly correlated variables into a set of values of linearly uncorrelated variables called principal components"
      ],
      "metadata": {
        "id": "-QBADXphUZqG"
      }
    },
    {
      "cell_type": "markdown",
      "source": [
        "Split Data\n",
        "Lets split our data first before scaling the features"
      ],
      "metadata": {
        "id": "O634_k0DUllH"
      }
    },
    {
      "cell_type": "markdown",
      "source": [
        "Scale Data\n"
      ],
      "metadata": {
        "id": "iI95r77kUvDq"
      }
    },
    {
      "cell_type": "markdown",
      "source": [
        "It is suggested to scale the input varibles first before applying PCA to standardise the variance and avoid the bias. Lets Scale the data using StandardScaler."
      ],
      "metadata": {
        "id": "MEAkA6TOU0S3"
      }
    },
    {
      "cell_type": "code",
      "source": [
        "from sklearn.preprocessing import StandardScaler\n",
        "scaler = StandardScaler()\n",
        "X_train = scaler.fit_transform(X_train)\n",
        "X_test = scaler.transform(X_test)"
      ],
      "metadata": {
        "id": "OWmUpv8MU52s"
      },
      "execution_count": 83,
      "outputs": []
    },
    {
      "cell_type": "markdown",
      "source": [
        "**PCA application**"
      ],
      "metadata": {
        "id": "1_9_lw0NVC67"
      }
    },
    {
      "cell_type": "markdown",
      "source": [
        "Let's apply PCA technique on the training features to understand how many principal components should we select for our model to capture atleast 90% variance. For that we will take help of plot and cumsum function of numpy package."
      ],
      "metadata": {
        "id": "UWbwKaJbVFKD"
      }
    },
    {
      "cell_type": "markdown",
      "source": [
        "Observation\n",
        "\n",
        "*   Here we can see that almost 40 variables are needed for capturing atleast 99% of the variance in the training dataset. Hence we will use the same set of variables."
      ],
      "metadata": {
        "id": "5oiYlZ5qVUVm"
      }
    },
    {
      "cell_type": "markdown",
      "source": [
        "PCA is applied on the training and the test dataset. Our input features are now ready for the regression."
      ],
      "metadata": {
        "id": "KtJFFXNzWMBa"
      }
    },
    {
      "cell_type": "markdown",
      "source": [
        "Correlation Analysis"
      ],
      "metadata": {
        "id": "sEZl362eWQ-W"
      }
    },
    {
      "cell_type": "markdown",
      "source": [
        "Correlation analysis is a method of statistical evaluation used to study the strength of a relationship between two or more, numerically measured, continuous variables. This analysis is useful when we need to check if there are possible connections between variables. We will utilize Heatmap for our analysis."
      ],
      "metadata": {
        "id": "h92aufOCWTwO"
      }
    },
    {
      "cell_type": "markdown",
      "source": [
        "Heatmap"
      ],
      "metadata": {
        "id": "_bwHr8E5WYhE"
      }
    },
    {
      "cell_type": "markdown",
      "source": [
        "A heatmap is a graphical representation of data that uses a system of color-coding to represent statistical relationship between different values.\n",
        "\n",
        "Let's plot the relationship between the features of the Feature selection group first"
      ],
      "metadata": {
        "id": "hdJEukiMWb5b"
      }
    },
    {
      "cell_type": "code",
      "source": [
        "plt.figure(figsize=(15,15))\n",
        "corr = pd.DataFrame(X_train).corr()\n",
        "corr.index = pd.DataFrame(X_train).columns\n",
        "sns.heatmap(corr, cmap='RdYlGn', vmin=-1, vmax=1, square=True)\n",
        "plt.title(\"Correlation Heatmap\", fontsize=16)\n",
        "plt.show()"
      ],
      "metadata": {
        "id": "cQZankZAWKT9",
        "colab": {
          "base_uri": "https://localhost:8080/",
          "height": 856
        },
        "outputId": "eab8ec5c-3cb4-4e31-be03-4a4c03fd5c97"
      },
      "execution_count": 84,
      "outputs": [
        {
          "output_type": "display_data",
          "data": {
            "text/plain": [
              "<Figure size 1080x1080 with 2 Axes>"
            ],
            "image/png": "[encoded data removed]"
          },
          "metadata": {
            "needs_background": "light"
          }
        }
      ]
    },
    {
      "cell_type": "markdown",
      "source": [
        "Observations\n",
        "\n",
        "\n",
        "*   Some combinations of features shows slight correlation but not above 0.5.\n",
        "\n",
        "\n",
        "*   Some features are infact negatively correlated.\n",
        "\n",
        "*   But most of the features shows no correlation. Which is a good thing.\n",
        "\n",
        "\n",
        "All in all, we have a very good pack of attributes to train our model. Let's move ahead.\n"
      ],
      "metadata": {
        "id": "iGMjqxGiWjCU"
      }
    },
    {
      "cell_type": "markdown",
      "source": [
        "Let's now plot the relationship between the features of the Feature extraction group."
      ],
      "metadata": {
        "id": "Fymh64bva7A_"
      }
    },
    {
      "cell_type": "code",
      "source": [
        "plt.figure(figsize=(15,15))\n",
        "corr = pd.DataFrame(x_train).corr()\n",
        "corr.index = pd.DataFrame(x_train).columns\n",
        "sns.heatmap(corr, cmap='RdYlGn', vmin=-1, vmax=1, square=True)\n",
        "plt.title(\"Correlation Heatmap\", fontsize=16)\n",
        "plt.show()"
      ],
      "metadata": {
        "id": "1Z5_bp8Ta9iG",
        "colab": {
          "base_uri": "https://localhost:8080/",
          "height": 881
        },
        "outputId": "c88d6c55-28f1-4345-fa62-15a055ce1cad"
      },
      "execution_count": 66,
      "outputs": [
        {
          "output_type": "display_data",
          "data": {
            "text/plain": [
              "<Figure size 1080x1080 with 2 Axes>"
            ],
            "image/png": "[encoded data removed]"
          },
          "metadata": {
            "needs_background": "light"
          }
        }
      ]
    },
    {
      "cell_type": "markdown",
      "source": [
        "Observations\n",
        "*   All of the features shows NO correlation at all. Because feature extraction removes all collinearity."
      ],
      "metadata": {
        "id": "bvCwhpgKbFEM"
      }
    },
    {
      "cell_type": "markdown",
      "source": [
        "Let's move on to the Model now."
      ],
      "metadata": {
        "id": "FRwVgfG5bMCM"
      }
    },
    {
      "cell_type": "code",
      "source": [
        "#Linear regressor for the raw data\n",
        "regressor = LinearRegression() \n",
        "regressor.fit(X_train,y_train) "
      ],
      "metadata": {
        "id": "nYH8l9RNbECq",
        "colab": {
          "base_uri": "https://localhost:8080/",
          "height": 75
        },
        "outputId": "f4786b62-032a-4504-b5a2-e15fd860db7b"
      },
      "execution_count": 86,
      "outputs": [
        {
          "output_type": "execute_result",
          "data": {
            "text/plain": [
              "LinearRegression()"
            ],
            "text/html": [
              "<style>#sk-container-id-1 {color: black;background-color: white;}#sk-container-id-1 pre{padding: 0;}#sk-container-id-1 div.sk-toggleable {background-color: white;}#sk-container-id-1 label.sk-toggleable__label {cursor: pointer;display: block;width: 100%;margin-bottom: 0;padding: 0.3em;box-sizing: border-box;text-align: center;}#sk-container-id-1 label.sk-toggleable__label-arrow:before {content: \"▸\";float: left;margin-right: 0.25em;color: #696969;}#sk-container-id-1 label.sk-toggleable__label-arrow:hover:before {color: black;}#sk-container-id-1 div.sk-estimator:hover label.sk-toggleable__label-arrow:before {color: black;}#sk-container-id-1 div.sk-toggleable__content {max-height: 0;max-width: 0;overflow: hidden;text-align: left;background-color: #f0f8ff;}#sk-container-id-1 div.sk-toggleable__content pre {margin: 0.2em;color: black;border-radius: 0.25em;background-color: #f0f8ff;}#sk-container-id-1 input.sk-toggleable__control:checked~div.sk-toggleable__content {max-height: 200px;max-width: 100%;overflow: auto;}#sk-container-id-1 input.sk-toggleable__control:checked~label.sk-toggleable__label-arrow:before {content: \"▾\";}#sk-container-id-1 div.sk-estimator input.sk-toggleable__control:checked~label.sk-toggleable__label {background-color: #d4ebff;}#sk-container-id-1 div.sk-label input.sk-toggleable__control:checked~label.sk-toggleable__label {background-color: #d4ebff;}#sk-container-id-1 input.sk-hidden--visually {border: 0;clip: rect(1px 1px 1px 1px);clip: rect(1px, 1px, 1px, 1px);height: 1px;margin: -1px;overflow: hidden;padding: 0;position: absolute;width: 1px;}#sk-container-id-1 div.sk-estimator {font-family: monospace;background-color: #f0f8ff;border: 1px dotted black;border-radius: 0.25em;box-sizing: border-box;margin-bottom: 0.5em;}#sk-container-id-1 div.sk-estimator:hover {background-color: #d4ebff;}#sk-container-id-1 div.sk-parallel-item::after {content: \"\";width: 100%;border-bottom: 1px solid gray;flex-grow: 1;}#sk-container-id-1 div.sk-label:hover label.sk-toggleable__label {background-color: #d4ebff;}#sk-container-id-1 div.sk-serial::before {content: \"\";position: absolute;border-left: 1px solid gray;box-sizing: border-box;top: 0;bottom: 0;left: 50%;z-index: 0;}#sk-container-id-1 div.sk-serial {display: flex;flex-direction: column;align-items: center;background-color: white;padding-right: 0.2em;padding-left: 0.2em;position: relative;}#sk-container-id-1 div.sk-item {position: relative;z-index: 1;}#sk-container-id-1 div.sk-parallel {display: flex;align-items: stretch;justify-content: center;background-color: white;position: relative;}#sk-container-id-1 div.sk-item::before, #sk-container-id-1 div.sk-parallel-item::before {content: \"\";position: absolute;border-left: 1px solid gray;box-sizing: border-box;top: 0;bottom: 0;left: 50%;z-index: -1;}#sk-container-id-1 div.sk-parallel-item {display: flex;flex-direction: column;z-index: 1;position: relative;background-color: white;}#sk-container-id-1 div.sk-parallel-item:first-child::after {align-self: flex-end;width: 50%;}#sk-container-id-1 div.sk-parallel-item:last-child::after {align-self: flex-start;width: 50%;}#sk-container-id-1 div.sk-parallel-item:only-child::after {width: 0;}#sk-container-id-1 div.sk-dashed-wrapped {border: 1px dashed gray;margin: 0 0.4em 0.5em 0.4em;box-sizing: border-box;padding-bottom: 0.4em;background-color: white;}#sk-container-id-1 div.sk-label label {font-family: monospace;font-weight: bold;display: inline-block;line-height: 1.2em;}#sk-container-id-1 div.sk-label-container {text-align: center;}#sk-container-id-1 div.sk-container {/* jupyter's `normalize.less` sets `[hidden] { display: none; }` but bootstrap.min.css set `[hidden] { display: none !important; }` so we also need the `!important` here to be able to override the default hidden behavior on the sphinx rendered scikit-learn.org. See: https://github.com/scikit-learn/scikit-learn/issues/21755 */display: inline-block !important;position: relative;}#sk-container-id-1 div.sk-text-repr-fallback {display: none;}</style><div id=\"sk-container-id-1\" class=\"sk-top-container\"><div class=\"sk-text-repr-fallback\"><pre>LinearRegression()</pre><b>In a Jupyter environment, please rerun this cell to show the HTML representation or trust the notebook. <br />On GitHub, the HTML representation is unable to render, please try loading this page with nbviewer.org.</b></div><div class=\"sk-container\" hidden><div class=\"sk-item\"><div class=\"sk-estimator sk-toggleable\"><input class=\"sk-toggleable__control sk-hidden--visually\" id=\"sk-estimator-id-1\" type=\"checkbox\" checked><label for=\"sk-estimator-id-1\" class=\"sk-toggleable__label sk-toggleable__label-arrow\">LinearRegression</label><div class=\"sk-toggleable__content\"><pre>LinearRegression()</pre></div></div></div></div></div>"
            ]
          },
          "metadata": {},
          "execution_count": 86
        }
      ]
    },
    {
      "cell_type": "code",
      "source": [
        "#Predict from the test features of raw data\n",
        "y_pred = regressor.predict(X_test) "
      ],
      "metadata": {
        "id": "k6GI0vyWdPLj"
      },
      "execution_count": 87,
      "outputs": []
    },
    {
      "cell_type": "code",
      "source": [
        "X_train.shape"
      ],
      "metadata": {
        "colab": {
          "base_uri": "https://localhost:8080/"
        },
        "id": "UaapstPfdZdA",
        "outputId": "dedff8bc-6c4c-46e2-b51c-37d248277d77"
      },
      "execution_count": 89,
      "outputs": [
        {
          "output_type": "execute_result",
          "data": {
            "text/plain": [
              "(1163048, 46)"
            ]
          },
          "metadata": {},
          "execution_count": 89
        }
      ]
    },
    {
      "cell_type": "code",
      "source": [
        "import xgboost as xgb"
      ],
      "metadata": {
        "id": "_SF3NiJSjQID"
      },
      "execution_count": 91,
      "outputs": []
    },
    {
      "cell_type": "code",
      "source": [
        "regressor = xgb.XGBRegressor()"
      ],
      "metadata": {
        "id": "m1PuH2BoixoN"
      },
      "execution_count": 92,
      "outputs": []
    },
    {
      "cell_type": "code",
      "source": [
        "regressor.fit(X_train, y_train)"
      ],
      "metadata": {
        "colab": {
          "base_uri": "https://localhost:8080/",
          "height": 248
        },
        "id": "T1k4HgR9jYO5",
        "outputId": "ec9bc544-570b-4c25-f756-d3c12fdc0d11"
      },
      "execution_count": 97,
      "outputs": [
        {
          "output_type": "execute_result",
          "data": {
            "text/plain": [
              "XGBRegressor(base_score=None, booster=None, callbacks=None,\n",
              "             colsample_bylevel=None, colsample_bynode=None,\n",
              "             colsample_bytree=None, early_stopping_rounds=None,\n",
              "             enable_categorical=False, eval_metric=None, feature_types=None,\n",
              "             gamma=None, gpu_id=None, grow_policy=None, importance_type=None,\n",
              "             interaction_constraints=None, learning_rate=0.1, max_bin=None,\n",
              "             max_cat_threshold=None, max_cat_to_onehot=None,\n",
              "             max_delta_step=None, max_depth=3, max_leaves=None,\n",
              "             min_child_weight=1, missing=nan, monotone_constraints=None,\n",
              "             n_estimators=100, n_jobs=None, num_parallel_tree=None,\n",
              "             predictor=None, random_state=None, ...)"
            ],
            "text/html": [
              "<style>#sk-container-id-3 {color: black;background-color: white;}#sk-container-id-3 pre{padding: 0;}#sk-container-id-3 div.sk-toggleable {background-color: white;}#sk-container-id-3 label.sk-toggleable__label {cursor: pointer;display: block;width: 100%;margin-bottom: 0;padding: 0.3em;box-sizing: border-box;text-align: center;}#sk-container-id-3 label.sk-toggleable__label-arrow:before {content: \"▸\";float: left;margin-right: 0.25em;color: #696969;}#sk-container-id-3 label.sk-toggleable__label-arrow:hover:before {color: black;}#sk-container-id-3 div.sk-estimator:hover label.sk-toggleable__label-arrow:before {color: black;}#sk-container-id-3 div.sk-toggleable__content {max-height: 0;max-width: 0;overflow: hidden;text-align: left;background-color: #f0f8ff;}#sk-container-id-3 div.sk-toggleable__content pre {margin: 0.2em;color: black;border-radius: 0.25em;background-color: #f0f8ff;}#sk-container-id-3 input.sk-toggleable__control:checked~div.sk-toggleable__content {max-height: 200px;max-width: 100%;overflow: auto;}#sk-container-id-3 input.sk-toggleable__control:checked~label.sk-toggleable__label-arrow:before {content: \"▾\";}#sk-container-id-3 div.sk-estimator input.sk-toggleable__control:checked~label.sk-toggleable__label {background-color: #d4ebff;}#sk-container-id-3 div.sk-label input.sk-toggleable__control:checked~label.sk-toggleable__label {background-color: #d4ebff;}#sk-container-id-3 input.sk-hidden--visually {border: 0;clip: rect(1px 1px 1px 1px);clip: rect(1px, 1px, 1px, 1px);height: 1px;margin: -1px;overflow: hidden;padding: 0;position: absolute;width: 1px;}#sk-container-id-3 div.sk-estimator {font-family: monospace;background-color: #f0f8ff;border: 1px dotted black;border-radius: 0.25em;box-sizing: border-box;margin-bottom: 0.5em;}#sk-container-id-3 div.sk-estimator:hover {background-color: #d4ebff;}#sk-container-id-3 div.sk-parallel-item::after {content: \"\";width: 100%;border-bottom: 1px solid gray;flex-grow: 1;}#sk-container-id-3 div.sk-label:hover label.sk-toggleable__label {background-color: #d4ebff;}#sk-container-id-3 div.sk-serial::before {content: \"\";position: absolute;border-left: 1px solid gray;box-sizing: border-box;top: 0;bottom: 0;left: 50%;z-index: 0;}#sk-container-id-3 div.sk-serial {display: flex;flex-direction: column;align-items: center;background-color: white;padding-right: 0.2em;padding-left: 0.2em;position: relative;}#sk-container-id-3 div.sk-item {position: relative;z-index: 1;}#sk-container-id-3 div.sk-parallel {display: flex;align-items: stretch;justify-content: center;background-color: white;position: relative;}#sk-container-id-3 div.sk-item::before, #sk-container-id-3 div.sk-parallel-item::before {content: \"\";position: absolute;border-left: 1px solid gray;box-sizing: border-box;top: 0;bottom: 0;left: 50%;z-index: -1;}#sk-container-id-3 div.sk-parallel-item {display: flex;flex-direction: column;z-index: 1;position: relative;background-color: white;}#sk-container-id-3 div.sk-parallel-item:first-child::after {align-self: flex-end;width: 50%;}#sk-container-id-3 div.sk-parallel-item:last-child::after {align-self: flex-start;width: 50%;}#sk-container-id-3 div.sk-parallel-item:only-child::after {width: 0;}#sk-container-id-3 div.sk-dashed-wrapped {border: 1px dashed gray;margin: 0 0.4em 0.5em 0.4em;box-sizing: border-box;padding-bottom: 0.4em;background-color: white;}#sk-container-id-3 div.sk-label label {font-family: monospace;font-weight: bold;display: inline-block;line-height: 1.2em;}#sk-container-id-3 div.sk-label-container {text-align: center;}#sk-container-id-3 div.sk-container {/* jupyter's `normalize.less` sets `[hidden] { display: none; }` but bootstrap.min.css set `[hidden] { display: none !important; }` so we also need the `!important` here to be able to override the default hidden behavior on the sphinx rendered scikit-learn.org. See: https://github.com/scikit-learn/scikit-learn/issues/21755 */display: inline-block !important;position: relative;}#sk-container-id-3 div.sk-text-repr-fallback {display: none;}</style><div id=\"sk-container-id-3\" class=\"sk-top-container\"><div class=\"sk-text-repr-fallback\"><pre>XGBRegressor(base_score=None, booster=None, callbacks=None,\n",
              "             colsample_bylevel=None, colsample_bynode=None,\n",
              "             colsample_bytree=None, early_stopping_rounds=None,\n",
              "             enable_categorical=False, eval_metric=None, feature_types=None,\n",
              "             gamma=None, gpu_id=None, grow_policy=None, importance_type=None,\n",
              "             interaction_constraints=None, learning_rate=0.1, max_bin=None,\n",
              "             max_cat_threshold=None, max_cat_to_onehot=None,\n",
              "             max_delta_step=None, max_depth=3, max_leaves=None,\n",
              "             min_child_weight=1, missing=nan, monotone_constraints=None,\n",
              "             n_estimators=100, n_jobs=None, num_parallel_tree=None,\n",
              "             predictor=None, random_state=None, ...)</pre><b>In a Jupyter environment, please rerun this cell to show the HTML representation or trust the notebook. <br />On GitHub, the HTML representation is unable to render, please try loading this page with nbviewer.org.</b></div><div class=\"sk-container\" hidden><div class=\"sk-item\"><div class=\"sk-estimator sk-toggleable\"><input class=\"sk-toggleable__control sk-hidden--visually\" id=\"sk-estimator-id-3\" type=\"checkbox\" checked><label for=\"sk-estimator-id-3\" class=\"sk-toggleable__label sk-toggleable__label-arrow\">XGBRegressor</label><div class=\"sk-toggleable__content\"><pre>XGBRegressor(base_score=None, booster=None, callbacks=None,\n",
              "             colsample_bylevel=None, colsample_bynode=None,\n",
              "             colsample_bytree=None, early_stopping_rounds=None,\n",
              "             enable_categorical=False, eval_metric=None, feature_types=None,\n",
              "             gamma=None, gpu_id=None, grow_policy=None, importance_type=None,\n",
              "             interaction_constraints=None, learning_rate=0.1, max_bin=None,\n",
              "             max_cat_threshold=None, max_cat_to_onehot=None,\n",
              "             max_delta_step=None, max_depth=3, max_leaves=None,\n",
              "             min_child_weight=1, missing=nan, monotone_constraints=None,\n",
              "             n_estimators=100, n_jobs=None, num_parallel_tree=None,\n",
              "             predictor=None, random_state=None, ...)</pre></div></div></div></div></div>"
            ]
          },
          "metadata": {},
          "execution_count": 97
        }
      ]
    },
    {
      "cell_type": "code",
      "source": [
        "from sklearn.metrics import mean_squared_error, r2_score\n",
        "mse = mean_squared_error(y_test, y_pred)\n",
        "print('Mean squared error:', mse)\n",
        "r2 = r2_score(y_test, y_pred)\n",
        "print('R2 score:', r2)"
      ],
      "metadata": {
        "colab": {
          "base_uri": "https://localhost:8080/"
        },
        "id": "fD9bYsCqjuJN",
        "outputId": "d982c4a4-347f-42b1-ef87-7b9b689e7970"
      },
      "execution_count": 99,
      "outputs": [
        {
          "output_type": "stream",
          "name": "stdout",
          "text": [
            "Mean squared error: 7502228.748883888\n",
            "R2 score: 0.06937727237316771\n"
          ]
        }
      ]
    },
    {
      "cell_type": "code",
      "source": [
        "regressor = xgb.XGBRegressor(n_estimators=100, learning_rate=0.1, max_depth=3, min_child_weight=1)"
      ],
      "metadata": {
        "id": "eKsJsQRMjxuQ"
      },
      "execution_count": 100,
      "outputs": []
    },
    {
      "cell_type": "code",
      "source": [
        "regressor = RandomForestRegressor(n_estimators=100, random_state=0)"
      ],
      "metadata": {
        "id": "izp32AMOoqN3"
      },
      "execution_count": 101,
      "outputs": []
    },
    {
      "cell_type": "code",
      "source": [
        "regressor.fit(X_train, y_train)"
      ],
      "metadata": {
        "colab": {
          "base_uri": "https://localhost:8080/",
          "height": 75
        },
        "id": "uZfD3TPls8YX",
        "outputId": "d7526556-9e25-484d-db1f-cd4a2df544e0"
      },
      "execution_count": 102,
      "outputs": [
        {
          "output_type": "execute_result",
          "data": {
            "text/plain": [
              "RandomForestRegressor(random_state=0)"
            ],
            "text/html": [
              "<style>#sk-container-id-4 {color: black;background-color: white;}#sk-container-id-4 pre{padding: 0;}#sk-container-id-4 div.sk-toggleable {background-color: white;}#sk-container-id-4 label.sk-toggleable__label {cursor: pointer;display: block;width: 100%;margin-bottom: 0;padding: 0.3em;box-sizing: border-box;text-align: center;}#sk-container-id-4 label.sk-toggleable__label-arrow:before {content: \"▸\";float: left;margin-right: 0.25em;color: #696969;}#sk-container-id-4 label.sk-toggleable__label-arrow:hover:before {color: black;}#sk-container-id-4 div.sk-estimator:hover label.sk-toggleable__label-arrow:before {color: black;}#sk-container-id-4 div.sk-toggleable__content {max-height: 0;max-width: 0;overflow: hidden;text-align: left;background-color: #f0f8ff;}#sk-container-id-4 div.sk-toggleable__content pre {margin: 0.2em;color: black;border-radius: 0.25em;background-color: #f0f8ff;}#sk-container-id-4 input.sk-toggleable__control:checked~div.sk-toggleable__content {max-height: 200px;max-width: 100%;overflow: auto;}#sk-container-id-4 input.sk-toggleable__control:checked~label.sk-toggleable__label-arrow:before {content: \"▾\";}#sk-container-id-4 div.sk-estimator input.sk-toggleable__control:checked~label.sk-toggleable__label {background-color: #d4ebff;}#sk-container-id-4 div.sk-label input.sk-toggleable__control:checked~label.sk-toggleable__label {background-color: #d4ebff;}#sk-container-id-4 input.sk-hidden--visually {border: 0;clip: rect(1px 1px 1px 1px);clip: rect(1px, 1px, 1px, 1px);height: 1px;margin: -1px;overflow: hidden;padding: 0;position: absolute;width: 1px;}#sk-container-id-4 div.sk-estimator {font-family: monospace;background-color: #f0f8ff;border: 1px dotted black;border-radius: 0.25em;box-sizing: border-box;margin-bottom: 0.5em;}#sk-container-id-4 div.sk-estimator:hover {background-color: #d4ebff;}#sk-container-id-4 div.sk-parallel-item::after {content: \"\";width: 100%;border-bottom: 1px solid gray;flex-grow: 1;}#sk-container-id-4 div.sk-label:hover label.sk-toggleable__label {background-color: #d4ebff;}#sk-container-id-4 div.sk-serial::before {content: \"\";position: absolute;border-left: 1px solid gray;box-sizing: border-box;top: 0;bottom: 0;left: 50%;z-index: 0;}#sk-container-id-4 div.sk-serial {display: flex;flex-direction: column;align-items: center;background-color: white;padding-right: 0.2em;padding-left: 0.2em;position: relative;}#sk-container-id-4 div.sk-item {position: relative;z-index: 1;}#sk-container-id-4 div.sk-parallel {display: flex;align-items: stretch;justify-content: center;background-color: white;position: relative;}#sk-container-id-4 div.sk-item::before, #sk-container-id-4 div.sk-parallel-item::before {content: \"\";position: absolute;border-left: 1px solid gray;box-sizing: border-box;top: 0;bottom: 0;left: 50%;z-index: -1;}#sk-container-id-4 div.sk-parallel-item {display: flex;flex-direction: column;z-index: 1;position: relative;background-color: white;}#sk-container-id-4 div.sk-parallel-item:first-child::after {align-self: flex-end;width: 50%;}#sk-container-id-4 div.sk-parallel-item:last-child::after {align-self: flex-start;width: 50%;}#sk-container-id-4 div.sk-parallel-item:only-child::after {width: 0;}#sk-container-id-4 div.sk-dashed-wrapped {border: 1px dashed gray;margin: 0 0.4em 0.5em 0.4em;box-sizing: border-box;padding-bottom: 0.4em;background-color: white;}#sk-container-id-4 div.sk-label label {font-family: monospace;font-weight: bold;display: inline-block;line-height: 1.2em;}#sk-container-id-4 div.sk-label-container {text-align: center;}#sk-container-id-4 div.sk-container {/* jupyter's `normalize.less` sets `[hidden] { display: none; }` but bootstrap.min.css set `[hidden] { display: none !important; }` so we also need the `!important` here to be able to override the default hidden behavior on the sphinx rendered scikit-learn.org. See: https://github.com/scikit-learn/scikit-learn/issues/21755 */display: inline-block !important;position: relative;}#sk-container-id-4 div.sk-text-repr-fallback {display: none;}</style><div id=\"sk-container-id-4\" class=\"sk-top-container\"><div class=\"sk-text-repr-fallback\"><pre>RandomForestRegressor(random_state=0)</pre><b>In a Jupyter environment, please rerun this cell to show the HTML representation or trust the notebook. <br />On GitHub, the HTML representation is unable to render, please try loading this page with nbviewer.org.</b></div><div class=\"sk-container\" hidden><div class=\"sk-item\"><div class=\"sk-estimator sk-toggleable\"><input class=\"sk-toggleable__control sk-hidden--visually\" id=\"sk-estimator-id-4\" type=\"checkbox\" checked><label for=\"sk-estimator-id-4\" class=\"sk-toggleable__label sk-toggleable__label-arrow\">RandomForestRegressor</label><div class=\"sk-toggleable__content\"><pre>RandomForestRegressor(random_state=0)</pre></div></div></div></div></div>"
            ]
          },
          "metadata": {},
          "execution_count": 102
        }
      ]
    },
    {
      "cell_type": "code",
      "source": [
        "y_pred = regressor.predict(X_test)"
      ],
      "metadata": {
        "id": "By4ib-0ns_HG"
      },
      "execution_count": 103,
      "outputs": []
    },
    {
      "cell_type": "code",
      "source": [
        "mse = mean_squared_error(y_test, y_pred)\n",
        "print('Mean squared error:', mse)\n",
        "r2 = r2_score(y_test, y_pred)\n",
        "print('R2 score:', r2) "
      ],
      "metadata": {
        "colab": {
          "base_uri": "https://localhost:8080/"
        },
        "id": "99RaY4jRtC5n",
        "outputId": "8b3d8e6d-2db6-4970-f03d-d36fa22ceb76"
      },
      "execution_count": 104,
      "outputs": [
        {
          "output_type": "stream",
          "name": "stdout",
          "text": [
            "Mean squared error: 13070.599055561963\n",
            "R2 score: 0.9983786422739225\n"
          ]
        }
      ]
    },
    {
      "cell_type": "code",
      "source": [
        "from sklearn.metrics import mean_squared_error"
      ],
      "metadata": {
        "id": "6u9A-VEP6MeE"
      },
      "execution_count": 109,
      "outputs": []
    },
    {
      "cell_type": "code",
      "source": [
        "mse = mean_squared_error(y_test, y_pred)\n",
        "rmse = np.sqrt(mse)\n",
        "print(rmse)"
      ],
      "metadata": {
        "colab": {
          "base_uri": "https://localhost:8080/"
        },
        "id": "N3Zp_oka6SRh",
        "outputId": "ce9aa91e-0390-435a-999f-f3ae1dcbe537"
      },
      "execution_count": 108,
      "outputs": [
        {
          "output_type": "stream",
          "name": "stdout",
          "text": [
            "114.32672065428083\n"
          ]
        }
      ]
    }
  ]
}