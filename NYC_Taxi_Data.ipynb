{
  "nbformat": 4,
  "nbformat_minor": 0,
  "metadata": {
    "colab": {
      "provenance": [],
      "authorship_tag": "ABX9TyO92tgtLvrxP6bfB4apgeMU",
      "include_colab_link": true
    },
    "kernelspec": {
      "name": "python3",
      "display_name": "Python 3"
    },
    "language_info": {
      "name": "python"
    }
  },
  "cells": [
    {
      "cell_type": "markdown",
      "metadata": {
        "id": "view-in-github",
        "colab_type": "text"
      },
      "source": [
        "<a href=\"https://colab.research.google.com/github/harshithgowdakc/NYC-Taxi-Data/blob/main/NYC_Taxi_Data.ipynb\" target=\"_parent\"><img src=\"https://colab.research.google.com/assets/colab-badge.svg\" alt=\"Open In Colab\"/></a>"
      ]
    },
    {
      "cell_type": "code",
      "source": [
        "!pip install haversine"
      ],
      "metadata": {
        "colab": {
          "base_uri": "https://localhost:8080/"
        },
        "id": "wzbjH4ae8HT5",
        "outputId": "951cf9a3-85d7-45bc-ea82-257d5872dccb"
      },
      "execution_count": 1,
      "outputs": [
        {
          "output_type": "stream",
          "name": "stdout",
          "text": [
            "Looking in indexes: https://pypi.org/simple, https://us-python.pkg.dev/colab-wheels/public/simple/\n",
            "Requirement already satisfied: haversine in /usr/local/lib/python3.9/dist-packages (2.8.0)\n"
          ]
        }
      ]
    },
    {
      "cell_type": "code",
      "execution_count": 2,
      "metadata": {
        "id": "px-zTJsc78Ob"
      },
      "outputs": [],
      "source": [
        "import numpy as np\n",
        "import pandas as pd\n",
        "import seaborn as sns\n",
        "import matplotlib.pyplot as plt\n",
        "import datetime as dt\n",
        "from sklearn.linear_model import LinearRegression\n",
        "from sklearn.ensemble import RandomForestRegressor\n",
        "from xgboost import XGBRegressor\n",
        "from sklearn import metrics\n",
        "from sklearn.model_selection import train_test_split, GridSearchCV\n",
        "from haversine import haversine\n",
        "import statsmodels.formula.api as sm\n",
        "from sklearn.model_selection import learning_curve\n",
        "from sklearn.model_selection import ShuffleSplit\n",
        "import warnings; warnings.simplefilter('ignore')"
      ]
    },
    {
      "cell_type": "code",
      "source": [
        "from google.colab import drive\n",
        "drive.mount('/content/drive')"
      ],
      "metadata": {
        "colab": {
          "base_uri": "https://localhost:8080/"
        },
        "id": "FHAwh5Oz8Rdf",
        "outputId": "25fa078b-c47e-4b14-a5bf-1d9ff4f11a14"
      },
      "execution_count": 3,
      "outputs": [
        {
          "output_type": "stream",
          "name": "stdout",
          "text": [
            "Drive already mounted at /content/drive; to attempt to forcibly remount, call drive.mount(\"/content/drive\", force_remount=True).\n"
          ]
        }
      ]
    },
    {
      "cell_type": "code",
      "source": [
        "data = pd.read_csv('/content/drive/MyDrive/Colab Notebooks/AlmaBetter/Project CPG/NYC Taxi Data.csv')"
      ],
      "metadata": {
        "id": "3TC06Vgn8ZGZ"
      },
      "execution_count": 4,
      "outputs": []
    },
    {
      "cell_type": "code",
      "source": [
        "data.head()"
      ],
      "metadata": {
        "colab": {
          "base_uri": "https://localhost:8080/",
          "height": 206
        },
        "id": "FbRl3Vms8gTq",
        "outputId": "403f6836-ce11-4f77-b557-b95f4d9d7b94"
      },
      "execution_count": 5,
      "outputs": [
        {
          "output_type": "execute_result",
          "data": {
            "text/plain": [
              "          id  vendor_id      pickup_datetime     dropoff_datetime  \\\n",
              "0  id2875421          2  2016-03-14 17:24:55  2016-03-14 17:32:30   \n",
              "1  id2377394          1  2016-06-12 00:43:35  2016-06-12 00:54:38   \n",
              "2  id3858529          2  2016-01-19 11:35:24  2016-01-19 12:10:48   \n",
              "3  id3504673          2  2016-04-06 19:32:31  2016-04-06 19:39:40   \n",
              "4  id2181028          2  2016-03-26 13:30:55  2016-03-26 13:38:10   \n",
              "\n",
              "   passenger_count  pickup_longitude  pickup_latitude  dropoff_longitude  \\\n",
              "0                1        -73.982155        40.767937         -73.964630   \n",
              "1                1        -73.980415        40.738564         -73.999481   \n",
              "2                1        -73.979027        40.763939         -74.005333   \n",
              "3                1        -74.010040        40.719971         -74.012268   \n",
              "4                1        -73.973053        40.793209         -73.972923   \n",
              "\n",
              "   dropoff_latitude store_and_fwd_flag  trip_duration  \n",
              "0         40.765602                  N            455  \n",
              "1         40.731152                  N            663  \n",
              "2         40.710087                  N           2124  \n",
              "3         40.706718                  N            429  \n",
              "4         40.782520                  N            435  "
            ],
            "text/html": [
              "\n",
              "  <div id=\"df-ad6c8cc4-00b4-43a1-ac9f-1373d17a08a6\">\n",
              "    <div class=\"colab-df-container\">\n",
              "      <div>\n",
              "<style scoped>\n",
              "    .dataframe tbody tr th:only-of-type {\n",
              "        vertical-align: middle;\n",
              "    }\n",
              "\n",
              "    .dataframe tbody tr th {\n",
              "        vertical-align: top;\n",
              "    }\n",
              "\n",
              "    .dataframe thead th {\n",
              "        text-align: right;\n",
              "    }\n",
              "</style>\n",
              "<table border=\"1\" class=\"dataframe\">\n",
              "  <thead>\n",
              "    <tr style=\"text-align: right;\">\n",
              "      <th></th>\n",
              "      <th>id</th>\n",
              "      <th>vendor_id</th>\n",
              "      <th>pickup_datetime</th>\n",
              "      <th>dropoff_datetime</th>\n",
              "      <th>passenger_count</th>\n",
              "      <th>pickup_longitude</th>\n",
              "      <th>pickup_latitude</th>\n",
              "      <th>dropoff_longitude</th>\n",
              "      <th>dropoff_latitude</th>\n",
              "      <th>store_and_fwd_flag</th>\n",
              "      <th>trip_duration</th>\n",
              "    </tr>\n",
              "  </thead>\n",
              "  <tbody>\n",
              "    <tr>\n",
              "      <th>0</th>\n",
              "      <td>id2875421</td>\n",
              "      <td>2</td>\n",
              "      <td>2016-03-14 17:24:55</td>\n",
              "      <td>2016-03-14 17:32:30</td>\n",
              "      <td>1</td>\n",
              "      <td>-73.982155</td>\n",
              "      <td>40.767937</td>\n",
              "      <td>-73.964630</td>\n",
              "      <td>40.765602</td>\n",
              "      <td>N</td>\n",
              "      <td>455</td>\n",
              "    </tr>\n",
              "    <tr>\n",
              "      <th>1</th>\n",
              "      <td>id2377394</td>\n",
              "      <td>1</td>\n",
              "      <td>2016-06-12 00:43:35</td>\n",
              "      <td>2016-06-12 00:54:38</td>\n",
              "      <td>1</td>\n",
              "      <td>-73.980415</td>\n",
              "      <td>40.738564</td>\n",
              "      <td>-73.999481</td>\n",
              "      <td>40.731152</td>\n",
              "      <td>N</td>\n",
              "      <td>663</td>\n",
              "    </tr>\n",
              "    <tr>\n",
              "      <th>2</th>\n",
              "      <td>id3858529</td>\n",
              "      <td>2</td>\n",
              "      <td>2016-01-19 11:35:24</td>\n",
              "      <td>2016-01-19 12:10:48</td>\n",
              "      <td>1</td>\n",
              "      <td>-73.979027</td>\n",
              "      <td>40.763939</td>\n",
              "      <td>-74.005333</td>\n",
              "      <td>40.710087</td>\n",
              "      <td>N</td>\n",
              "      <td>2124</td>\n",
              "    </tr>\n",
              "    <tr>\n",
              "      <th>3</th>\n",
              "      <td>id3504673</td>\n",
              "      <td>2</td>\n",
              "      <td>2016-04-06 19:32:31</td>\n",
              "      <td>2016-04-06 19:39:40</td>\n",
              "      <td>1</td>\n",
              "      <td>-74.010040</td>\n",
              "      <td>40.719971</td>\n",
              "      <td>-74.012268</td>\n",
              "      <td>40.706718</td>\n",
              "      <td>N</td>\n",
              "      <td>429</td>\n",
              "    </tr>\n",
              "    <tr>\n",
              "      <th>4</th>\n",
              "      <td>id2181028</td>\n",
              "      <td>2</td>\n",
              "      <td>2016-03-26 13:30:55</td>\n",
              "      <td>2016-03-26 13:38:10</td>\n",
              "      <td>1</td>\n",
              "      <td>-73.973053</td>\n",
              "      <td>40.793209</td>\n",
              "      <td>-73.972923</td>\n",
              "      <td>40.782520</td>\n",
              "      <td>N</td>\n",
              "      <td>435</td>\n",
              "    </tr>\n",
              "  </tbody>\n",
              "</table>\n",
              "</div>\n",
              "      <button class=\"colab-df-convert\" onclick=\"convertToInteractive('df-ad6c8cc4-00b4-43a1-ac9f-1373d17a08a6')\"\n",
              "              title=\"Convert this dataframe to an interactive table.\"\n",
              "              style=\"display:none;\">\n",
              "        \n",
              "  <svg xmlns=\"http://www.w3.org/2000/svg\" height=\"24px\"viewBox=\"0 0 24 24\"\n",
              "       width=\"24px\">\n",
              "    <path d=\"M0 0h24v24H0V0z\" fill=\"none\"/>\n",
              "    <path d=\"M18.56 5.44l.94 2.06.94-2.06 2.06-.94-2.06-.94-.94-2.06-.94 2.06-2.06.94zm-11 1L8.5 8.5l.94-2.06 2.06-.94-2.06-.94L8.5 2.5l-.94 2.06-2.06.94zm10 10l.94 2.06.94-2.06 2.06-.94-2.06-.94-.94-2.06-.94 2.06-2.06.94z\"/><path d=\"M17.41 7.96l-1.37-1.37c-.4-.4-.92-.59-1.43-.59-.52 0-1.04.2-1.43.59L10.3 9.45l-7.72 7.72c-.78.78-.78 2.05 0 2.83L4 21.41c.39.39.9.59 1.41.59.51 0 1.02-.2 1.41-.59l7.78-7.78 2.81-2.81c.8-.78.8-2.07 0-2.86zM5.41 20L4 18.59l7.72-7.72 1.47 1.35L5.41 20z\"/>\n",
              "  </svg>\n",
              "      </button>\n",
              "      \n",
              "  <style>\n",
              "    .colab-df-container {\n",
              "      display:flex;\n",
              "      flex-wrap:wrap;\n",
              "      gap: 12px;\n",
              "    }\n",
              "\n",
              "    .colab-df-convert {\n",
              "      background-color: #E8F0FE;\n",
              "      border: none;\n",
              "      border-radius: 50%;\n",
              "      cursor: pointer;\n",
              "      display: none;\n",
              "      fill: #1967D2;\n",
              "      height: 32px;\n",
              "      padding: 0 0 0 0;\n",
              "      width: 32px;\n",
              "    }\n",
              "\n",
              "    .colab-df-convert:hover {\n",
              "      background-color: #E2EBFA;\n",
              "      box-shadow: 0px 1px 2px rgba(60, 64, 67, 0.3), 0px 1px 3px 1px rgba(60, 64, 67, 0.15);\n",
              "      fill: #174EA6;\n",
              "    }\n",
              "\n",
              "    [theme=dark] .colab-df-convert {\n",
              "      background-color: #3B4455;\n",
              "      fill: #D2E3FC;\n",
              "    }\n",
              "\n",
              "    [theme=dark] .colab-df-convert:hover {\n",
              "      background-color: #434B5C;\n",
              "      box-shadow: 0px 1px 3px 1px rgba(0, 0, 0, 0.15);\n",
              "      filter: drop-shadow(0px 1px 2px rgba(0, 0, 0, 0.3));\n",
              "      fill: #FFFFFF;\n",
              "    }\n",
              "  </style>\n",
              "\n",
              "      <script>\n",
              "        const buttonEl =\n",
              "          document.querySelector('#df-ad6c8cc4-00b4-43a1-ac9f-1373d17a08a6 button.colab-df-convert');\n",
              "        buttonEl.style.display =\n",
              "          google.colab.kernel.accessAllowed ? 'block' : 'none';\n",
              "\n",
              "        async function convertToInteractive(key) {\n",
              "          const element = document.querySelector('#df-ad6c8cc4-00b4-43a1-ac9f-1373d17a08a6');\n",
              "          const dataTable =\n",
              "            await google.colab.kernel.invokeFunction('convertToInteractive',\n",
              "                                                     [key], {});\n",
              "          if (!dataTable) return;\n",
              "\n",
              "          const docLinkHtml = 'Like what you see? Visit the ' +\n",
              "            '<a target=\"_blank\" href=https://colab.research.google.com/notebooks/data_table.ipynb>data table notebook</a>'\n",
              "            + ' to learn more about interactive tables.';\n",
              "          element.innerHTML = '';\n",
              "          dataTable['output_type'] = 'display_data';\n",
              "          await google.colab.output.renderOutput(dataTable, element);\n",
              "          const docLink = document.createElement('div');\n",
              "          docLink.innerHTML = docLinkHtml;\n",
              "          element.appendChild(docLink);\n",
              "        }\n",
              "      </script>\n",
              "    </div>\n",
              "  </div>\n",
              "  "
            ]
          },
          "metadata": {},
          "execution_count": 5
        }
      ]
    },
    {
      "cell_type": "code",
      "source": [
        "data.shape "
      ],
      "metadata": {
        "colab": {
          "base_uri": "https://localhost:8080/"
        },
        "id": "AYyXoyVx8koJ",
        "outputId": "b8e4ce4e-b43f-46ff-a94b-743ed5c8a01c"
      },
      "execution_count": 6,
      "outputs": [
        {
          "output_type": "execute_result",
          "data": {
            "text/plain": [
              "(1458644, 11)"
            ]
          },
          "metadata": {},
          "execution_count": 6
        }
      ]
    },
    {
      "cell_type": "code",
      "source": [
        "#Check count of unique id's in the dataset\n",
        "print(\"There are %d unique id's in Training dataset, which is equal to the number of records\"%(data.id.nunique()))"
      ],
      "metadata": {
        "colab": {
          "base_uri": "https://localhost:8080/"
        },
        "id": "qQY3bF3w8oB3",
        "outputId": "0ccff751-e6d1-4e21-8a97-31a17762da65"
      },
      "execution_count": 7,
      "outputs": [
        {
          "output_type": "stream",
          "name": "stdout",
          "text": [
            "There are 1458644 unique id's in Training dataset, which is equal to the number of records\n"
          ]
        }
      ]
    },
    {
      "cell_type": "code",
      "source": [
        "#Check for NaN values\n",
        "data.isnull().sum()"
      ],
      "metadata": {
        "colab": {
          "base_uri": "https://localhost:8080/"
        },
        "id": "UMLvvL9P8tXd",
        "outputId": "0164f7d0-4fbb-47bc-e03a-cdedb0330b50"
      },
      "execution_count": 8,
      "outputs": [
        {
          "output_type": "execute_result",
          "data": {
            "text/plain": [
              "id                    0\n",
              "vendor_id             0\n",
              "pickup_datetime       0\n",
              "dropoff_datetime      0\n",
              "passenger_count       0\n",
              "pickup_longitude      0\n",
              "pickup_latitude       0\n",
              "dropoff_longitude     0\n",
              "dropoff_latitude      0\n",
              "store_and_fwd_flag    0\n",
              "trip_duration         0\n",
              "dtype: int64"
            ]
          },
          "metadata": {},
          "execution_count": 8
        }
      ]
    },
    {
      "cell_type": "code",
      "source": [
        "#Convert timestamp to datetime format to fetch the other details as listed below\n",
        "data['pickup_datetime'] = pd.to_datetime(data['pickup_datetime'])\n",
        "data['dropoff_datetime'] = pd.to_datetime(data['dropoff_datetime'])"
      ],
      "metadata": {
        "id": "UVbwLlQ88xNY"
      },
      "execution_count": 9,
      "outputs": []
    },
    {
      "cell_type": "code",
      "source": [
        "#Calculate and assign new columns to the dataframe such as weekday,\n",
        "#month and pickup_hour which will help us to gain more insights from the data.\n",
        "data['weekday'] = data.pickup_datetime.dt.weekday\n",
        "data['month'] = data.pickup_datetime.dt.month\n",
        "data['weekday_num'] = data.pickup_datetime.dt.weekday\n",
        "data['pickup_hour'] = data.pickup_datetime.dt.hour"
      ],
      "metadata": {
        "id": "dFUkpc2l80tg"
      },
      "execution_count": 10,
      "outputs": []
    },
    {
      "cell_type": "code",
      "source": [
        "def calc_distance(df):\n",
        "    pickup = (df['pickup_latitude'], df['pickup_longitude'])\n",
        "    drop = (df['dropoff_latitude'], df['dropoff_longitude'])\n",
        "    return haversine(pickup, drop)"
      ],
      "metadata": {
        "id": "kszSfqsh8_Aw"
      },
      "execution_count": 11,
      "outputs": []
    },
    {
      "cell_type": "code",
      "source": [
        "#Calculate distance and assign new column to the dataframe.\n",
        "data['distance'] = data.apply(lambda x: calc_distance(x), axis = 1)"
      ],
      "metadata": {
        "id": "xFNtdweZ9BtO"
      },
      "execution_count": null,
      "outputs": []
    },
    {
      "cell_type": "code",
      "source": [
        "#Calculate Speed in km/h for further insights\n",
        "data['speed'] = (data.distance/(data.trip_duration/3600))"
      ],
      "metadata": {
        "id": "LIOh_dce9EtI"
      },
      "execution_count": null,
      "outputs": []
    },
    {
      "cell_type": "code",
      "source": [
        "#Check the type of each variable\n",
        "data.dtypes.reset_index()"
      ],
      "metadata": {
        "id": "hIVZH_vf9HUR"
      },
      "execution_count": null,
      "outputs": []
    },
    {
      "cell_type": "code",
      "source": [
        "#Dummify all the categorical features like \"store_and_fwd_flag, vendor_id, month, weekday_num, pickup_hour, passenger_count\" except the label i.e. \"trip_duration\"\n",
        "\n",
        "dummy = pd.get_dummies(data.store_and_fwd_flag, prefix='flag')\n",
        "dummy.drop(dummy.columns[0], axis=1, inplace=True) #avoid dummy trap\n",
        "data = pd.concat([data,dummy], axis = 1)\n",
        "\n",
        "dummy = pd.get_dummies(data.vendor_id, prefix='vendor_id')\n",
        "dummy.drop(dummy.columns[0], axis=1, inplace=True) #avoid dummy trap\n",
        "data = pd.concat([data,dummy], axis = 1)\n",
        "\n",
        "dummy = pd.get_dummies(data.month, prefix='month')\n",
        "dummy.drop(dummy.columns[0], axis=1, inplace=True) #avoid dummy trap\n",
        "data = pd.concat([data,dummy], axis = 1)\n",
        "\n",
        "dummy = pd.get_dummies(data.weekday_num, prefix='weekday_num')\n",
        "dummy.drop(dummy.columns[0], axis=1, inplace=True) #avoid dummy trap\n",
        "data = pd.concat([data,dummy], axis = 1)\n",
        "\n",
        "dummy = pd.get_dummies(data.pickup_hour, prefix='pickup_hour')\n",
        "dummy.drop(dummy.columns[0], axis=1, inplace=True) #avoid dummy trap\n",
        "data = pd.concat([data,dummy], axis = 1)\n",
        "\n",
        "dummy = pd.get_dummies(data.passenger_count, prefix='passenger_count')\n",
        "dummy.drop(dummy.columns[0], axis=1, inplace=True) #avoid dummy trap\n",
        "data = pd.concat([data,dummy], axis = 1)"
      ],
      "metadata": {
        "id": "zmz8j9Im9PZ1"
      },
      "execution_count": null,
      "outputs": []
    },
    {
      "cell_type": "code",
      "source": [
        "data.head()"
      ],
      "metadata": {
        "id": "vdFTozpN9YO6"
      },
      "execution_count": null,
      "outputs": []
    },
    {
      "cell_type": "code",
      "source": [
        "pd.options.display.float_format = '{:.2f}'.format #To suppres scientific notation.\n",
        "data.passenger_count.value_counts()"
      ],
      "metadata": {
        "id": "jsszsDhx9c5v"
      },
      "execution_count": null,
      "outputs": []
    },
    {
      "cell_type": "code",
      "source": [
        "plt.figure(figsize = (20,5))\n",
        "sns.boxplot(data.passenger_count)\n",
        "plt.show()"
      ],
      "metadata": {
        "id": "iuR70E_M9f59"
      },
      "execution_count": null,
      "outputs": []
    },
    {
      "cell_type": "code",
      "source": [
        "data.passenger_count.describe()"
      ],
      "metadata": {
        "id": "O9yzP-qw9j32"
      },
      "execution_count": null,
      "outputs": []
    },
    {
      "cell_type": "code",
      "source": [
        "data['passenger_count'] = data.passenger_count.map(lambda x: 1 if x == 0 else x)"
      ],
      "metadata": {
        "id": "WqQxGB4eHhuP"
      },
      "execution_count": null,
      "outputs": []
    },
    {
      "cell_type": "code",
      "source": [
        "data = data[data.passenger_count <= 6]"
      ],
      "metadata": {
        "id": "RwN639WGHjti"
      },
      "execution_count": null,
      "outputs": []
    },
    {
      "cell_type": "code",
      "source": [
        "data.passenger_count.value_counts()\n"
      ],
      "metadata": {
        "id": "4A5GAr_cHltq"
      },
      "execution_count": null,
      "outputs": []
    },
    {
      "cell_type": "code",
      "source": [
        "sns.countplot(data.passenger_count)\n",
        "plt.show()"
      ],
      "metadata": {
        "id": "KkCyU5WUHoR9"
      },
      "execution_count": null,
      "outputs": []
    },
    {
      "cell_type": "markdown",
      "source": [
        "### Vendor"
      ],
      "metadata": {
        "id": "XdZn5J1QHqdl"
      }
    },
    {
      "cell_type": "markdown",
      "source": [
        "Here we analyze taxi data only for the 2 vendors which are listed as 1 and 2 in the datset."
      ],
      "metadata": {
        "id": "DFv2TfVfHtoi"
      }
    },
    {
      "cell_type": "code",
      "source": [
        "sns.countplot(data.vendor_id)\n",
        "plt.show()"
      ],
      "metadata": {
        "id": "E3d70MU-HwIn"
      },
      "execution_count": null,
      "outputs": []
    },
    {
      "cell_type": "markdown",
      "source": [
        "Though both the vendors seems to have almost equal market share. But Vendor 2 is evidently more famous among the population as per the above graph."
      ],
      "metadata": {
        "id": "zenBN0PQHx_F"
      }
    },
    {
      "cell_type": "markdown",
      "source": [
        "### Distance"
      ],
      "metadata": {
        "id": "RUkx2nHIH0c7"
      }
    },
    {
      "cell_type": "markdown",
      "source": [
        "Let's now have a look on the distribution of the distance across the different types of rides.\n"
      ],
      "metadata": {
        "id": "hLOnTrefH333"
      }
    },
    {
      "cell_type": "code",
      "source": [
        "print(data.distance.describe())"
      ],
      "metadata": {
        "id": "9TuvbiVkHyyJ"
      },
      "execution_count": null,
      "outputs": []
    },
    {
      "cell_type": "code",
      "source": [
        "plt.figure(figsize = (20,5))\n",
        "sns.boxplot(data.distance)\n",
        "plt.show()"
      ],
      "metadata": {
        "id": "oSx82OntH71j"
      },
      "execution_count": null,
      "outputs": []
    },
    {
      "cell_type": "markdown",
      "source": [
        "**Interesting find:**\n",
        "There some trips with over 100 km distance.\n",
        "\n",
        "Some of the trips distance value is 0 km.\n",
        "\n",
        "**Observations:**\n",
        "\n",
        "mean distance travelled is approx 3.5 kms.\n",
        "\n",
        "standard deviation of 4.3 which shows that most of the trips are limited to the range of 1-10 kms."
      ],
      "metadata": {
        "id": "0P2zlmEnH9d_"
      }
    },
    {
      "cell_type": "code",
      "source": [
        "print(\"There are {} trip records with 0 km distance\".format(data.distance[data.distance == 0 ].count()))"
      ],
      "metadata": {
        "id": "pK4qUzdgIHik"
      },
      "execution_count": null,
      "outputs": []
    },
    {
      "cell_type": "code",
      "source": [
        "data[data.distance == 0 ].head()"
      ],
      "metadata": {
        "id": "hQoWqsVLIKKZ"
      },
      "execution_count": null,
      "outputs": []
    },
    {
      "cell_type": "markdown",
      "source": [
        "**Observations**\n",
        "\n",
        "Around 6K trip record with distance equal to 0. Below are some possible explanation for such records.\n",
        "\n",
        "\n",
        "\n",
        "1.   Customer changed mind and cancelled the journey just after accepting it.\n",
        "2.   Software didn't recorded dropoff location properly due to which dropoff location is the same as the pickup location.\n",
        "3.   Issue with GPS tracker while the journey is being finished.\n",
        "4.   Driver cancelled the trip just after accepting it due to some reason. So the trip couldn't start\n",
        "5.   Or some other issue with the software itself which a technical guy can explain\n",
        "\n",
        "There is some serious inconsistencies in the data where drop off location is same as the pickup location. We can't think off imputing the distance values considering a correlation with the duration because the dropoff_location coordinates would not be inline with the distance otherwise. We will look more to it in bivariate analysis with the Trip duration."
      ],
      "metadata": {
        "id": "HpIgsoAYIP1p"
      }
    },
    {
      "cell_type": "code",
      "source": [
        "data.distance.groupby(pd.cut(data.distance, np.arange(0,100,10))).count().plot(kind='barh')\n",
        "plt.show()"
      ],
      "metadata": {
        "id": "3h-F4gJWIM8-"
      },
      "execution_count": null,
      "outputs": []
    },
    {
      "cell_type": "markdown",
      "source": [
        "From the above observation it is evident that most of the rides are completed between 1-10 Kms with some of the rides with distances between 10-30 kms. Other slabs bar are not visible because the number of trips are very less as compared to these slabs"
      ],
      "metadata": {
        "id": "C_O1QhwUI35Y"
      }
    },
    {
      "cell_type": "markdown",
      "source": [
        "### Trip duration"
      ],
      "metadata": {
        "id": "8sqA8VG6I6gn"
      }
    },
    {
      "cell_type": "code",
      "source": [
        "data.trip_duration.describe()"
      ],
      "metadata": {
        "id": "g007ZZqkI4fI"
      },
      "execution_count": null,
      "outputs": []
    },
    {
      "cell_type": "code",
      "source": [
        "plt.figure(figsize = (20,5))\n",
        "sns.boxplot(data.trip_duration)\n",
        "plt.show()"
      ],
      "metadata": {
        "id": "xpd5QzUUI_8q"
      },
      "execution_count": null,
      "outputs": []
    },
    {
      "cell_type": "markdown",
      "source": [
        "Interesting find:\n",
        "Some trip durations are over 100000 seconds which are clear outliers and should \n",
        "*   Some trip durations are over 100000 seconds which are clear outliers and should be removed.\n",
        "\n",
        "Observations:\n",
        "\n",
        "*   There are some durations with as low as 1 second. which points towards trips with 0 km distance.\n",
        "*   Major trip durations took between 10-20 mins to complete.\n",
        "*   Mean and mode are not same which shows that trip duration distribution is skewed towards right.\n",
        "\n",
        "Let's analyze more"
      ],
      "metadata": {
        "id": "fYXc7vzPJCm9"
      }
    },
    {
      "cell_type": "code",
      "source": [
        "data.trip_duration.groupby(pd.cut(data.trip_duration, np.arange(1,max(data.trip_duration),3600))).count()"
      ],
      "metadata": {
        "id": "ls27cff7JaVY"
      },
      "execution_count": null,
      "outputs": []
    },
    {
      "cell_type": "markdown",
      "source": [
        "Observations:\n",
        "\n",
        "*   There are some trips with more than 24 hours of travel duration i.e. 86400 seconds. Which might have occured on weekends for the outstation travels.\n",
        "*   Major chunk of trips are completed within an interval of 1 hour with some good numbers of trips duration going above 1 hour.\n",
        "\n",
        "Let's look at those trips with huge duration, these are outliers and should be removed for the data consistency."
      ],
      "metadata": {
        "id": "_yQiD1ZvJqOC"
      }
    },
    {
      "cell_type": "code",
      "source": [
        "data[data.trip_duration > 86400]"
      ],
      "metadata": {
        "id": "-NWWCWMOJlAf"
      },
      "execution_count": null,
      "outputs": []
    },
    {
      "cell_type": "markdown",
      "source": [
        "Observations:\n",
        "\n",
        "*   These trips ran for more than 20 days, which seems unlikely by the distance travelled.\n",
        "*   All the trips are taken by vendor 1 which points us to the fact that this vendor might allows much longer trip for outstations.\n",
        "*   All these trips are either taken on Tuesday's in 1st month or Saturday's in 2nd month. There might be some relation with the weekday, pickup location, month and the passenger.\n",
        "*   But they fail our purpose of correct prediction and bring inconsistencies in the algorithm calculation.\n",
        "\n",
        "We should get rid of them for the sake of data consistency. Those are black swans !!"
      ],
      "metadata": {
        "id": "W24GSFuXJ5YP"
      }
    },
    {
      "cell_type": "code",
      "source": [
        "data = data[data.trip_duration <= 86400]"
      ],
      "metadata": {
        "id": "wlrrEBygJ2sq"
      },
      "execution_count": null,
      "outputs": []
    },
    {
      "cell_type": "markdown",
      "source": [
        "Let's visualize the number of trips taken in slabs of 0-10, 20-30 ... minutes respectively"
      ],
      "metadata": {
        "id": "Q48I68VnKMdl"
      }
    },
    {
      "cell_type": "code",
      "source": [
        "data.trip_duration.groupby(pd.cut(data.trip_duration, np.arange(1,7200,600))).count().plot(kind='barh')\n",
        "plt.xlabel('Trip Counts')\n",
        "plt.ylabel('Trip Duration (seconds)')\n",
        "plt.show()"
      ],
      "metadata": {
        "id": "on2_DIp0KNN3"
      },
      "execution_count": null,
      "outputs": []
    },
    {
      "cell_type": "markdown",
      "source": [
        "We can observe that most of the trips took 0 - 30 mins to complete i.e. approx 1800 secs. Let's move ahead to next feature."
      ],
      "metadata": {
        "id": "DRmQYQrfKR_D"
      }
    },
    {
      "cell_type": "markdown",
      "source": [
        "### Speed"
      ],
      "metadata": {
        "id": "_OPw8DoFKVIj"
      }
    },
    {
      "cell_type": "markdown",
      "source": [
        "Speed is a function of distance and time. Let's visualize speed in different trips.\n",
        "\n",
        "Maximum speed limit in NYC is as follows:\n",
        "\n",
        "*   25 mph in urban area i.e. 40 km/h\n",
        "\n",
        "*   65 mph on controlled state highways i.e. approx 104 km/h\n",
        " "
      ],
      "metadata": {
        "id": "viyttWOQKbt8"
      }
    },
    {
      "cell_type": "code",
      "source": [
        "data.speed.describe()"
      ],
      "metadata": {
        "id": "8LWORgcVKQKt"
      },
      "execution_count": null,
      "outputs": []
    },
    {
      "cell_type": "code",
      "source": [
        "plt.figure(figsize = (20,5))\n",
        "sns.boxplot(data.speed)\n",
        "plt.show()"
      ],
      "metadata": {
        "id": "NfsKiK7nKqiY"
      },
      "execution_count": null,
      "outputs": []
    },
    {
      "cell_type": "markdown",
      "source": [
        "Interesting find:\n",
        "\n",
        "*   Many trips were done at a speed of over 200 km/h. Going SuperSonic..!!\n",
        "\n",
        "Let's remove them and focus on the trips which were done at less than 104 km/h as per the speed limits"
      ],
      "metadata": {
        "id": "aFs1A-xvKszL"
      }
    },
    {
      "cell_type": "code",
      "source": [
        "data = data[data.speed <= 104]\n",
        "plt.figure(figsize = (20,5))\n",
        "sns.boxplot(data.speed)\n",
        "plt.show()"
      ],
      "metadata": {
        "id": "Mdh1nOmHKzwP"
      },
      "execution_count": null,
      "outputs": []
    },
    {
      "cell_type": "markdown",
      "source": [
        "Observations:\n",
        "\n",
        "\n",
        "*   Trips over 30 km/h are being considered as outliers but we cannot ignore them because they are well under the highest speed limit of 104 km/h on state controlled highways.\n",
        "*   Mostly trips are done at a speed range of 10-20 km/h with an average speed of around 14 km/h.\n",
        "\n",
        "Let's take a look at the speed range ditribution with the help of graph."
      ],
      "metadata": {
        "id": "ykTSJCPIK4HW"
      }
    },
    {
      "cell_type": "code",
      "source": [
        "data.speed.groupby(pd.cut(data.speed, np.arange(0,104,10))).count().plot(kind = 'barh')\n",
        "plt.xlabel('Trip count')\n",
        "plt.ylabel('Speed (Km/H)')\n",
        "plt.show()"
      ],
      "metadata": {
        "id": "CVJS7IYkLDsb"
      },
      "execution_count": null,
      "outputs": []
    },
    {
      "cell_type": "markdown",
      "source": [
        "It is evident from this graph what we thought off earlier i.e. most of the trips were done at a speed range of 10-20 km/H."
      ],
      "metadata": {
        "id": "83mIohakLFeN"
      }
    },
    {
      "cell_type": "markdown",
      "source": [
        "### Store_and_fwd_flag"
      ],
      "metadata": {
        "id": "1662OFqELINe"
      }
    },
    {
      "cell_type": "markdown",
      "source": [
        "This flag indicates whether the trip record was held in vehicle memory before sending to the vendor because the vehicle did not have a connection to the server - Y=store and forward; N=not a store and forward trip."
      ],
      "metadata": {
        "id": "1AnFWCmrLL0p"
      }
    },
    {
      "cell_type": "code",
      "source": [
        "data.flag_Y.value_counts(normalize=True)"
      ],
      "metadata": {
        "id": "Pnek--GPLGcQ"
      },
      "execution_count": null,
      "outputs": []
    },
    {
      "cell_type": "markdown",
      "source": [
        "Observations:\n",
        "\n",
        "\n",
        "*   List item\n",
        "\n",
        "\n",
        "1.   List item\n",
        "\n",
        "1.   List item\n",
        "2.   List item\n",
        "\n",
        "\n",
        "2.   List item\n",
        "\n",
        "\n",
        "*   List item\n",
        "\n"
      ],
      "metadata": {
        "id": "ktDgo6FiLQ5E"
      }
    },
    {
      "cell_type": "code",
      "source": [
        "data.flag_Y.value_counts()"
      ],
      "metadata": {
        "id": "OBAk9RfWLWun"
      },
      "execution_count": null,
      "outputs": []
    },
    {
      "cell_type": "markdown",
      "source": [
        "Above result shows that around 8K trips had to store the flag and then report to the server when the connection was established. Let's check the respective distribution with the vendors for the offline trips."
      ],
      "metadata": {
        "id": "QLWUfKVDLZGG"
      }
    },
    {
      "cell_type": "code",
      "source": [
        "data.vendor_id[data.flag_Y == 1].value_counts()"
      ],
      "metadata": {
        "id": "AGPr2W4TLZw4"
      },
      "execution_count": null,
      "outputs": []
    },
    {
      "cell_type": "markdown",
      "source": [
        "Observations:"
      ],
      "metadata": {
        "id": "6ZRYPIM6LdmA"
      }
    },
    {
      "cell_type": "code",
      "source": [
        "data[data.flag_Y == 1]"
      ],
      "metadata": {
        "id": "xRn3e_NeLgMo"
      },
      "execution_count": null,
      "outputs": []
    },
    {
      "cell_type": "markdown",
      "source": [
        "Observations\n",
        "\n",
        "\n",
        "\n",
        "1.   List item\n",
        "\n",
        "*   List item\n",
        "*   List item\n",
        "\n",
        "\n",
        "2.   List item\n",
        "\n"
      ],
      "metadata": {
        "id": "KZYxzT-gLlWX"
      }
    },
    {
      "cell_type": "markdown",
      "source": [
        "### Total trips Per Hour"
      ],
      "metadata": {
        "id": "dor8dGrdLqEG"
      }
    },
    {
      "cell_type": "markdown",
      "source": [
        "Let's take a look at the distribution of the pickups across the 24 hour time scale."
      ],
      "metadata": {
        "id": "pNZkbc8sLwnX"
      }
    },
    {
      "cell_type": "code",
      "source": [
        "sns.countplot(data.pickup_hour)\n",
        "plt.show()"
      ],
      "metadata": {
        "id": "k26P1gQjLoEx"
      },
      "execution_count": null,
      "outputs": []
    },
    {
      "cell_type": "markdown",
      "source": [
        "Observation\n",
        "\n",
        "*   It's inline with the general trend of taxi pickups which starts increasing from 6AM in the morning and then declines from late evening i.e. around 8 PM. There is no unusual behavior here."
      ],
      "metadata": {
        "id": "c5u3-KfZL0uR"
      }
    },
    {
      "cell_type": "markdown",
      "source": [
        "### Total trips per weekday"
      ],
      "metadata": {
        "id": "hF-dGMU5L7yS"
      }
    },
    {
      "cell_type": "markdown",
      "source": [
        "Let's take a look now at the distribution of taxi pickups across the week."
      ],
      "metadata": {
        "id": "qTqYoW0fL-gR"
      }
    },
    {
      "cell_type": "code",
      "source": [
        "plt.figure(figsize = (8,6))\n",
        "sns.countplot(data.weekday_num)\n",
        "plt.xlabel(' Month ')\n",
        "plt.ylabel('Pickup counts')\n",
        "plt.show()"
      ],
      "metadata": {
        "id": "r_KVLpGFL5__"
      },
      "execution_count": null,
      "outputs": []
    },
    {
      "cell_type": "markdown",
      "source": [
        "Observation\n",
        "*   Here we can see an increasing trend of taxi pickups starting from Monday till Friday. The trend starts declining from saturday till monday which is normal where some office going people likes to stay at home for rest on the weekends.\n",
        "\n",
        "Let's drill down more to see the hourwise pickup pattern across the week"
      ],
      "metadata": {
        "id": "Q3-YqVdKMDFJ"
      }
    },
    {
      "cell_type": "code",
      "source": [
        "n = sns.FacetGrid(data, col='weekday_num')\n",
        "n.map(plt.hist, 'pickup_hour')\n",
        "plt.show()"
      ],
      "metadata": {
        "id": "-Y3DkUgqMH7v"
      },
      "execution_count": null,
      "outputs": []
    },
    {
      "cell_type": "markdown",
      "source": [
        "Interesting find:\n",
        "*   Taxi pickups increased in the late night hours over the weekend possibly due to more outstation rides or for the late night leisures nearby activities.\n",
        "\n",
        "\n",
        "*   Early morning pickups i.e before 5 AM have increased over the weekend in comparison to the office hours pickups i.e. after 7 AM which have decreased due to obvious reasons.\n",
        "\n",
        "*   Taxi pickups seems to be consistent across the week at 15 Hours i.e. at 3 PM."
      ],
      "metadata": {
        "id": "oD8zz_jnMS9R"
      }
    },
    {
      "cell_type": "markdown",
      "source": [
        "### Total trips per month"
      ],
      "metadata": {
        "id": "BFtKzvlKMfKW"
      }
    },
    {
      "cell_type": "markdown",
      "source": [
        "Let's take a look at the trip distribution across the months to understand if there is any diffrence in the taxi pickups in different months"
      ],
      "metadata": {
        "id": "wI_8zp_2Mh1r"
      }
    },
    {
      "cell_type": "code",
      "source": [
        "sns.countplot(data.month)\n",
        "plt.ylabel('Trip Counts')\n",
        "plt.xlabel('Months')\n",
        "plt.show()"
      ],
      "metadata": {
        "id": "MpHuGkacMcyr"
      },
      "execution_count": null,
      "outputs": []
    },
    {
      "cell_type": "markdown",
      "source": [
        "Quite a balance across the months here. It could have been more equivalent if we wouldn't have removed the inconsistent records in our study of the univariate analysis"
      ],
      "metadata": {
        "id": "hxmnr9VGMm6a"
      }
    },
    {
      "cell_type": "markdown",
      "source": [
        "## **Bivariate Analysis**"
      ],
      "metadata": {
        "id": "YZZhiVfHMpmG"
      }
    },
    {
      "cell_type": "markdown",
      "source": [
        "Bivariate analysis is used to find out if there is a relationship between two sets of values. It usually involves the variables X and Y."
      ],
      "metadata": {
        "id": "L0jsrfeYMufO"
      }
    },
    {
      "cell_type": "code",
      "source": [
        "group1 = data.groupby('pickup_hour').trip_duration.mean()\n",
        "sns.pointplot(group1.index, group1.values)\n",
        "plt.ylabel('Trip Duration (seconds)')\n",
        "plt.xlabel('Pickup Hour')\n",
        "plt.show()"
      ],
      "metadata": {
        "id": "zKeOvRaAMnya"
      },
      "execution_count": null,
      "outputs": []
    },
    {
      "cell_type": "code",
      "source": [
        "group2 = data.groupby('weekday_num').trip_duration.mean()\n",
        "sns.pointplot(group2.index, group2.values)\n",
        "plt.ylabel('Trip Duration (seconds)')\n",
        "plt.xlabel('Weekday')\n",
        "plt.show()"
      ],
      "metadata": {
        "id": "l2QekE02Mzsf"
      },
      "execution_count": null,
      "outputs": []
    },
    {
      "cell_type": "code",
      "source": [
        "group3 = data.groupby('month').trip_duration.mean()\n",
        "sns.pointplot(group3.index, group3.values)\n",
        "plt.ylabel('Trip Duration (seconds)')\n",
        "plt.xlabel('Month')\n",
        "plt.show()"
      ],
      "metadata": {
        "id": "Q9ds7CpaM02g"
      },
      "execution_count": null,
      "outputs": []
    },
    {
      "cell_type": "markdown",
      "source": [
        "### Trip duration per vendor"
      ],
      "metadata": {
        "id": "uMpQl4n_M46l"
      }
    },
    {
      "cell_type": "markdown",
      "source": [
        "We can also look at the average difference between the trip duration for each vendor. However we do know that vendor 2 has larger share of the market. Let's visualize."
      ],
      "metadata": {
        "id": "M5wAJ4geM9wm"
      }
    },
    {
      "cell_type": "code",
      "source": [
        "group4 = data.groupby('vendor_id').trip_duration.mean()\n",
        "sns.barplot(group4.index, group4.values)\n",
        "plt.ylabel('Trip Duration (seconds)')\n",
        "plt.xlabel('Vendor')\n",
        "plt.show()"
      ],
      "metadata": {
        "id": "bjw05-gLM6fy"
      },
      "execution_count": null,
      "outputs": []
    },
    {
      "cell_type": "markdown",
      "source": [
        "Vendor 2 takes the crown. Average trip duration for vendor 2 is higher than vendor 1 by approx 200 seconds i.e. atleast 3 minutes per trip."
      ],
      "metadata": {
        "id": "Ko57hb98NCqf"
      }
    },
    {
      "cell_type": "markdown",
      "source": [
        "### Trip duration v/s Flag"
      ],
      "metadata": {
        "id": "qz7fP5kINEkb"
      }
    },
    {
      "cell_type": "markdown",
      "source": [
        "Let's visualize if there is any effect of flag setting on the trip duration?"
      ],
      "metadata": {
        "id": "gVS4L6zCNIww"
      }
    },
    {
      "cell_type": "code",
      "source": [
        "plt.figure(figsize = (6,5))\n",
        "plot_dur = data.loc[(data.trip_duration < 10000)]\n",
        "sns.boxplot(x = \"flag_Y\", y = \"trip_duration\", data = plot_dur)\n",
        "plt.show()"
      ],
      "metadata": {
        "id": "JHuO32NyNA-0"
      },
      "execution_count": null,
      "outputs": []
    },
    {
      "cell_type": "markdown",
      "source": [
        "Observations:\n",
        "\n",
        "*   Trip durations scale is less for the trips where the flag is set i.e. the trip details are stored before sending it to the server.\n",
        "*   Trip duration outliers are also less for the trips with flag 'Y' as compared the trips with flag 'N'.\n",
        "*   Trip duration is longer for the trips where the flag is not set.\n",
        "*   Inter quartile range of trip duration is more for the trips with the flag 'Y' as compared to the trips with flag 'N' but the median value is almost equal for both."
      ],
      "metadata": {
        "id": "4Cvzc-CWNO9_"
      }
    },
    {
      "cell_type": "markdown",
      "source": [
        "### Distance per hour"
      ],
      "metadata": {
        "id": "Fdcf7zj3NhUS"
      }
    },
    {
      "cell_type": "markdown",
      "source": [
        "Now, let us check how the distance is distributed against different variables. We know that trip distance must be more or less proportional to the trip duration if we ignore general traffic and other stuff on the road. Let's visualize this for each hour now.\n",
        "\n",
        "Since we have already done the outlier analysis for this variable as well. We can take the mean as aggregate measure for our visualizations."
      ],
      "metadata": {
        "id": "vZKMuIgVNlhJ"
      }
    },
    {
      "cell_type": "code",
      "source": [
        "group5 = data.groupby('pickup_hour').distance.mean()\n",
        "sns.pointplot(group5.index, group5.values)\n",
        "plt.ylabel('Distance (km)')\n",
        "plt.show()"
      ],
      "metadata": {
        "id": "6bupNT76NfJI"
      },
      "execution_count": null,
      "outputs": []
    },
    {
      "cell_type": "markdown",
      "source": [
        "Observations:\n",
        "\n",
        "\n",
        "*   Trip distance is highest during early morning hours which can account for some things like:\n",
        "    1.   Outstation trips taken during the weekends.\n",
        "\n",
        "    2.   Longer trips towards the city airport which is located in the outskirts of the city.\n",
        "\n",
        "\n",
        "\n",
        "*   Trip distance is fairly equal from morning till the evening varying around 3 - 3.5 kms.\n",
        "\n",
        "*   It starts increasing gradually towards the late night hours starting from evening till 5 AM and decrease steeply towards morning."
      ],
      "metadata": {
        "id": "MPgh2P_dN4GD"
      }
    },
    {
      "cell_type": "code",
      "source": [
        "pd.set_option('display.max_columns', None)"
      ],
      "metadata": {
        "id": "iAvNRl67O3f3"
      },
      "execution_count": null,
      "outputs": []
    },
    {
      "cell_type": "markdown",
      "source": [
        "### Distance per weekday"
      ],
      "metadata": {
        "id": "Eqmd4x-WOdV5"
      }
    },
    {
      "cell_type": "markdown",
      "source": [
        "Let's analyze the average trip distance covered on each day of the week."
      ],
      "metadata": {
        "id": "swQjKdC3PJqd"
      }
    },
    {
      "cell_type": "code",
      "source": [
        "group6 = data.groupby('weekday_num').distance.mean()\n",
        "sns.pointplot(group6.index, group6.values)\n",
        "plt.ylabel('Distance (km)')\n",
        "plt.show()"
      ],
      "metadata": {
        "id": "TRsnCKIlNxIc"
      },
      "execution_count": null,
      "outputs": []
    },
    {
      "cell_type": "markdown",
      "source": [
        "So it's a fairly equal distribution with average distance metric verying around 3.5 km/h with Sunday being at the top may be due to outstation trips or night trips towards the airport."
      ],
      "metadata": {
        "id": "qCqNCrdOP1yq"
      }
    },
    {
      "cell_type": "markdown",
      "source": [
        "### Distance per month"
      ],
      "metadata": {
        "id": "BPYl8-PbP7H9"
      }
    },
    {
      "cell_type": "markdown",
      "source": [
        "Now we will look at the average trip distance covered per month."
      ],
      "metadata": {
        "id": "MncduIzrQdbk"
      }
    },
    {
      "cell_type": "code",
      "source": [
        "group6 = data.groupby('month').distance.mean()\n",
        "sns.pointplot(group6.index, group6.values)\n",
        "plt.ylabel('Distance (km)')\n",
        "plt.show()"
      ],
      "metadata": {
        "id": "8OjskO_YPzlS"
      },
      "execution_count": null,
      "outputs": []
    },
    {
      "cell_type": "markdown",
      "source": [
        "Here also the distibution is almost equivalent, varying mostly around 3.5 km/h with 5th month being the highest in the average distance and 2nd month being the lowest."
      ],
      "metadata": {
        "id": "gsXcA7yvQ6b3"
      }
    },
    {
      "cell_type": "markdown",
      "source": [
        "Distance per vendor"
      ],
      "metadata": {
        "id": "UIR7l1T-RAaS"
      }
    },
    {
      "cell_type": "markdown",
      "source": [],
      "metadata": {
        "id": "0S9IKpetRBuE"
      }
    },
    {
      "cell_type": "code",
      "source": [
        "group8 = data.groupby('vendor_id').distance.mean()\n",
        "sns.barplot(group8.index, group8.values)\n",
        "plt.ylabel(\"Distance km\")\n",
        "plt.show()"
      ],
      "metadata": {
        "id": "hAP24bCqQ8UF"
      },
      "execution_count": null,
      "outputs": []
    },
    {
      "cell_type": "markdown",
      "source": [
        "This is more or less same picture with both the vendors. Nothing more to analyze in this."
      ],
      "metadata": {
        "id": "SKDEWjqvTMiJ"
      }
    },
    {
      "cell_type": "markdown",
      "source": [
        "### Distance v/s Flag"
      ],
      "metadata": {
        "id": "gQm8fm-vTPDU"
      }
    },
    {
      "cell_type": "markdown",
      "source": [
        "Let's visualize if there is any effect of Flag setting on the distance covered in the trips"
      ],
      "metadata": {
        "id": "7Drv5vj2TTlK"
      }
    },
    {
      "cell_type": "code",
      "source": [
        "plt.figure(figsize = (6,6))\n",
        "plot_dist = data.loc[(data.distance < 100)]\n",
        "sns.boxplot(x = \"flag_Y\", y = \"distance\", data = plot_dist)\n",
        "plt.ylabel('Distance (km)')\n",
        "plt.show()"
      ],
      "metadata": {
        "id": "VGG03dyFTVgH"
      },
      "execution_count": null,
      "outputs": []
    },
    {
      "cell_type": "markdown",
      "source": [
        "Observations:\n",
        "\n",
        "\n",
        "*   We can see almost similar results like the one observed in the Trip duration v/s Flag analysis.\n",
        "\n",
        "*   Only two major difference can be seen here.\n",
        "    1.   Interquartile range of distance is almost twice for Flag 'Y' trips as compared to the Flag 'N' trips\n",
        "\n",
        "    2.   Median value is much different in both the case as well.\n",
        "\n",
        "Which points us to the fact that range of distance and trip duration for the Flag 'Y' trips is much more limited and confined as compared with the flag 'N' trips and this also resulted in much less number of outliers for Flag 'Y' trips."
      ],
      "metadata": {
        "id": "X-id9JkVTy62"
      }
    },
    {
      "cell_type": "markdown",
      "source": [
        "### Distance v/s Trip duration"
      ],
      "metadata": {
        "id": "pa-_Lz9bZ3kf"
      }
    },
    {
      "cell_type": "markdown",
      "source": [
        "Let's visualize the relationship between Distance covered and respective trip duration."
      ],
      "metadata": {
        "id": "d3wPlI8aZ7TA"
      }
    },
    {
      "cell_type": "code",
      "source": [
        "plt.scatter(data.trip_duration, data.distance , s=1, alpha=0.5)\n",
        "plt.ylabel('Distance')\n",
        "plt.xlabel('Trip Duration')\n",
        "plt.show()"
      ],
      "metadata": {
        "id": "iG2992a3Zhys"
      },
      "execution_count": null,
      "outputs": []
    },
    {
      "cell_type": "markdown",
      "source": [
        "Interesting find:\n",
        "\n",
        "\n",
        "*   There are lots of trips which covered negligible distance but clocked more than 20,000 seconds in terms of the Duration.\n",
        "\n",
        "*   Initially there is some proper correlation between the distance covered and the trip duration in the graph. but later on it all seems uncorrelated.\n",
        "\n",
        "*   There were few trips which covered huge distance of approx 200 kms within very less time frame, which is unlikely and should be treated as outliers.\n",
        "\n",
        "\n",
        "Let's focus on the graph area where distance is < 50 km and duration is < 1000 seconds.\n"
      ],
      "metadata": {
        "id": "t6DqvEapc4mF"
      }
    },
    {
      "cell_type": "code",
      "source": [
        "dur_dist = data.loc[(data.distance < 50) & (data.trip_duration < 1000)]\n",
        "plt.scatter(dur_dist.trip_duration, dur_dist.distance , s=1, alpha=0.5)\n",
        "plt.ylabel('Distance')\n",
        "plt.xlabel('Trip Duration')\n",
        "plt.show()"
      ],
      "metadata": {
        "id": "yDH6reLD9vZQ"
      },
      "execution_count": null,
      "outputs": []
    },
    {
      "cell_type": "markdown",
      "source": [
        "Observations:\n",
        "\n",
        "*   There should have been a linear relationship between the distance covered and trip duration on an average but we can see dense collection of the trips in the lower right corner which showcase many trips with the inconsistent readings."
      ],
      "metadata": {
        "id": "zmTGcQLn-GRC"
      }
    },
    {
      "cell_type": "markdown",
      "source": [
        "Idea:\n",
        "We should remove those trips which covered 0 km distance but clocked more than 1 minute to make our data more consistent for predictive model. Because if the trip was cancelled after booking, than that should not have taken more than a minute time. This is our assumption."
      ],
      "metadata": {
        "id": "wE36Uyrf-Ta-"
      }
    },
    {
      "cell_type": "code",
      "source": [
        "data = data[~((data.distance == 0) & (data.trip_duration >= 60))]"
      ],
      "metadata": {
        "id": "nvBSEVqM-rnM"
      },
      "execution_count": null,
      "outputs": []
    },
    {
      "cell_type": "markdown",
      "source": [
        "Now, Instead of looking at each and every trip, we should approximate and try to filter those trips which covered less than 1 km distance and but clocked more than an hour."
      ],
      "metadata": {
        "id": "F1CEfy8U_kTh"
      }
    },
    {
      "cell_type": "code",
      "source": [
        "duo = data.loc[(data['distance'] <= 1) & (data['trip_duration'] >= 3600),['distance','trip_duration']].reset_index(drop=True)"
      ],
      "metadata": {
        "id": "DVjR0XI-_xsM"
      },
      "execution_count": null,
      "outputs": []
    },
    {
      "cell_type": "code",
      "source": [
        "duo.head(2)"
      ],
      "metadata": {
        "id": "bqS-9c4ACSIL"
      },
      "execution_count": null,
      "outputs": []
    },
    {
      "cell_type": "code",
      "source": [
        "sns.regplot(duo.distance, duo.trip_duration)\n",
        "plt.show()"
      ],
      "metadata": {
        "id": "JIWeXg4P_-WA"
      },
      "execution_count": null,
      "outputs": []
    },
    {
      "cell_type": "markdown",
      "source": [
        "Observations:\n",
        "\n",
        "\n",
        "*   Though the straight line tries to show some linear relation between the two. But there seems to be negligible correlation between these two metric as seen from the scatter plot where it should have been a linear distribution.\n",
        "\n",
        "*   It is rarely occurs that customer keep sitting in the taxi for more than an hour and it does not travel for even 1 km.\n",
        "\n",
        "These should be removed to bring in more consistency to our results."
      ],
      "metadata": {
        "id": "uzyE3ZSmBaT4"
      }
    },
    {
      "cell_type": "code",
      "source": [
        "data = data[~((data['distance'] <= 1) & (data['trip_duration'] >= 3600))]"
      ],
      "metadata": {
        "id": "-BooR5eXFvX8"
      },
      "execution_count": null,
      "outputs": []
    },
    {
      "cell_type": "code",
      "source": [
        "sns.regplot(data.distance, data.trip_duration)\n",
        "plt.show()"
      ],
      "metadata": {
        "id": "EzZuuqBWF2ZC"
      },
      "execution_count": null,
      "outputs": []
    },
    {
      "cell_type": "markdown",
      "source": [
        "### Average speed per hour"
      ],
      "metadata": {
        "id": "JLz5hdfxGU1k"
      }
    },
    {
      "cell_type": "markdown",
      "source": [
        "Let's look at the average speed of NYC Taxi per hour."
      ],
      "metadata": {
        "id": "6S9DAWE9GalT"
      }
    },
    {
      "cell_type": "code",
      "source": [
        "group9 = data.groupby('pickup_hour').speed.mean()\n",
        "sns.pointplot(group9.index, group9.values)\n",
        "plt.show()"
      ],
      "metadata": {
        "id": "1XYDV0YfGpd_"
      },
      "execution_count": null,
      "outputs": []
    },
    {
      "cell_type": "markdown",
      "source": [
        "Observation:\n",
        "\n",
        "*   The average trend is totally inline with the normal circumstances.\n",
        "*   Average speed tend to increase after late evening and continues to increase gradually till the late early morning hours.\n",
        "*   Average taxi speed is highest at 5 AM in the morning, then it declines steeply as the office hours approaches.\n",
        "*   Average taxi speed is more or less same during the office hours i.e. from 8 AM till 6PM in the evening."
      ],
      "metadata": {
        "id": "89arz22MGl7d"
      }
    },
    {
      "cell_type": "markdown",
      "source": [
        "### Average speed per weekday"
      ],
      "metadata": {
        "id": "p59XJrNEHEeB"
      }
    },
    {
      "cell_type": "markdown",
      "source": [
        "Let's visualize that on an average what is the speed of a taxi on any given weekday."
      ],
      "metadata": {
        "id": "X-jp8mAWHHgm"
      }
    },
    {
      "cell_type": "code",
      "source": [
        "group10 = data.groupby('weekday_num').speed.mean()\n",
        "sns.pointplot(group10.index, group10.values)\n",
        "plt.show()"
      ],
      "metadata": {
        "id": "rBIOfDAmHGTi"
      },
      "execution_count": null,
      "outputs": []
    },
    {
      "cell_type": "markdown",
      "source": [
        "Observations:\n",
        "\n",
        "\n",
        "\n",
        "*   Average taxi speed is higher on weekend as compared to the weekdays which is obvious when there is mostly rush of office goers and business owners.\n",
        "\n",
        "*   Even on monday the average taxi speed is shown higher which is quite surprising when it is one of the most busiest day after the weekend. There can be several possibility for such behaviour\n",
        "\n",
        "    1.   Lot of customers who come back from outstation in early hours of Monday before 6 AM to attend office on time.\n",
        "    2.   Early morning hours customers who come from the airports after vacation to attend office/business on time for the coming week.\n",
        "\n",
        "*   There could be some more reasons as well which only a local must be aware of.\n",
        "*  We also can't deny the anomalies in the dataset. which is quite cumbersome to spot in such a large dataset."
      ],
      "metadata": {
        "id": "JVYqcAx4Hpqb"
      }
    },
    {
      "cell_type": "markdown",
      "source": [
        "### Passenger count per vendor"
      ],
      "metadata": {
        "id": "NNE05xkYIURZ"
      }
    },
    {
      "cell_type": "markdown",
      "source": [
        "Let's try some different metric in the series i.e. passenger count. We will plot it agaist the vendor only because it will not be much helpful to plot it against hour, weekday or month like others as the passenger count should be a whole number and not a ratio.\n",
        "\n",
        "we will take mean as the aggregate measure because we already did the outlier analysis on this metric. So our results woudn't be affected by some extreme values. Also if we take median than it will return only 1 because majorty of the trips have been taken by single passenger. Let's take a look about it's distribution."
      ],
      "metadata": {
        "id": "Y15k9HBRIW1P"
      }
    },
    {
      "cell_type": "code",
      "source": [
        "group9 = data.groupby('vendor_id').passenger_count.mean()\n",
        "sns.barplot(group9.index, group9.values)\n",
        "plt.ylabel('Passenger count')\n",
        "plt.show()"
      ],
      "metadata": {
        "id": "dhB9GD5UIkRd"
      },
      "execution_count": null,
      "outputs": []
    },
    {
      "cell_type": "markdown",
      "source": [
        "Clear difference between the two operators for the average passenger count in all trips. It seems that vendor 2 trips generally consist of 2 passengers as compared to the vendor 1 with 1 passenger. Let's bifurcate it further."
      ],
      "metadata": {
        "id": "ofVMrnpbI2IT"
      }
    },
    {
      "cell_type": "code",
      "source": [
        "data.groupby('passenger_count').vendor_id.value_counts().reset_index(name='count').pivot(\"passenger_count\",\"vendor_id\",\"count\").plot(kind='bar')\n",
        "plt.show()"
      ],
      "metadata": {
        "id": "DWGzPBAVI1XC"
      },
      "execution_count": null,
      "outputs": []
    },
    {
      "cell_type": "markdown",
      "source": [
        "Interesting find:\n",
        "\n",
        "\n",
        "*   It seems that most of the big cars are served by the Vendor 2 including minivans because other than passenger 1, vendor 2 has majority in serving more than 1 passenger count and that explains it greater share of the market."
      ],
      "metadata": {
        "id": "eo7rxRQsKBHk"
      }
    },
    {
      "cell_type": "markdown",
      "source": [
        "# Feature Engineering"
      ],
      "metadata": {
        "id": "jAHD-_d4NLxS"
      }
    },
    {
      "cell_type": "markdown",
      "source": [
        "After looking at the dataset from different perspectives. Let's prepare our dataset before training our model. Since our dataset do not contain very large number of dimensions. We will first try to use feature selection instead of the feature extraction technique."
      ],
      "metadata": {
        "id": "qLmI67ciNPrU"
      }
    },
    {
      "cell_type": "markdown",
      "source": [
        "Question:\n",
        "But what's the difference?\n",
        "\n",
        "Feature selection: we select a subset of the original feature set based on the statistical significance of different parameters.\n",
        "Example: Backward elimination, Forward selection, Recursive feature elimination\n",
        "\n",
        "Feature extraction: we build a new set of features from the original feature set\n",
        "Example: PCA, LDA, Kernel PCA"
      ],
      "metadata": {
        "id": "FYQEC_86NjmW"
      }
    },
    {
      "cell_type": "markdown",
      "source": [
        "## Feature Selection"
      ],
      "metadata": {
        "id": "ipoqFU0FNl5t"
      }
    },
    {
      "cell_type": "markdown",
      "source": [
        "Intuition:\n",
        "\n",
        "*   We will use backward elimination technique to select the best features to train our model.\n",
        "\n",
        "*   It displays some statistical metrics with there significance value.\n",
        "\n",
        "*   Like, It shows the p values for each feature as per its significance in the whole dataset.\n",
        "\n",
        "*   It also shows the adjusted R squared values to identify whether removing or selecting the feature is beneficial or not.\n",
        "\n",
        "*   For now we will only look at the P and adjusted R squared value to decide which features to keep and which needed to be removed.\n",
        "\n",
        "Let's assign the values to X & Y array from the dataset."
      ],
      "metadata": {
        "id": "k3i-cCo7Nuhd"
      }
    },
    {
      "cell_type": "code",
      "source": [
        "#First chech the index of the features and label\n",
        "list(zip( range(0,len(data.columns)),data.columns))"
      ],
      "metadata": {
        "id": "17uOd5QxNNbU"
      },
      "execution_count": null,
      "outputs": []
    },
    {
      "cell_type": "code",
      "source": [
        "Y = data.iloc[:,10].values\n",
        "X = data.iloc[:,range(15,61)].values"
      ],
      "metadata": {
        "id": "GjleWs7wkuat"
      },
      "execution_count": null,
      "outputs": []
    },
    {
      "cell_type": "markdown",
      "source": [
        "Question:\n",
        "Why few features are not assigned to the X array like features at the index 2,3,10 were missed?\n",
        "\n",
        "Idea:\n",
        "\n",
        "*   duration variable assigned to Y because that is the dependent variable.\n",
        "\n",
        "*   features such as id, timestamp and weekday were not assigned to X array because they are of type object. And we need an array of float data type."
      ],
      "metadata": {
        "id": "Seqp-_lNlfmd"
      }
    },
    {
      "cell_type": "markdown",
      "source": [
        "Trick for backward elimination:\n",
        "General equation for multiple linear regression is like\n",
        "\n",
        "Y = a0 + a1x1 + a2x2 + ... + anxn\n",
        "\n",
        "Since, we dont have x0 in our X array so the regressor won't consider the constant value of the equation i.e. a0. So to make it count in the equation we will append the selected feature set with a contant series of 1's as a first column. To make it appear like below equation to the statsmodel.\n",
        "\n",
        "y = a0x0 + a1x1 + a2x2 + ... + anxn"
      ],
      "metadata": {
        "id": "JYiRkca5onTp"
      }
    },
    {
      "cell_type": "code",
      "source": [
        "print(\"Let's append {} rows of 1's as the first column in the X array\".format(X.shape[0]))"
      ],
      "metadata": {
        "id": "reA922N8orPz"
      },
      "execution_count": null,
      "outputs": []
    },
    {
      "cell_type": "code",
      "source": [
        "X1 = np.append(arr = np.ones((X.shape[0],1)).astype(int), values = X, axis = 1)"
      ],
      "metadata": {
        "id": "sxQM_VrLoyrZ"
      },
      "execution_count": null,
      "outputs": []
    },
    {
      "cell_type": "code",
      "source": [
        "X1.shape"
      ],
      "metadata": {
        "id": "l7aVCJb9o0XO"
      },
      "execution_count": null,
      "outputs": []
    },
    {
      "cell_type": "markdown",
      "source": [
        "There we go, our feature set is now ready for the feature selection model with 1s in the first column for a0 constant.\n",
        "\n",
        "Let's fit stats model on the X array to figure out an optimal set of features by recursively checking for the highest p value and removing the feature of that index."
      ],
      "metadata": {
        "id": "slwdQM-go5dG"
      }
    },
    {
      "cell_type": "markdown",
      "source": [
        "Note:\n",
        "Here we will take the level of significance as 0.05 i.e. 5% which means that we will reject feature from the list of array and re-run the model till p value for all the features goes below .05 to find out the optimal combination for our model."
      ],
      "metadata": {
        "id": "HPc62CgQpPzL"
      }
    },
    {
      "cell_type": "code",
      "source": [
        "#Select all the features in X array\n",
        "X_opt = X1[:,range(0,46)]\n",
        "regressor_OLS = sm.OLS(endog = Y, exog = X_opt).fit()\n",
        "\n",
        "#Fetch p values for each feature\n",
        "p_Vals = regressor_OLS.pvalues\n",
        "\n",
        "#define significance level for accepting the feature.\n",
        "sig_Level = 0.05\n",
        "\n",
        "#Loop to iterate over features and remove the feature with p value less than the sig_level\n",
        "while max(p_Vals) > sig_Level:\n",
        "    print(\"Probability values of each feature \\n\")\n",
        "    print(p_Vals)\n",
        "    X_opt = np.delete(X_opt, np.argmax(p_Vals), axis = 1)\n",
        "    print(\"\\n\")\n",
        "    print(\"Feature at index {} is removed \\n\".format(str(np.argmax(p_Vals))))\n",
        "    print(str(X_opt.shape[1]-1) + \" dimensions remaining now... \\n\")\n",
        "    regressor_OLS = sm.OLS(endog = Y, exog = X_opt).fit()\n",
        "    p_Vals = regressor_OLS.pvalues\n",
        "    print(\"=================================================================\\n\")\n",
        "    \n",
        "#Print final summary\n",
        "print(\"Final stat summary with optimal {} features\".format(str(X_opt.shape[1]-1)))\n",
        "regressor_OLS.summary()"
      ],
      "metadata": {
        "id": "9pACEXEGDOns"
      },
      "execution_count": null,
      "outputs": []
    },
    {
      "cell_type": "code",
      "source": [
        "X_train, X_test, y_train, y_test = train_test_split(X,Y, random_state=4, test_size=0.2)"
      ],
      "metadata": {
        "id": "vDA-BBwe5Qq_"
      },
      "execution_count": null,
      "outputs": []
    },
    {
      "cell_type": "code",
      "source": [
        "from sklearn.preprocessing import StandardScaler\n",
        "scaler = StandardScaler()\n",
        "X_train_pca = scaler.fit_transform(X_train_pca)\n",
        "X_test_pca = scaler.transform(X_test_pca)"
      ],
      "metadata": {
        "id": "J5rjUzgK5U0k"
      },
      "execution_count": null,
      "outputs": []
    },
    {
      "cell_type": "code",
      "source": [
        "from sklearn.decomposition import PCA\n",
        "pca = PCA().fit(X_train_pca)\n",
        "plt.plot(np.cumsum(pca.explained_variance_ratio_))\n",
        "plt.xlabel(\"number of components\")\n",
        "plt.ylabel(\"Cumulative explained variance\")\n",
        "plt.show()"
      ],
      "metadata": {
        "id": "XHjJ-OIY5Xqv"
      },
      "execution_count": null,
      "outputs": []
    },
    {
      "cell_type": "code",
      "source": [
        "#Linear regressor for the raw data\n",
        "regressor = LinearRegression() \n",
        "regressor.fit(X_train,y_train) \n"
      ],
      "metadata": {
        "id": "lApwjFLu5fip"
      },
      "execution_count": null,
      "outputs": []
    },
    {
      "cell_type": "code",
      "source": [
        "#Predict from the test features of raw data\n",
        "y_pred = regressor.predict(X_test) "
      ],
      "metadata": {
        "id": "bURgChrS5z_9"
      },
      "execution_count": null,
      "outputs": []
    },
    {
      "cell_type": "code",
      "source": [
        "#Evaluate the regressor on the raw data\n",
        "print('RMSE score for the Multiple LR raw is : {}'.format(np.sqrt(metrics.mean_squared_error(y_test,y_pred))))\n",
        "print('Variance score for the Multiple LR raw is : %.2f' % regressor.score(X_test, y_test))\n",
        "print(\"\\n\")"
      ],
      "metadata": {
        "id": "vJ0kI3Md59it"
      },
      "execution_count": null,
      "outputs": []
    },
    {
      "cell_type": "markdown",
      "source": [
        "Random Forest Regressor\n"
      ],
      "metadata": {
        "id": "bWRqu2LH-Q_1"
      }
    },
    {
      "cell_type": "code",
      "source": [
        "#instantiate the object for the Random Forest Regressor with default params from raw data\n",
        "regressor_rfraw = RandomForestRegressor(n_jobs=-1)\n",
        "\n",
        "#instantiate the object for the Random Forest Regressor with default params for Feature Selection Group\n",
        "regressor_rf = RandomForestRegressor(n_jobs=-1)\n",
        "\n",
        "# #instantiate the object for the Random Forest Regressor with tuned hyper parameters for Feature Selection Group\n",
        "# regressor_rf1 = RandomForestRegressor(n_estimators = 26,\n",
        "#                                      max_depth = 22,\n",
        "#                                      min_samples_split = 9,\n",
        "#                                      n_jobs=-1)\n",
        "\n",
        "#instantiate the object for the Random Forest Regressor for Feature Extraction Group\n",
        "regressor_rf2 = RandomForestRegressor(n_jobs=-1)\n",
        "\n",
        "\n",
        "#Train the object with default params for raw data\n",
        "regressor_rfraw.fit(X_train,y_train)"
      ],
      "metadata": {
        "id": "0OneE9gH-WQJ"
      },
      "execution_count": null,
      "outputs": []
    },
    {
      "cell_type": "code",
      "source": [
        "#Predict the output with object of default params for Feature Selection Group\n",
        "y_pred_rfraw = regressor_rfraw.predict(X_test)"
      ],
      "metadata": {
        "id": "ZOOj6mnV-gse"
      },
      "execution_count": null,
      "outputs": []
    },
    {
      "cell_type": "code",
      "source": [
        "#Evaluate the model with default params for raw data\n",
        "print('RMSE score for the RF regressor raw is : {}'.format(np.sqrt(metrics.mean_squared_error(y_test,y_pred_rfraw))))\n",
        "print('RMSLE score for the RF regressor raw is : {}'.format(np.sqrt(metrics.mean_squared_log_error(y_test,y_pred_rfraw))))\n",
        "print('Variance score for the RF regressor raw is : %.2f' % regressor_rfraw.score(X_test, y_test))"
      ],
      "metadata": {
        "id": "ZyzUd-Ty-wlH"
      },
      "execution_count": null,
      "outputs": []
    }
  ]
}